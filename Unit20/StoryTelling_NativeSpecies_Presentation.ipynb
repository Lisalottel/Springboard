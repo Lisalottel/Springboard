{
 "cells": [
  {
   "cell_type": "markdown",
   "metadata": {},
   "source": [
    "# Data Storytelling: National Parks and their Biodiversity"
   ]
  },
  {
   "cell_type": "markdown",
   "metadata": {},
   "source": [
    "This figure shows the 9 most endangered species in the US, including the Red Wolf and Franklin's Bumblebee. This Notebook investigates what features of a National Park we need to strengthen to provide the most efficient protection to our native species. <img src=\"https://t1.ea.ltmcdn.com/en/images/3/4/5/img_most_endangered_species_in_north_america_1543_600.jpg\" width=300 heigth=300/>\n",
    "\n",
    "Therefore the species composition and properties of 56 out of the 62 American National Parks are investigated. The central question that is investigated is:\n",
    "\n",
    "#### <center> What drives the abundance of native species in a National Park?</center>"
   ]
  },
  {
   "cell_type": "code",
   "execution_count": 120,
   "metadata": {},
   "outputs": [
    {
     "name": "stderr",
     "output_type": "stream",
     "text": [
      "/Users/lisahw/anaconda3/lib/python3.7/site-packages/IPython/core/interactiveshell.py:3063: DtypeWarning:\n",
      "\n",
      "Columns (13) have mixed types.Specify dtype option on import or set low_memory=False.\n",
      "\n"
     ]
    }
   ],
   "source": [
    "#load python packages\n",
    "import os\n",
    "import pandas as pd\n",
    "import datetime\n",
    "import seaborn as sns\n",
    "import matplotlib.pyplot as plt\n",
    "import numpy as np\n",
    "%matplotlib inline\n",
    "df_norm = pd.read_csv('data/Normalized_perPark.csv',index_col=0)\n",
    "df_park = pd.read_csv('data/Combo_Park_Bio.csv',index_col=0)\n",
    "df_park = df_park.rename(columns={'Park Name.1':'Park Name'})\n",
    "df_park['Cluster'] = df_norm['Clusters']\n",
    "df_park['Present'] = df_park['Native_Present']+df_park['NotNative_Present']\n",
    "df_park['Present_cat'] = pd.cut(df_park['Present'],bins=[0,500,1000,1500,2000,2500,5000],labels=['<500','<1000','<1500','<2000','<2500','>2500'])\n",
    "df_bio= pd.read_csv('data/species.csv')\n",
    "df_bio.drop('Unnamed: 13',axis=1,inplace=True)"
   ]
  },
  {
   "cell_type": "markdown",
   "metadata": {},
   "source": [
    "# Potential Questions\n",
    "\n",
    "- To investigate this, these specific question are addressed:\n",
    "- Is the size or location of the park relevant?\n",
    "- Are there groups of animals that are more relevant than others?\n",
    "- Can we identify subgroups of parks with common features? Do these features play a role for the abundance of native species?\n",
    "- Is the population size (in respect to all species) a relevant indicator for the number of native species in a park?"
   ]
  },
  {
   "cell_type": "markdown",
   "metadata": {},
   "source": [
    "## What information about species presence do we have?"
   ]
  },
  {
   "cell_type": "code",
   "execution_count": 61,
   "metadata": {},
   "outputs": [
    {
     "name": "stderr",
     "output_type": "stream",
     "text": [
      "/Users/lisahw/anaconda3/lib/python3.7/site-packages/IPython/core/interactiveshell.py:3063: DtypeWarning: Columns (13) have mixed types.Specify dtype option on import or set low_memory=False.\n",
      "  interactivity=interactivity, compiler=compiler, result=result)\n"
     ]
    },
    {
     "data": {
      "text/html": [
       "<div>\n",
       "<style scoped>\n",
       "    .dataframe tbody tr th:only-of-type {\n",
       "        vertical-align: middle;\n",
       "    }\n",
       "\n",
       "    .dataframe tbody tr th {\n",
       "        vertical-align: top;\n",
       "    }\n",
       "\n",
       "    .dataframe thead th {\n",
       "        text-align: right;\n",
       "    }\n",
       "</style>\n",
       "<table border=\"1\" class=\"dataframe\">\n",
       "  <thead>\n",
       "    <tr style=\"text-align: right;\">\n",
       "      <th></th>\n",
       "      <th>count</th>\n",
       "      <th>unique</th>\n",
       "      <th>top</th>\n",
       "      <th>freq</th>\n",
       "    </tr>\n",
       "  </thead>\n",
       "  <tbody>\n",
       "    <tr>\n",
       "      <th>Species ID</th>\n",
       "      <td>119248</td>\n",
       "      <td>119248</td>\n",
       "      <td>KOVA-1439</td>\n",
       "      <td>1</td>\n",
       "    </tr>\n",
       "    <tr>\n",
       "      <th>Park Name</th>\n",
       "      <td>119248</td>\n",
       "      <td>56</td>\n",
       "      <td>Great Smoky Mountains National Park</td>\n",
       "      <td>6623</td>\n",
       "    </tr>\n",
       "    <tr>\n",
       "      <th>Category</th>\n",
       "      <td>119248</td>\n",
       "      <td>14</td>\n",
       "      <td>Vascular Plant</td>\n",
       "      <td>65221</td>\n",
       "    </tr>\n",
       "    <tr>\n",
       "      <th>Order</th>\n",
       "      <td>117776</td>\n",
       "      <td>554</td>\n",
       "      <td>Poales</td>\n",
       "      <td>11453</td>\n",
       "    </tr>\n",
       "    <tr>\n",
       "      <th>Family</th>\n",
       "      <td>117736</td>\n",
       "      <td>2332</td>\n",
       "      <td>Asteraceae</td>\n",
       "      <td>8843</td>\n",
       "    </tr>\n",
       "    <tr>\n",
       "      <th>Scientific Name</th>\n",
       "      <td>119248</td>\n",
       "      <td>46022</td>\n",
       "      <td>Falco peregrinus</td>\n",
       "      <td>56</td>\n",
       "    </tr>\n",
       "    <tr>\n",
       "      <th>Common Names</th>\n",
       "      <td>119248</td>\n",
       "      <td>35826</td>\n",
       "      <td>None</td>\n",
       "      <td>27147</td>\n",
       "    </tr>\n",
       "    <tr>\n",
       "      <th>Record Status</th>\n",
       "      <td>119248</td>\n",
       "      <td>54</td>\n",
       "      <td>Approved</td>\n",
       "      <td>86254</td>\n",
       "    </tr>\n",
       "    <tr>\n",
       "      <th>Occurrence</th>\n",
       "      <td>99106</td>\n",
       "      <td>7</td>\n",
       "      <td>Present</td>\n",
       "      <td>83278</td>\n",
       "    </tr>\n",
       "    <tr>\n",
       "      <th>Nativeness</th>\n",
       "      <td>94203</td>\n",
       "      <td>5</td>\n",
       "      <td>Native</td>\n",
       "      <td>75950</td>\n",
       "    </tr>\n",
       "    <tr>\n",
       "      <th>Abundance</th>\n",
       "      <td>76306</td>\n",
       "      <td>8</td>\n",
       "      <td>Unknown</td>\n",
       "      <td>28119</td>\n",
       "    </tr>\n",
       "    <tr>\n",
       "      <th>Seasonality</th>\n",
       "      <td>20157</td>\n",
       "      <td>24</td>\n",
       "      <td>Breeder</td>\n",
       "      <td>12214</td>\n",
       "    </tr>\n",
       "    <tr>\n",
       "      <th>Conservation Status</th>\n",
       "      <td>4718</td>\n",
       "      <td>11</td>\n",
       "      <td>Species of Concern</td>\n",
       "      <td>3843</td>\n",
       "    </tr>\n",
       "  </tbody>\n",
       "</table>\n",
       "</div>"
      ],
      "text/plain": [
       "                      count  unique                                  top  \\\n",
       "Species ID           119248  119248                            KOVA-1439   \n",
       "Park Name            119248      56  Great Smoky Mountains National Park   \n",
       "Category             119248      14                       Vascular Plant   \n",
       "Order                117776     554                               Poales   \n",
       "Family               117736    2332                           Asteraceae   \n",
       "Scientific Name      119248   46022                     Falco peregrinus   \n",
       "Common Names         119248   35826                                 None   \n",
       "Record Status        119248      54                             Approved   \n",
       "Occurrence            99106       7                              Present   \n",
       "Nativeness            94203       5                               Native   \n",
       "Abundance             76306       8                              Unknown   \n",
       "Seasonality           20157      24                              Breeder   \n",
       "Conservation Status    4718      11                   Species of Concern   \n",
       "\n",
       "                      freq  \n",
       "Species ID               1  \n",
       "Park Name             6623  \n",
       "Category             65221  \n",
       "Order                11453  \n",
       "Family                8843  \n",
       "Scientific Name         56  \n",
       "Common Names         27147  \n",
       "Record Status        86254  \n",
       "Occurrence           83278  \n",
       "Nativeness           75950  \n",
       "Abundance            28119  \n",
       "Seasonality          12214  \n",
       "Conservation Status   3843  "
      ]
     },
     "execution_count": 61,
     "metadata": {},
     "output_type": "execute_result"
    }
   ],
   "source": [
    "df_bio.describe().transpose()"
   ]
  },
  {
   "cell_type": "markdown",
   "metadata": {},
   "source": [
    "### Where do we find endangered species?"
   ]
  },
  {
   "cell_type": "code",
   "execution_count": 190,
   "metadata": {},
   "outputs": [
    {
     "name": "stdout",
     "output_type": "stream",
     "text": [
      "Red Wolf :\n",
      "    Great Smoky Mountains National Park\n",
      "    Hot Springs National Park\n",
      "Staghorn Coral :\n",
      "    Biscayne National Park\n",
      "    Dry Tortugas National Park\n",
      "Ridley Sea Turtle :\n",
      "    Biscayne National Park\n",
      "    Redwood National Park\n",
      "California Condor :\n",
      "    Arches National Park\n",
      "    Bryce Canyon National Park\n",
      "    Canyonlands National Park\n",
      "    Capitol Reef National Park\n",
      "    Death Valley National Park\n",
      "    Great Basin National Park\n",
      "    Grand Canyon National Park\n",
      "    Joshua Tree National Park\n",
      "    Lassen Volcanic National Park\n",
      "    Mesa Verde National Park\n",
      "    Pinnacles National Park\n",
      "    Sequoia and Kings Canyon National Parks\n",
      "    Yosemite National Park\n",
      "    Zion National Park\n"
     ]
    }
   ],
   "source": [
    "parks_endangered = []\n",
    "for var in ['Red Wolf','Staghorn Coral','Ridley Sea Turtle','California Condor']:\n",
    "    print(var,':')\n",
    "    for i in range(len(df_bio['Park Name'])):\n",
    "        if var in df_bio['Common Names'].iloc[i]: \n",
    "            print('   ',df_bio['Park Name'].iloc[i])\n",
    "            if df_bio['Park Name'].iloc[i] not in parks_endangered:\n",
    "                j = np.where(df_park['Park Name']==df_bio['Park Name'].iloc[i])[0][0]\n",
    "                parks_endangered.append(j)"
   ]
  },
  {
   "cell_type": "markdown",
   "metadata": {},
   "source": [
    "## Explore Dataset"
   ]
  },
  {
   "cell_type": "code",
   "execution_count": 118,
   "metadata": {},
   "outputs": [
    {
     "name": "stdout",
     "output_type": "stream",
     "text": [
      "<class 'pandas.core.frame.DataFrame'>\n",
      "Index: 56 entries, Acadia National Park to Zion National Park\n",
      "Data columns (total 29 columns):\n",
      " #   Column                       Non-Null Count  Dtype  \n",
      "---  ------                       --------------  -----  \n",
      " 0   RecordStatus_Approved        56 non-null     int64  \n",
      " 1   RecordStatus_InReview        56 non-null     int64  \n",
      " 2   Occurrence_NotConfirmed      56 non-null     int64  \n",
      " 3   Occurrence_NotPresent        56 non-null     int64  \n",
      " 4   Occurrence_other             56 non-null     int64  \n",
      " 5   Nativeness_other             56 non-null     int64  \n",
      " 6   Abundance_ordinal            56 non-null     int64  \n",
      " 7   Category_mobile              56 non-null     int64  \n",
      " 8   Native_Present               56 non-null     int64  \n",
      " 9   NotNative_Present            56 non-null     int64  \n",
      " 10  Resident_Present             56 non-null     int64  \n",
      " 11  Breeder_Present              56 non-null     int64  \n",
      " 12  Vagrant_Present              56 non-null     int64  \n",
      " 13  Migratory_Present            56 non-null     int64  \n",
      " 14  Resident_Native_Present      56 non-null     int64  \n",
      " 15  Resident_NotNative_Present   56 non-null     int64  \n",
      " 16  Breeder_Native_Present       56 non-null     int64  \n",
      " 17  Breeder_NotNative_Present    56 non-null     int64  \n",
      " 18  Vagrant_Native_Present       56 non-null     int64  \n",
      " 19  Vagrant_NotNative_Present    56 non-null     int64  \n",
      " 20  Migratory_Native_Present     56 non-null     int64  \n",
      " 21  Migratory_NotNative_Present  56 non-null     int64  \n",
      " 22  Park Code                    56 non-null     object \n",
      " 23  Park Name                    56 non-null     object \n",
      " 24  State                        56 non-null     object \n",
      " 25  Acres                        56 non-null     int64  \n",
      " 26  Latitude                     56 non-null     float64\n",
      " 27  Longitude                    56 non-null     float64\n",
      " 28  Cluster                      56 non-null     int64  \n",
      "dtypes: float64(2), int64(24), object(3)\n",
      "memory usage: 13.1+ KB\n"
     ]
    }
   ],
   "source": [
    "df_park.info()"
   ]
  },
  {
   "cell_type": "code",
   "execution_count": 198,
   "metadata": {},
   "outputs": [],
   "source": [
    "import plotly.express as px\n",
    "import plotly.graph_objects as go\n",
    "import math\n",
    "# bla = np.sort(df_park['Present'])\n",
    "# plt.plot(bla,'.')\n",
    "# plt.show()\n",
    "def bubbleplot(df_park,cat_01,cat_02,title,title_cat_01,title_cat_02,legend='Cluster',x_axis_type='linear',y_axis_type='linear',cross_plot=None):\n",
    "    sizeref = 1/4*max(df_park['Native_Present'])/(100**2)\n",
    "    hover_text = []\n",
    "    bubble_size = []\n",
    "\n",
    "    for index, row in df_park.iterrows():\n",
    "        hover_text.append(('Park Name: {ParkName}<br>'+\n",
    "                          'Size: {Acres}<br>'+\n",
    "                          '# Species: {Present}<br>'+\n",
    "                          '# Native Species: {Native_Present}<br>').format(ParkName=row['Park Name'],\n",
    "                                                Acres=row['Acres'],\n",
    "                                                Present=row['Present'],\n",
    "                                                Native_Present=row['Native_Present']))\n",
    "        bubble_size.append(math.sqrt(row['Native_Present']))\n",
    "    df_park['text'] = hover_text\n",
    "    df_park['size'] = bubble_size\n",
    "    if legend == 'Cluster':\n",
    "        present_bins = [str(cl) for cl in np.sort(df_park['Cluster'].unique())]  #['<500','<1000','<1500','<2000','<2500','>2500']\n",
    "        present_data = {cat:df_park.query(\"Cluster == '%s'\" %cat)\n",
    "                                  for cat in present_bins} # Present_cat\n",
    "        legend_title = 'Cluster'\n",
    "    elif legend == 'Present_cat':\n",
    "        present_bins = ['<500','<1000','<1500','<2000','<2500','>2500']\n",
    "        present_data = {cat:df_park.query(\"Present_cat == '%s'\" %cat)\n",
    "                                  for cat in present_bins} # \n",
    "        legend_title = '# species (native & not-native)'\n",
    "\n",
    "    # Create figure\n",
    "    fig = go.Figure()\n",
    "\n",
    "    for cat_name, cat in present_data.items():\n",
    "        fig.add_trace(go.Scatter(\n",
    "            x=cat[cat_01], y=cat[cat_02],\n",
    "            name=cat_name, text=cat['text'],\n",
    "            marker_size=cat['size'],\n",
    "            ))\n",
    "\n",
    "    fig.update_traces(mode='markers', marker=dict(sizemode='area',\n",
    "                                                  sizeref=sizeref, line_width=2))\n",
    "    if cross_plot:\n",
    "        fig.add_trace(go.Scatter(x=df_park[cat_01][cross_plot],y=df_park[cat_02][cross_plot],name='Endangered',mode='markers',marker=dict(color='black')))\n",
    "    fig.update_layout(\n",
    "        title=title,\n",
    "        xaxis=dict(\n",
    "            title=title_cat_01,\n",
    "            gridcolor='white',\n",
    "            type=x_axis_type,\n",
    "            gridwidth=2,\n",
    "        ),\n",
    "        yaxis=dict(\n",
    "            title=title_cat_02,\n",
    "            gridcolor='white',\n",
    "            type=y_axis_type,\n",
    "            gridwidth=2,\n",
    "        ),\n",
    "        legend=dict(title=legend_title)\n",
    "    )\n",
    "    fig.show()\n",
    "    return fig;"
   ]
  },
  {
   "cell_type": "code",
   "execution_count": 199,
   "metadata": {},
   "outputs": [
    {
     "data": {
      "application/vnd.plotly.v1+json": {
       "config": {
        "plotlyServerURL": "https://plot.ly"
       },
       "data": [
        {
         "marker": {
          "line": {
           "width": 2
          },
          "size": [
           31.25699921617557,
           26.870057685088806,
           29.782545223670862,
           27.367864366808018,
           24.269322199023193,
           23.515952032609693,
           30.822070014844883,
           38.39270764090493
          ],
          "sizemode": "area",
          "sizeref": 0.05775
         },
         "mode": "markers",
         "name": "0",
         "text": [
          "Park Name: Denali National Park and Preserve<br>Size: 3372402<br># Species: 999<br># Native Species: 977<br>",
          "Park Name: Gates Of The Arctic National Park and Preserve<br>Size: 7523898<br># Species: 722<br># Native Species: 722<br>",
          "Park Name: Glacier Bay National Park and Preserve<br>Size: 3224840<br># Species: 916<br># Native Species: 887<br>",
          "Park Name: Katmai National Park and Preserve<br>Size: 3674530<br># Species: 760<br># Native Species: 749<br>",
          "Park Name: Kenai Fjords National Park<br>Size: 669983<br># Species: 605<br># Native Species: 589<br>",
          "Park Name: Kobuk Valley National Park<br>Size: 1750717<br># Species: 553<br># Native Species: 553<br>",
          "Park Name: Lake Clark National Park and Preserve<br>Size: 2619733<br># Species: 970<br># Native Species: 950<br>",
          "Park Name: Wrangell - St Elias National Park and Preserve<br>Size: 8323148<br># Species: 1509<br># Native Species: 1474<br>"
         ],
         "type": "scatter",
         "x": [
          3372402,
          7523898,
          3224840,
          3674530,
          669983,
          1750717,
          2619733,
          8323148
         ],
         "y": [
          1976,
          33,
          1778,
          1734,
          1508,
          260,
          1726,
          3549
         ]
        },
        {
         "marker": {
          "line": {
           "width": 2
          },
          "size": [
           34.539832078341085,
           40.24922359499622
          ],
          "sizemode": "area",
          "sizeref": 0.05775
         },
         "mode": "markers",
         "name": "1",
         "text": [
          "Park Name: Haleakala National Park<br>Size: 29094<br># Species: 2023<br># Native Species: 1193<br>",
          "Park Name: Hawaii Volcanoes National Park<br>Size: 323431<br># Species: 2722<br># Native Species: 1620<br>"
         ],
         "type": "scatter",
         "x": [
          29094,
          323431
         ],
         "y": [
          2183,
          2560
         ]
        },
        {
         "marker": {
          "line": {
           "width": 2
          },
          "size": [
           36.46916505762094,
           47.30750469005948,
           34.713109915419565,
           38.05259518088089,
           44.710177812216315
          ],
          "sizemode": "area",
          "sizeref": 0.05775
         },
         "mode": "markers",
         "name": "2",
         "text": [
          "Park Name: Death Valley National Park<br>Size: 4740912<br># Species: 1410<br># Native Species: 1330<br>",
          "Park Name: Great Smoky Mountains National Park<br>Size: 521490<br># Species: 2598<br># Native Species: 2238<br>",
          "Park Name: Redwood National Park<br>Size: 112512<br># Species: 1525<br># Native Species: 1205<br>",
          "Park Name: Shenandoah National Park<br>Size: 199045<br># Species: 1824<br># Native Species: 1448<br>",
          "Park Name: Yellowstone National Park<br>Size: 2219791<br># Species: 2188<br># Native Species: 1999<br>"
         ],
         "type": "scatter",
         "x": [
          4740912,
          521490,
          112512,
          199045,
          2219791
         ],
         "y": [
          1804,
          5093,
          2735,
          4461,
          4107
         ]
        },
        {
         "marker": {
          "line": {
           "width": 2
          },
          "size": [
           43.61192497471305,
           25.729360660537214,
           40.28647415696737,
           38.768543949960254,
           18.439088914585774,
           37.134889255254286,
           48.062459362791664
          ],
          "sizemode": "area",
          "sizeref": 0.05775
         },
         "mode": "markers",
         "name": "3",
         "text": [
          "Park Name: Big Bend National Park<br>Size: 801163<br># Species: 2011<br># Native Species: 1902<br>",
          "Park Name: Biscayne National Park<br>Size: 172924<br># Species: 839<br># Native Species: 662<br>",
          "Park Name: Channel Islands National Park<br>Size: 249561<br># Species: 1847<br># Native Species: 1623<br>",
          "Park Name: Cuyahoga Valley National Park<br>Size: 32950<br># Species: 1770<br># Native Species: 1503<br>",
          "Park Name: Dry Tortugas National Park<br>Size: 64701<br># Species: 481<br># Native Species: 340<br>",
          "Park Name: Everglades National Park<br>Size: 1508538<br># Species: 1780<br># Native Species: 1379<br>",
          "Park Name: Grand Canyon National Park<br>Size: 1217403<br># Species: 2532<br># Native Species: 2310<br>"
         ],
         "type": "scatter",
         "x": [
          801163,
          172924,
          249561,
          32950,
          64701,
          1508538,
          1217403
         ],
         "y": [
          1262,
          1769,
          3032,
          3683,
          1190,
          3688,
          1857
         ]
        },
        {
         "marker": {
          "line": {
           "width": 2
          },
          "size": [
           29.715315916207253,
           25.787593916455254,
           24.939927826679853,
           24.758836806279895,
           26.981475126464083,
           28,
           32.0624390837628,
           36.823905279043935,
           33.481338085566414,
           32.69556544854363,
           45.36518488885502,
           38.02630668366309,
           29.782545223670862,
           28.089143810376278,
           39.08964057138413,
           22.891046284519195,
           32.046840717924134,
           28.600699292150182,
           30.903074280724887,
           38.09199390948182,
           31.38470965295043,
           32.17141588429082,
           42.67317658670374,
           35.25620512760839,
           26.038433132583073,
           28.478061731796284,
           37.841775856849004,
           38.36665218650175,
           39.88734135035826,
           26.92582403567252,
           32.31098884280702,
           28.178005607210743,
           41.255302689472536,
           34.11744421846396
          ],
          "sizemode": "area",
          "sizeref": 0.05775
         },
         "mode": "markers",
         "name": "4",
         "text": [
          "Park Name: Acadia National Park<br>Size: 47390<br># Species: 1157<br># Native Species: 883<br>",
          "Park Name: Arches National Park<br>Size: 76519<br># Species: 749<br># Native Species: 665<br>",
          "Park Name: Badlands National Park<br>Size: 242756<br># Species: 700<br># Native Species: 622<br>",
          "Park Name: Black Canyon of the Gunnison National Park<br>Size: 32950<br># Species: 689<br># Native Species: 613<br>",
          "Park Name: Bryce Canyon National Park<br>Size: 35835<br># Species: 788<br># Native Species: 728<br>",
          "Park Name: Canyonlands National Park<br>Size: 337598<br># Species: 866<br># Native Species: 784<br>",
          "Park Name: Capitol Reef National Park<br>Size: 241904<br># Species: 1161<br># Native Species: 1028<br>",
          "Park Name: Carlsbad Caverns National Park<br>Size: 46766<br># Species: 1427<br># Native Species: 1356<br>",
          "Park Name: Congaree National Park<br>Size: 26546<br># Species: 1205<br># Native Species: 1121<br>",
          "Park Name: Crater Lake National Park<br>Size: 183224<br># Species: 1122<br># Native Species: 1069<br>",
          "Park Name: Glacier National Park<br>Size: 1013572<br># Species: 2196<br># Native Species: 2058<br>",
          "Park Name: Grand Teton National Park<br>Size: 309995<br># Species: 1587<br># Native Species: 1446<br>",
          "Park Name: Great Basin National Park<br>Size: 77180<br># Species: 955<br># Native Species: 887<br>",
          "Park Name: Great Sand Dunes National Park and Preserve<br>Size: 42984<br># Species: 813<br># Native Species: 789<br>",
          "Park Name: Guadalupe Mountains National Park<br>Size: 86416<br># Species: 1578<br># Native Species: 1528<br>",
          "Park Name: Hot Springs National Park<br>Size: 5550<br># Species: 588<br># Native Species: 524<br>",
          "Park Name: Isle Royale National Park<br>Size: 571790<br># Species: 1167<br># Native Species: 1027<br>",
          "Park Name: Joshua Tree National Park<br>Size: 789745<br># Species: 849<br># Native Species: 818<br>",
          "Park Name: Lassen Volcanic National Park<br>Size: 106372<br># Species: 1005<br># Native Species: 955<br>",
          "Park Name: Mammoth Cave National Park<br>Size: 52830<br># Species: 1628<br># Native Species: 1451<br>",
          "Park Name: Mesa Verde National Park<br>Size: 52122<br># Species: 1106<br># Native Species: 985<br>",
          "Park Name: Mount Rainier National Park<br>Size: 235625<br># Species: 1191<br># Native Species: 1035<br>",
          "Park Name: North Cascades National Park<br>Size: 504781<br># Species: 2053<br># Native Species: 1821<br>",
          "Park Name: Olympic National Park<br>Size: 922651<br># Species: 1356<br># Native Species: 1243<br>",
          "Park Name: Petrified Forest National Park<br>Size: 93533<br># Species: 732<br># Native Species: 678<br>",
          "Park Name: Pinnacles National Park<br>Size: 26606<br># Species: 940<br># Native Species: 811<br>",
          "Park Name: Rocky Mountain National Park<br>Size: 265828<br># Species: 1526<br># Native Species: 1432<br>",
          "Park Name: Saguaro National Park<br>Size: 91440<br># Species: 1578<br># Native Species: 1472<br>",
          "Park Name: Sequoia and Kings Canyon National Parks<br>Size: 865952<br># Species: 1818<br># Native Species: 1591<br>",
          "Park Name: Theodore Roosevelt National Park<br>Size: 70447<br># Species: 807<br># Native Species: 725<br>",
          "Park Name: Voyageurs National Park<br>Size: 218200<br># Species: 1173<br># Native Species: 1044<br>",
          "Park Name: Wind Cave National Park<br>Size: 28295<br># Species: 890<br># Native Species: 794<br>",
          "Park Name: Yosemite National Park<br>Size: 761266<br># Species: 1896<br># Native Species: 1702<br>",
          "Park Name: Zion National Park<br>Size: 146598<br># Species: 1316<br># Native Species: 1164<br>"
         ],
         "type": "scatter",
         "x": [
          47390,
          76519,
          242756,
          32950,
          35835,
          337598,
          241904,
          46766,
          26546,
          183224,
          1013572,
          309995,
          77180,
          42984,
          86416,
          5550,
          571790,
          789745,
          106372,
          52830,
          52122,
          235625,
          504781,
          922651,
          93533,
          26606,
          265828,
          91440,
          865952,
          70447,
          218200,
          28295,
          761266,
          146598
         ],
         "y": [
          3040,
          1665,
          1509,
          1520,
          1609,
          1810,
          2701,
          26,
          2244,
          596,
          4299,
          4448,
          2793,
          942,
          47,
          1516,
          2602,
          2867,
          2758,
          728,
          693,
          2795,
          910,
          2776,
          1845,
          1903,
          3413,
          739,
          3457,
          1342,
          1029,
          1784,
          4544,
          2801
         ]
        },
        {
         "marker": {
          "color": "black"
         },
         "mode": "markers",
         "name": "Endangered",
         "type": "scatter",
         "x": [
          521490,
          5550,
          172924,
          64701,
          172924,
          112512,
          76519,
          35835,
          337598,
          241904,
          4740912,
          77180,
          1217403,
          789745,
          106372,
          52122,
          26606,
          865952,
          761266,
          146598
         ],
         "y": [
          5093,
          1516,
          1769,
          1190,
          1769,
          2735,
          1665,
          1609,
          1810,
          2701,
          1804,
          2793,
          1857,
          2867,
          2758,
          693,
          1903,
          3457,
          4544,
          2801
         ]
        }
       ],
       "layout": {
        "legend": {
         "title": {
          "text": "Cluster"
         }
        },
        "template": {
         "data": {
          "bar": [
           {
            "error_x": {
             "color": "#2a3f5f"
            },
            "error_y": {
             "color": "#2a3f5f"
            },
            "marker": {
             "line": {
              "color": "#E5ECF6",
              "width": 0.5
             }
            },
            "type": "bar"
           }
          ],
          "barpolar": [
           {
            "marker": {
             "line": {
              "color": "#E5ECF6",
              "width": 0.5
             }
            },
            "type": "barpolar"
           }
          ],
          "carpet": [
           {
            "aaxis": {
             "endlinecolor": "#2a3f5f",
             "gridcolor": "white",
             "linecolor": "white",
             "minorgridcolor": "white",
             "startlinecolor": "#2a3f5f"
            },
            "baxis": {
             "endlinecolor": "#2a3f5f",
             "gridcolor": "white",
             "linecolor": "white",
             "minorgridcolor": "white",
             "startlinecolor": "#2a3f5f"
            },
            "type": "carpet"
           }
          ],
          "choropleth": [
           {
            "colorbar": {
             "outlinewidth": 0,
             "ticks": ""
            },
            "type": "choropleth"
           }
          ],
          "contour": [
           {
            "colorbar": {
             "outlinewidth": 0,
             "ticks": ""
            },
            "colorscale": [
             [
              0,
              "#0d0887"
             ],
             [
              0.1111111111111111,
              "#46039f"
             ],
             [
              0.2222222222222222,
              "#7201a8"
             ],
             [
              0.3333333333333333,
              "#9c179e"
             ],
             [
              0.4444444444444444,
              "#bd3786"
             ],
             [
              0.5555555555555556,
              "#d8576b"
             ],
             [
              0.6666666666666666,
              "#ed7953"
             ],
             [
              0.7777777777777778,
              "#fb9f3a"
             ],
             [
              0.8888888888888888,
              "#fdca26"
             ],
             [
              1,
              "#f0f921"
             ]
            ],
            "type": "contour"
           }
          ],
          "contourcarpet": [
           {
            "colorbar": {
             "outlinewidth": 0,
             "ticks": ""
            },
            "type": "contourcarpet"
           }
          ],
          "heatmap": [
           {
            "colorbar": {
             "outlinewidth": 0,
             "ticks": ""
            },
            "colorscale": [
             [
              0,
              "#0d0887"
             ],
             [
              0.1111111111111111,
              "#46039f"
             ],
             [
              0.2222222222222222,
              "#7201a8"
             ],
             [
              0.3333333333333333,
              "#9c179e"
             ],
             [
              0.4444444444444444,
              "#bd3786"
             ],
             [
              0.5555555555555556,
              "#d8576b"
             ],
             [
              0.6666666666666666,
              "#ed7953"
             ],
             [
              0.7777777777777778,
              "#fb9f3a"
             ],
             [
              0.8888888888888888,
              "#fdca26"
             ],
             [
              1,
              "#f0f921"
             ]
            ],
            "type": "heatmap"
           }
          ],
          "heatmapgl": [
           {
            "colorbar": {
             "outlinewidth": 0,
             "ticks": ""
            },
            "colorscale": [
             [
              0,
              "#0d0887"
             ],
             [
              0.1111111111111111,
              "#46039f"
             ],
             [
              0.2222222222222222,
              "#7201a8"
             ],
             [
              0.3333333333333333,
              "#9c179e"
             ],
             [
              0.4444444444444444,
              "#bd3786"
             ],
             [
              0.5555555555555556,
              "#d8576b"
             ],
             [
              0.6666666666666666,
              "#ed7953"
             ],
             [
              0.7777777777777778,
              "#fb9f3a"
             ],
             [
              0.8888888888888888,
              "#fdca26"
             ],
             [
              1,
              "#f0f921"
             ]
            ],
            "type": "heatmapgl"
           }
          ],
          "histogram": [
           {
            "marker": {
             "colorbar": {
              "outlinewidth": 0,
              "ticks": ""
             }
            },
            "type": "histogram"
           }
          ],
          "histogram2d": [
           {
            "colorbar": {
             "outlinewidth": 0,
             "ticks": ""
            },
            "colorscale": [
             [
              0,
              "#0d0887"
             ],
             [
              0.1111111111111111,
              "#46039f"
             ],
             [
              0.2222222222222222,
              "#7201a8"
             ],
             [
              0.3333333333333333,
              "#9c179e"
             ],
             [
              0.4444444444444444,
              "#bd3786"
             ],
             [
              0.5555555555555556,
              "#d8576b"
             ],
             [
              0.6666666666666666,
              "#ed7953"
             ],
             [
              0.7777777777777778,
              "#fb9f3a"
             ],
             [
              0.8888888888888888,
              "#fdca26"
             ],
             [
              1,
              "#f0f921"
             ]
            ],
            "type": "histogram2d"
           }
          ],
          "histogram2dcontour": [
           {
            "colorbar": {
             "outlinewidth": 0,
             "ticks": ""
            },
            "colorscale": [
             [
              0,
              "#0d0887"
             ],
             [
              0.1111111111111111,
              "#46039f"
             ],
             [
              0.2222222222222222,
              "#7201a8"
             ],
             [
              0.3333333333333333,
              "#9c179e"
             ],
             [
              0.4444444444444444,
              "#bd3786"
             ],
             [
              0.5555555555555556,
              "#d8576b"
             ],
             [
              0.6666666666666666,
              "#ed7953"
             ],
             [
              0.7777777777777778,
              "#fb9f3a"
             ],
             [
              0.8888888888888888,
              "#fdca26"
             ],
             [
              1,
              "#f0f921"
             ]
            ],
            "type": "histogram2dcontour"
           }
          ],
          "mesh3d": [
           {
            "colorbar": {
             "outlinewidth": 0,
             "ticks": ""
            },
            "type": "mesh3d"
           }
          ],
          "parcoords": [
           {
            "line": {
             "colorbar": {
              "outlinewidth": 0,
              "ticks": ""
             }
            },
            "type": "parcoords"
           }
          ],
          "pie": [
           {
            "automargin": true,
            "type": "pie"
           }
          ],
          "scatter": [
           {
            "marker": {
             "colorbar": {
              "outlinewidth": 0,
              "ticks": ""
             }
            },
            "type": "scatter"
           }
          ],
          "scatter3d": [
           {
            "line": {
             "colorbar": {
              "outlinewidth": 0,
              "ticks": ""
             }
            },
            "marker": {
             "colorbar": {
              "outlinewidth": 0,
              "ticks": ""
             }
            },
            "type": "scatter3d"
           }
          ],
          "scattercarpet": [
           {
            "marker": {
             "colorbar": {
              "outlinewidth": 0,
              "ticks": ""
             }
            },
            "type": "scattercarpet"
           }
          ],
          "scattergeo": [
           {
            "marker": {
             "colorbar": {
              "outlinewidth": 0,
              "ticks": ""
             }
            },
            "type": "scattergeo"
           }
          ],
          "scattergl": [
           {
            "marker": {
             "colorbar": {
              "outlinewidth": 0,
              "ticks": ""
             }
            },
            "type": "scattergl"
           }
          ],
          "scattermapbox": [
           {
            "marker": {
             "colorbar": {
              "outlinewidth": 0,
              "ticks": ""
             }
            },
            "type": "scattermapbox"
           }
          ],
          "scatterpolar": [
           {
            "marker": {
             "colorbar": {
              "outlinewidth": 0,
              "ticks": ""
             }
            },
            "type": "scatterpolar"
           }
          ],
          "scatterpolargl": [
           {
            "marker": {
             "colorbar": {
              "outlinewidth": 0,
              "ticks": ""
             }
            },
            "type": "scatterpolargl"
           }
          ],
          "scatterternary": [
           {
            "marker": {
             "colorbar": {
              "outlinewidth": 0,
              "ticks": ""
             }
            },
            "type": "scatterternary"
           }
          ],
          "surface": [
           {
            "colorbar": {
             "outlinewidth": 0,
             "ticks": ""
            },
            "colorscale": [
             [
              0,
              "#0d0887"
             ],
             [
              0.1111111111111111,
              "#46039f"
             ],
             [
              0.2222222222222222,
              "#7201a8"
             ],
             [
              0.3333333333333333,
              "#9c179e"
             ],
             [
              0.4444444444444444,
              "#bd3786"
             ],
             [
              0.5555555555555556,
              "#d8576b"
             ],
             [
              0.6666666666666666,
              "#ed7953"
             ],
             [
              0.7777777777777778,
              "#fb9f3a"
             ],
             [
              0.8888888888888888,
              "#fdca26"
             ],
             [
              1,
              "#f0f921"
             ]
            ],
            "type": "surface"
           }
          ],
          "table": [
           {
            "cells": {
             "fill": {
              "color": "#EBF0F8"
             },
             "line": {
              "color": "white"
             }
            },
            "header": {
             "fill": {
              "color": "#C8D4E3"
             },
             "line": {
              "color": "white"
             }
            },
            "type": "table"
           }
          ]
         },
         "layout": {
          "annotationdefaults": {
           "arrowcolor": "#2a3f5f",
           "arrowhead": 0,
           "arrowwidth": 1
          },
          "coloraxis": {
           "colorbar": {
            "outlinewidth": 0,
            "ticks": ""
           }
          },
          "colorscale": {
           "diverging": [
            [
             0,
             "#8e0152"
            ],
            [
             0.1,
             "#c51b7d"
            ],
            [
             0.2,
             "#de77ae"
            ],
            [
             0.3,
             "#f1b6da"
            ],
            [
             0.4,
             "#fde0ef"
            ],
            [
             0.5,
             "#f7f7f7"
            ],
            [
             0.6,
             "#e6f5d0"
            ],
            [
             0.7,
             "#b8e186"
            ],
            [
             0.8,
             "#7fbc41"
            ],
            [
             0.9,
             "#4d9221"
            ],
            [
             1,
             "#276419"
            ]
           ],
           "sequential": [
            [
             0,
             "#0d0887"
            ],
            [
             0.1111111111111111,
             "#46039f"
            ],
            [
             0.2222222222222222,
             "#7201a8"
            ],
            [
             0.3333333333333333,
             "#9c179e"
            ],
            [
             0.4444444444444444,
             "#bd3786"
            ],
            [
             0.5555555555555556,
             "#d8576b"
            ],
            [
             0.6666666666666666,
             "#ed7953"
            ],
            [
             0.7777777777777778,
             "#fb9f3a"
            ],
            [
             0.8888888888888888,
             "#fdca26"
            ],
            [
             1,
             "#f0f921"
            ]
           ],
           "sequentialminus": [
            [
             0,
             "#0d0887"
            ],
            [
             0.1111111111111111,
             "#46039f"
            ],
            [
             0.2222222222222222,
             "#7201a8"
            ],
            [
             0.3333333333333333,
             "#9c179e"
            ],
            [
             0.4444444444444444,
             "#bd3786"
            ],
            [
             0.5555555555555556,
             "#d8576b"
            ],
            [
             0.6666666666666666,
             "#ed7953"
            ],
            [
             0.7777777777777778,
             "#fb9f3a"
            ],
            [
             0.8888888888888888,
             "#fdca26"
            ],
            [
             1,
             "#f0f921"
            ]
           ]
          },
          "colorway": [
           "#636efa",
           "#EF553B",
           "#00cc96",
           "#ab63fa",
           "#FFA15A",
           "#19d3f3",
           "#FF6692",
           "#B6E880",
           "#FF97FF",
           "#FECB52"
          ],
          "font": {
           "color": "#2a3f5f"
          },
          "geo": {
           "bgcolor": "white",
           "lakecolor": "white",
           "landcolor": "#E5ECF6",
           "showlakes": true,
           "showland": true,
           "subunitcolor": "white"
          },
          "hoverlabel": {
           "align": "left"
          },
          "hovermode": "closest",
          "mapbox": {
           "style": "light"
          },
          "paper_bgcolor": "white",
          "plot_bgcolor": "#E5ECF6",
          "polar": {
           "angularaxis": {
            "gridcolor": "white",
            "linecolor": "white",
            "ticks": ""
           },
           "bgcolor": "#E5ECF6",
           "radialaxis": {
            "gridcolor": "white",
            "linecolor": "white",
            "ticks": ""
           }
          },
          "scene": {
           "xaxis": {
            "backgroundcolor": "#E5ECF6",
            "gridcolor": "white",
            "gridwidth": 2,
            "linecolor": "white",
            "showbackground": true,
            "ticks": "",
            "zerolinecolor": "white"
           },
           "yaxis": {
            "backgroundcolor": "#E5ECF6",
            "gridcolor": "white",
            "gridwidth": 2,
            "linecolor": "white",
            "showbackground": true,
            "ticks": "",
            "zerolinecolor": "white"
           },
           "zaxis": {
            "backgroundcolor": "#E5ECF6",
            "gridcolor": "white",
            "gridwidth": 2,
            "linecolor": "white",
            "showbackground": true,
            "ticks": "",
            "zerolinecolor": "white"
           }
          },
          "shapedefaults": {
           "line": {
            "color": "#2a3f5f"
           }
          },
          "ternary": {
           "aaxis": {
            "gridcolor": "white",
            "linecolor": "white",
            "ticks": ""
           },
           "baxis": {
            "gridcolor": "white",
            "linecolor": "white",
            "ticks": ""
           },
           "bgcolor": "#E5ECF6",
           "caxis": {
            "gridcolor": "white",
            "linecolor": "white",
            "ticks": ""
           }
          },
          "title": {
           "x": 0.05
          },
          "xaxis": {
           "automargin": true,
           "gridcolor": "white",
           "linecolor": "white",
           "ticks": "",
           "title": {
            "standoff": 15
           },
           "zerolinecolor": "white",
           "zerolinewidth": 2
          },
          "yaxis": {
           "automargin": true,
           "gridcolor": "white",
           "linecolor": "white",
           "ticks": "",
           "title": {
            "standoff": 15
           },
           "zerolinecolor": "white",
           "zerolinewidth": 2
          }
         }
        },
        "title": {
         "text": "Area vs. Abundance per Species"
        },
        "xaxis": {
         "gridcolor": "white",
         "gridwidth": 2,
         "title": {
          "text": "Park Area (acres)"
         },
         "type": "log"
        },
        "yaxis": {
         "gridcolor": "white",
         "gridwidth": 2,
         "title": {
          "text": "Abundance per Species (oridnal)"
         },
         "type": "linear"
        }
       }
      },
      "text/html": [
       "<div>\n",
       "        \n",
       "        \n",
       "            <div id=\"783c7eca-fd9a-4394-a1c3-9b4b3ad86ad1\" class=\"plotly-graph-div\" style=\"height:525px; width:100%;\"></div>\n",
       "            <script type=\"text/javascript\">\n",
       "                require([\"plotly\"], function(Plotly) {\n",
       "                    window.PLOTLYENV=window.PLOTLYENV || {};\n",
       "                    \n",
       "                if (document.getElementById(\"783c7eca-fd9a-4394-a1c3-9b4b3ad86ad1\")) {\n",
       "                    Plotly.newPlot(\n",
       "                        '783c7eca-fd9a-4394-a1c3-9b4b3ad86ad1',\n",
       "                        [{\"marker\": {\"line\": {\"width\": 2}, \"size\": [31.25699921617557, 26.870057685088806, 29.782545223670862, 27.367864366808018, 24.269322199023193, 23.515952032609693, 30.822070014844883, 38.39270764090493], \"sizemode\": \"area\", \"sizeref\": 0.05775}, \"mode\": \"markers\", \"name\": \"0\", \"text\": [\"Park Name: Denali National Park and Preserve<br>Size: 3372402<br># Species: 999<br># Native Species: 977<br>\", \"Park Name: Gates Of The Arctic National Park and Preserve<br>Size: 7523898<br># Species: 722<br># Native Species: 722<br>\", \"Park Name: Glacier Bay National Park and Preserve<br>Size: 3224840<br># Species: 916<br># Native Species: 887<br>\", \"Park Name: Katmai National Park and Preserve<br>Size: 3674530<br># Species: 760<br># Native Species: 749<br>\", \"Park Name: Kenai Fjords National Park<br>Size: 669983<br># Species: 605<br># Native Species: 589<br>\", \"Park Name: Kobuk Valley National Park<br>Size: 1750717<br># Species: 553<br># Native Species: 553<br>\", \"Park Name: Lake Clark National Park and Preserve<br>Size: 2619733<br># Species: 970<br># Native Species: 950<br>\", \"Park Name: Wrangell - St Elias National Park and Preserve<br>Size: 8323148<br># Species: 1509<br># Native Species: 1474<br>\"], \"type\": \"scatter\", \"x\": [3372402, 7523898, 3224840, 3674530, 669983, 1750717, 2619733, 8323148], \"y\": [1976, 33, 1778, 1734, 1508, 260, 1726, 3549]}, {\"marker\": {\"line\": {\"width\": 2}, \"size\": [34.539832078341085, 40.24922359499622], \"sizemode\": \"area\", \"sizeref\": 0.05775}, \"mode\": \"markers\", \"name\": \"1\", \"text\": [\"Park Name: Haleakala National Park<br>Size: 29094<br># Species: 2023<br># Native Species: 1193<br>\", \"Park Name: Hawaii Volcanoes National Park<br>Size: 323431<br># Species: 2722<br># Native Species: 1620<br>\"], \"type\": \"scatter\", \"x\": [29094, 323431], \"y\": [2183, 2560]}, {\"marker\": {\"line\": {\"width\": 2}, \"size\": [36.46916505762094, 47.30750469005948, 34.713109915419565, 38.05259518088089, 44.710177812216315], \"sizemode\": \"area\", \"sizeref\": 0.05775}, \"mode\": \"markers\", \"name\": \"2\", \"text\": [\"Park Name: Death Valley National Park<br>Size: 4740912<br># Species: 1410<br># Native Species: 1330<br>\", \"Park Name: Great Smoky Mountains National Park<br>Size: 521490<br># Species: 2598<br># Native Species: 2238<br>\", \"Park Name: Redwood National Park<br>Size: 112512<br># Species: 1525<br># Native Species: 1205<br>\", \"Park Name: Shenandoah National Park<br>Size: 199045<br># Species: 1824<br># Native Species: 1448<br>\", \"Park Name: Yellowstone National Park<br>Size: 2219791<br># Species: 2188<br># Native Species: 1999<br>\"], \"type\": \"scatter\", \"x\": [4740912, 521490, 112512, 199045, 2219791], \"y\": [1804, 5093, 2735, 4461, 4107]}, {\"marker\": {\"line\": {\"width\": 2}, \"size\": [43.61192497471305, 25.729360660537214, 40.28647415696737, 38.768543949960254, 18.439088914585774, 37.134889255254286, 48.062459362791664], \"sizemode\": \"area\", \"sizeref\": 0.05775}, \"mode\": \"markers\", \"name\": \"3\", \"text\": [\"Park Name: Big Bend National Park<br>Size: 801163<br># Species: 2011<br># Native Species: 1902<br>\", \"Park Name: Biscayne National Park<br>Size: 172924<br># Species: 839<br># Native Species: 662<br>\", \"Park Name: Channel Islands National Park<br>Size: 249561<br># Species: 1847<br># Native Species: 1623<br>\", \"Park Name: Cuyahoga Valley National Park<br>Size: 32950<br># Species: 1770<br># Native Species: 1503<br>\", \"Park Name: Dry Tortugas National Park<br>Size: 64701<br># Species: 481<br># Native Species: 340<br>\", \"Park Name: Everglades National Park<br>Size: 1508538<br># Species: 1780<br># Native Species: 1379<br>\", \"Park Name: Grand Canyon National Park<br>Size: 1217403<br># Species: 2532<br># Native Species: 2310<br>\"], \"type\": \"scatter\", \"x\": [801163, 172924, 249561, 32950, 64701, 1508538, 1217403], \"y\": [1262, 1769, 3032, 3683, 1190, 3688, 1857]}, {\"marker\": {\"line\": {\"width\": 2}, \"size\": [29.715315916207253, 25.787593916455254, 24.939927826679853, 24.758836806279895, 26.981475126464083, 28.0, 32.0624390837628, 36.823905279043935, 33.481338085566414, 32.69556544854363, 45.36518488885502, 38.02630668366309, 29.782545223670862, 28.089143810376278, 39.08964057138413, 22.891046284519195, 32.046840717924134, 28.600699292150182, 30.903074280724887, 38.09199390948182, 31.38470965295043, 32.17141588429082, 42.67317658670374, 35.25620512760839, 26.038433132583073, 28.478061731796284, 37.841775856849004, 38.36665218650175, 39.88734135035826, 26.92582403567252, 32.31098884280702, 28.178005607210743, 41.255302689472536, 34.11744421846396], \"sizemode\": \"area\", \"sizeref\": 0.05775}, \"mode\": \"markers\", \"name\": \"4\", \"text\": [\"Park Name: Acadia National Park<br>Size: 47390<br># Species: 1157<br># Native Species: 883<br>\", \"Park Name: Arches National Park<br>Size: 76519<br># Species: 749<br># Native Species: 665<br>\", \"Park Name: Badlands National Park<br>Size: 242756<br># Species: 700<br># Native Species: 622<br>\", \"Park Name: Black Canyon of the Gunnison National Park<br>Size: 32950<br># Species: 689<br># Native Species: 613<br>\", \"Park Name: Bryce Canyon National Park<br>Size: 35835<br># Species: 788<br># Native Species: 728<br>\", \"Park Name: Canyonlands National Park<br>Size: 337598<br># Species: 866<br># Native Species: 784<br>\", \"Park Name: Capitol Reef National Park<br>Size: 241904<br># Species: 1161<br># Native Species: 1028<br>\", \"Park Name: Carlsbad Caverns National Park<br>Size: 46766<br># Species: 1427<br># Native Species: 1356<br>\", \"Park Name: Congaree National Park<br>Size: 26546<br># Species: 1205<br># Native Species: 1121<br>\", \"Park Name: Crater Lake National Park<br>Size: 183224<br># Species: 1122<br># Native Species: 1069<br>\", \"Park Name: Glacier National Park<br>Size: 1013572<br># Species: 2196<br># Native Species: 2058<br>\", \"Park Name: Grand Teton National Park<br>Size: 309995<br># Species: 1587<br># Native Species: 1446<br>\", \"Park Name: Great Basin National Park<br>Size: 77180<br># Species: 955<br># Native Species: 887<br>\", \"Park Name: Great Sand Dunes National Park and Preserve<br>Size: 42984<br># Species: 813<br># Native Species: 789<br>\", \"Park Name: Guadalupe Mountains National Park<br>Size: 86416<br># Species: 1578<br># Native Species: 1528<br>\", \"Park Name: Hot Springs National Park<br>Size: 5550<br># Species: 588<br># Native Species: 524<br>\", \"Park Name: Isle Royale National Park<br>Size: 571790<br># Species: 1167<br># Native Species: 1027<br>\", \"Park Name: Joshua Tree National Park<br>Size: 789745<br># Species: 849<br># Native Species: 818<br>\", \"Park Name: Lassen Volcanic National Park<br>Size: 106372<br># Species: 1005<br># Native Species: 955<br>\", \"Park Name: Mammoth Cave National Park<br>Size: 52830<br># Species: 1628<br># Native Species: 1451<br>\", \"Park Name: Mesa Verde National Park<br>Size: 52122<br># Species: 1106<br># Native Species: 985<br>\", \"Park Name: Mount Rainier National Park<br>Size: 235625<br># Species: 1191<br># Native Species: 1035<br>\", \"Park Name: North Cascades National Park<br>Size: 504781<br># Species: 2053<br># Native Species: 1821<br>\", \"Park Name: Olympic National Park<br>Size: 922651<br># Species: 1356<br># Native Species: 1243<br>\", \"Park Name: Petrified Forest National Park<br>Size: 93533<br># Species: 732<br># Native Species: 678<br>\", \"Park Name: Pinnacles National Park<br>Size: 26606<br># Species: 940<br># Native Species: 811<br>\", \"Park Name: Rocky Mountain National Park<br>Size: 265828<br># Species: 1526<br># Native Species: 1432<br>\", \"Park Name: Saguaro National Park<br>Size: 91440<br># Species: 1578<br># Native Species: 1472<br>\", \"Park Name: Sequoia and Kings Canyon National Parks<br>Size: 865952<br># Species: 1818<br># Native Species: 1591<br>\", \"Park Name: Theodore Roosevelt National Park<br>Size: 70447<br># Species: 807<br># Native Species: 725<br>\", \"Park Name: Voyageurs National Park<br>Size: 218200<br># Species: 1173<br># Native Species: 1044<br>\", \"Park Name: Wind Cave National Park<br>Size: 28295<br># Species: 890<br># Native Species: 794<br>\", \"Park Name: Yosemite National Park<br>Size: 761266<br># Species: 1896<br># Native Species: 1702<br>\", \"Park Name: Zion National Park<br>Size: 146598<br># Species: 1316<br># Native Species: 1164<br>\"], \"type\": \"scatter\", \"x\": [47390, 76519, 242756, 32950, 35835, 337598, 241904, 46766, 26546, 183224, 1013572, 309995, 77180, 42984, 86416, 5550, 571790, 789745, 106372, 52830, 52122, 235625, 504781, 922651, 93533, 26606, 265828, 91440, 865952, 70447, 218200, 28295, 761266, 146598], \"y\": [3040, 1665, 1509, 1520, 1609, 1810, 2701, 26, 2244, 596, 4299, 4448, 2793, 942, 47, 1516, 2602, 2867, 2758, 728, 693, 2795, 910, 2776, 1845, 1903, 3413, 739, 3457, 1342, 1029, 1784, 4544, 2801]}, {\"marker\": {\"color\": \"black\"}, \"mode\": \"markers\", \"name\": \"Endangered\", \"type\": \"scatter\", \"x\": [521490, 5550, 172924, 64701, 172924, 112512, 76519, 35835, 337598, 241904, 4740912, 77180, 1217403, 789745, 106372, 52122, 26606, 865952, 761266, 146598], \"y\": [5093, 1516, 1769, 1190, 1769, 2735, 1665, 1609, 1810, 2701, 1804, 2793, 1857, 2867, 2758, 693, 1903, 3457, 4544, 2801]}],\n",
       "                        {\"legend\": {\"title\": {\"text\": \"Cluster\"}}, \"template\": {\"data\": {\"bar\": [{\"error_x\": {\"color\": \"#2a3f5f\"}, \"error_y\": {\"color\": \"#2a3f5f\"}, \"marker\": {\"line\": {\"color\": \"#E5ECF6\", \"width\": 0.5}}, \"type\": \"bar\"}], \"barpolar\": [{\"marker\": {\"line\": {\"color\": \"#E5ECF6\", \"width\": 0.5}}, \"type\": \"barpolar\"}], \"carpet\": [{\"aaxis\": {\"endlinecolor\": \"#2a3f5f\", \"gridcolor\": \"white\", \"linecolor\": \"white\", \"minorgridcolor\": \"white\", \"startlinecolor\": \"#2a3f5f\"}, \"baxis\": {\"endlinecolor\": \"#2a3f5f\", \"gridcolor\": \"white\", \"linecolor\": \"white\", \"minorgridcolor\": \"white\", \"startlinecolor\": \"#2a3f5f\"}, \"type\": \"carpet\"}], \"choropleth\": [{\"colorbar\": {\"outlinewidth\": 0, \"ticks\": \"\"}, \"type\": \"choropleth\"}], \"contour\": [{\"colorbar\": {\"outlinewidth\": 0, \"ticks\": \"\"}, \"colorscale\": [[0.0, \"#0d0887\"], [0.1111111111111111, \"#46039f\"], [0.2222222222222222, \"#7201a8\"], [0.3333333333333333, \"#9c179e\"], [0.4444444444444444, \"#bd3786\"], [0.5555555555555556, \"#d8576b\"], [0.6666666666666666, \"#ed7953\"], [0.7777777777777778, \"#fb9f3a\"], [0.8888888888888888, \"#fdca26\"], [1.0, \"#f0f921\"]], \"type\": \"contour\"}], \"contourcarpet\": [{\"colorbar\": {\"outlinewidth\": 0, \"ticks\": \"\"}, \"type\": \"contourcarpet\"}], \"heatmap\": [{\"colorbar\": {\"outlinewidth\": 0, \"ticks\": \"\"}, \"colorscale\": [[0.0, \"#0d0887\"], [0.1111111111111111, \"#46039f\"], [0.2222222222222222, \"#7201a8\"], [0.3333333333333333, \"#9c179e\"], [0.4444444444444444, \"#bd3786\"], [0.5555555555555556, \"#d8576b\"], [0.6666666666666666, \"#ed7953\"], [0.7777777777777778, \"#fb9f3a\"], [0.8888888888888888, \"#fdca26\"], [1.0, \"#f0f921\"]], \"type\": \"heatmap\"}], \"heatmapgl\": [{\"colorbar\": {\"outlinewidth\": 0, \"ticks\": \"\"}, \"colorscale\": [[0.0, \"#0d0887\"], [0.1111111111111111, \"#46039f\"], [0.2222222222222222, \"#7201a8\"], [0.3333333333333333, \"#9c179e\"], [0.4444444444444444, \"#bd3786\"], [0.5555555555555556, \"#d8576b\"], [0.6666666666666666, \"#ed7953\"], [0.7777777777777778, \"#fb9f3a\"], [0.8888888888888888, \"#fdca26\"], [1.0, \"#f0f921\"]], \"type\": \"heatmapgl\"}], \"histogram\": [{\"marker\": {\"colorbar\": {\"outlinewidth\": 0, \"ticks\": \"\"}}, \"type\": \"histogram\"}], \"histogram2d\": [{\"colorbar\": {\"outlinewidth\": 0, \"ticks\": \"\"}, \"colorscale\": [[0.0, \"#0d0887\"], [0.1111111111111111, \"#46039f\"], [0.2222222222222222, \"#7201a8\"], [0.3333333333333333, \"#9c179e\"], [0.4444444444444444, \"#bd3786\"], [0.5555555555555556, \"#d8576b\"], [0.6666666666666666, \"#ed7953\"], [0.7777777777777778, \"#fb9f3a\"], [0.8888888888888888, \"#fdca26\"], [1.0, \"#f0f921\"]], \"type\": \"histogram2d\"}], \"histogram2dcontour\": [{\"colorbar\": {\"outlinewidth\": 0, \"ticks\": \"\"}, \"colorscale\": [[0.0, \"#0d0887\"], [0.1111111111111111, \"#46039f\"], [0.2222222222222222, \"#7201a8\"], [0.3333333333333333, \"#9c179e\"], [0.4444444444444444, \"#bd3786\"], [0.5555555555555556, \"#d8576b\"], [0.6666666666666666, \"#ed7953\"], [0.7777777777777778, \"#fb9f3a\"], [0.8888888888888888, \"#fdca26\"], [1.0, \"#f0f921\"]], \"type\": \"histogram2dcontour\"}], \"mesh3d\": [{\"colorbar\": {\"outlinewidth\": 0, \"ticks\": \"\"}, \"type\": \"mesh3d\"}], \"parcoords\": [{\"line\": {\"colorbar\": {\"outlinewidth\": 0, \"ticks\": \"\"}}, \"type\": \"parcoords\"}], \"pie\": [{\"automargin\": true, \"type\": \"pie\"}], \"scatter\": [{\"marker\": {\"colorbar\": {\"outlinewidth\": 0, \"ticks\": \"\"}}, \"type\": \"scatter\"}], \"scatter3d\": [{\"line\": {\"colorbar\": {\"outlinewidth\": 0, \"ticks\": \"\"}}, \"marker\": {\"colorbar\": {\"outlinewidth\": 0, \"ticks\": \"\"}}, \"type\": \"scatter3d\"}], \"scattercarpet\": [{\"marker\": {\"colorbar\": {\"outlinewidth\": 0, \"ticks\": \"\"}}, \"type\": \"scattercarpet\"}], \"scattergeo\": [{\"marker\": {\"colorbar\": {\"outlinewidth\": 0, \"ticks\": \"\"}}, \"type\": \"scattergeo\"}], \"scattergl\": [{\"marker\": {\"colorbar\": {\"outlinewidth\": 0, \"ticks\": \"\"}}, \"type\": \"scattergl\"}], \"scattermapbox\": [{\"marker\": {\"colorbar\": {\"outlinewidth\": 0, \"ticks\": \"\"}}, \"type\": \"scattermapbox\"}], \"scatterpolar\": [{\"marker\": {\"colorbar\": {\"outlinewidth\": 0, \"ticks\": \"\"}}, \"type\": \"scatterpolar\"}], \"scatterpolargl\": [{\"marker\": {\"colorbar\": {\"outlinewidth\": 0, \"ticks\": \"\"}}, \"type\": \"scatterpolargl\"}], \"scatterternary\": [{\"marker\": {\"colorbar\": {\"outlinewidth\": 0, \"ticks\": \"\"}}, \"type\": \"scatterternary\"}], \"surface\": [{\"colorbar\": {\"outlinewidth\": 0, \"ticks\": \"\"}, \"colorscale\": [[0.0, \"#0d0887\"], [0.1111111111111111, \"#46039f\"], [0.2222222222222222, \"#7201a8\"], [0.3333333333333333, \"#9c179e\"], [0.4444444444444444, \"#bd3786\"], [0.5555555555555556, \"#d8576b\"], [0.6666666666666666, \"#ed7953\"], [0.7777777777777778, \"#fb9f3a\"], [0.8888888888888888, \"#fdca26\"], [1.0, \"#f0f921\"]], \"type\": \"surface\"}], \"table\": [{\"cells\": {\"fill\": {\"color\": \"#EBF0F8\"}, \"line\": {\"color\": \"white\"}}, \"header\": {\"fill\": {\"color\": \"#C8D4E3\"}, \"line\": {\"color\": \"white\"}}, \"type\": \"table\"}]}, \"layout\": {\"annotationdefaults\": {\"arrowcolor\": \"#2a3f5f\", \"arrowhead\": 0, \"arrowwidth\": 1}, \"coloraxis\": {\"colorbar\": {\"outlinewidth\": 0, \"ticks\": \"\"}}, \"colorscale\": {\"diverging\": [[0, \"#8e0152\"], [0.1, \"#c51b7d\"], [0.2, \"#de77ae\"], [0.3, \"#f1b6da\"], [0.4, \"#fde0ef\"], [0.5, \"#f7f7f7\"], [0.6, \"#e6f5d0\"], [0.7, \"#b8e186\"], [0.8, \"#7fbc41\"], [0.9, \"#4d9221\"], [1, \"#276419\"]], \"sequential\": [[0.0, \"#0d0887\"], [0.1111111111111111, \"#46039f\"], [0.2222222222222222, \"#7201a8\"], [0.3333333333333333, \"#9c179e\"], [0.4444444444444444, \"#bd3786\"], [0.5555555555555556, \"#d8576b\"], [0.6666666666666666, \"#ed7953\"], [0.7777777777777778, \"#fb9f3a\"], [0.8888888888888888, \"#fdca26\"], [1.0, \"#f0f921\"]], \"sequentialminus\": [[0.0, \"#0d0887\"], [0.1111111111111111, \"#46039f\"], [0.2222222222222222, \"#7201a8\"], [0.3333333333333333, \"#9c179e\"], [0.4444444444444444, \"#bd3786\"], [0.5555555555555556, \"#d8576b\"], [0.6666666666666666, \"#ed7953\"], [0.7777777777777778, \"#fb9f3a\"], [0.8888888888888888, \"#fdca26\"], [1.0, \"#f0f921\"]]}, \"colorway\": [\"#636efa\", \"#EF553B\", \"#00cc96\", \"#ab63fa\", \"#FFA15A\", \"#19d3f3\", \"#FF6692\", \"#B6E880\", \"#FF97FF\", \"#FECB52\"], \"font\": {\"color\": \"#2a3f5f\"}, \"geo\": {\"bgcolor\": \"white\", \"lakecolor\": \"white\", \"landcolor\": \"#E5ECF6\", \"showlakes\": true, \"showland\": true, \"subunitcolor\": \"white\"}, \"hoverlabel\": {\"align\": \"left\"}, \"hovermode\": \"closest\", \"mapbox\": {\"style\": \"light\"}, \"paper_bgcolor\": \"white\", \"plot_bgcolor\": \"#E5ECF6\", \"polar\": {\"angularaxis\": {\"gridcolor\": \"white\", \"linecolor\": \"white\", \"ticks\": \"\"}, \"bgcolor\": \"#E5ECF6\", \"radialaxis\": {\"gridcolor\": \"white\", \"linecolor\": \"white\", \"ticks\": \"\"}}, \"scene\": {\"xaxis\": {\"backgroundcolor\": \"#E5ECF6\", \"gridcolor\": \"white\", \"gridwidth\": 2, \"linecolor\": \"white\", \"showbackground\": true, \"ticks\": \"\", \"zerolinecolor\": \"white\"}, \"yaxis\": {\"backgroundcolor\": \"#E5ECF6\", \"gridcolor\": \"white\", \"gridwidth\": 2, \"linecolor\": \"white\", \"showbackground\": true, \"ticks\": \"\", \"zerolinecolor\": \"white\"}, \"zaxis\": {\"backgroundcolor\": \"#E5ECF6\", \"gridcolor\": \"white\", \"gridwidth\": 2, \"linecolor\": \"white\", \"showbackground\": true, \"ticks\": \"\", \"zerolinecolor\": \"white\"}}, \"shapedefaults\": {\"line\": {\"color\": \"#2a3f5f\"}}, \"ternary\": {\"aaxis\": {\"gridcolor\": \"white\", \"linecolor\": \"white\", \"ticks\": \"\"}, \"baxis\": {\"gridcolor\": \"white\", \"linecolor\": \"white\", \"ticks\": \"\"}, \"bgcolor\": \"#E5ECF6\", \"caxis\": {\"gridcolor\": \"white\", \"linecolor\": \"white\", \"ticks\": \"\"}}, \"title\": {\"x\": 0.05}, \"xaxis\": {\"automargin\": true, \"gridcolor\": \"white\", \"linecolor\": \"white\", \"ticks\": \"\", \"title\": {\"standoff\": 15}, \"zerolinecolor\": \"white\", \"zerolinewidth\": 2}, \"yaxis\": {\"automargin\": true, \"gridcolor\": \"white\", \"linecolor\": \"white\", \"ticks\": \"\", \"title\": {\"standoff\": 15}, \"zerolinecolor\": \"white\", \"zerolinewidth\": 2}}}, \"title\": {\"text\": \"Area vs. Abundance per Species\"}, \"xaxis\": {\"gridcolor\": \"white\", \"gridwidth\": 2, \"title\": {\"text\": \"Park Area (acres)\"}, \"type\": \"log\"}, \"yaxis\": {\"gridcolor\": \"white\", \"gridwidth\": 2, \"title\": {\"text\": \"Abundance per Species (oridnal)\"}, \"type\": \"linear\"}},\n",
       "                        {\"responsive\": true}\n",
       "                    ).then(function(){\n",
       "                            \n",
       "var gd = document.getElementById('783c7eca-fd9a-4394-a1c3-9b4b3ad86ad1');\n",
       "var x = new MutationObserver(function (mutations, observer) {{\n",
       "        var display = window.getComputedStyle(gd).display;\n",
       "        if (!display || display === 'none') {{\n",
       "            console.log([gd, 'removed!']);\n",
       "            Plotly.purge(gd);\n",
       "            observer.disconnect();\n",
       "        }}\n",
       "}});\n",
       "\n",
       "// Listen for the removal of the full notebook cells\n",
       "var notebookContainer = gd.closest('#notebook-container');\n",
       "if (notebookContainer) {{\n",
       "    x.observe(notebookContainer, {childList: true});\n",
       "}}\n",
       "\n",
       "// Listen for the clearing of the current output cell\n",
       "var outputEl = gd.closest('.output');\n",
       "if (outputEl) {{\n",
       "    x.observe(outputEl, {childList: true});\n",
       "}}\n",
       "\n",
       "                        })\n",
       "                };\n",
       "                });\n",
       "            </script>\n",
       "        </div>"
      ]
     },
     "metadata": {},
     "output_type": "display_data"
    }
   ],
   "source": [
    "cat_01 = 'Acres'\n",
    "cat_02 = 'Abundance_ordinal'\n",
    "title = 'Area vs. Abundance per Species'\n",
    "title_cat_01 = 'Park Area (acres)'\n",
    "title_cat_02 = 'Abundance per Species (oridnal)'\n",
    "legend = 'Cluster'\n",
    "fig = bubbleplot(df_park,cat_01,cat_02,title,title_cat_01,title_cat_02,x_axis_type='log',cross_plot=parks_endangered)\n",
    "# ind = df_park['Park Name'] == 'Biscayne National Park'\n",
    "# fig.add_trace(go.plot(x = df_park[cat_01][ind],y = df_park[cat_02][ind]),'kx')"
   ]
  },
  {
   "cell_type": "code",
   "execution_count": 202,
   "metadata": {},
   "outputs": [
    {
     "data": {
      "application/vnd.plotly.v1+json": {
       "config": {
        "plotlyServerURL": "https://plot.ly"
       },
       "data": [
        {
         "marker": {
          "line": {
           "width": 2
          },
          "size": [
           31.25699921617557,
           26.870057685088806,
           29.782545223670862,
           27.367864366808018,
           24.269322199023193,
           23.515952032609693,
           30.822070014844883,
           38.39270764090493
          ],
          "sizemode": "area",
          "sizeref": 0.05775
         },
         "mode": "markers",
         "name": "0",
         "text": [
          "Park Name: Denali National Park and Preserve<br>Size: 3372402<br># Species: 999<br># Native Species: 977<br>",
          "Park Name: Gates Of The Arctic National Park and Preserve<br>Size: 7523898<br># Species: 722<br># Native Species: 722<br>",
          "Park Name: Glacier Bay National Park and Preserve<br>Size: 3224840<br># Species: 916<br># Native Species: 887<br>",
          "Park Name: Katmai National Park and Preserve<br>Size: 3674530<br># Species: 760<br># Native Species: 749<br>",
          "Park Name: Kenai Fjords National Park<br>Size: 669983<br># Species: 605<br># Native Species: 589<br>",
          "Park Name: Kobuk Valley National Park<br>Size: 1750717<br># Species: 553<br># Native Species: 553<br>",
          "Park Name: Lake Clark National Park and Preserve<br>Size: 2619733<br># Species: 970<br># Native Species: 950<br>",
          "Park Name: Wrangell - St Elias National Park and Preserve<br>Size: 8323148<br># Species: 1509<br># Native Species: 1474<br>"
         ],
         "type": "scatter",
         "x": [
          3372402,
          7523898,
          3224840,
          3674530,
          669983,
          1750717,
          2619733,
          8323148
         ],
         "y": [
          63.33,
          67.78,
          58.5,
          58.5,
          59.92,
          67.55,
          60.97,
          61
         ]
        },
        {
         "marker": {
          "line": {
           "width": 2
          },
          "size": [
           34.539832078341085,
           40.24922359499622
          ],
          "sizemode": "area",
          "sizeref": 0.05775
         },
         "mode": "markers",
         "name": "1",
         "text": [
          "Park Name: Haleakala National Park<br>Size: 29094<br># Species: 2023<br># Native Species: 1193<br>",
          "Park Name: Hawaii Volcanoes National Park<br>Size: 323431<br># Species: 2722<br># Native Species: 1620<br>"
         ],
         "type": "scatter",
         "x": [
          29094,
          323431
         ],
         "y": [
          20.72,
          19.38
         ]
        },
        {
         "marker": {
          "line": {
           "width": 2
          },
          "size": [
           36.46916505762094,
           47.30750469005948,
           34.713109915419565,
           38.05259518088089,
           44.710177812216315
          ],
          "sizemode": "area",
          "sizeref": 0.05775
         },
         "mode": "markers",
         "name": "2",
         "text": [
          "Park Name: Death Valley National Park<br>Size: 4740912<br># Species: 1410<br># Native Species: 1330<br>",
          "Park Name: Great Smoky Mountains National Park<br>Size: 521490<br># Species: 2598<br># Native Species: 2238<br>",
          "Park Name: Redwood National Park<br>Size: 112512<br># Species: 1525<br># Native Species: 1205<br>",
          "Park Name: Shenandoah National Park<br>Size: 199045<br># Species: 1824<br># Native Species: 1448<br>",
          "Park Name: Yellowstone National Park<br>Size: 2219791<br># Species: 2188<br># Native Species: 1999<br>"
         ],
         "type": "scatter",
         "x": [
          4740912,
          521490,
          112512,
          199045,
          2219791
         ],
         "y": [
          36.24,
          35.68,
          41.3,
          38.53,
          44.6
         ]
        },
        {
         "marker": {
          "line": {
           "width": 2
          },
          "size": [
           43.61192497471305,
           25.729360660537214,
           40.28647415696737,
           38.768543949960254,
           18.439088914585774,
           37.134889255254286,
           48.062459362791664
          ],
          "sizemode": "area",
          "sizeref": 0.05775
         },
         "mode": "markers",
         "name": "3",
         "text": [
          "Park Name: Big Bend National Park<br>Size: 801163<br># Species: 2011<br># Native Species: 1902<br>",
          "Park Name: Biscayne National Park<br>Size: 172924<br># Species: 839<br># Native Species: 662<br>",
          "Park Name: Channel Islands National Park<br>Size: 249561<br># Species: 1847<br># Native Species: 1623<br>",
          "Park Name: Cuyahoga Valley National Park<br>Size: 32950<br># Species: 1770<br># Native Species: 1503<br>",
          "Park Name: Dry Tortugas National Park<br>Size: 64701<br># Species: 481<br># Native Species: 340<br>",
          "Park Name: Everglades National Park<br>Size: 1508538<br># Species: 1780<br># Native Species: 1379<br>",
          "Park Name: Grand Canyon National Park<br>Size: 1217403<br># Species: 2532<br># Native Species: 2310<br>"
         ],
         "type": "scatter",
         "x": [
          801163,
          172924,
          249561,
          32950,
          64701,
          1508538,
          1217403
         ],
         "y": [
          29.25,
          25.65,
          34.01,
          41.24,
          24.63,
          25.32,
          36.06
         ]
        },
        {
         "marker": {
          "line": {
           "width": 2
          },
          "size": [
           29.715315916207253,
           25.787593916455254,
           24.939927826679853,
           24.758836806279895,
           26.981475126464083,
           28,
           32.0624390837628,
           36.823905279043935,
           33.481338085566414,
           32.69556544854363,
           45.36518488885502,
           38.02630668366309,
           29.782545223670862,
           28.089143810376278,
           39.08964057138413,
           22.891046284519195,
           32.046840717924134,
           28.600699292150182,
           30.903074280724887,
           38.09199390948182,
           31.38470965295043,
           32.17141588429082,
           42.67317658670374,
           35.25620512760839,
           26.038433132583073,
           28.478061731796284,
           37.841775856849004,
           38.36665218650175,
           39.88734135035826,
           26.92582403567252,
           32.31098884280702,
           28.178005607210743,
           41.255302689472536,
           34.11744421846396
          ],
          "sizemode": "area",
          "sizeref": 0.05775
         },
         "mode": "markers",
         "name": "4",
         "text": [
          "Park Name: Acadia National Park<br>Size: 47390<br># Species: 1157<br># Native Species: 883<br>",
          "Park Name: Arches National Park<br>Size: 76519<br># Species: 749<br># Native Species: 665<br>",
          "Park Name: Badlands National Park<br>Size: 242756<br># Species: 700<br># Native Species: 622<br>",
          "Park Name: Black Canyon of the Gunnison National Park<br>Size: 32950<br># Species: 689<br># Native Species: 613<br>",
          "Park Name: Bryce Canyon National Park<br>Size: 35835<br># Species: 788<br># Native Species: 728<br>",
          "Park Name: Canyonlands National Park<br>Size: 337598<br># Species: 866<br># Native Species: 784<br>",
          "Park Name: Capitol Reef National Park<br>Size: 241904<br># Species: 1161<br># Native Species: 1028<br>",
          "Park Name: Carlsbad Caverns National Park<br>Size: 46766<br># Species: 1427<br># Native Species: 1356<br>",
          "Park Name: Congaree National Park<br>Size: 26546<br># Species: 1205<br># Native Species: 1121<br>",
          "Park Name: Crater Lake National Park<br>Size: 183224<br># Species: 1122<br># Native Species: 1069<br>",
          "Park Name: Glacier National Park<br>Size: 1013572<br># Species: 2196<br># Native Species: 2058<br>",
          "Park Name: Grand Teton National Park<br>Size: 309995<br># Species: 1587<br># Native Species: 1446<br>",
          "Park Name: Great Basin National Park<br>Size: 77180<br># Species: 955<br># Native Species: 887<br>",
          "Park Name: Great Sand Dunes National Park and Preserve<br>Size: 42984<br># Species: 813<br># Native Species: 789<br>",
          "Park Name: Guadalupe Mountains National Park<br>Size: 86416<br># Species: 1578<br># Native Species: 1528<br>",
          "Park Name: Hot Springs National Park<br>Size: 5550<br># Species: 588<br># Native Species: 524<br>",
          "Park Name: Isle Royale National Park<br>Size: 571790<br># Species: 1167<br># Native Species: 1027<br>",
          "Park Name: Joshua Tree National Park<br>Size: 789745<br># Species: 849<br># Native Species: 818<br>",
          "Park Name: Lassen Volcanic National Park<br>Size: 106372<br># Species: 1005<br># Native Species: 955<br>",
          "Park Name: Mammoth Cave National Park<br>Size: 52830<br># Species: 1628<br># Native Species: 1451<br>",
          "Park Name: Mesa Verde National Park<br>Size: 52122<br># Species: 1106<br># Native Species: 985<br>",
          "Park Name: Mount Rainier National Park<br>Size: 235625<br># Species: 1191<br># Native Species: 1035<br>",
          "Park Name: North Cascades National Park<br>Size: 504781<br># Species: 2053<br># Native Species: 1821<br>",
          "Park Name: Olympic National Park<br>Size: 922651<br># Species: 1356<br># Native Species: 1243<br>",
          "Park Name: Petrified Forest National Park<br>Size: 93533<br># Species: 732<br># Native Species: 678<br>",
          "Park Name: Pinnacles National Park<br>Size: 26606<br># Species: 940<br># Native Species: 811<br>",
          "Park Name: Rocky Mountain National Park<br>Size: 265828<br># Species: 1526<br># Native Species: 1432<br>",
          "Park Name: Saguaro National Park<br>Size: 91440<br># Species: 1578<br># Native Species: 1472<br>",
          "Park Name: Sequoia and Kings Canyon National Parks<br>Size: 865952<br># Species: 1818<br># Native Species: 1591<br>",
          "Park Name: Theodore Roosevelt National Park<br>Size: 70447<br># Species: 807<br># Native Species: 725<br>",
          "Park Name: Voyageurs National Park<br>Size: 218200<br># Species: 1173<br># Native Species: 1044<br>",
          "Park Name: Wind Cave National Park<br>Size: 28295<br># Species: 890<br># Native Species: 794<br>",
          "Park Name: Yosemite National Park<br>Size: 761266<br># Species: 1896<br># Native Species: 1702<br>",
          "Park Name: Zion National Park<br>Size: 146598<br># Species: 1316<br># Native Species: 1164<br>"
         ],
         "type": "scatter",
         "x": [
          47390,
          76519,
          242756,
          32950,
          35835,
          337598,
          241904,
          46766,
          26546,
          183224,
          1013572,
          309995,
          77180,
          42984,
          86416,
          5550,
          571790,
          789745,
          106372,
          52830,
          52122,
          235625,
          504781,
          922651,
          93533,
          26606,
          265828,
          91440,
          865952,
          70447,
          218200,
          28295,
          761266,
          146598
         ],
         "y": [
          44.35,
          38.68,
          43.75,
          38.57,
          37.57,
          38.2,
          38.2,
          32.17,
          33.78,
          42.94,
          48.8,
          43.73,
          38.98,
          37.73,
          31.92,
          34.51,
          48.1,
          33.79,
          40.49,
          37.18,
          37.18,
          46.85,
          48.7,
          47.97,
          35.07,
          36.48,
          40.4,
          32.25,
          36.43,
          46.97,
          48.5,
          43.57,
          37.83,
          37.3
         ]
        },
        {
         "marker": {
          "color": "black"
         },
         "mode": "markers",
         "name": "Endangered",
         "type": "scatter",
         "x": [
          521490,
          5550,
          172924,
          64701,
          172924,
          112512,
          76519,
          35835,
          337598,
          241904,
          4740912,
          77180,
          1217403,
          789745,
          106372,
          52122,
          26606,
          865952,
          761266,
          146598
         ],
         "y": [
          35.68,
          34.51,
          25.65,
          24.63,
          25.65,
          41.3,
          38.68,
          37.57,
          38.2,
          38.2,
          36.24,
          38.98,
          36.06,
          33.79,
          40.49,
          37.18,
          36.48,
          36.43,
          37.83,
          37.3
         ]
        }
       ],
       "layout": {
        "legend": {
         "title": {
          "text": "Cluster"
         }
        },
        "template": {
         "data": {
          "bar": [
           {
            "error_x": {
             "color": "#2a3f5f"
            },
            "error_y": {
             "color": "#2a3f5f"
            },
            "marker": {
             "line": {
              "color": "#E5ECF6",
              "width": 0.5
             }
            },
            "type": "bar"
           }
          ],
          "barpolar": [
           {
            "marker": {
             "line": {
              "color": "#E5ECF6",
              "width": 0.5
             }
            },
            "type": "barpolar"
           }
          ],
          "carpet": [
           {
            "aaxis": {
             "endlinecolor": "#2a3f5f",
             "gridcolor": "white",
             "linecolor": "white",
             "minorgridcolor": "white",
             "startlinecolor": "#2a3f5f"
            },
            "baxis": {
             "endlinecolor": "#2a3f5f",
             "gridcolor": "white",
             "linecolor": "white",
             "minorgridcolor": "white",
             "startlinecolor": "#2a3f5f"
            },
            "type": "carpet"
           }
          ],
          "choropleth": [
           {
            "colorbar": {
             "outlinewidth": 0,
             "ticks": ""
            },
            "type": "choropleth"
           }
          ],
          "contour": [
           {
            "colorbar": {
             "outlinewidth": 0,
             "ticks": ""
            },
            "colorscale": [
             [
              0,
              "#0d0887"
             ],
             [
              0.1111111111111111,
              "#46039f"
             ],
             [
              0.2222222222222222,
              "#7201a8"
             ],
             [
              0.3333333333333333,
              "#9c179e"
             ],
             [
              0.4444444444444444,
              "#bd3786"
             ],
             [
              0.5555555555555556,
              "#d8576b"
             ],
             [
              0.6666666666666666,
              "#ed7953"
             ],
             [
              0.7777777777777778,
              "#fb9f3a"
             ],
             [
              0.8888888888888888,
              "#fdca26"
             ],
             [
              1,
              "#f0f921"
             ]
            ],
            "type": "contour"
           }
          ],
          "contourcarpet": [
           {
            "colorbar": {
             "outlinewidth": 0,
             "ticks": ""
            },
            "type": "contourcarpet"
           }
          ],
          "heatmap": [
           {
            "colorbar": {
             "outlinewidth": 0,
             "ticks": ""
            },
            "colorscale": [
             [
              0,
              "#0d0887"
             ],
             [
              0.1111111111111111,
              "#46039f"
             ],
             [
              0.2222222222222222,
              "#7201a8"
             ],
             [
              0.3333333333333333,
              "#9c179e"
             ],
             [
              0.4444444444444444,
              "#bd3786"
             ],
             [
              0.5555555555555556,
              "#d8576b"
             ],
             [
              0.6666666666666666,
              "#ed7953"
             ],
             [
              0.7777777777777778,
              "#fb9f3a"
             ],
             [
              0.8888888888888888,
              "#fdca26"
             ],
             [
              1,
              "#f0f921"
             ]
            ],
            "type": "heatmap"
           }
          ],
          "heatmapgl": [
           {
            "colorbar": {
             "outlinewidth": 0,
             "ticks": ""
            },
            "colorscale": [
             [
              0,
              "#0d0887"
             ],
             [
              0.1111111111111111,
              "#46039f"
             ],
             [
              0.2222222222222222,
              "#7201a8"
             ],
             [
              0.3333333333333333,
              "#9c179e"
             ],
             [
              0.4444444444444444,
              "#bd3786"
             ],
             [
              0.5555555555555556,
              "#d8576b"
             ],
             [
              0.6666666666666666,
              "#ed7953"
             ],
             [
              0.7777777777777778,
              "#fb9f3a"
             ],
             [
              0.8888888888888888,
              "#fdca26"
             ],
             [
              1,
              "#f0f921"
             ]
            ],
            "type": "heatmapgl"
           }
          ],
          "histogram": [
           {
            "marker": {
             "colorbar": {
              "outlinewidth": 0,
              "ticks": ""
             }
            },
            "type": "histogram"
           }
          ],
          "histogram2d": [
           {
            "colorbar": {
             "outlinewidth": 0,
             "ticks": ""
            },
            "colorscale": [
             [
              0,
              "#0d0887"
             ],
             [
              0.1111111111111111,
              "#46039f"
             ],
             [
              0.2222222222222222,
              "#7201a8"
             ],
             [
              0.3333333333333333,
              "#9c179e"
             ],
             [
              0.4444444444444444,
              "#bd3786"
             ],
             [
              0.5555555555555556,
              "#d8576b"
             ],
             [
              0.6666666666666666,
              "#ed7953"
             ],
             [
              0.7777777777777778,
              "#fb9f3a"
             ],
             [
              0.8888888888888888,
              "#fdca26"
             ],
             [
              1,
              "#f0f921"
             ]
            ],
            "type": "histogram2d"
           }
          ],
          "histogram2dcontour": [
           {
            "colorbar": {
             "outlinewidth": 0,
             "ticks": ""
            },
            "colorscale": [
             [
              0,
              "#0d0887"
             ],
             [
              0.1111111111111111,
              "#46039f"
             ],
             [
              0.2222222222222222,
              "#7201a8"
             ],
             [
              0.3333333333333333,
              "#9c179e"
             ],
             [
              0.4444444444444444,
              "#bd3786"
             ],
             [
              0.5555555555555556,
              "#d8576b"
             ],
             [
              0.6666666666666666,
              "#ed7953"
             ],
             [
              0.7777777777777778,
              "#fb9f3a"
             ],
             [
              0.8888888888888888,
              "#fdca26"
             ],
             [
              1,
              "#f0f921"
             ]
            ],
            "type": "histogram2dcontour"
           }
          ],
          "mesh3d": [
           {
            "colorbar": {
             "outlinewidth": 0,
             "ticks": ""
            },
            "type": "mesh3d"
           }
          ],
          "parcoords": [
           {
            "line": {
             "colorbar": {
              "outlinewidth": 0,
              "ticks": ""
             }
            },
            "type": "parcoords"
           }
          ],
          "pie": [
           {
            "automargin": true,
            "type": "pie"
           }
          ],
          "scatter": [
           {
            "marker": {
             "colorbar": {
              "outlinewidth": 0,
              "ticks": ""
             }
            },
            "type": "scatter"
           }
          ],
          "scatter3d": [
           {
            "line": {
             "colorbar": {
              "outlinewidth": 0,
              "ticks": ""
             }
            },
            "marker": {
             "colorbar": {
              "outlinewidth": 0,
              "ticks": ""
             }
            },
            "type": "scatter3d"
           }
          ],
          "scattercarpet": [
           {
            "marker": {
             "colorbar": {
              "outlinewidth": 0,
              "ticks": ""
             }
            },
            "type": "scattercarpet"
           }
          ],
          "scattergeo": [
           {
            "marker": {
             "colorbar": {
              "outlinewidth": 0,
              "ticks": ""
             }
            },
            "type": "scattergeo"
           }
          ],
          "scattergl": [
           {
            "marker": {
             "colorbar": {
              "outlinewidth": 0,
              "ticks": ""
             }
            },
            "type": "scattergl"
           }
          ],
          "scattermapbox": [
           {
            "marker": {
             "colorbar": {
              "outlinewidth": 0,
              "ticks": ""
             }
            },
            "type": "scattermapbox"
           }
          ],
          "scatterpolar": [
           {
            "marker": {
             "colorbar": {
              "outlinewidth": 0,
              "ticks": ""
             }
            },
            "type": "scatterpolar"
           }
          ],
          "scatterpolargl": [
           {
            "marker": {
             "colorbar": {
              "outlinewidth": 0,
              "ticks": ""
             }
            },
            "type": "scatterpolargl"
           }
          ],
          "scatterternary": [
           {
            "marker": {
             "colorbar": {
              "outlinewidth": 0,
              "ticks": ""
             }
            },
            "type": "scatterternary"
           }
          ],
          "surface": [
           {
            "colorbar": {
             "outlinewidth": 0,
             "ticks": ""
            },
            "colorscale": [
             [
              0,
              "#0d0887"
             ],
             [
              0.1111111111111111,
              "#46039f"
             ],
             [
              0.2222222222222222,
              "#7201a8"
             ],
             [
              0.3333333333333333,
              "#9c179e"
             ],
             [
              0.4444444444444444,
              "#bd3786"
             ],
             [
              0.5555555555555556,
              "#d8576b"
             ],
             [
              0.6666666666666666,
              "#ed7953"
             ],
             [
              0.7777777777777778,
              "#fb9f3a"
             ],
             [
              0.8888888888888888,
              "#fdca26"
             ],
             [
              1,
              "#f0f921"
             ]
            ],
            "type": "surface"
           }
          ],
          "table": [
           {
            "cells": {
             "fill": {
              "color": "#EBF0F8"
             },
             "line": {
              "color": "white"
             }
            },
            "header": {
             "fill": {
              "color": "#C8D4E3"
             },
             "line": {
              "color": "white"
             }
            },
            "type": "table"
           }
          ]
         },
         "layout": {
          "annotationdefaults": {
           "arrowcolor": "#2a3f5f",
           "arrowhead": 0,
           "arrowwidth": 1
          },
          "coloraxis": {
           "colorbar": {
            "outlinewidth": 0,
            "ticks": ""
           }
          },
          "colorscale": {
           "diverging": [
            [
             0,
             "#8e0152"
            ],
            [
             0.1,
             "#c51b7d"
            ],
            [
             0.2,
             "#de77ae"
            ],
            [
             0.3,
             "#f1b6da"
            ],
            [
             0.4,
             "#fde0ef"
            ],
            [
             0.5,
             "#f7f7f7"
            ],
            [
             0.6,
             "#e6f5d0"
            ],
            [
             0.7,
             "#b8e186"
            ],
            [
             0.8,
             "#7fbc41"
            ],
            [
             0.9,
             "#4d9221"
            ],
            [
             1,
             "#276419"
            ]
           ],
           "sequential": [
            [
             0,
             "#0d0887"
            ],
            [
             0.1111111111111111,
             "#46039f"
            ],
            [
             0.2222222222222222,
             "#7201a8"
            ],
            [
             0.3333333333333333,
             "#9c179e"
            ],
            [
             0.4444444444444444,
             "#bd3786"
            ],
            [
             0.5555555555555556,
             "#d8576b"
            ],
            [
             0.6666666666666666,
             "#ed7953"
            ],
            [
             0.7777777777777778,
             "#fb9f3a"
            ],
            [
             0.8888888888888888,
             "#fdca26"
            ],
            [
             1,
             "#f0f921"
            ]
           ],
           "sequentialminus": [
            [
             0,
             "#0d0887"
            ],
            [
             0.1111111111111111,
             "#46039f"
            ],
            [
             0.2222222222222222,
             "#7201a8"
            ],
            [
             0.3333333333333333,
             "#9c179e"
            ],
            [
             0.4444444444444444,
             "#bd3786"
            ],
            [
             0.5555555555555556,
             "#d8576b"
            ],
            [
             0.6666666666666666,
             "#ed7953"
            ],
            [
             0.7777777777777778,
             "#fb9f3a"
            ],
            [
             0.8888888888888888,
             "#fdca26"
            ],
            [
             1,
             "#f0f921"
            ]
           ]
          },
          "colorway": [
           "#636efa",
           "#EF553B",
           "#00cc96",
           "#ab63fa",
           "#FFA15A",
           "#19d3f3",
           "#FF6692",
           "#B6E880",
           "#FF97FF",
           "#FECB52"
          ],
          "font": {
           "color": "#2a3f5f"
          },
          "geo": {
           "bgcolor": "white",
           "lakecolor": "white",
           "landcolor": "#E5ECF6",
           "showlakes": true,
           "showland": true,
           "subunitcolor": "white"
          },
          "hoverlabel": {
           "align": "left"
          },
          "hovermode": "closest",
          "mapbox": {
           "style": "light"
          },
          "paper_bgcolor": "white",
          "plot_bgcolor": "#E5ECF6",
          "polar": {
           "angularaxis": {
            "gridcolor": "white",
            "linecolor": "white",
            "ticks": ""
           },
           "bgcolor": "#E5ECF6",
           "radialaxis": {
            "gridcolor": "white",
            "linecolor": "white",
            "ticks": ""
           }
          },
          "scene": {
           "xaxis": {
            "backgroundcolor": "#E5ECF6",
            "gridcolor": "white",
            "gridwidth": 2,
            "linecolor": "white",
            "showbackground": true,
            "ticks": "",
            "zerolinecolor": "white"
           },
           "yaxis": {
            "backgroundcolor": "#E5ECF6",
            "gridcolor": "white",
            "gridwidth": 2,
            "linecolor": "white",
            "showbackground": true,
            "ticks": "",
            "zerolinecolor": "white"
           },
           "zaxis": {
            "backgroundcolor": "#E5ECF6",
            "gridcolor": "white",
            "gridwidth": 2,
            "linecolor": "white",
            "showbackground": true,
            "ticks": "",
            "zerolinecolor": "white"
           }
          },
          "shapedefaults": {
           "line": {
            "color": "#2a3f5f"
           }
          },
          "ternary": {
           "aaxis": {
            "gridcolor": "white",
            "linecolor": "white",
            "ticks": ""
           },
           "baxis": {
            "gridcolor": "white",
            "linecolor": "white",
            "ticks": ""
           },
           "bgcolor": "#E5ECF6",
           "caxis": {
            "gridcolor": "white",
            "linecolor": "white",
            "ticks": ""
           }
          },
          "title": {
           "x": 0.05
          },
          "xaxis": {
           "automargin": true,
           "gridcolor": "white",
           "linecolor": "white",
           "ticks": "",
           "title": {
            "standoff": 15
           },
           "zerolinecolor": "white",
           "zerolinewidth": 2
          },
          "yaxis": {
           "automargin": true,
           "gridcolor": "white",
           "linecolor": "white",
           "ticks": "",
           "title": {
            "standoff": 15
           },
           "zerolinecolor": "white",
           "zerolinewidth": 2
          }
         }
        },
        "title": {
         "text": "Area vs. Latitude"
        },
        "xaxis": {
         "gridcolor": "white",
         "gridwidth": 2,
         "title": {
          "text": "Park Area (acres)"
         },
         "type": "log"
        },
        "yaxis": {
         "gridcolor": "white",
         "gridwidth": 2,
         "title": {
          "text": "Latitude"
         },
         "type": "linear"
        }
       }
      },
      "text/html": [
       "<div>\n",
       "        \n",
       "        \n",
       "            <div id=\"a43b2abb-dff2-4753-8c90-fe26b6c28066\" class=\"plotly-graph-div\" style=\"height:525px; width:100%;\"></div>\n",
       "            <script type=\"text/javascript\">\n",
       "                require([\"plotly\"], function(Plotly) {\n",
       "                    window.PLOTLYENV=window.PLOTLYENV || {};\n",
       "                    \n",
       "                if (document.getElementById(\"a43b2abb-dff2-4753-8c90-fe26b6c28066\")) {\n",
       "                    Plotly.newPlot(\n",
       "                        'a43b2abb-dff2-4753-8c90-fe26b6c28066',\n",
       "                        [{\"marker\": {\"line\": {\"width\": 2}, \"size\": [31.25699921617557, 26.870057685088806, 29.782545223670862, 27.367864366808018, 24.269322199023193, 23.515952032609693, 30.822070014844883, 38.39270764090493], \"sizemode\": \"area\", \"sizeref\": 0.05775}, \"mode\": \"markers\", \"name\": \"0\", \"text\": [\"Park Name: Denali National Park and Preserve<br>Size: 3372402<br># Species: 999<br># Native Species: 977<br>\", \"Park Name: Gates Of The Arctic National Park and Preserve<br>Size: 7523898<br># Species: 722<br># Native Species: 722<br>\", \"Park Name: Glacier Bay National Park and Preserve<br>Size: 3224840<br># Species: 916<br># Native Species: 887<br>\", \"Park Name: Katmai National Park and Preserve<br>Size: 3674530<br># Species: 760<br># Native Species: 749<br>\", \"Park Name: Kenai Fjords National Park<br>Size: 669983<br># Species: 605<br># Native Species: 589<br>\", \"Park Name: Kobuk Valley National Park<br>Size: 1750717<br># Species: 553<br># Native Species: 553<br>\", \"Park Name: Lake Clark National Park and Preserve<br>Size: 2619733<br># Species: 970<br># Native Species: 950<br>\", \"Park Name: Wrangell - St Elias National Park and Preserve<br>Size: 8323148<br># Species: 1509<br># Native Species: 1474<br>\"], \"type\": \"scatter\", \"x\": [3372402, 7523898, 3224840, 3674530, 669983, 1750717, 2619733, 8323148], \"y\": [63.33, 67.78, 58.5, 58.5, 59.92, 67.55, 60.97, 61.0]}, {\"marker\": {\"line\": {\"width\": 2}, \"size\": [34.539832078341085, 40.24922359499622], \"sizemode\": \"area\", \"sizeref\": 0.05775}, \"mode\": \"markers\", \"name\": \"1\", \"text\": [\"Park Name: Haleakala National Park<br>Size: 29094<br># Species: 2023<br># Native Species: 1193<br>\", \"Park Name: Hawaii Volcanoes National Park<br>Size: 323431<br># Species: 2722<br># Native Species: 1620<br>\"], \"type\": \"scatter\", \"x\": [29094, 323431], \"y\": [20.72, 19.38]}, {\"marker\": {\"line\": {\"width\": 2}, \"size\": [36.46916505762094, 47.30750469005948, 34.713109915419565, 38.05259518088089, 44.710177812216315], \"sizemode\": \"area\", \"sizeref\": 0.05775}, \"mode\": \"markers\", \"name\": \"2\", \"text\": [\"Park Name: Death Valley National Park<br>Size: 4740912<br># Species: 1410<br># Native Species: 1330<br>\", \"Park Name: Great Smoky Mountains National Park<br>Size: 521490<br># Species: 2598<br># Native Species: 2238<br>\", \"Park Name: Redwood National Park<br>Size: 112512<br># Species: 1525<br># Native Species: 1205<br>\", \"Park Name: Shenandoah National Park<br>Size: 199045<br># Species: 1824<br># Native Species: 1448<br>\", \"Park Name: Yellowstone National Park<br>Size: 2219791<br># Species: 2188<br># Native Species: 1999<br>\"], \"type\": \"scatter\", \"x\": [4740912, 521490, 112512, 199045, 2219791], \"y\": [36.24, 35.68, 41.3, 38.53, 44.6]}, {\"marker\": {\"line\": {\"width\": 2}, \"size\": [43.61192497471305, 25.729360660537214, 40.28647415696737, 38.768543949960254, 18.439088914585774, 37.134889255254286, 48.062459362791664], \"sizemode\": \"area\", \"sizeref\": 0.05775}, \"mode\": \"markers\", \"name\": \"3\", \"text\": [\"Park Name: Big Bend National Park<br>Size: 801163<br># Species: 2011<br># Native Species: 1902<br>\", \"Park Name: Biscayne National Park<br>Size: 172924<br># Species: 839<br># Native Species: 662<br>\", \"Park Name: Channel Islands National Park<br>Size: 249561<br># Species: 1847<br># Native Species: 1623<br>\", \"Park Name: Cuyahoga Valley National Park<br>Size: 32950<br># Species: 1770<br># Native Species: 1503<br>\", \"Park Name: Dry Tortugas National Park<br>Size: 64701<br># Species: 481<br># Native Species: 340<br>\", \"Park Name: Everglades National Park<br>Size: 1508538<br># Species: 1780<br># Native Species: 1379<br>\", \"Park Name: Grand Canyon National Park<br>Size: 1217403<br># Species: 2532<br># Native Species: 2310<br>\"], \"type\": \"scatter\", \"x\": [801163, 172924, 249561, 32950, 64701, 1508538, 1217403], \"y\": [29.25, 25.65, 34.01, 41.24, 24.63, 25.32, 36.06]}, {\"marker\": {\"line\": {\"width\": 2}, \"size\": [29.715315916207253, 25.787593916455254, 24.939927826679853, 24.758836806279895, 26.981475126464083, 28.0, 32.0624390837628, 36.823905279043935, 33.481338085566414, 32.69556544854363, 45.36518488885502, 38.02630668366309, 29.782545223670862, 28.089143810376278, 39.08964057138413, 22.891046284519195, 32.046840717924134, 28.600699292150182, 30.903074280724887, 38.09199390948182, 31.38470965295043, 32.17141588429082, 42.67317658670374, 35.25620512760839, 26.038433132583073, 28.478061731796284, 37.841775856849004, 38.36665218650175, 39.88734135035826, 26.92582403567252, 32.31098884280702, 28.178005607210743, 41.255302689472536, 34.11744421846396], \"sizemode\": \"area\", \"sizeref\": 0.05775}, \"mode\": \"markers\", \"name\": \"4\", \"text\": [\"Park Name: Acadia National Park<br>Size: 47390<br># Species: 1157<br># Native Species: 883<br>\", \"Park Name: Arches National Park<br>Size: 76519<br># Species: 749<br># Native Species: 665<br>\", \"Park Name: Badlands National Park<br>Size: 242756<br># Species: 700<br># Native Species: 622<br>\", \"Park Name: Black Canyon of the Gunnison National Park<br>Size: 32950<br># Species: 689<br># Native Species: 613<br>\", \"Park Name: Bryce Canyon National Park<br>Size: 35835<br># Species: 788<br># Native Species: 728<br>\", \"Park Name: Canyonlands National Park<br>Size: 337598<br># Species: 866<br># Native Species: 784<br>\", \"Park Name: Capitol Reef National Park<br>Size: 241904<br># Species: 1161<br># Native Species: 1028<br>\", \"Park Name: Carlsbad Caverns National Park<br>Size: 46766<br># Species: 1427<br># Native Species: 1356<br>\", \"Park Name: Congaree National Park<br>Size: 26546<br># Species: 1205<br># Native Species: 1121<br>\", \"Park Name: Crater Lake National Park<br>Size: 183224<br># Species: 1122<br># Native Species: 1069<br>\", \"Park Name: Glacier National Park<br>Size: 1013572<br># Species: 2196<br># Native Species: 2058<br>\", \"Park Name: Grand Teton National Park<br>Size: 309995<br># Species: 1587<br># Native Species: 1446<br>\", \"Park Name: Great Basin National Park<br>Size: 77180<br># Species: 955<br># Native Species: 887<br>\", \"Park Name: Great Sand Dunes National Park and Preserve<br>Size: 42984<br># Species: 813<br># Native Species: 789<br>\", \"Park Name: Guadalupe Mountains National Park<br>Size: 86416<br># Species: 1578<br># Native Species: 1528<br>\", \"Park Name: Hot Springs National Park<br>Size: 5550<br># Species: 588<br># Native Species: 524<br>\", \"Park Name: Isle Royale National Park<br>Size: 571790<br># Species: 1167<br># Native Species: 1027<br>\", \"Park Name: Joshua Tree National Park<br>Size: 789745<br># Species: 849<br># Native Species: 818<br>\", \"Park Name: Lassen Volcanic National Park<br>Size: 106372<br># Species: 1005<br># Native Species: 955<br>\", \"Park Name: Mammoth Cave National Park<br>Size: 52830<br># Species: 1628<br># Native Species: 1451<br>\", \"Park Name: Mesa Verde National Park<br>Size: 52122<br># Species: 1106<br># Native Species: 985<br>\", \"Park Name: Mount Rainier National Park<br>Size: 235625<br># Species: 1191<br># Native Species: 1035<br>\", \"Park Name: North Cascades National Park<br>Size: 504781<br># Species: 2053<br># Native Species: 1821<br>\", \"Park Name: Olympic National Park<br>Size: 922651<br># Species: 1356<br># Native Species: 1243<br>\", \"Park Name: Petrified Forest National Park<br>Size: 93533<br># Species: 732<br># Native Species: 678<br>\", \"Park Name: Pinnacles National Park<br>Size: 26606<br># Species: 940<br># Native Species: 811<br>\", \"Park Name: Rocky Mountain National Park<br>Size: 265828<br># Species: 1526<br># Native Species: 1432<br>\", \"Park Name: Saguaro National Park<br>Size: 91440<br># Species: 1578<br># Native Species: 1472<br>\", \"Park Name: Sequoia and Kings Canyon National Parks<br>Size: 865952<br># Species: 1818<br># Native Species: 1591<br>\", \"Park Name: Theodore Roosevelt National Park<br>Size: 70447<br># Species: 807<br># Native Species: 725<br>\", \"Park Name: Voyageurs National Park<br>Size: 218200<br># Species: 1173<br># Native Species: 1044<br>\", \"Park Name: Wind Cave National Park<br>Size: 28295<br># Species: 890<br># Native Species: 794<br>\", \"Park Name: Yosemite National Park<br>Size: 761266<br># Species: 1896<br># Native Species: 1702<br>\", \"Park Name: Zion National Park<br>Size: 146598<br># Species: 1316<br># Native Species: 1164<br>\"], \"type\": \"scatter\", \"x\": [47390, 76519, 242756, 32950, 35835, 337598, 241904, 46766, 26546, 183224, 1013572, 309995, 77180, 42984, 86416, 5550, 571790, 789745, 106372, 52830, 52122, 235625, 504781, 922651, 93533, 26606, 265828, 91440, 865952, 70447, 218200, 28295, 761266, 146598], \"y\": [44.35, 38.68, 43.75, 38.57, 37.57, 38.2, 38.2, 32.17, 33.78, 42.94, 48.8, 43.73, 38.98, 37.73, 31.92, 34.51, 48.1, 33.79, 40.49, 37.18, 37.18, 46.85, 48.7, 47.97, 35.07, 36.48, 40.4, 32.25, 36.43, 46.97, 48.5, 43.57, 37.83, 37.3]}, {\"marker\": {\"color\": \"black\"}, \"mode\": \"markers\", \"name\": \"Endangered\", \"type\": \"scatter\", \"x\": [521490, 5550, 172924, 64701, 172924, 112512, 76519, 35835, 337598, 241904, 4740912, 77180, 1217403, 789745, 106372, 52122, 26606, 865952, 761266, 146598], \"y\": [35.68, 34.51, 25.65, 24.63, 25.65, 41.3, 38.68, 37.57, 38.2, 38.2, 36.24, 38.98, 36.06, 33.79, 40.49, 37.18, 36.48, 36.43, 37.83, 37.3]}],\n",
       "                        {\"legend\": {\"title\": {\"text\": \"Cluster\"}}, \"template\": {\"data\": {\"bar\": [{\"error_x\": {\"color\": \"#2a3f5f\"}, \"error_y\": {\"color\": \"#2a3f5f\"}, \"marker\": {\"line\": {\"color\": \"#E5ECF6\", \"width\": 0.5}}, \"type\": \"bar\"}], \"barpolar\": [{\"marker\": {\"line\": {\"color\": \"#E5ECF6\", \"width\": 0.5}}, \"type\": \"barpolar\"}], \"carpet\": [{\"aaxis\": {\"endlinecolor\": \"#2a3f5f\", \"gridcolor\": \"white\", \"linecolor\": \"white\", \"minorgridcolor\": \"white\", \"startlinecolor\": \"#2a3f5f\"}, \"baxis\": {\"endlinecolor\": \"#2a3f5f\", \"gridcolor\": \"white\", \"linecolor\": \"white\", \"minorgridcolor\": \"white\", \"startlinecolor\": \"#2a3f5f\"}, \"type\": \"carpet\"}], \"choropleth\": [{\"colorbar\": {\"outlinewidth\": 0, \"ticks\": \"\"}, \"type\": \"choropleth\"}], \"contour\": [{\"colorbar\": {\"outlinewidth\": 0, \"ticks\": \"\"}, \"colorscale\": [[0.0, \"#0d0887\"], [0.1111111111111111, \"#46039f\"], [0.2222222222222222, \"#7201a8\"], [0.3333333333333333, \"#9c179e\"], [0.4444444444444444, \"#bd3786\"], [0.5555555555555556, \"#d8576b\"], [0.6666666666666666, \"#ed7953\"], [0.7777777777777778, \"#fb9f3a\"], [0.8888888888888888, \"#fdca26\"], [1.0, \"#f0f921\"]], \"type\": \"contour\"}], \"contourcarpet\": [{\"colorbar\": {\"outlinewidth\": 0, \"ticks\": \"\"}, \"type\": \"contourcarpet\"}], \"heatmap\": [{\"colorbar\": {\"outlinewidth\": 0, \"ticks\": \"\"}, \"colorscale\": [[0.0, \"#0d0887\"], [0.1111111111111111, \"#46039f\"], [0.2222222222222222, \"#7201a8\"], [0.3333333333333333, \"#9c179e\"], [0.4444444444444444, \"#bd3786\"], [0.5555555555555556, \"#d8576b\"], [0.6666666666666666, \"#ed7953\"], [0.7777777777777778, \"#fb9f3a\"], [0.8888888888888888, \"#fdca26\"], [1.0, \"#f0f921\"]], \"type\": \"heatmap\"}], \"heatmapgl\": [{\"colorbar\": {\"outlinewidth\": 0, \"ticks\": \"\"}, \"colorscale\": [[0.0, \"#0d0887\"], [0.1111111111111111, \"#46039f\"], [0.2222222222222222, \"#7201a8\"], [0.3333333333333333, \"#9c179e\"], [0.4444444444444444, \"#bd3786\"], [0.5555555555555556, \"#d8576b\"], [0.6666666666666666, \"#ed7953\"], [0.7777777777777778, \"#fb9f3a\"], [0.8888888888888888, \"#fdca26\"], [1.0, \"#f0f921\"]], \"type\": \"heatmapgl\"}], \"histogram\": [{\"marker\": {\"colorbar\": {\"outlinewidth\": 0, \"ticks\": \"\"}}, \"type\": \"histogram\"}], \"histogram2d\": [{\"colorbar\": {\"outlinewidth\": 0, \"ticks\": \"\"}, \"colorscale\": [[0.0, \"#0d0887\"], [0.1111111111111111, \"#46039f\"], [0.2222222222222222, \"#7201a8\"], [0.3333333333333333, \"#9c179e\"], [0.4444444444444444, \"#bd3786\"], [0.5555555555555556, \"#d8576b\"], [0.6666666666666666, \"#ed7953\"], [0.7777777777777778, \"#fb9f3a\"], [0.8888888888888888, \"#fdca26\"], [1.0, \"#f0f921\"]], \"type\": \"histogram2d\"}], \"histogram2dcontour\": [{\"colorbar\": {\"outlinewidth\": 0, \"ticks\": \"\"}, \"colorscale\": [[0.0, \"#0d0887\"], [0.1111111111111111, \"#46039f\"], [0.2222222222222222, \"#7201a8\"], [0.3333333333333333, \"#9c179e\"], [0.4444444444444444, \"#bd3786\"], [0.5555555555555556, \"#d8576b\"], [0.6666666666666666, \"#ed7953\"], [0.7777777777777778, \"#fb9f3a\"], [0.8888888888888888, \"#fdca26\"], [1.0, \"#f0f921\"]], \"type\": \"histogram2dcontour\"}], \"mesh3d\": [{\"colorbar\": {\"outlinewidth\": 0, \"ticks\": \"\"}, \"type\": \"mesh3d\"}], \"parcoords\": [{\"line\": {\"colorbar\": {\"outlinewidth\": 0, \"ticks\": \"\"}}, \"type\": \"parcoords\"}], \"pie\": [{\"automargin\": true, \"type\": \"pie\"}], \"scatter\": [{\"marker\": {\"colorbar\": {\"outlinewidth\": 0, \"ticks\": \"\"}}, \"type\": \"scatter\"}], \"scatter3d\": [{\"line\": {\"colorbar\": {\"outlinewidth\": 0, \"ticks\": \"\"}}, \"marker\": {\"colorbar\": {\"outlinewidth\": 0, \"ticks\": \"\"}}, \"type\": \"scatter3d\"}], \"scattercarpet\": [{\"marker\": {\"colorbar\": {\"outlinewidth\": 0, \"ticks\": \"\"}}, \"type\": \"scattercarpet\"}], \"scattergeo\": [{\"marker\": {\"colorbar\": {\"outlinewidth\": 0, \"ticks\": \"\"}}, \"type\": \"scattergeo\"}], \"scattergl\": [{\"marker\": {\"colorbar\": {\"outlinewidth\": 0, \"ticks\": \"\"}}, \"type\": \"scattergl\"}], \"scattermapbox\": [{\"marker\": {\"colorbar\": {\"outlinewidth\": 0, \"ticks\": \"\"}}, \"type\": \"scattermapbox\"}], \"scatterpolar\": [{\"marker\": {\"colorbar\": {\"outlinewidth\": 0, \"ticks\": \"\"}}, \"type\": \"scatterpolar\"}], \"scatterpolargl\": [{\"marker\": {\"colorbar\": {\"outlinewidth\": 0, \"ticks\": \"\"}}, \"type\": \"scatterpolargl\"}], \"scatterternary\": [{\"marker\": {\"colorbar\": {\"outlinewidth\": 0, \"ticks\": \"\"}}, \"type\": \"scatterternary\"}], \"surface\": [{\"colorbar\": {\"outlinewidth\": 0, \"ticks\": \"\"}, \"colorscale\": [[0.0, \"#0d0887\"], [0.1111111111111111, \"#46039f\"], [0.2222222222222222, \"#7201a8\"], [0.3333333333333333, \"#9c179e\"], [0.4444444444444444, \"#bd3786\"], [0.5555555555555556, \"#d8576b\"], [0.6666666666666666, \"#ed7953\"], [0.7777777777777778, \"#fb9f3a\"], [0.8888888888888888, \"#fdca26\"], [1.0, \"#f0f921\"]], \"type\": \"surface\"}], \"table\": [{\"cells\": {\"fill\": {\"color\": \"#EBF0F8\"}, \"line\": {\"color\": \"white\"}}, \"header\": {\"fill\": {\"color\": \"#C8D4E3\"}, \"line\": {\"color\": \"white\"}}, \"type\": \"table\"}]}, \"layout\": {\"annotationdefaults\": {\"arrowcolor\": \"#2a3f5f\", \"arrowhead\": 0, \"arrowwidth\": 1}, \"coloraxis\": {\"colorbar\": {\"outlinewidth\": 0, \"ticks\": \"\"}}, \"colorscale\": {\"diverging\": [[0, \"#8e0152\"], [0.1, \"#c51b7d\"], [0.2, \"#de77ae\"], [0.3, \"#f1b6da\"], [0.4, \"#fde0ef\"], [0.5, \"#f7f7f7\"], [0.6, \"#e6f5d0\"], [0.7, \"#b8e186\"], [0.8, \"#7fbc41\"], [0.9, \"#4d9221\"], [1, \"#276419\"]], \"sequential\": [[0.0, \"#0d0887\"], [0.1111111111111111, \"#46039f\"], [0.2222222222222222, \"#7201a8\"], [0.3333333333333333, \"#9c179e\"], [0.4444444444444444, \"#bd3786\"], [0.5555555555555556, \"#d8576b\"], [0.6666666666666666, \"#ed7953\"], [0.7777777777777778, \"#fb9f3a\"], [0.8888888888888888, \"#fdca26\"], [1.0, \"#f0f921\"]], \"sequentialminus\": [[0.0, \"#0d0887\"], [0.1111111111111111, \"#46039f\"], [0.2222222222222222, \"#7201a8\"], [0.3333333333333333, \"#9c179e\"], [0.4444444444444444, \"#bd3786\"], [0.5555555555555556, \"#d8576b\"], [0.6666666666666666, \"#ed7953\"], [0.7777777777777778, \"#fb9f3a\"], [0.8888888888888888, \"#fdca26\"], [1.0, \"#f0f921\"]]}, \"colorway\": [\"#636efa\", \"#EF553B\", \"#00cc96\", \"#ab63fa\", \"#FFA15A\", \"#19d3f3\", \"#FF6692\", \"#B6E880\", \"#FF97FF\", \"#FECB52\"], \"font\": {\"color\": \"#2a3f5f\"}, \"geo\": {\"bgcolor\": \"white\", \"lakecolor\": \"white\", \"landcolor\": \"#E5ECF6\", \"showlakes\": true, \"showland\": true, \"subunitcolor\": \"white\"}, \"hoverlabel\": {\"align\": \"left\"}, \"hovermode\": \"closest\", \"mapbox\": {\"style\": \"light\"}, \"paper_bgcolor\": \"white\", \"plot_bgcolor\": \"#E5ECF6\", \"polar\": {\"angularaxis\": {\"gridcolor\": \"white\", \"linecolor\": \"white\", \"ticks\": \"\"}, \"bgcolor\": \"#E5ECF6\", \"radialaxis\": {\"gridcolor\": \"white\", \"linecolor\": \"white\", \"ticks\": \"\"}}, \"scene\": {\"xaxis\": {\"backgroundcolor\": \"#E5ECF6\", \"gridcolor\": \"white\", \"gridwidth\": 2, \"linecolor\": \"white\", \"showbackground\": true, \"ticks\": \"\", \"zerolinecolor\": \"white\"}, \"yaxis\": {\"backgroundcolor\": \"#E5ECF6\", \"gridcolor\": \"white\", \"gridwidth\": 2, \"linecolor\": \"white\", \"showbackground\": true, \"ticks\": \"\", \"zerolinecolor\": \"white\"}, \"zaxis\": {\"backgroundcolor\": \"#E5ECF6\", \"gridcolor\": \"white\", \"gridwidth\": 2, \"linecolor\": \"white\", \"showbackground\": true, \"ticks\": \"\", \"zerolinecolor\": \"white\"}}, \"shapedefaults\": {\"line\": {\"color\": \"#2a3f5f\"}}, \"ternary\": {\"aaxis\": {\"gridcolor\": \"white\", \"linecolor\": \"white\", \"ticks\": \"\"}, \"baxis\": {\"gridcolor\": \"white\", \"linecolor\": \"white\", \"ticks\": \"\"}, \"bgcolor\": \"#E5ECF6\", \"caxis\": {\"gridcolor\": \"white\", \"linecolor\": \"white\", \"ticks\": \"\"}}, \"title\": {\"x\": 0.05}, \"xaxis\": {\"automargin\": true, \"gridcolor\": \"white\", \"linecolor\": \"white\", \"ticks\": \"\", \"title\": {\"standoff\": 15}, \"zerolinecolor\": \"white\", \"zerolinewidth\": 2}, \"yaxis\": {\"automargin\": true, \"gridcolor\": \"white\", \"linecolor\": \"white\", \"ticks\": \"\", \"title\": {\"standoff\": 15}, \"zerolinecolor\": \"white\", \"zerolinewidth\": 2}}}, \"title\": {\"text\": \"Area vs. Latitude\"}, \"xaxis\": {\"gridcolor\": \"white\", \"gridwidth\": 2, \"title\": {\"text\": \"Park Area (acres)\"}, \"type\": \"log\"}, \"yaxis\": {\"gridcolor\": \"white\", \"gridwidth\": 2, \"title\": {\"text\": \"Latitude\"}, \"type\": \"linear\"}},\n",
       "                        {\"responsive\": true}\n",
       "                    ).then(function(){\n",
       "                            \n",
       "var gd = document.getElementById('a43b2abb-dff2-4753-8c90-fe26b6c28066');\n",
       "var x = new MutationObserver(function (mutations, observer) {{\n",
       "        var display = window.getComputedStyle(gd).display;\n",
       "        if (!display || display === 'none') {{\n",
       "            console.log([gd, 'removed!']);\n",
       "            Plotly.purge(gd);\n",
       "            observer.disconnect();\n",
       "        }}\n",
       "}});\n",
       "\n",
       "// Listen for the removal of the full notebook cells\n",
       "var notebookContainer = gd.closest('#notebook-container');\n",
       "if (notebookContainer) {{\n",
       "    x.observe(notebookContainer, {childList: true});\n",
       "}}\n",
       "\n",
       "// Listen for the clearing of the current output cell\n",
       "var outputEl = gd.closest('.output');\n",
       "if (outputEl) {{\n",
       "    x.observe(outputEl, {childList: true});\n",
       "}}\n",
       "\n",
       "                        })\n",
       "                };\n",
       "                });\n",
       "            </script>\n",
       "        </div>"
      ]
     },
     "metadata": {},
     "output_type": "display_data"
    }
   ],
   "source": [
    "cat_01 = 'Acres'\n",
    "cat_02 = 'Latitude'\n",
    "title = 'Area vs. Latitude'\n",
    "title_cat_01 = 'Park Area (acres)'\n",
    "title_cat_02 = 'Latitude'\n",
    "fig =bubbleplot(df_park,cat_01,cat_02,title,title_cat_01,title_cat_02,x_axis_type='log',cross_plot=parks_endangered)\n"
   ]
  },
  {
   "cell_type": "markdown",
   "metadata": {},
   "source": [
    "## Clustering"
   ]
  },
  {
   "cell_type": "code",
   "execution_count": 75,
   "metadata": {},
   "outputs": [
    {
     "data": {
      "text/plain": [
       "<matplotlib.collections.PathCollection at 0x1a1b067350>"
      ]
     },
     "execution_count": 75,
     "metadata": {},
     "output_type": "execute_result"
    },
    {
     "data": {
      "image/png": "[encoded data removed]",
      "text/plain": [
       "<Figure size 432x288 with 1 Axes>"
      ]
     },
     "metadata": {
      "needs_background": "light"
     },
     "output_type": "display_data"
    }
   ],
   "source": [
    "from sklearn.decomposition import PCA\n",
    "pca = PCA(n_components=2)\n",
    "pca_features = pca.fit_transform(df_norm.values)\n",
    "plt.scatter(pca_features[:,0],pca_features[:,1],c=df_norm.Clusters)"
   ]
  },
  {
   "cell_type": "markdown",
   "metadata": {},
   "source": [
    "## Modeling"
   ]
  },
  {
   "cell_type": "code",
   "execution_count": 150,
   "metadata": {},
   "outputs": [],
   "source": [
    "from sklearn import linear_model\n",
    "from sklearn.model_selection import train_test_split \n",
    "from sklearn.metrics import mean_squared_error, r2_score, explained_variance_score,mean_absolute_error\n",
    "from sklearn.model_selection import GridSearchCV"
   ]
  },
  {
   "cell_type": "markdown",
   "metadata": {},
   "source": [
    "### Train-Test-Split"
   ]
  },
  {
   "cell_type": "code",
   "execution_count": 151,
   "metadata": {},
   "outputs": [],
   "source": [
    "pred_var = 'Native_Present'\n",
    "X = df_norm.drop(pred_var,axis=1).values\n",
    "y = df_norm[pred_var].values\n",
    "\n",
    "X_train, X_test, y_train, y_test = train_test_split(X,y,test_size=0.25,random_state=42)"
   ]
  },
  {
   "cell_type": "markdown",
   "metadata": {},
   "source": [
    "## Linear Regression Model"
   ]
  },
  {
   "cell_type": "code",
   "execution_count": 152,
   "metadata": {},
   "outputs": [
    {
     "name": "stdout",
     "output_type": "stream",
     "text": [
      "Explained Variance:  0.9709911714370564\n",
      "Mean square error:  0.02302506599590203\n",
      "Mean absolute error:  0.13206964806701527\n",
      "R2 score/Coeff. of determination:  0.9704778460266613\n"
     ]
    }
   ],
   "source": [
    "from sklearn.linear_model import LinearRegression\n",
    "\n",
    "linreg = LinearRegression()\n",
    "linreg.fit(X_train,y_train)\n",
    "y_pred = linreg.predict(X_test)\n",
    "print('Explained Variance: ',explained_variance_score(y_test,y_pred))\n",
    "print('Mean square error: ',mean_squared_error(y_test,y_pred))\n",
    "print('Mean absolute error: ',mean_absolute_error(y_test,y_pred))\n",
    "print('R2 score/Coeff. of determination: ',linreg.score(X_test,y_test))"
   ]
  },
  {
   "cell_type": "code",
   "execution_count": 166,
   "metadata": {},
   "outputs": [
    {
     "data": {
      "image/png": "[encoded data removed]",
      "text/plain": [
       "<Figure size 576x360 with 1 Axes>"
      ]
     },
     "metadata": {
      "needs_background": "light"
     },
     "output_type": "display_data"
    }
   ],
   "source": [
    "linreg = LinearRegression()\n",
    "linreg.fit(X_train,y_train)\n",
    "def argsort(seq):\n",
    "    # http://stackoverflow.com/questions/3071415/efficient-method-to-calculate-the-rank-vector-of-a-list-in-python\n",
    "    return sorted(range(len(seq)), key=seq.__getitem__)\n",
    "ind = argsort(linreg.coef_)\n",
    "plt.figure(figsize=(8,5))\n",
    "plt.plot(range(len(ind)),linreg.coef_[ind],'.',ms=12)\n",
    "plt.xticks(range(len(ind)),labels=df_norm.drop(pred_var,axis=1).columns[ind],rotation=90,fontsize=12)\n",
    "plt.yticks(fontsize=12)\n",
    "plt.ylabel('Linear Regression Coefficient',fontsize=12)\n",
    "plt.grid()\n",
    "plt.show()"
   ]
  },
  {
   "cell_type": "markdown",
   "metadata": {},
   "source": [
    "## Decision Tree Regressor"
   ]
  },
  {
   "cell_type": "code",
   "execution_count": 167,
   "metadata": {},
   "outputs": [
    {
     "name": "stdout",
     "output_type": "stream",
     "text": [
      "Mean square error:  0.29328559363638146\n",
      "R2 score/Coeff. of determination:  0.6239566716101347\n"
     ]
    }
   ],
   "source": [
    "from sklearn.tree import DecisionTreeRegressor\n",
    "\n",
    "tree_reg = DecisionTreeRegressor(max_depth=7,max_features=9, random_state=42)\n",
    "tree_reg.fit(X_train, y_train)\n",
    "y_pred = tree_reg.predict(X_test)\n",
    "\n",
    "print('Mean square error: ',mean_squared_error(y_test,y_pred))\n",
    "print('R2 score/Coeff. of determination: ',r2_score(y_test,y_pred))"
   ]
  },
  {
   "cell_type": "code",
   "execution_count": 205,
   "metadata": {},
   "outputs": [
    {
     "name": "stdout",
     "output_type": "stream",
     "text": [
      "Most important Features:\n",
      "Migratory_Native_Present : 3.7%\n",
      "Vagrant_Native_Present : 6.5%\n",
      "Breeder_Present : 12.0%\n",
      "RecordStatus_Approved : 30.8%\n",
      "Abundance_ordinal : 35.5%\n"
     ]
    }
   ],
   "source": [
    "print('Most important Features:')\n",
    "ind = argsort(tree_reg.feature_importances_)\n",
    "for i in ind[-5:None]:\n",
    "    print('{} : {:.1f}%'.format(df_norm.drop(pred_var,axis=1).columns[i],100*tree_reg.feature_importances_[i]))"
   ]
  },
  {
   "cell_type": "code",
   "execution_count": 209,
   "metadata": {},
   "outputs": [
    {
     "data": {
      "application/vnd.plotly.v1+json": {
       "config": {
        "plotlyServerURL": "https://plot.ly"
       },
       "data": [
        {
         "marker": {
          "line": {
           "width": 2
          },
          "size": [
           31.25699921617557,
           26.870057685088806,
           29.782545223670862,
           27.367864366808018,
           24.269322199023193,
           23.515952032609693,
           30.822070014844883,
           38.39270764090493
          ],
          "sizemode": "area",
          "sizeref": 0.05775
         },
         "mode": "markers",
         "name": "0",
         "text": [
          "Park Name: Denali National Park and Preserve<br>Size: 3372402<br># Species: 999<br># Native Species: 977<br>",
          "Park Name: Gates Of The Arctic National Park and Preserve<br>Size: 7523898<br># Species: 722<br># Native Species: 722<br>",
          "Park Name: Glacier Bay National Park and Preserve<br>Size: 3224840<br># Species: 916<br># Native Species: 887<br>",
          "Park Name: Katmai National Park and Preserve<br>Size: 3674530<br># Species: 760<br># Native Species: 749<br>",
          "Park Name: Kenai Fjords National Park<br>Size: 669983<br># Species: 605<br># Native Species: 589<br>",
          "Park Name: Kobuk Valley National Park<br>Size: 1750717<br># Species: 553<br># Native Species: 553<br>",
          "Park Name: Lake Clark National Park and Preserve<br>Size: 2619733<br># Species: 970<br># Native Species: 950<br>",
          "Park Name: Wrangell - St Elias National Park and Preserve<br>Size: 8323148<br># Species: 1509<br># Native Species: 1474<br>"
         ],
         "type": "scatter",
         "x": [
          1058,
          871,
          1422,
          1024,
          992,
          663,
          1473,
          1790
         ],
         "y": [
          1976,
          33,
          1778,
          1734,
          1508,
          260,
          1726,
          3549
         ]
        },
        {
         "marker": {
          "line": {
           "width": 2
          },
          "size": [
           34.539832078341085,
           40.24922359499622
          ],
          "sizemode": "area",
          "sizeref": 0.05775
         },
         "mode": "markers",
         "name": "1",
         "text": [
          "Park Name: Haleakala National Park<br>Size: 29094<br># Species: 2023<br># Native Species: 1193<br>",
          "Park Name: Hawaii Volcanoes National Park<br>Size: 323431<br># Species: 2722<br># Native Species: 1620<br>"
         ],
         "type": "scatter",
         "x": [
          1048,
          3298
         ],
         "y": [
          2183,
          2560
         ]
        },
        {
         "marker": {
          "line": {
           "width": 2
          },
          "size": [
           36.46916505762094,
           47.30750469005948,
           34.713109915419565,
           38.05259518088089,
           44.710177812216315
          ],
          "sizemode": "area",
          "sizeref": 0.05775
         },
         "mode": "markers",
         "name": "2",
         "text": [
          "Park Name: Death Valley National Park<br>Size: 4740912<br># Species: 1410<br># Native Species: 1330<br>",
          "Park Name: Great Smoky Mountains National Park<br>Size: 521490<br># Species: 2598<br># Native Species: 2238<br>",
          "Park Name: Redwood National Park<br>Size: 112512<br># Species: 1525<br># Native Species: 1205<br>",
          "Park Name: Shenandoah National Park<br>Size: 199045<br># Species: 1824<br># Native Species: 1448<br>",
          "Park Name: Yellowstone National Park<br>Size: 2219791<br># Species: 2188<br># Native Species: 1999<br>"
         ],
         "type": "scatter",
         "x": [
          1822,
          2655,
          1530,
          2643,
          1990
         ],
         "y": [
          1804,
          5093,
          2735,
          4461,
          4107
         ]
        },
        {
         "marker": {
          "line": {
           "width": 2
          },
          "size": [
           43.61192497471305,
           25.729360660537214,
           40.28647415696737,
           38.768543949960254,
           18.439088914585774,
           37.134889255254286,
           48.062459362791664
          ],
          "sizemode": "area",
          "sizeref": 0.05775
         },
         "mode": "markers",
         "name": "3",
         "text": [
          "Park Name: Big Bend National Park<br>Size: 801163<br># Species: 2011<br># Native Species: 1902<br>",
          "Park Name: Biscayne National Park<br>Size: 172924<br># Species: 839<br># Native Species: 662<br>",
          "Park Name: Channel Islands National Park<br>Size: 249561<br># Species: 1847<br># Native Species: 1623<br>",
          "Park Name: Cuyahoga Valley National Park<br>Size: 32950<br># Species: 1770<br># Native Species: 1503<br>",
          "Park Name: Dry Tortugas National Park<br>Size: 64701<br># Species: 481<br># Native Species: 340<br>",
          "Park Name: Everglades National Park<br>Size: 1508538<br># Species: 1780<br># Native Species: 1379<br>",
          "Park Name: Grand Canyon National Park<br>Size: 1217403<br># Species: 2532<br># Native Species: 2310<br>"
         ],
         "type": "scatter",
         "x": [
          2144,
          1600,
          1863,
          1695,
          842,
          1872,
          2583
         ],
         "y": [
          1262,
          1769,
          3032,
          3683,
          1190,
          3688,
          1857
         ]
        },
        {
         "marker": {
          "line": {
           "width": 2
          },
          "size": [
           29.715315916207253,
           25.787593916455254,
           24.939927826679853,
           24.758836806279895,
           26.981475126464083,
           28,
           32.0624390837628,
           36.823905279043935,
           33.481338085566414,
           32.69556544854363,
           45.36518488885502,
           38.02630668366309,
           29.782545223670862,
           28.089143810376278,
           39.08964057138413,
           22.891046284519195,
           32.046840717924134,
           28.600699292150182,
           30.903074280724887,
           38.09199390948182,
           31.38470965295043,
           32.17141588429082,
           42.67317658670374,
           35.25620512760839,
           26.038433132583073,
           28.478061731796284,
           37.841775856849004,
           38.36665218650175,
           39.88734135035826,
           26.92582403567252,
           32.31098884280702,
           28.178005607210743,
           41.255302689472536,
           34.11744421846396
          ],
          "sizemode": "area",
          "sizeref": 0.05775
         },
         "mode": "markers",
         "name": "4",
         "text": [
          "Park Name: Acadia National Park<br>Size: 47390<br># Species: 1157<br># Native Species: 883<br>",
          "Park Name: Arches National Park<br>Size: 76519<br># Species: 749<br># Native Species: 665<br>",
          "Park Name: Badlands National Park<br>Size: 242756<br># Species: 700<br># Native Species: 622<br>",
          "Park Name: Black Canyon of the Gunnison National Park<br>Size: 32950<br># Species: 689<br># Native Species: 613<br>",
          "Park Name: Bryce Canyon National Park<br>Size: 35835<br># Species: 788<br># Native Species: 728<br>",
          "Park Name: Canyonlands National Park<br>Size: 337598<br># Species: 866<br># Native Species: 784<br>",
          "Park Name: Capitol Reef National Park<br>Size: 241904<br># Species: 1161<br># Native Species: 1028<br>",
          "Park Name: Carlsbad Caverns National Park<br>Size: 46766<br># Species: 1427<br># Native Species: 1356<br>",
          "Park Name: Congaree National Park<br>Size: 26546<br># Species: 1205<br># Native Species: 1121<br>",
          "Park Name: Crater Lake National Park<br>Size: 183224<br># Species: 1122<br># Native Species: 1069<br>",
          "Park Name: Glacier National Park<br>Size: 1013572<br># Species: 2196<br># Native Species: 2058<br>",
          "Park Name: Grand Teton National Park<br>Size: 309995<br># Species: 1587<br># Native Species: 1446<br>",
          "Park Name: Great Basin National Park<br>Size: 77180<br># Species: 955<br># Native Species: 887<br>",
          "Park Name: Great Sand Dunes National Park and Preserve<br>Size: 42984<br># Species: 813<br># Native Species: 789<br>",
          "Park Name: Guadalupe Mountains National Park<br>Size: 86416<br># Species: 1578<br># Native Species: 1528<br>",
          "Park Name: Hot Springs National Park<br>Size: 5550<br># Species: 588<br># Native Species: 524<br>",
          "Park Name: Isle Royale National Park<br>Size: 571790<br># Species: 1167<br># Native Species: 1027<br>",
          "Park Name: Joshua Tree National Park<br>Size: 789745<br># Species: 849<br># Native Species: 818<br>",
          "Park Name: Lassen Volcanic National Park<br>Size: 106372<br># Species: 1005<br># Native Species: 955<br>",
          "Park Name: Mammoth Cave National Park<br>Size: 52830<br># Species: 1628<br># Native Species: 1451<br>",
          "Park Name: Mesa Verde National Park<br>Size: 52122<br># Species: 1106<br># Native Species: 985<br>",
          "Park Name: Mount Rainier National Park<br>Size: 235625<br># Species: 1191<br># Native Species: 1035<br>",
          "Park Name: North Cascades National Park<br>Size: 504781<br># Species: 2053<br># Native Species: 1821<br>",
          "Park Name: Olympic National Park<br>Size: 922651<br># Species: 1356<br># Native Species: 1243<br>",
          "Park Name: Petrified Forest National Park<br>Size: 93533<br># Species: 732<br># Native Species: 678<br>",
          "Park Name: Pinnacles National Park<br>Size: 26606<br># Species: 940<br># Native Species: 811<br>",
          "Park Name: Rocky Mountain National Park<br>Size: 265828<br># Species: 1526<br># Native Species: 1432<br>",
          "Park Name: Saguaro National Park<br>Size: 91440<br># Species: 1578<br># Native Species: 1472<br>",
          "Park Name: Sequoia and Kings Canyon National Parks<br>Size: 865952<br># Species: 1818<br># Native Species: 1591<br>",
          "Park Name: Theodore Roosevelt National Park<br>Size: 70447<br># Species: 807<br># Native Species: 725<br>",
          "Park Name: Voyageurs National Park<br>Size: 218200<br># Species: 1173<br># Native Species: 1044<br>",
          "Park Name: Wind Cave National Park<br>Size: 28295<br># Species: 890<br># Native Species: 794<br>",
          "Park Name: Yosemite National Park<br>Size: 761266<br># Species: 1896<br># Native Species: 1702<br>",
          "Park Name: Zion National Park<br>Size: 146598<br># Species: 1316<br># Native Species: 1164<br>"
         ],
         "type": "scatter",
         "x": [
          1694,
          1046,
          895,
          1106,
          1285,
          1223,
          1566,
          1481,
          1240,
          946,
          1643,
          1821,
          1149,
          801,
          1437,
          1743,
          1359,
          1299,
          1265,
          2055,
          1227,
          1303,
          3246,
          1907,
          843,
          1258,
          1416,
          1672,
          1995,
          977,
          1396,
          1237,
          2054,
          1791
         ],
         "y": [
          3040,
          1665,
          1509,
          1520,
          1609,
          1810,
          2701,
          26,
          2244,
          596,
          4299,
          4448,
          2793,
          942,
          47,
          1516,
          2602,
          2867,
          2758,
          728,
          693,
          2795,
          910,
          2776,
          1845,
          1903,
          3413,
          739,
          3457,
          1342,
          1029,
          1784,
          4544,
          2801
         ]
        },
        {
         "marker": {
          "color": "black"
         },
         "mode": "markers",
         "name": "Endangered",
         "type": "scatter",
         "x": [
          2655,
          1743,
          1600,
          842,
          1600,
          1530,
          1046,
          1285,
          1223,
          1566,
          1822,
          1149,
          2583,
          1299,
          1265,
          1227,
          1258,
          1995,
          2054,
          1791
         ],
         "y": [
          5093,
          1516,
          1769,
          1190,
          1769,
          2735,
          1665,
          1609,
          1810,
          2701,
          1804,
          2793,
          1857,
          2867,
          2758,
          693,
          1903,
          3457,
          4544,
          2801
         ]
        }
       ],
       "layout": {
        "legend": {
         "title": {
          "text": "Cluster"
         }
        },
        "template": {
         "data": {
          "bar": [
           {
            "error_x": {
             "color": "#2a3f5f"
            },
            "error_y": {
             "color": "#2a3f5f"
            },
            "marker": {
             "line": {
              "color": "#E5ECF6",
              "width": 0.5
             }
            },
            "type": "bar"
           }
          ],
          "barpolar": [
           {
            "marker": {
             "line": {
              "color": "#E5ECF6",
              "width": 0.5
             }
            },
            "type": "barpolar"
           }
          ],
          "carpet": [
           {
            "aaxis": {
             "endlinecolor": "#2a3f5f",
             "gridcolor": "white",
             "linecolor": "white",
             "minorgridcolor": "white",
             "startlinecolor": "#2a3f5f"
            },
            "baxis": {
             "endlinecolor": "#2a3f5f",
             "gridcolor": "white",
             "linecolor": "white",
             "minorgridcolor": "white",
             "startlinecolor": "#2a3f5f"
            },
            "type": "carpet"
           }
          ],
          "choropleth": [
           {
            "colorbar": {
             "outlinewidth": 0,
             "ticks": ""
            },
            "type": "choropleth"
           }
          ],
          "contour": [
           {
            "colorbar": {
             "outlinewidth": 0,
             "ticks": ""
            },
            "colorscale": [
             [
              0,
              "#0d0887"
             ],
             [
              0.1111111111111111,
              "#46039f"
             ],
             [
              0.2222222222222222,
              "#7201a8"
             ],
             [
              0.3333333333333333,
              "#9c179e"
             ],
             [
              0.4444444444444444,
              "#bd3786"
             ],
             [
              0.5555555555555556,
              "#d8576b"
             ],
             [
              0.6666666666666666,
              "#ed7953"
             ],
             [
              0.7777777777777778,
              "#fb9f3a"
             ],
             [
              0.8888888888888888,
              "#fdca26"
             ],
             [
              1,
              "#f0f921"
             ]
            ],
            "type": "contour"
           }
          ],
          "contourcarpet": [
           {
            "colorbar": {
             "outlinewidth": 0,
             "ticks": ""
            },
            "type": "contourcarpet"
           }
          ],
          "heatmap": [
           {
            "colorbar": {
             "outlinewidth": 0,
             "ticks": ""
            },
            "colorscale": [
             [
              0,
              "#0d0887"
             ],
             [
              0.1111111111111111,
              "#46039f"
             ],
             [
              0.2222222222222222,
              "#7201a8"
             ],
             [
              0.3333333333333333,
              "#9c179e"
             ],
             [
              0.4444444444444444,
              "#bd3786"
             ],
             [
              0.5555555555555556,
              "#d8576b"
             ],
             [
              0.6666666666666666,
              "#ed7953"
             ],
             [
              0.7777777777777778,
              "#fb9f3a"
             ],
             [
              0.8888888888888888,
              "#fdca26"
             ],
             [
              1,
              "#f0f921"
             ]
            ],
            "type": "heatmap"
           }
          ],
          "heatmapgl": [
           {
            "colorbar": {
             "outlinewidth": 0,
             "ticks": ""
            },
            "colorscale": [
             [
              0,
              "#0d0887"
             ],
             [
              0.1111111111111111,
              "#46039f"
             ],
             [
              0.2222222222222222,
              "#7201a8"
             ],
             [
              0.3333333333333333,
              "#9c179e"
             ],
             [
              0.4444444444444444,
              "#bd3786"
             ],
             [
              0.5555555555555556,
              "#d8576b"
             ],
             [
              0.6666666666666666,
              "#ed7953"
             ],
             [
              0.7777777777777778,
              "#fb9f3a"
             ],
             [
              0.8888888888888888,
              "#fdca26"
             ],
             [
              1,
              "#f0f921"
             ]
            ],
            "type": "heatmapgl"
           }
          ],
          "histogram": [
           {
            "marker": {
             "colorbar": {
              "outlinewidth": 0,
              "ticks": ""
             }
            },
            "type": "histogram"
           }
          ],
          "histogram2d": [
           {
            "colorbar": {
             "outlinewidth": 0,
             "ticks": ""
            },
            "colorscale": [
             [
              0,
              "#0d0887"
             ],
             [
              0.1111111111111111,
              "#46039f"
             ],
             [
              0.2222222222222222,
              "#7201a8"
             ],
             [
              0.3333333333333333,
              "#9c179e"
             ],
             [
              0.4444444444444444,
              "#bd3786"
             ],
             [
              0.5555555555555556,
              "#d8576b"
             ],
             [
              0.6666666666666666,
              "#ed7953"
             ],
             [
              0.7777777777777778,
              "#fb9f3a"
             ],
             [
              0.8888888888888888,
              "#fdca26"
             ],
             [
              1,
              "#f0f921"
             ]
            ],
            "type": "histogram2d"
           }
          ],
          "histogram2dcontour": [
           {
            "colorbar": {
             "outlinewidth": 0,
             "ticks": ""
            },
            "colorscale": [
             [
              0,
              "#0d0887"
             ],
             [
              0.1111111111111111,
              "#46039f"
             ],
             [
              0.2222222222222222,
              "#7201a8"
             ],
             [
              0.3333333333333333,
              "#9c179e"
             ],
             [
              0.4444444444444444,
              "#bd3786"
             ],
             [
              0.5555555555555556,
              "#d8576b"
             ],
             [
              0.6666666666666666,
              "#ed7953"
             ],
             [
              0.7777777777777778,
              "#fb9f3a"
             ],
             [
              0.8888888888888888,
              "#fdca26"
             ],
             [
              1,
              "#f0f921"
             ]
            ],
            "type": "histogram2dcontour"
           }
          ],
          "mesh3d": [
           {
            "colorbar": {
             "outlinewidth": 0,
             "ticks": ""
            },
            "type": "mesh3d"
           }
          ],
          "parcoords": [
           {
            "line": {
             "colorbar": {
              "outlinewidth": 0,
              "ticks": ""
             }
            },
            "type": "parcoords"
           }
          ],
          "pie": [
           {
            "automargin": true,
            "type": "pie"
           }
          ],
          "scatter": [
           {
            "marker": {
             "colorbar": {
              "outlinewidth": 0,
              "ticks": ""
             }
            },
            "type": "scatter"
           }
          ],
          "scatter3d": [
           {
            "line": {
             "colorbar": {
              "outlinewidth": 0,
              "ticks": ""
             }
            },
            "marker": {
             "colorbar": {
              "outlinewidth": 0,
              "ticks": ""
             }
            },
            "type": "scatter3d"
           }
          ],
          "scattercarpet": [
           {
            "marker": {
             "colorbar": {
              "outlinewidth": 0,
              "ticks": ""
             }
            },
            "type": "scattercarpet"
           }
          ],
          "scattergeo": [
           {
            "marker": {
             "colorbar": {
              "outlinewidth": 0,
              "ticks": ""
             }
            },
            "type": "scattergeo"
           }
          ],
          "scattergl": [
           {
            "marker": {
             "colorbar": {
              "outlinewidth": 0,
              "ticks": ""
             }
            },
            "type": "scattergl"
           }
          ],
          "scattermapbox": [
           {
            "marker": {
             "colorbar": {
              "outlinewidth": 0,
              "ticks": ""
             }
            },
            "type": "scattermapbox"
           }
          ],
          "scatterpolar": [
           {
            "marker": {
             "colorbar": {
              "outlinewidth": 0,
              "ticks": ""
             }
            },
            "type": "scatterpolar"
           }
          ],
          "scatterpolargl": [
           {
            "marker": {
             "colorbar": {
              "outlinewidth": 0,
              "ticks": ""
             }
            },
            "type": "scatterpolargl"
           }
          ],
          "scatterternary": [
           {
            "marker": {
             "colorbar": {
              "outlinewidth": 0,
              "ticks": ""
             }
            },
            "type": "scatterternary"
           }
          ],
          "surface": [
           {
            "colorbar": {
             "outlinewidth": 0,
             "ticks": ""
            },
            "colorscale": [
             [
              0,
              "#0d0887"
             ],
             [
              0.1111111111111111,
              "#46039f"
             ],
             [
              0.2222222222222222,
              "#7201a8"
             ],
             [
              0.3333333333333333,
              "#9c179e"
             ],
             [
              0.4444444444444444,
              "#bd3786"
             ],
             [
              0.5555555555555556,
              "#d8576b"
             ],
             [
              0.6666666666666666,
              "#ed7953"
             ],
             [
              0.7777777777777778,
              "#fb9f3a"
             ],
             [
              0.8888888888888888,
              "#fdca26"
             ],
             [
              1,
              "#f0f921"
             ]
            ],
            "type": "surface"
           }
          ],
          "table": [
           {
            "cells": {
             "fill": {
              "color": "#EBF0F8"
             },
             "line": {
              "color": "white"
             }
            },
            "header": {
             "fill": {
              "color": "#C8D4E3"
             },
             "line": {
              "color": "white"
             }
            },
            "type": "table"
           }
          ]
         },
         "layout": {
          "annotationdefaults": {
           "arrowcolor": "#2a3f5f",
           "arrowhead": 0,
           "arrowwidth": 1
          },
          "coloraxis": {
           "colorbar": {
            "outlinewidth": 0,
            "ticks": ""
           }
          },
          "colorscale": {
           "diverging": [
            [
             0,
             "#8e0152"
            ],
            [
             0.1,
             "#c51b7d"
            ],
            [
             0.2,
             "#de77ae"
            ],
            [
             0.3,
             "#f1b6da"
            ],
            [
             0.4,
             "#fde0ef"
            ],
            [
             0.5,
             "#f7f7f7"
            ],
            [
             0.6,
             "#e6f5d0"
            ],
            [
             0.7,
             "#b8e186"
            ],
            [
             0.8,
             "#7fbc41"
            ],
            [
             0.9,
             "#4d9221"
            ],
            [
             1,
             "#276419"
            ]
           ],
           "sequential": [
            [
             0,
             "#0d0887"
            ],
            [
             0.1111111111111111,
             "#46039f"
            ],
            [
             0.2222222222222222,
             "#7201a8"
            ],
            [
             0.3333333333333333,
             "#9c179e"
            ],
            [
             0.4444444444444444,
             "#bd3786"
            ],
            [
             0.5555555555555556,
             "#d8576b"
            ],
            [
             0.6666666666666666,
             "#ed7953"
            ],
            [
             0.7777777777777778,
             "#fb9f3a"
            ],
            [
             0.8888888888888888,
             "#fdca26"
            ],
            [
             1,
             "#f0f921"
            ]
           ],
           "sequentialminus": [
            [
             0,
             "#0d0887"
            ],
            [
             0.1111111111111111,
             "#46039f"
            ],
            [
             0.2222222222222222,
             "#7201a8"
            ],
            [
             0.3333333333333333,
             "#9c179e"
            ],
            [
             0.4444444444444444,
             "#bd3786"
            ],
            [
             0.5555555555555556,
             "#d8576b"
            ],
            [
             0.6666666666666666,
             "#ed7953"
            ],
            [
             0.7777777777777778,
             "#fb9f3a"
            ],
            [
             0.8888888888888888,
             "#fdca26"
            ],
            [
             1,
             "#f0f921"
            ]
           ]
          },
          "colorway": [
           "#636efa",
           "#EF553B",
           "#00cc96",
           "#ab63fa",
           "#FFA15A",
           "#19d3f3",
           "#FF6692",
           "#B6E880",
           "#FF97FF",
           "#FECB52"
          ],
          "font": {
           "color": "#2a3f5f"
          },
          "geo": {
           "bgcolor": "white",
           "lakecolor": "white",
           "landcolor": "#E5ECF6",
           "showlakes": true,
           "showland": true,
           "subunitcolor": "white"
          },
          "hoverlabel": {
           "align": "left"
          },
          "hovermode": "closest",
          "mapbox": {
           "style": "light"
          },
          "paper_bgcolor": "white",
          "plot_bgcolor": "#E5ECF6",
          "polar": {
           "angularaxis": {
            "gridcolor": "white",
            "linecolor": "white",
            "ticks": ""
           },
           "bgcolor": "#E5ECF6",
           "radialaxis": {
            "gridcolor": "white",
            "linecolor": "white",
            "ticks": ""
           }
          },
          "scene": {
           "xaxis": {
            "backgroundcolor": "#E5ECF6",
            "gridcolor": "white",
            "gridwidth": 2,
            "linecolor": "white",
            "showbackground": true,
            "ticks": "",
            "zerolinecolor": "white"
           },
           "yaxis": {
            "backgroundcolor": "#E5ECF6",
            "gridcolor": "white",
            "gridwidth": 2,
            "linecolor": "white",
            "showbackground": true,
            "ticks": "",
            "zerolinecolor": "white"
           },
           "zaxis": {
            "backgroundcolor": "#E5ECF6",
            "gridcolor": "white",
            "gridwidth": 2,
            "linecolor": "white",
            "showbackground": true,
            "ticks": "",
            "zerolinecolor": "white"
           }
          },
          "shapedefaults": {
           "line": {
            "color": "#2a3f5f"
           }
          },
          "ternary": {
           "aaxis": {
            "gridcolor": "white",
            "linecolor": "white",
            "ticks": ""
           },
           "baxis": {
            "gridcolor": "white",
            "linecolor": "white",
            "ticks": ""
           },
           "bgcolor": "#E5ECF6",
           "caxis": {
            "gridcolor": "white",
            "linecolor": "white",
            "ticks": ""
           }
          },
          "title": {
           "x": 0.05
          },
          "xaxis": {
           "automargin": true,
           "gridcolor": "white",
           "linecolor": "white",
           "ticks": "",
           "title": {
            "standoff": 15
           },
           "zerolinecolor": "white",
           "zerolinewidth": 2
          },
          "yaxis": {
           "automargin": true,
           "gridcolor": "white",
           "linecolor": "white",
           "ticks": "",
           "title": {
            "standoff": 15
           },
           "zerolinecolor": "white",
           "zerolinewidth": 2
          }
         }
        },
        "title": {
         "text": "Record Status vs. Abundance"
        },
        "xaxis": {
         "gridcolor": "white",
         "gridwidth": 2,
         "title": {
          "text": "# Record Status Approved"
         },
         "type": "linear"
        },
        "yaxis": {
         "gridcolor": "white",
         "gridwidth": 2,
         "title": {
          "text": "Abundance (ordinal)"
         },
         "type": "linear"
        }
       }
      },
      "text/html": [
       "<div>\n",
       "        \n",
       "        \n",
       "            <div id=\"5235848f-7441-426f-9d48-93e0d5e637c7\" class=\"plotly-graph-div\" style=\"height:525px; width:100%;\"></div>\n",
       "            <script type=\"text/javascript\">\n",
       "                require([\"plotly\"], function(Plotly) {\n",
       "                    window.PLOTLYENV=window.PLOTLYENV || {};\n",
       "                    \n",
       "                if (document.getElementById(\"5235848f-7441-426f-9d48-93e0d5e637c7\")) {\n",
       "                    Plotly.newPlot(\n",
       "                        '5235848f-7441-426f-9d48-93e0d5e637c7',\n",
       "                        [{\"marker\": {\"line\": {\"width\": 2}, \"size\": [31.25699921617557, 26.870057685088806, 29.782545223670862, 27.367864366808018, 24.269322199023193, 23.515952032609693, 30.822070014844883, 38.39270764090493], \"sizemode\": \"area\", \"sizeref\": 0.05775}, \"mode\": \"markers\", \"name\": \"0\", \"text\": [\"Park Name: Denali National Park and Preserve<br>Size: 3372402<br># Species: 999<br># Native Species: 977<br>\", \"Park Name: Gates Of The Arctic National Park and Preserve<br>Size: 7523898<br># Species: 722<br># Native Species: 722<br>\", \"Park Name: Glacier Bay National Park and Preserve<br>Size: 3224840<br># Species: 916<br># Native Species: 887<br>\", \"Park Name: Katmai National Park and Preserve<br>Size: 3674530<br># Species: 760<br># Native Species: 749<br>\", \"Park Name: Kenai Fjords National Park<br>Size: 669983<br># Species: 605<br># Native Species: 589<br>\", \"Park Name: Kobuk Valley National Park<br>Size: 1750717<br># Species: 553<br># Native Species: 553<br>\", \"Park Name: Lake Clark National Park and Preserve<br>Size: 2619733<br># Species: 970<br># Native Species: 950<br>\", \"Park Name: Wrangell - St Elias National Park and Preserve<br>Size: 8323148<br># Species: 1509<br># Native Species: 1474<br>\"], \"type\": \"scatter\", \"x\": [1058, 871, 1422, 1024, 992, 663, 1473, 1790], \"y\": [1976, 33, 1778, 1734, 1508, 260, 1726, 3549]}, {\"marker\": {\"line\": {\"width\": 2}, \"size\": [34.539832078341085, 40.24922359499622], \"sizemode\": \"area\", \"sizeref\": 0.05775}, \"mode\": \"markers\", \"name\": \"1\", \"text\": [\"Park Name: Haleakala National Park<br>Size: 29094<br># Species: 2023<br># Native Species: 1193<br>\", \"Park Name: Hawaii Volcanoes National Park<br>Size: 323431<br># Species: 2722<br># Native Species: 1620<br>\"], \"type\": \"scatter\", \"x\": [1048, 3298], \"y\": [2183, 2560]}, {\"marker\": {\"line\": {\"width\": 2}, \"size\": [36.46916505762094, 47.30750469005948, 34.713109915419565, 38.05259518088089, 44.710177812216315], \"sizemode\": \"area\", \"sizeref\": 0.05775}, \"mode\": \"markers\", \"name\": \"2\", \"text\": [\"Park Name: Death Valley National Park<br>Size: 4740912<br># Species: 1410<br># Native Species: 1330<br>\", \"Park Name: Great Smoky Mountains National Park<br>Size: 521490<br># Species: 2598<br># Native Species: 2238<br>\", \"Park Name: Redwood National Park<br>Size: 112512<br># Species: 1525<br># Native Species: 1205<br>\", \"Park Name: Shenandoah National Park<br>Size: 199045<br># Species: 1824<br># Native Species: 1448<br>\", \"Park Name: Yellowstone National Park<br>Size: 2219791<br># Species: 2188<br># Native Species: 1999<br>\"], \"type\": \"scatter\", \"x\": [1822, 2655, 1530, 2643, 1990], \"y\": [1804, 5093, 2735, 4461, 4107]}, {\"marker\": {\"line\": {\"width\": 2}, \"size\": [43.61192497471305, 25.729360660537214, 40.28647415696737, 38.768543949960254, 18.439088914585774, 37.134889255254286, 48.062459362791664], \"sizemode\": \"area\", \"sizeref\": 0.05775}, \"mode\": \"markers\", \"name\": \"3\", \"text\": [\"Park Name: Big Bend National Park<br>Size: 801163<br># Species: 2011<br># Native Species: 1902<br>\", \"Park Name: Biscayne National Park<br>Size: 172924<br># Species: 839<br># Native Species: 662<br>\", \"Park Name: Channel Islands National Park<br>Size: 249561<br># Species: 1847<br># Native Species: 1623<br>\", \"Park Name: Cuyahoga Valley National Park<br>Size: 32950<br># Species: 1770<br># Native Species: 1503<br>\", \"Park Name: Dry Tortugas National Park<br>Size: 64701<br># Species: 481<br># Native Species: 340<br>\", \"Park Name: Everglades National Park<br>Size: 1508538<br># Species: 1780<br># Native Species: 1379<br>\", \"Park Name: Grand Canyon National Park<br>Size: 1217403<br># Species: 2532<br># Native Species: 2310<br>\"], \"type\": \"scatter\", \"x\": [2144, 1600, 1863, 1695, 842, 1872, 2583], \"y\": [1262, 1769, 3032, 3683, 1190, 3688, 1857]}, {\"marker\": {\"line\": {\"width\": 2}, \"size\": [29.715315916207253, 25.787593916455254, 24.939927826679853, 24.758836806279895, 26.981475126464083, 28.0, 32.0624390837628, 36.823905279043935, 33.481338085566414, 32.69556544854363, 45.36518488885502, 38.02630668366309, 29.782545223670862, 28.089143810376278, 39.08964057138413, 22.891046284519195, 32.046840717924134, 28.600699292150182, 30.903074280724887, 38.09199390948182, 31.38470965295043, 32.17141588429082, 42.67317658670374, 35.25620512760839, 26.038433132583073, 28.478061731796284, 37.841775856849004, 38.36665218650175, 39.88734135035826, 26.92582403567252, 32.31098884280702, 28.178005607210743, 41.255302689472536, 34.11744421846396], \"sizemode\": \"area\", \"sizeref\": 0.05775}, \"mode\": \"markers\", \"name\": \"4\", \"text\": [\"Park Name: Acadia National Park<br>Size: 47390<br># Species: 1157<br># Native Species: 883<br>\", \"Park Name: Arches National Park<br>Size: 76519<br># Species: 749<br># Native Species: 665<br>\", \"Park Name: Badlands National Park<br>Size: 242756<br># Species: 700<br># Native Species: 622<br>\", \"Park Name: Black Canyon of the Gunnison National Park<br>Size: 32950<br># Species: 689<br># Native Species: 613<br>\", \"Park Name: Bryce Canyon National Park<br>Size: 35835<br># Species: 788<br># Native Species: 728<br>\", \"Park Name: Canyonlands National Park<br>Size: 337598<br># Species: 866<br># Native Species: 784<br>\", \"Park Name: Capitol Reef National Park<br>Size: 241904<br># Species: 1161<br># Native Species: 1028<br>\", \"Park Name: Carlsbad Caverns National Park<br>Size: 46766<br># Species: 1427<br># Native Species: 1356<br>\", \"Park Name: Congaree National Park<br>Size: 26546<br># Species: 1205<br># Native Species: 1121<br>\", \"Park Name: Crater Lake National Park<br>Size: 183224<br># Species: 1122<br># Native Species: 1069<br>\", \"Park Name: Glacier National Park<br>Size: 1013572<br># Species: 2196<br># Native Species: 2058<br>\", \"Park Name: Grand Teton National Park<br>Size: 309995<br># Species: 1587<br># Native Species: 1446<br>\", \"Park Name: Great Basin National Park<br>Size: 77180<br># Species: 955<br># Native Species: 887<br>\", \"Park Name: Great Sand Dunes National Park and Preserve<br>Size: 42984<br># Species: 813<br># Native Species: 789<br>\", \"Park Name: Guadalupe Mountains National Park<br>Size: 86416<br># Species: 1578<br># Native Species: 1528<br>\", \"Park Name: Hot Springs National Park<br>Size: 5550<br># Species: 588<br># Native Species: 524<br>\", \"Park Name: Isle Royale National Park<br>Size: 571790<br># Species: 1167<br># Native Species: 1027<br>\", \"Park Name: Joshua Tree National Park<br>Size: 789745<br># Species: 849<br># Native Species: 818<br>\", \"Park Name: Lassen Volcanic National Park<br>Size: 106372<br># Species: 1005<br># Native Species: 955<br>\", \"Park Name: Mammoth Cave National Park<br>Size: 52830<br># Species: 1628<br># Native Species: 1451<br>\", \"Park Name: Mesa Verde National Park<br>Size: 52122<br># Species: 1106<br># Native Species: 985<br>\", \"Park Name: Mount Rainier National Park<br>Size: 235625<br># Species: 1191<br># Native Species: 1035<br>\", \"Park Name: North Cascades National Park<br>Size: 504781<br># Species: 2053<br># Native Species: 1821<br>\", \"Park Name: Olympic National Park<br>Size: 922651<br># Species: 1356<br># Native Species: 1243<br>\", \"Park Name: Petrified Forest National Park<br>Size: 93533<br># Species: 732<br># Native Species: 678<br>\", \"Park Name: Pinnacles National Park<br>Size: 26606<br># Species: 940<br># Native Species: 811<br>\", \"Park Name: Rocky Mountain National Park<br>Size: 265828<br># Species: 1526<br># Native Species: 1432<br>\", \"Park Name: Saguaro National Park<br>Size: 91440<br># Species: 1578<br># Native Species: 1472<br>\", \"Park Name: Sequoia and Kings Canyon National Parks<br>Size: 865952<br># Species: 1818<br># Native Species: 1591<br>\", \"Park Name: Theodore Roosevelt National Park<br>Size: 70447<br># Species: 807<br># Native Species: 725<br>\", \"Park Name: Voyageurs National Park<br>Size: 218200<br># Species: 1173<br># Native Species: 1044<br>\", \"Park Name: Wind Cave National Park<br>Size: 28295<br># Species: 890<br># Native Species: 794<br>\", \"Park Name: Yosemite National Park<br>Size: 761266<br># Species: 1896<br># Native Species: 1702<br>\", \"Park Name: Zion National Park<br>Size: 146598<br># Species: 1316<br># Native Species: 1164<br>\"], \"type\": \"scatter\", \"x\": [1694, 1046, 895, 1106, 1285, 1223, 1566, 1481, 1240, 946, 1643, 1821, 1149, 801, 1437, 1743, 1359, 1299, 1265, 2055, 1227, 1303, 3246, 1907, 843, 1258, 1416, 1672, 1995, 977, 1396, 1237, 2054, 1791], \"y\": [3040, 1665, 1509, 1520, 1609, 1810, 2701, 26, 2244, 596, 4299, 4448, 2793, 942, 47, 1516, 2602, 2867, 2758, 728, 693, 2795, 910, 2776, 1845, 1903, 3413, 739, 3457, 1342, 1029, 1784, 4544, 2801]}, {\"marker\": {\"color\": \"black\"}, \"mode\": \"markers\", \"name\": \"Endangered\", \"type\": \"scatter\", \"x\": [2655, 1743, 1600, 842, 1600, 1530, 1046, 1285, 1223, 1566, 1822, 1149, 2583, 1299, 1265, 1227, 1258, 1995, 2054, 1791], \"y\": [5093, 1516, 1769, 1190, 1769, 2735, 1665, 1609, 1810, 2701, 1804, 2793, 1857, 2867, 2758, 693, 1903, 3457, 4544, 2801]}],\n",
       "                        {\"legend\": {\"title\": {\"text\": \"Cluster\"}}, \"template\": {\"data\": {\"bar\": [{\"error_x\": {\"color\": \"#2a3f5f\"}, \"error_y\": {\"color\": \"#2a3f5f\"}, \"marker\": {\"line\": {\"color\": \"#E5ECF6\", \"width\": 0.5}}, \"type\": \"bar\"}], \"barpolar\": [{\"marker\": {\"line\": {\"color\": \"#E5ECF6\", \"width\": 0.5}}, \"type\": \"barpolar\"}], \"carpet\": [{\"aaxis\": {\"endlinecolor\": \"#2a3f5f\", \"gridcolor\": \"white\", \"linecolor\": \"white\", \"minorgridcolor\": \"white\", \"startlinecolor\": \"#2a3f5f\"}, \"baxis\": {\"endlinecolor\": \"#2a3f5f\", \"gridcolor\": \"white\", \"linecolor\": \"white\", \"minorgridcolor\": \"white\", \"startlinecolor\": \"#2a3f5f\"}, \"type\": \"carpet\"}], \"choropleth\": [{\"colorbar\": {\"outlinewidth\": 0, \"ticks\": \"\"}, \"type\": \"choropleth\"}], \"contour\": [{\"colorbar\": {\"outlinewidth\": 0, \"ticks\": \"\"}, \"colorscale\": [[0.0, \"#0d0887\"], [0.1111111111111111, \"#46039f\"], [0.2222222222222222, \"#7201a8\"], [0.3333333333333333, \"#9c179e\"], [0.4444444444444444, \"#bd3786\"], [0.5555555555555556, \"#d8576b\"], [0.6666666666666666, \"#ed7953\"], [0.7777777777777778, \"#fb9f3a\"], [0.8888888888888888, \"#fdca26\"], [1.0, \"#f0f921\"]], \"type\": \"contour\"}], \"contourcarpet\": [{\"colorbar\": {\"outlinewidth\": 0, \"ticks\": \"\"}, \"type\": \"contourcarpet\"}], \"heatmap\": [{\"colorbar\": {\"outlinewidth\": 0, \"ticks\": \"\"}, \"colorscale\": [[0.0, \"#0d0887\"], [0.1111111111111111, \"#46039f\"], [0.2222222222222222, \"#7201a8\"], [0.3333333333333333, \"#9c179e\"], [0.4444444444444444, \"#bd3786\"], [0.5555555555555556, \"#d8576b\"], [0.6666666666666666, \"#ed7953\"], [0.7777777777777778, \"#fb9f3a\"], [0.8888888888888888, \"#fdca26\"], [1.0, \"#f0f921\"]], \"type\": \"heatmap\"}], \"heatmapgl\": [{\"colorbar\": {\"outlinewidth\": 0, \"ticks\": \"\"}, \"colorscale\": [[0.0, \"#0d0887\"], [0.1111111111111111, \"#46039f\"], [0.2222222222222222, \"#7201a8\"], [0.3333333333333333, \"#9c179e\"], [0.4444444444444444, \"#bd3786\"], [0.5555555555555556, \"#d8576b\"], [0.6666666666666666, \"#ed7953\"], [0.7777777777777778, \"#fb9f3a\"], [0.8888888888888888, \"#fdca26\"], [1.0, \"#f0f921\"]], \"type\": \"heatmapgl\"}], \"histogram\": [{\"marker\": {\"colorbar\": {\"outlinewidth\": 0, \"ticks\": \"\"}}, \"type\": \"histogram\"}], \"histogram2d\": [{\"colorbar\": {\"outlinewidth\": 0, \"ticks\": \"\"}, \"colorscale\": [[0.0, \"#0d0887\"], [0.1111111111111111, \"#46039f\"], [0.2222222222222222, \"#7201a8\"], [0.3333333333333333, \"#9c179e\"], [0.4444444444444444, \"#bd3786\"], [0.5555555555555556, \"#d8576b\"], [0.6666666666666666, \"#ed7953\"], [0.7777777777777778, \"#fb9f3a\"], [0.8888888888888888, \"#fdca26\"], [1.0, \"#f0f921\"]], \"type\": \"histogram2d\"}], \"histogram2dcontour\": [{\"colorbar\": {\"outlinewidth\": 0, \"ticks\": \"\"}, \"colorscale\": [[0.0, \"#0d0887\"], [0.1111111111111111, \"#46039f\"], [0.2222222222222222, \"#7201a8\"], [0.3333333333333333, \"#9c179e\"], [0.4444444444444444, \"#bd3786\"], [0.5555555555555556, \"#d8576b\"], [0.6666666666666666, \"#ed7953\"], [0.7777777777777778, \"#fb9f3a\"], [0.8888888888888888, \"#fdca26\"], [1.0, \"#f0f921\"]], \"type\": \"histogram2dcontour\"}], \"mesh3d\": [{\"colorbar\": {\"outlinewidth\": 0, \"ticks\": \"\"}, \"type\": \"mesh3d\"}], \"parcoords\": [{\"line\": {\"colorbar\": {\"outlinewidth\": 0, \"ticks\": \"\"}}, \"type\": \"parcoords\"}], \"pie\": [{\"automargin\": true, \"type\": \"pie\"}], \"scatter\": [{\"marker\": {\"colorbar\": {\"outlinewidth\": 0, \"ticks\": \"\"}}, \"type\": \"scatter\"}], \"scatter3d\": [{\"line\": {\"colorbar\": {\"outlinewidth\": 0, \"ticks\": \"\"}}, \"marker\": {\"colorbar\": {\"outlinewidth\": 0, \"ticks\": \"\"}}, \"type\": \"scatter3d\"}], \"scattercarpet\": [{\"marker\": {\"colorbar\": {\"outlinewidth\": 0, \"ticks\": \"\"}}, \"type\": \"scattercarpet\"}], \"scattergeo\": [{\"marker\": {\"colorbar\": {\"outlinewidth\": 0, \"ticks\": \"\"}}, \"type\": \"scattergeo\"}], \"scattergl\": [{\"marker\": {\"colorbar\": {\"outlinewidth\": 0, \"ticks\": \"\"}}, \"type\": \"scattergl\"}], \"scattermapbox\": [{\"marker\": {\"colorbar\": {\"outlinewidth\": 0, \"ticks\": \"\"}}, \"type\": \"scattermapbox\"}], \"scatterpolar\": [{\"marker\": {\"colorbar\": {\"outlinewidth\": 0, \"ticks\": \"\"}}, \"type\": \"scatterpolar\"}], \"scatterpolargl\": [{\"marker\": {\"colorbar\": {\"outlinewidth\": 0, \"ticks\": \"\"}}, \"type\": \"scatterpolargl\"}], \"scatterternary\": [{\"marker\": {\"colorbar\": {\"outlinewidth\": 0, \"ticks\": \"\"}}, \"type\": \"scatterternary\"}], \"surface\": [{\"colorbar\": {\"outlinewidth\": 0, \"ticks\": \"\"}, \"colorscale\": [[0.0, \"#0d0887\"], [0.1111111111111111, \"#46039f\"], [0.2222222222222222, \"#7201a8\"], [0.3333333333333333, \"#9c179e\"], [0.4444444444444444, \"#bd3786\"], [0.5555555555555556, \"#d8576b\"], [0.6666666666666666, \"#ed7953\"], [0.7777777777777778, \"#fb9f3a\"], [0.8888888888888888, \"#fdca26\"], [1.0, \"#f0f921\"]], \"type\": \"surface\"}], \"table\": [{\"cells\": {\"fill\": {\"color\": \"#EBF0F8\"}, \"line\": {\"color\": \"white\"}}, \"header\": {\"fill\": {\"color\": \"#C8D4E3\"}, \"line\": {\"color\": \"white\"}}, \"type\": \"table\"}]}, \"layout\": {\"annotationdefaults\": {\"arrowcolor\": \"#2a3f5f\", \"arrowhead\": 0, \"arrowwidth\": 1}, \"coloraxis\": {\"colorbar\": {\"outlinewidth\": 0, \"ticks\": \"\"}}, \"colorscale\": {\"diverging\": [[0, \"#8e0152\"], [0.1, \"#c51b7d\"], [0.2, \"#de77ae\"], [0.3, \"#f1b6da\"], [0.4, \"#fde0ef\"], [0.5, \"#f7f7f7\"], [0.6, \"#e6f5d0\"], [0.7, \"#b8e186\"], [0.8, \"#7fbc41\"], [0.9, \"#4d9221\"], [1, \"#276419\"]], \"sequential\": [[0.0, \"#0d0887\"], [0.1111111111111111, \"#46039f\"], [0.2222222222222222, \"#7201a8\"], [0.3333333333333333, \"#9c179e\"], [0.4444444444444444, \"#bd3786\"], [0.5555555555555556, \"#d8576b\"], [0.6666666666666666, \"#ed7953\"], [0.7777777777777778, \"#fb9f3a\"], [0.8888888888888888, \"#fdca26\"], [1.0, \"#f0f921\"]], \"sequentialminus\": [[0.0, \"#0d0887\"], [0.1111111111111111, \"#46039f\"], [0.2222222222222222, \"#7201a8\"], [0.3333333333333333, \"#9c179e\"], [0.4444444444444444, \"#bd3786\"], [0.5555555555555556, \"#d8576b\"], [0.6666666666666666, \"#ed7953\"], [0.7777777777777778, \"#fb9f3a\"], [0.8888888888888888, \"#fdca26\"], [1.0, \"#f0f921\"]]}, \"colorway\": [\"#636efa\", \"#EF553B\", \"#00cc96\", \"#ab63fa\", \"#FFA15A\", \"#19d3f3\", \"#FF6692\", \"#B6E880\", \"#FF97FF\", \"#FECB52\"], \"font\": {\"color\": \"#2a3f5f\"}, \"geo\": {\"bgcolor\": \"white\", \"lakecolor\": \"white\", \"landcolor\": \"#E5ECF6\", \"showlakes\": true, \"showland\": true, \"subunitcolor\": \"white\"}, \"hoverlabel\": {\"align\": \"left\"}, \"hovermode\": \"closest\", \"mapbox\": {\"style\": \"light\"}, \"paper_bgcolor\": \"white\", \"plot_bgcolor\": \"#E5ECF6\", \"polar\": {\"angularaxis\": {\"gridcolor\": \"white\", \"linecolor\": \"white\", \"ticks\": \"\"}, \"bgcolor\": \"#E5ECF6\", \"radialaxis\": {\"gridcolor\": \"white\", \"linecolor\": \"white\", \"ticks\": \"\"}}, \"scene\": {\"xaxis\": {\"backgroundcolor\": \"#E5ECF6\", \"gridcolor\": \"white\", \"gridwidth\": 2, \"linecolor\": \"white\", \"showbackground\": true, \"ticks\": \"\", \"zerolinecolor\": \"white\"}, \"yaxis\": {\"backgroundcolor\": \"#E5ECF6\", \"gridcolor\": \"white\", \"gridwidth\": 2, \"linecolor\": \"white\", \"showbackground\": true, \"ticks\": \"\", \"zerolinecolor\": \"white\"}, \"zaxis\": {\"backgroundcolor\": \"#E5ECF6\", \"gridcolor\": \"white\", \"gridwidth\": 2, \"linecolor\": \"white\", \"showbackground\": true, \"ticks\": \"\", \"zerolinecolor\": \"white\"}}, \"shapedefaults\": {\"line\": {\"color\": \"#2a3f5f\"}}, \"ternary\": {\"aaxis\": {\"gridcolor\": \"white\", \"linecolor\": \"white\", \"ticks\": \"\"}, \"baxis\": {\"gridcolor\": \"white\", \"linecolor\": \"white\", \"ticks\": \"\"}, \"bgcolor\": \"#E5ECF6\", \"caxis\": {\"gridcolor\": \"white\", \"linecolor\": \"white\", \"ticks\": \"\"}}, \"title\": {\"x\": 0.05}, \"xaxis\": {\"automargin\": true, \"gridcolor\": \"white\", \"linecolor\": \"white\", \"ticks\": \"\", \"title\": {\"standoff\": 15}, \"zerolinecolor\": \"white\", \"zerolinewidth\": 2}, \"yaxis\": {\"automargin\": true, \"gridcolor\": \"white\", \"linecolor\": \"white\", \"ticks\": \"\", \"title\": {\"standoff\": 15}, \"zerolinecolor\": \"white\", \"zerolinewidth\": 2}}}, \"title\": {\"text\": \"Record Status vs. Abundance\"}, \"xaxis\": {\"gridcolor\": \"white\", \"gridwidth\": 2, \"title\": {\"text\": \"# Record Status Approved\"}, \"type\": \"linear\"}, \"yaxis\": {\"gridcolor\": \"white\", \"gridwidth\": 2, \"title\": {\"text\": \"Abundance (ordinal)\"}, \"type\": \"linear\"}},\n",
       "                        {\"responsive\": true}\n",
       "                    ).then(function(){\n",
       "                            \n",
       "var gd = document.getElementById('5235848f-7441-426f-9d48-93e0d5e637c7');\n",
       "var x = new MutationObserver(function (mutations, observer) {{\n",
       "        var display = window.getComputedStyle(gd).display;\n",
       "        if (!display || display === 'none') {{\n",
       "            console.log([gd, 'removed!']);\n",
       "            Plotly.purge(gd);\n",
       "            observer.disconnect();\n",
       "        }}\n",
       "}});\n",
       "\n",
       "// Listen for the removal of the full notebook cells\n",
       "var notebookContainer = gd.closest('#notebook-container');\n",
       "if (notebookContainer) {{\n",
       "    x.observe(notebookContainer, {childList: true});\n",
       "}}\n",
       "\n",
       "// Listen for the clearing of the current output cell\n",
       "var outputEl = gd.closest('.output');\n",
       "if (outputEl) {{\n",
       "    x.observe(outputEl, {childList: true});\n",
       "}}\n",
       "\n",
       "                        })\n",
       "                };\n",
       "                });\n",
       "            </script>\n",
       "        </div>"
      ]
     },
     "metadata": {},
     "output_type": "display_data"
    }
   ],
   "source": [
    "cat_01 = 'RecordStatus_Approved'\n",
    "cat_02 = 'Abundance_ordinal'\n",
    "title = 'Record Status vs. Abundance'\n",
    "title_cat_01 = '# Record Status Approved'\n",
    "title_cat_02 = 'Abundance (ordinal)'\n",
    "fig =bubbleplot(df_park,cat_01,cat_02,title,title_cat_01,title_cat_02,x_axis_type='linear',cross_plot=parks_endangered)\n"
   ]
  },
  {
   "cell_type": "markdown",
   "metadata": {},
   "source": [
    "## Gradient Boosting Regressor"
   ]
  },
  {
   "cell_type": "code",
   "execution_count": 171,
   "metadata": {},
   "outputs": [
    {
     "name": "stdout",
     "output_type": "stream",
     "text": [
      "Explained Variance:  0.6754990592320642\n",
      "Mean square error:  0.2692243031806314\n",
      "Mean absolute error:  0.3966810804501647\n",
      "R2 score/Coeff. of determination:  0.6548074462293391\n"
     ]
    }
   ],
   "source": [
    "from sklearn.ensemble import GradientBoostingRegressor\n",
    "gbr = GradientBoostingRegressor(random_state=42,min_samples_leaf=1,max_depth=3,max_features=6,subsample=0.5,n_estimators=150)\n",
    "# Fit the model on the trainng data.\n",
    "gbr.fit(X_train, y_train)\n",
    "# Print the accuracy from the testing data.\n",
    "y_pred = gbr.predict(X_test)\n",
    "print('Explained Variance: ',explained_variance_score(y_test,y_pred))\n",
    "print('Mean square error: ',mean_squared_error(y_test,y_pred))\n",
    "print('Mean absolute error: ',mean_absolute_error(y_test,y_pred))\n",
    "print('R2 score/Coeff. of determination: ',r2_score(y_test,y_pred))"
   ]
  },
  {
   "cell_type": "code",
   "execution_count": 208,
   "metadata": {},
   "outputs": [
    {
     "name": "stdout",
     "output_type": "stream",
     "text": [
      "Most important Features:\n",
      "Vagrant_Native_Present : 5.8%\n",
      "Vagrant_Present : 6.5%\n",
      "Breeder_Native_Present : 8.1%\n",
      "Breeder_Present : 19.6%\n",
      "RecordStatus_Approved : 20.3%\n"
     ]
    }
   ],
   "source": [
    "print('Most important Features:')\n",
    "gbr = GradientBoostingRegressor(random_state=42,min_samples_leaf=1,max_depth=3,max_features=6,subsample=0.5,n_estimators=150)\n",
    "gbr.fit(X_train, y_train)\n",
    "ind = argsort(gbr.feature_importances_)\n",
    "for i in ind[-5:]:\n",
    "    print('{} : {:.1f}%'.format(df_norm.drop(pred_var,axis=1).columns[i],100*gbr.feature_importances_[i]))"
   ]
  },
  {
   "cell_type": "code",
   "execution_count": 217,
   "metadata": {},
   "outputs": [
    {
     "data": {
      "application/vnd.plotly.v1+json": {
       "config": {
        "plotlyServerURL": "https://plot.ly"
       },
       "data": [
        {
         "marker": {
          "line": {
           "width": 2
          },
          "size": [
           31.25699921617557,
           26.870057685088806,
           29.782545223670862,
           27.367864366808018,
           24.269322199023193,
           23.515952032609693,
           30.822070014844883,
           38.39270764090493
          ],
          "sizemode": "area",
          "sizeref": 0.05775
         },
         "mode": "markers",
         "name": "0",
         "text": [
          "Park Name: Denali National Park and Preserve<br>Size: 3372402<br># Species: 999<br># Native Species: 977<br>",
          "Park Name: Gates Of The Arctic National Park and Preserve<br>Size: 7523898<br># Species: 722<br># Native Species: 722<br>",
          "Park Name: Glacier Bay National Park and Preserve<br>Size: 3224840<br># Species: 916<br># Native Species: 887<br>",
          "Park Name: Katmai National Park and Preserve<br>Size: 3674530<br># Species: 760<br># Native Species: 749<br>",
          "Park Name: Kenai Fjords National Park<br>Size: 669983<br># Species: 605<br># Native Species: 589<br>",
          "Park Name: Kobuk Valley National Park<br>Size: 1750717<br># Species: 553<br># Native Species: 553<br>",
          "Park Name: Lake Clark National Park and Preserve<br>Size: 2619733<br># Species: 970<br># Native Species: 950<br>",
          "Park Name: Wrangell - St Elias National Park and Preserve<br>Size: 8323148<br># Species: 1509<br># Native Species: 1474<br>"
         ],
         "type": "scatter",
         "x": [
          1058,
          871,
          1422,
          1024,
          992,
          663,
          1473,
          1790
         ],
         "y": [
          148,
          68,
          137,
          167,
          118,
          51,
          167,
          201
         ]
        },
        {
         "marker": {
          "line": {
           "width": 2
          },
          "size": [
           34.539832078341085,
           40.24922359499622
          ],
          "sizemode": "area",
          "sizeref": 0.05775
         },
         "mode": "markers",
         "name": "1",
         "text": [
          "Park Name: Haleakala National Park<br>Size: 29094<br># Species: 2023<br># Native Species: 1193<br>",
          "Park Name: Hawaii Volcanoes National Park<br>Size: 323431<br># Species: 2722<br># Native Species: 1620<br>"
         ],
         "type": "scatter",
         "x": [
          1048,
          3298
         ],
         "y": [
          1042,
          1649
         ]
        },
        {
         "marker": {
          "line": {
           "width": 2
          },
          "size": [
           36.46916505762094,
           47.30750469005948,
           34.713109915419565,
           38.05259518088089,
           44.710177812216315
          ],
          "sizemode": "area",
          "sizeref": 0.05775
         },
         "mode": "markers",
         "name": "2",
         "text": [
          "Park Name: Death Valley National Park<br>Size: 4740912<br># Species: 1410<br># Native Species: 1330<br>",
          "Park Name: Great Smoky Mountains National Park<br>Size: 521490<br># Species: 2598<br># Native Species: 2238<br>",
          "Park Name: Redwood National Park<br>Size: 112512<br># Species: 1525<br># Native Species: 1205<br>",
          "Park Name: Shenandoah National Park<br>Size: 199045<br># Species: 1824<br># Native Species: 1448<br>",
          "Park Name: Yellowstone National Park<br>Size: 2219791<br># Species: 2188<br># Native Species: 1999<br>"
         ],
         "type": "scatter",
         "x": [
          1822,
          2655,
          1530,
          2643,
          1990
         ],
         "y": [
          134,
          316,
          280,
          293,
          239
         ]
        },
        {
         "marker": {
          "line": {
           "width": 2
          },
          "size": [
           43.61192497471305,
           25.729360660537214,
           40.28647415696737,
           38.768543949960254,
           18.439088914585774,
           37.134889255254286,
           48.062459362791664
          ],
          "sizemode": "area",
          "sizeref": 0.05775
         },
         "mode": "markers",
         "name": "3",
         "text": [
          "Park Name: Big Bend National Park<br>Size: 801163<br># Species: 2011<br># Native Species: 1902<br>",
          "Park Name: Biscayne National Park<br>Size: 172924<br># Species: 839<br># Native Species: 662<br>",
          "Park Name: Channel Islands National Park<br>Size: 249561<br># Species: 1847<br># Native Species: 1623<br>",
          "Park Name: Cuyahoga Valley National Park<br>Size: 32950<br># Species: 1770<br># Native Species: 1503<br>",
          "Park Name: Dry Tortugas National Park<br>Size: 64701<br># Species: 481<br># Native Species: 340<br>",
          "Park Name: Everglades National Park<br>Size: 1508538<br># Species: 1780<br># Native Species: 1379<br>",
          "Park Name: Grand Canyon National Park<br>Size: 1217403<br># Species: 2532<br># Native Species: 2310<br>"
         ],
         "type": "scatter",
         "x": [
          2144,
          1600,
          1863,
          1695,
          842,
          1872,
          2583
         ],
         "y": [
          191,
          81,
          205,
          237,
          12,
          168,
          426
         ]
        },
        {
         "marker": {
          "line": {
           "width": 2
          },
          "size": [
           29.715315916207253,
           25.787593916455254,
           24.939927826679853,
           24.758836806279895,
           26.981475126464083,
           28,
           32.0624390837628,
           36.823905279043935,
           33.481338085566414,
           32.69556544854363,
           45.36518488885502,
           38.02630668366309,
           29.782545223670862,
           28.089143810376278,
           39.08964057138413,
           22.891046284519195,
           32.046840717924134,
           28.600699292150182,
           30.903074280724887,
           38.09199390948182,
           31.38470965295043,
           32.17141588429082,
           42.67317658670374,
           35.25620512760839,
           26.038433132583073,
           28.478061731796284,
           37.841775856849004,
           38.36665218650175,
           39.88734135035826,
           26.92582403567252,
           32.31098884280702,
           28.178005607210743,
           41.255302689472536,
           34.11744421846396
          ],
          "sizemode": "area",
          "sizeref": 0.05775
         },
         "mode": "markers",
         "name": "4",
         "text": [
          "Park Name: Acadia National Park<br>Size: 47390<br># Species: 1157<br># Native Species: 883<br>",
          "Park Name: Arches National Park<br>Size: 76519<br># Species: 749<br># Native Species: 665<br>",
          "Park Name: Badlands National Park<br>Size: 242756<br># Species: 700<br># Native Species: 622<br>",
          "Park Name: Black Canyon of the Gunnison National Park<br>Size: 32950<br># Species: 689<br># Native Species: 613<br>",
          "Park Name: Bryce Canyon National Park<br>Size: 35835<br># Species: 788<br># Native Species: 728<br>",
          "Park Name: Canyonlands National Park<br>Size: 337598<br># Species: 866<br># Native Species: 784<br>",
          "Park Name: Capitol Reef National Park<br>Size: 241904<br># Species: 1161<br># Native Species: 1028<br>",
          "Park Name: Carlsbad Caverns National Park<br>Size: 46766<br># Species: 1427<br># Native Species: 1356<br>",
          "Park Name: Congaree National Park<br>Size: 26546<br># Species: 1205<br># Native Species: 1121<br>",
          "Park Name: Crater Lake National Park<br>Size: 183224<br># Species: 1122<br># Native Species: 1069<br>",
          "Park Name: Glacier National Park<br>Size: 1013572<br># Species: 2196<br># Native Species: 2058<br>",
          "Park Name: Grand Teton National Park<br>Size: 309995<br># Species: 1587<br># Native Species: 1446<br>",
          "Park Name: Great Basin National Park<br>Size: 77180<br># Species: 955<br># Native Species: 887<br>",
          "Park Name: Great Sand Dunes National Park and Preserve<br>Size: 42984<br># Species: 813<br># Native Species: 789<br>",
          "Park Name: Guadalupe Mountains National Park<br>Size: 86416<br># Species: 1578<br># Native Species: 1528<br>",
          "Park Name: Hot Springs National Park<br>Size: 5550<br># Species: 588<br># Native Species: 524<br>",
          "Park Name: Isle Royale National Park<br>Size: 571790<br># Species: 1167<br># Native Species: 1027<br>",
          "Park Name: Joshua Tree National Park<br>Size: 789745<br># Species: 849<br># Native Species: 818<br>",
          "Park Name: Lassen Volcanic National Park<br>Size: 106372<br># Species: 1005<br># Native Species: 955<br>",
          "Park Name: Mammoth Cave National Park<br>Size: 52830<br># Species: 1628<br># Native Species: 1451<br>",
          "Park Name: Mesa Verde National Park<br>Size: 52122<br># Species: 1106<br># Native Species: 985<br>",
          "Park Name: Mount Rainier National Park<br>Size: 235625<br># Species: 1191<br># Native Species: 1035<br>",
          "Park Name: North Cascades National Park<br>Size: 504781<br># Species: 2053<br># Native Species: 1821<br>",
          "Park Name: Olympic National Park<br>Size: 922651<br># Species: 1356<br># Native Species: 1243<br>",
          "Park Name: Petrified Forest National Park<br>Size: 93533<br># Species: 732<br># Native Species: 678<br>",
          "Park Name: Pinnacles National Park<br>Size: 26606<br># Species: 940<br># Native Species: 811<br>",
          "Park Name: Rocky Mountain National Park<br>Size: 265828<br># Species: 1526<br># Native Species: 1432<br>",
          "Park Name: Saguaro National Park<br>Size: 91440<br># Species: 1578<br># Native Species: 1472<br>",
          "Park Name: Sequoia and Kings Canyon National Parks<br>Size: 865952<br># Species: 1818<br># Native Species: 1591<br>",
          "Park Name: Theodore Roosevelt National Park<br>Size: 70447<br># Species: 807<br># Native Species: 725<br>",
          "Park Name: Voyageurs National Park<br>Size: 218200<br># Species: 1173<br># Native Species: 1044<br>",
          "Park Name: Wind Cave National Park<br>Size: 28295<br># Species: 890<br># Native Species: 794<br>",
          "Park Name: Yosemite National Park<br>Size: 761266<br># Species: 1896<br># Native Species: 1702<br>",
          "Park Name: Zion National Park<br>Size: 146598<br># Species: 1316<br># Native Species: 1164<br>"
         ],
         "type": "scatter",
         "x": [
          1694,
          1046,
          895,
          1106,
          1285,
          1223,
          1566,
          1481,
          1240,
          946,
          1643,
          1821,
          1149,
          801,
          1437,
          1743,
          1359,
          1299,
          1265,
          2055,
          1227,
          1303,
          3246,
          1907,
          843,
          1258,
          1416,
          1672,
          1995,
          977,
          1396,
          1237,
          2054,
          1791
         ],
         "y": [
          165,
          92,
          91,
          69,
          136,
          143,
          186,
          94,
          89,
          150,
          421,
          228,
          155,
          167,
          99,
          125,
          146,
          148,
          153,
          249,
          138,
          189,
          426,
          277,
          72,
          196,
          211,
          192,
          235,
          130,
          208,
          134,
          244,
          197
         ]
        },
        {
         "marker": {
          "color": "black"
         },
         "mode": "markers",
         "name": "Endangered",
         "type": "scatter",
         "x": [
          2655,
          1743,
          1600,
          842,
          1600,
          1530,
          1046,
          1285,
          1223,
          1566,
          1822,
          1149,
          2583,
          1299,
          1265,
          1227,
          1258,
          1995,
          2054,
          1791
         ],
         "y": [
          316,
          125,
          81,
          12,
          81,
          280,
          92,
          136,
          143,
          186,
          134,
          155,
          426,
          148,
          153,
          138,
          196,
          235,
          244,
          197
         ]
        }
       ],
       "layout": {
        "legend": {
         "title": {
          "text": "Cluster"
         }
        },
        "template": {
         "data": {
          "bar": [
           {
            "error_x": {
             "color": "#2a3f5f"
            },
            "error_y": {
             "color": "#2a3f5f"
            },
            "marker": {
             "line": {
              "color": "#E5ECF6",
              "width": 0.5
             }
            },
            "type": "bar"
           }
          ],
          "barpolar": [
           {
            "marker": {
             "line": {
              "color": "#E5ECF6",
              "width": 0.5
             }
            },
            "type": "barpolar"
           }
          ],
          "carpet": [
           {
            "aaxis": {
             "endlinecolor": "#2a3f5f",
             "gridcolor": "white",
             "linecolor": "white",
             "minorgridcolor": "white",
             "startlinecolor": "#2a3f5f"
            },
            "baxis": {
             "endlinecolor": "#2a3f5f",
             "gridcolor": "white",
             "linecolor": "white",
             "minorgridcolor": "white",
             "startlinecolor": "#2a3f5f"
            },
            "type": "carpet"
           }
          ],
          "choropleth": [
           {
            "colorbar": {
             "outlinewidth": 0,
             "ticks": ""
            },
            "type": "choropleth"
           }
          ],
          "contour": [
           {
            "colorbar": {
             "outlinewidth": 0,
             "ticks": ""
            },
            "colorscale": [
             [
              0,
              "#0d0887"
             ],
             [
              0.1111111111111111,
              "#46039f"
             ],
             [
              0.2222222222222222,
              "#7201a8"
             ],
             [
              0.3333333333333333,
              "#9c179e"
             ],
             [
              0.4444444444444444,
              "#bd3786"
             ],
             [
              0.5555555555555556,
              "#d8576b"
             ],
             [
              0.6666666666666666,
              "#ed7953"
             ],
             [
              0.7777777777777778,
              "#fb9f3a"
             ],
             [
              0.8888888888888888,
              "#fdca26"
             ],
             [
              1,
              "#f0f921"
             ]
            ],
            "type": "contour"
           }
          ],
          "contourcarpet": [
           {
            "colorbar": {
             "outlinewidth": 0,
             "ticks": ""
            },
            "type": "contourcarpet"
           }
          ],
          "heatmap": [
           {
            "colorbar": {
             "outlinewidth": 0,
             "ticks": ""
            },
            "colorscale": [
             [
              0,
              "#0d0887"
             ],
             [
              0.1111111111111111,
              "#46039f"
             ],
             [
              0.2222222222222222,
              "#7201a8"
             ],
             [
              0.3333333333333333,
              "#9c179e"
             ],
             [
              0.4444444444444444,
              "#bd3786"
             ],
             [
              0.5555555555555556,
              "#d8576b"
             ],
             [
              0.6666666666666666,
              "#ed7953"
             ],
             [
              0.7777777777777778,
              "#fb9f3a"
             ],
             [
              0.8888888888888888,
              "#fdca26"
             ],
             [
              1,
              "#f0f921"
             ]
            ],
            "type": "heatmap"
           }
          ],
          "heatmapgl": [
           {
            "colorbar": {
             "outlinewidth": 0,
             "ticks": ""
            },
            "colorscale": [
             [
              0,
              "#0d0887"
             ],
             [
              0.1111111111111111,
              "#46039f"
             ],
             [
              0.2222222222222222,
              "#7201a8"
             ],
             [
              0.3333333333333333,
              "#9c179e"
             ],
             [
              0.4444444444444444,
              "#bd3786"
             ],
             [
              0.5555555555555556,
              "#d8576b"
             ],
             [
              0.6666666666666666,
              "#ed7953"
             ],
             [
              0.7777777777777778,
              "#fb9f3a"
             ],
             [
              0.8888888888888888,
              "#fdca26"
             ],
             [
              1,
              "#f0f921"
             ]
            ],
            "type": "heatmapgl"
           }
          ],
          "histogram": [
           {
            "marker": {
             "colorbar": {
              "outlinewidth": 0,
              "ticks": ""
             }
            },
            "type": "histogram"
           }
          ],
          "histogram2d": [
           {
            "colorbar": {
             "outlinewidth": 0,
             "ticks": ""
            },
            "colorscale": [
             [
              0,
              "#0d0887"
             ],
             [
              0.1111111111111111,
              "#46039f"
             ],
             [
              0.2222222222222222,
              "#7201a8"
             ],
             [
              0.3333333333333333,
              "#9c179e"
             ],
             [
              0.4444444444444444,
              "#bd3786"
             ],
             [
              0.5555555555555556,
              "#d8576b"
             ],
             [
              0.6666666666666666,
              "#ed7953"
             ],
             [
              0.7777777777777778,
              "#fb9f3a"
             ],
             [
              0.8888888888888888,
              "#fdca26"
             ],
             [
              1,
              "#f0f921"
             ]
            ],
            "type": "histogram2d"
           }
          ],
          "histogram2dcontour": [
           {
            "colorbar": {
             "outlinewidth": 0,
             "ticks": ""
            },
            "colorscale": [
             [
              0,
              "#0d0887"
             ],
             [
              0.1111111111111111,
              "#46039f"
             ],
             [
              0.2222222222222222,
              "#7201a8"
             ],
             [
              0.3333333333333333,
              "#9c179e"
             ],
             [
              0.4444444444444444,
              "#bd3786"
             ],
             [
              0.5555555555555556,
              "#d8576b"
             ],
             [
              0.6666666666666666,
              "#ed7953"
             ],
             [
              0.7777777777777778,
              "#fb9f3a"
             ],
             [
              0.8888888888888888,
              "#fdca26"
             ],
             [
              1,
              "#f0f921"
             ]
            ],
            "type": "histogram2dcontour"
           }
          ],
          "mesh3d": [
           {
            "colorbar": {
             "outlinewidth": 0,
             "ticks": ""
            },
            "type": "mesh3d"
           }
          ],
          "parcoords": [
           {
            "line": {
             "colorbar": {
              "outlinewidth": 0,
              "ticks": ""
             }
            },
            "type": "parcoords"
           }
          ],
          "pie": [
           {
            "automargin": true,
            "type": "pie"
           }
          ],
          "scatter": [
           {
            "marker": {
             "colorbar": {
              "outlinewidth": 0,
              "ticks": ""
             }
            },
            "type": "scatter"
           }
          ],
          "scatter3d": [
           {
            "line": {
             "colorbar": {
              "outlinewidth": 0,
              "ticks": ""
             }
            },
            "marker": {
             "colorbar": {
              "outlinewidth": 0,
              "ticks": ""
             }
            },
            "type": "scatter3d"
           }
          ],
          "scattercarpet": [
           {
            "marker": {
             "colorbar": {
              "outlinewidth": 0,
              "ticks": ""
             }
            },
            "type": "scattercarpet"
           }
          ],
          "scattergeo": [
           {
            "marker": {
             "colorbar": {
              "outlinewidth": 0,
              "ticks": ""
             }
            },
            "type": "scattergeo"
           }
          ],
          "scattergl": [
           {
            "marker": {
             "colorbar": {
              "outlinewidth": 0,
              "ticks": ""
             }
            },
            "type": "scattergl"
           }
          ],
          "scattermapbox": [
           {
            "marker": {
             "colorbar": {
              "outlinewidth": 0,
              "ticks": ""
             }
            },
            "type": "scattermapbox"
           }
          ],
          "scatterpolar": [
           {
            "marker": {
             "colorbar": {
              "outlinewidth": 0,
              "ticks": ""
             }
            },
            "type": "scatterpolar"
           }
          ],
          "scatterpolargl": [
           {
            "marker": {
             "colorbar": {
              "outlinewidth": 0,
              "ticks": ""
             }
            },
            "type": "scatterpolargl"
           }
          ],
          "scatterternary": [
           {
            "marker": {
             "colorbar": {
              "outlinewidth": 0,
              "ticks": ""
             }
            },
            "type": "scatterternary"
           }
          ],
          "surface": [
           {
            "colorbar": {
             "outlinewidth": 0,
             "ticks": ""
            },
            "colorscale": [
             [
              0,
              "#0d0887"
             ],
             [
              0.1111111111111111,
              "#46039f"
             ],
             [
              0.2222222222222222,
              "#7201a8"
             ],
             [
              0.3333333333333333,
              "#9c179e"
             ],
             [
              0.4444444444444444,
              "#bd3786"
             ],
             [
              0.5555555555555556,
              "#d8576b"
             ],
             [
              0.6666666666666666,
              "#ed7953"
             ],
             [
              0.7777777777777778,
              "#fb9f3a"
             ],
             [
              0.8888888888888888,
              "#fdca26"
             ],
             [
              1,
              "#f0f921"
             ]
            ],
            "type": "surface"
           }
          ],
          "table": [
           {
            "cells": {
             "fill": {
              "color": "#EBF0F8"
             },
             "line": {
              "color": "white"
             }
            },
            "header": {
             "fill": {
              "color": "#C8D4E3"
             },
             "line": {
              "color": "white"
             }
            },
            "type": "table"
           }
          ]
         },
         "layout": {
          "annotationdefaults": {
           "arrowcolor": "#2a3f5f",
           "arrowhead": 0,
           "arrowwidth": 1
          },
          "coloraxis": {
           "colorbar": {
            "outlinewidth": 0,
            "ticks": ""
           }
          },
          "colorscale": {
           "diverging": [
            [
             0,
             "#8e0152"
            ],
            [
             0.1,
             "#c51b7d"
            ],
            [
             0.2,
             "#de77ae"
            ],
            [
             0.3,
             "#f1b6da"
            ],
            [
             0.4,
             "#fde0ef"
            ],
            [
             0.5,
             "#f7f7f7"
            ],
            [
             0.6,
             "#e6f5d0"
            ],
            [
             0.7,
             "#b8e186"
            ],
            [
             0.8,
             "#7fbc41"
            ],
            [
             0.9,
             "#4d9221"
            ],
            [
             1,
             "#276419"
            ]
           ],
           "sequential": [
            [
             0,
             "#0d0887"
            ],
            [
             0.1111111111111111,
             "#46039f"
            ],
            [
             0.2222222222222222,
             "#7201a8"
            ],
            [
             0.3333333333333333,
             "#9c179e"
            ],
            [
             0.4444444444444444,
             "#bd3786"
            ],
            [
             0.5555555555555556,
             "#d8576b"
            ],
            [
             0.6666666666666666,
             "#ed7953"
            ],
            [
             0.7777777777777778,
             "#fb9f3a"
            ],
            [
             0.8888888888888888,
             "#fdca26"
            ],
            [
             1,
             "#f0f921"
            ]
           ],
           "sequentialminus": [
            [
             0,
             "#0d0887"
            ],
            [
             0.1111111111111111,
             "#46039f"
            ],
            [
             0.2222222222222222,
             "#7201a8"
            ],
            [
             0.3333333333333333,
             "#9c179e"
            ],
            [
             0.4444444444444444,
             "#bd3786"
            ],
            [
             0.5555555555555556,
             "#d8576b"
            ],
            [
             0.6666666666666666,
             "#ed7953"
            ],
            [
             0.7777777777777778,
             "#fb9f3a"
            ],
            [
             0.8888888888888888,
             "#fdca26"
            ],
            [
             1,
             "#f0f921"
            ]
           ]
          },
          "colorway": [
           "#636efa",
           "#EF553B",
           "#00cc96",
           "#ab63fa",
           "#FFA15A",
           "#19d3f3",
           "#FF6692",
           "#B6E880",
           "#FF97FF",
           "#FECB52"
          ],
          "font": {
           "color": "#2a3f5f"
          },
          "geo": {
           "bgcolor": "white",
           "lakecolor": "white",
           "landcolor": "#E5ECF6",
           "showlakes": true,
           "showland": true,
           "subunitcolor": "white"
          },
          "hoverlabel": {
           "align": "left"
          },
          "hovermode": "closest",
          "mapbox": {
           "style": "light"
          },
          "paper_bgcolor": "white",
          "plot_bgcolor": "#E5ECF6",
          "polar": {
           "angularaxis": {
            "gridcolor": "white",
            "linecolor": "white",
            "ticks": ""
           },
           "bgcolor": "#E5ECF6",
           "radialaxis": {
            "gridcolor": "white",
            "linecolor": "white",
            "ticks": ""
           }
          },
          "scene": {
           "xaxis": {
            "backgroundcolor": "#E5ECF6",
            "gridcolor": "white",
            "gridwidth": 2,
            "linecolor": "white",
            "showbackground": true,
            "ticks": "",
            "zerolinecolor": "white"
           },
           "yaxis": {
            "backgroundcolor": "#E5ECF6",
            "gridcolor": "white",
            "gridwidth": 2,
            "linecolor": "white",
            "showbackground": true,
            "ticks": "",
            "zerolinecolor": "white"
           },
           "zaxis": {
            "backgroundcolor": "#E5ECF6",
            "gridcolor": "white",
            "gridwidth": 2,
            "linecolor": "white",
            "showbackground": true,
            "ticks": "",
            "zerolinecolor": "white"
           }
          },
          "shapedefaults": {
           "line": {
            "color": "#2a3f5f"
           }
          },
          "ternary": {
           "aaxis": {
            "gridcolor": "white",
            "linecolor": "white",
            "ticks": ""
           },
           "baxis": {
            "gridcolor": "white",
            "linecolor": "white",
            "ticks": ""
           },
           "bgcolor": "#E5ECF6",
           "caxis": {
            "gridcolor": "white",
            "linecolor": "white",
            "ticks": ""
           }
          },
          "title": {
           "x": 0.05
          },
          "xaxis": {
           "automargin": true,
           "gridcolor": "white",
           "linecolor": "white",
           "ticks": "",
           "title": {
            "standoff": 15
           },
           "zerolinecolor": "white",
           "zerolinewidth": 2
          },
          "yaxis": {
           "automargin": true,
           "gridcolor": "white",
           "linecolor": "white",
           "ticks": "",
           "title": {
            "standoff": 15
           },
           "zerolinecolor": "white",
           "zerolinewidth": 2
          }
         }
        },
        "title": {
         "text": "Record Status vs. Breeder Species"
        },
        "xaxis": {
         "gridcolor": "white",
         "gridwidth": 2,
         "title": {
          "text": "# Record Status Approved"
         },
         "type": "linear"
        },
        "yaxis": {
         "gridcolor": "white",
         "gridwidth": 2,
         "title": {
          "text": "# Breeder Species"
         },
         "type": "linear"
        }
       }
      },
      "text/html": [
       "<div>\n",
       "        \n",
       "        \n",
       "            <div id=\"8761b6ad-379f-49b6-81cc-d3a504a7789d\" class=\"plotly-graph-div\" style=\"height:525px; width:100%;\"></div>\n",
       "            <script type=\"text/javascript\">\n",
       "                require([\"plotly\"], function(Plotly) {\n",
       "                    window.PLOTLYENV=window.PLOTLYENV || {};\n",
       "                    \n",
       "                if (document.getElementById(\"8761b6ad-379f-49b6-81cc-d3a504a7789d\")) {\n",
       "                    Plotly.newPlot(\n",
       "                        '8761b6ad-379f-49b6-81cc-d3a504a7789d',\n",
       "                        [{\"marker\": {\"line\": {\"width\": 2}, \"size\": [31.25699921617557, 26.870057685088806, 29.782545223670862, 27.367864366808018, 24.269322199023193, 23.515952032609693, 30.822070014844883, 38.39270764090493], \"sizemode\": \"area\", \"sizeref\": 0.05775}, \"mode\": \"markers\", \"name\": \"0\", \"text\": [\"Park Name: Denali National Park and Preserve<br>Size: 3372402<br># Species: 999<br># Native Species: 977<br>\", \"Park Name: Gates Of The Arctic National Park and Preserve<br>Size: 7523898<br># Species: 722<br># Native Species: 722<br>\", \"Park Name: Glacier Bay National Park and Preserve<br>Size: 3224840<br># Species: 916<br># Native Species: 887<br>\", \"Park Name: Katmai National Park and Preserve<br>Size: 3674530<br># Species: 760<br># Native Species: 749<br>\", \"Park Name: Kenai Fjords National Park<br>Size: 669983<br># Species: 605<br># Native Species: 589<br>\", \"Park Name: Kobuk Valley National Park<br>Size: 1750717<br># Species: 553<br># Native Species: 553<br>\", \"Park Name: Lake Clark National Park and Preserve<br>Size: 2619733<br># Species: 970<br># Native Species: 950<br>\", \"Park Name: Wrangell - St Elias National Park and Preserve<br>Size: 8323148<br># Species: 1509<br># Native Species: 1474<br>\"], \"type\": \"scatter\", \"x\": [1058, 871, 1422, 1024, 992, 663, 1473, 1790], \"y\": [148, 68, 137, 167, 118, 51, 167, 201]}, {\"marker\": {\"line\": {\"width\": 2}, \"size\": [34.539832078341085, 40.24922359499622], \"sizemode\": \"area\", \"sizeref\": 0.05775}, \"mode\": \"markers\", \"name\": \"1\", \"text\": [\"Park Name: Haleakala National Park<br>Size: 29094<br># Species: 2023<br># Native Species: 1193<br>\", \"Park Name: Hawaii Volcanoes National Park<br>Size: 323431<br># Species: 2722<br># Native Species: 1620<br>\"], \"type\": \"scatter\", \"x\": [1048, 3298], \"y\": [1042, 1649]}, {\"marker\": {\"line\": {\"width\": 2}, \"size\": [36.46916505762094, 47.30750469005948, 34.713109915419565, 38.05259518088089, 44.710177812216315], \"sizemode\": \"area\", \"sizeref\": 0.05775}, \"mode\": \"markers\", \"name\": \"2\", \"text\": [\"Park Name: Death Valley National Park<br>Size: 4740912<br># Species: 1410<br># Native Species: 1330<br>\", \"Park Name: Great Smoky Mountains National Park<br>Size: 521490<br># Species: 2598<br># Native Species: 2238<br>\", \"Park Name: Redwood National Park<br>Size: 112512<br># Species: 1525<br># Native Species: 1205<br>\", \"Park Name: Shenandoah National Park<br>Size: 199045<br># Species: 1824<br># Native Species: 1448<br>\", \"Park Name: Yellowstone National Park<br>Size: 2219791<br># Species: 2188<br># Native Species: 1999<br>\"], \"type\": \"scatter\", \"x\": [1822, 2655, 1530, 2643, 1990], \"y\": [134, 316, 280, 293, 239]}, {\"marker\": {\"line\": {\"width\": 2}, \"size\": [43.61192497471305, 25.729360660537214, 40.28647415696737, 38.768543949960254, 18.439088914585774, 37.134889255254286, 48.062459362791664], \"sizemode\": \"area\", \"sizeref\": 0.05775}, \"mode\": \"markers\", \"name\": \"3\", \"text\": [\"Park Name: Big Bend National Park<br>Size: 801163<br># Species: 2011<br># Native Species: 1902<br>\", \"Park Name: Biscayne National Park<br>Size: 172924<br># Species: 839<br># Native Species: 662<br>\", \"Park Name: Channel Islands National Park<br>Size: 249561<br># Species: 1847<br># Native Species: 1623<br>\", \"Park Name: Cuyahoga Valley National Park<br>Size: 32950<br># Species: 1770<br># Native Species: 1503<br>\", \"Park Name: Dry Tortugas National Park<br>Size: 64701<br># Species: 481<br># Native Species: 340<br>\", \"Park Name: Everglades National Park<br>Size: 1508538<br># Species: 1780<br># Native Species: 1379<br>\", \"Park Name: Grand Canyon National Park<br>Size: 1217403<br># Species: 2532<br># Native Species: 2310<br>\"], \"type\": \"scatter\", \"x\": [2144, 1600, 1863, 1695, 842, 1872, 2583], \"y\": [191, 81, 205, 237, 12, 168, 426]}, {\"marker\": {\"line\": {\"width\": 2}, \"size\": [29.715315916207253, 25.787593916455254, 24.939927826679853, 24.758836806279895, 26.981475126464083, 28.0, 32.0624390837628, 36.823905279043935, 33.481338085566414, 32.69556544854363, 45.36518488885502, 38.02630668366309, 29.782545223670862, 28.089143810376278, 39.08964057138413, 22.891046284519195, 32.046840717924134, 28.600699292150182, 30.903074280724887, 38.09199390948182, 31.38470965295043, 32.17141588429082, 42.67317658670374, 35.25620512760839, 26.038433132583073, 28.478061731796284, 37.841775856849004, 38.36665218650175, 39.88734135035826, 26.92582403567252, 32.31098884280702, 28.178005607210743, 41.255302689472536, 34.11744421846396], \"sizemode\": \"area\", \"sizeref\": 0.05775}, \"mode\": \"markers\", \"name\": \"4\", \"text\": [\"Park Name: Acadia National Park<br>Size: 47390<br># Species: 1157<br># Native Species: 883<br>\", \"Park Name: Arches National Park<br>Size: 76519<br># Species: 749<br># Native Species: 665<br>\", \"Park Name: Badlands National Park<br>Size: 242756<br># Species: 700<br># Native Species: 622<br>\", \"Park Name: Black Canyon of the Gunnison National Park<br>Size: 32950<br># Species: 689<br># Native Species: 613<br>\", \"Park Name: Bryce Canyon National Park<br>Size: 35835<br># Species: 788<br># Native Species: 728<br>\", \"Park Name: Canyonlands National Park<br>Size: 337598<br># Species: 866<br># Native Species: 784<br>\", \"Park Name: Capitol Reef National Park<br>Size: 241904<br># Species: 1161<br># Native Species: 1028<br>\", \"Park Name: Carlsbad Caverns National Park<br>Size: 46766<br># Species: 1427<br># Native Species: 1356<br>\", \"Park Name: Congaree National Park<br>Size: 26546<br># Species: 1205<br># Native Species: 1121<br>\", \"Park Name: Crater Lake National Park<br>Size: 183224<br># Species: 1122<br># Native Species: 1069<br>\", \"Park Name: Glacier National Park<br>Size: 1013572<br># Species: 2196<br># Native Species: 2058<br>\", \"Park Name: Grand Teton National Park<br>Size: 309995<br># Species: 1587<br># Native Species: 1446<br>\", \"Park Name: Great Basin National Park<br>Size: 77180<br># Species: 955<br># Native Species: 887<br>\", \"Park Name: Great Sand Dunes National Park and Preserve<br>Size: 42984<br># Species: 813<br># Native Species: 789<br>\", \"Park Name: Guadalupe Mountains National Park<br>Size: 86416<br># Species: 1578<br># Native Species: 1528<br>\", \"Park Name: Hot Springs National Park<br>Size: 5550<br># Species: 588<br># Native Species: 524<br>\", \"Park Name: Isle Royale National Park<br>Size: 571790<br># Species: 1167<br># Native Species: 1027<br>\", \"Park Name: Joshua Tree National Park<br>Size: 789745<br># Species: 849<br># Native Species: 818<br>\", \"Park Name: Lassen Volcanic National Park<br>Size: 106372<br># Species: 1005<br># Native Species: 955<br>\", \"Park Name: Mammoth Cave National Park<br>Size: 52830<br># Species: 1628<br># Native Species: 1451<br>\", \"Park Name: Mesa Verde National Park<br>Size: 52122<br># Species: 1106<br># Native Species: 985<br>\", \"Park Name: Mount Rainier National Park<br>Size: 235625<br># Species: 1191<br># Native Species: 1035<br>\", \"Park Name: North Cascades National Park<br>Size: 504781<br># Species: 2053<br># Native Species: 1821<br>\", \"Park Name: Olympic National Park<br>Size: 922651<br># Species: 1356<br># Native Species: 1243<br>\", \"Park Name: Petrified Forest National Park<br>Size: 93533<br># Species: 732<br># Native Species: 678<br>\", \"Park Name: Pinnacles National Park<br>Size: 26606<br># Species: 940<br># Native Species: 811<br>\", \"Park Name: Rocky Mountain National Park<br>Size: 265828<br># Species: 1526<br># Native Species: 1432<br>\", \"Park Name: Saguaro National Park<br>Size: 91440<br># Species: 1578<br># Native Species: 1472<br>\", \"Park Name: Sequoia and Kings Canyon National Parks<br>Size: 865952<br># Species: 1818<br># Native Species: 1591<br>\", \"Park Name: Theodore Roosevelt National Park<br>Size: 70447<br># Species: 807<br># Native Species: 725<br>\", \"Park Name: Voyageurs National Park<br>Size: 218200<br># Species: 1173<br># Native Species: 1044<br>\", \"Park Name: Wind Cave National Park<br>Size: 28295<br># Species: 890<br># Native Species: 794<br>\", \"Park Name: Yosemite National Park<br>Size: 761266<br># Species: 1896<br># Native Species: 1702<br>\", \"Park Name: Zion National Park<br>Size: 146598<br># Species: 1316<br># Native Species: 1164<br>\"], \"type\": \"scatter\", \"x\": [1694, 1046, 895, 1106, 1285, 1223, 1566, 1481, 1240, 946, 1643, 1821, 1149, 801, 1437, 1743, 1359, 1299, 1265, 2055, 1227, 1303, 3246, 1907, 843, 1258, 1416, 1672, 1995, 977, 1396, 1237, 2054, 1791], \"y\": [165, 92, 91, 69, 136, 143, 186, 94, 89, 150, 421, 228, 155, 167, 99, 125, 146, 148, 153, 249, 138, 189, 426, 277, 72, 196, 211, 192, 235, 130, 208, 134, 244, 197]}, {\"marker\": {\"color\": \"black\"}, \"mode\": \"markers\", \"name\": \"Endangered\", \"type\": \"scatter\", \"x\": [2655, 1743, 1600, 842, 1600, 1530, 1046, 1285, 1223, 1566, 1822, 1149, 2583, 1299, 1265, 1227, 1258, 1995, 2054, 1791], \"y\": [316, 125, 81, 12, 81, 280, 92, 136, 143, 186, 134, 155, 426, 148, 153, 138, 196, 235, 244, 197]}],\n",
       "                        {\"legend\": {\"title\": {\"text\": \"Cluster\"}}, \"template\": {\"data\": {\"bar\": [{\"error_x\": {\"color\": \"#2a3f5f\"}, \"error_y\": {\"color\": \"#2a3f5f\"}, \"marker\": {\"line\": {\"color\": \"#E5ECF6\", \"width\": 0.5}}, \"type\": \"bar\"}], \"barpolar\": [{\"marker\": {\"line\": {\"color\": \"#E5ECF6\", \"width\": 0.5}}, \"type\": \"barpolar\"}], \"carpet\": [{\"aaxis\": {\"endlinecolor\": \"#2a3f5f\", \"gridcolor\": \"white\", \"linecolor\": \"white\", \"minorgridcolor\": \"white\", \"startlinecolor\": \"#2a3f5f\"}, \"baxis\": {\"endlinecolor\": \"#2a3f5f\", \"gridcolor\": \"white\", \"linecolor\": \"white\", \"minorgridcolor\": \"white\", \"startlinecolor\": \"#2a3f5f\"}, \"type\": \"carpet\"}], \"choropleth\": [{\"colorbar\": {\"outlinewidth\": 0, \"ticks\": \"\"}, \"type\": \"choropleth\"}], \"contour\": [{\"colorbar\": {\"outlinewidth\": 0, \"ticks\": \"\"}, \"colorscale\": [[0.0, \"#0d0887\"], [0.1111111111111111, \"#46039f\"], [0.2222222222222222, \"#7201a8\"], [0.3333333333333333, \"#9c179e\"], [0.4444444444444444, \"#bd3786\"], [0.5555555555555556, \"#d8576b\"], [0.6666666666666666, \"#ed7953\"], [0.7777777777777778, \"#fb9f3a\"], [0.8888888888888888, \"#fdca26\"], [1.0, \"#f0f921\"]], \"type\": \"contour\"}], \"contourcarpet\": [{\"colorbar\": {\"outlinewidth\": 0, \"ticks\": \"\"}, \"type\": \"contourcarpet\"}], \"heatmap\": [{\"colorbar\": {\"outlinewidth\": 0, \"ticks\": \"\"}, \"colorscale\": [[0.0, \"#0d0887\"], [0.1111111111111111, \"#46039f\"], [0.2222222222222222, \"#7201a8\"], [0.3333333333333333, \"#9c179e\"], [0.4444444444444444, \"#bd3786\"], [0.5555555555555556, \"#d8576b\"], [0.6666666666666666, \"#ed7953\"], [0.7777777777777778, \"#fb9f3a\"], [0.8888888888888888, \"#fdca26\"], [1.0, \"#f0f921\"]], \"type\": \"heatmap\"}], \"heatmapgl\": [{\"colorbar\": {\"outlinewidth\": 0, \"ticks\": \"\"}, \"colorscale\": [[0.0, \"#0d0887\"], [0.1111111111111111, \"#46039f\"], [0.2222222222222222, \"#7201a8\"], [0.3333333333333333, \"#9c179e\"], [0.4444444444444444, \"#bd3786\"], [0.5555555555555556, \"#d8576b\"], [0.6666666666666666, \"#ed7953\"], [0.7777777777777778, \"#fb9f3a\"], [0.8888888888888888, \"#fdca26\"], [1.0, \"#f0f921\"]], \"type\": \"heatmapgl\"}], \"histogram\": [{\"marker\": {\"colorbar\": {\"outlinewidth\": 0, \"ticks\": \"\"}}, \"type\": \"histogram\"}], \"histogram2d\": [{\"colorbar\": {\"outlinewidth\": 0, \"ticks\": \"\"}, \"colorscale\": [[0.0, \"#0d0887\"], [0.1111111111111111, \"#46039f\"], [0.2222222222222222, \"#7201a8\"], [0.3333333333333333, \"#9c179e\"], [0.4444444444444444, \"#bd3786\"], [0.5555555555555556, \"#d8576b\"], [0.6666666666666666, \"#ed7953\"], [0.7777777777777778, \"#fb9f3a\"], [0.8888888888888888, \"#fdca26\"], [1.0, \"#f0f921\"]], \"type\": \"histogram2d\"}], \"histogram2dcontour\": [{\"colorbar\": {\"outlinewidth\": 0, \"ticks\": \"\"}, \"colorscale\": [[0.0, \"#0d0887\"], [0.1111111111111111, \"#46039f\"], [0.2222222222222222, \"#7201a8\"], [0.3333333333333333, \"#9c179e\"], [0.4444444444444444, \"#bd3786\"], [0.5555555555555556, \"#d8576b\"], [0.6666666666666666, \"#ed7953\"], [0.7777777777777778, \"#fb9f3a\"], [0.8888888888888888, \"#fdca26\"], [1.0, \"#f0f921\"]], \"type\": \"histogram2dcontour\"}], \"mesh3d\": [{\"colorbar\": {\"outlinewidth\": 0, \"ticks\": \"\"}, \"type\": \"mesh3d\"}], \"parcoords\": [{\"line\": {\"colorbar\": {\"outlinewidth\": 0, \"ticks\": \"\"}}, \"type\": \"parcoords\"}], \"pie\": [{\"automargin\": true, \"type\": \"pie\"}], \"scatter\": [{\"marker\": {\"colorbar\": {\"outlinewidth\": 0, \"ticks\": \"\"}}, \"type\": \"scatter\"}], \"scatter3d\": [{\"line\": {\"colorbar\": {\"outlinewidth\": 0, \"ticks\": \"\"}}, \"marker\": {\"colorbar\": {\"outlinewidth\": 0, \"ticks\": \"\"}}, \"type\": \"scatter3d\"}], \"scattercarpet\": [{\"marker\": {\"colorbar\": {\"outlinewidth\": 0, \"ticks\": \"\"}}, \"type\": \"scattercarpet\"}], \"scattergeo\": [{\"marker\": {\"colorbar\": {\"outlinewidth\": 0, \"ticks\": \"\"}}, \"type\": \"scattergeo\"}], \"scattergl\": [{\"marker\": {\"colorbar\": {\"outlinewidth\": 0, \"ticks\": \"\"}}, \"type\": \"scattergl\"}], \"scattermapbox\": [{\"marker\": {\"colorbar\": {\"outlinewidth\": 0, \"ticks\": \"\"}}, \"type\": \"scattermapbox\"}], \"scatterpolar\": [{\"marker\": {\"colorbar\": {\"outlinewidth\": 0, \"ticks\": \"\"}}, \"type\": \"scatterpolar\"}], \"scatterpolargl\": [{\"marker\": {\"colorbar\": {\"outlinewidth\": 0, \"ticks\": \"\"}}, \"type\": \"scatterpolargl\"}], \"scatterternary\": [{\"marker\": {\"colorbar\": {\"outlinewidth\": 0, \"ticks\": \"\"}}, \"type\": \"scatterternary\"}], \"surface\": [{\"colorbar\": {\"outlinewidth\": 0, \"ticks\": \"\"}, \"colorscale\": [[0.0, \"#0d0887\"], [0.1111111111111111, \"#46039f\"], [0.2222222222222222, \"#7201a8\"], [0.3333333333333333, \"#9c179e\"], [0.4444444444444444, \"#bd3786\"], [0.5555555555555556, \"#d8576b\"], [0.6666666666666666, \"#ed7953\"], [0.7777777777777778, \"#fb9f3a\"], [0.8888888888888888, \"#fdca26\"], [1.0, \"#f0f921\"]], \"type\": \"surface\"}], \"table\": [{\"cells\": {\"fill\": {\"color\": \"#EBF0F8\"}, \"line\": {\"color\": \"white\"}}, \"header\": {\"fill\": {\"color\": \"#C8D4E3\"}, \"line\": {\"color\": \"white\"}}, \"type\": \"table\"}]}, \"layout\": {\"annotationdefaults\": {\"arrowcolor\": \"#2a3f5f\", \"arrowhead\": 0, \"arrowwidth\": 1}, \"coloraxis\": {\"colorbar\": {\"outlinewidth\": 0, \"ticks\": \"\"}}, \"colorscale\": {\"diverging\": [[0, \"#8e0152\"], [0.1, \"#c51b7d\"], [0.2, \"#de77ae\"], [0.3, \"#f1b6da\"], [0.4, \"#fde0ef\"], [0.5, \"#f7f7f7\"], [0.6, \"#e6f5d0\"], [0.7, \"#b8e186\"], [0.8, \"#7fbc41\"], [0.9, \"#4d9221\"], [1, \"#276419\"]], \"sequential\": [[0.0, \"#0d0887\"], [0.1111111111111111, \"#46039f\"], [0.2222222222222222, \"#7201a8\"], [0.3333333333333333, \"#9c179e\"], [0.4444444444444444, \"#bd3786\"], [0.5555555555555556, \"#d8576b\"], [0.6666666666666666, \"#ed7953\"], [0.7777777777777778, \"#fb9f3a\"], [0.8888888888888888, \"#fdca26\"], [1.0, \"#f0f921\"]], \"sequentialminus\": [[0.0, \"#0d0887\"], [0.1111111111111111, \"#46039f\"], [0.2222222222222222, \"#7201a8\"], [0.3333333333333333, \"#9c179e\"], [0.4444444444444444, \"#bd3786\"], [0.5555555555555556, \"#d8576b\"], [0.6666666666666666, \"#ed7953\"], [0.7777777777777778, \"#fb9f3a\"], [0.8888888888888888, \"#fdca26\"], [1.0, \"#f0f921\"]]}, \"colorway\": [\"#636efa\", \"#EF553B\", \"#00cc96\", \"#ab63fa\", \"#FFA15A\", \"#19d3f3\", \"#FF6692\", \"#B6E880\", \"#FF97FF\", \"#FECB52\"], \"font\": {\"color\": \"#2a3f5f\"}, \"geo\": {\"bgcolor\": \"white\", \"lakecolor\": \"white\", \"landcolor\": \"#E5ECF6\", \"showlakes\": true, \"showland\": true, \"subunitcolor\": \"white\"}, \"hoverlabel\": {\"align\": \"left\"}, \"hovermode\": \"closest\", \"mapbox\": {\"style\": \"light\"}, \"paper_bgcolor\": \"white\", \"plot_bgcolor\": \"#E5ECF6\", \"polar\": {\"angularaxis\": {\"gridcolor\": \"white\", \"linecolor\": \"white\", \"ticks\": \"\"}, \"bgcolor\": \"#E5ECF6\", \"radialaxis\": {\"gridcolor\": \"white\", \"linecolor\": \"white\", \"ticks\": \"\"}}, \"scene\": {\"xaxis\": {\"backgroundcolor\": \"#E5ECF6\", \"gridcolor\": \"white\", \"gridwidth\": 2, \"linecolor\": \"white\", \"showbackground\": true, \"ticks\": \"\", \"zerolinecolor\": \"white\"}, \"yaxis\": {\"backgroundcolor\": \"#E5ECF6\", \"gridcolor\": \"white\", \"gridwidth\": 2, \"linecolor\": \"white\", \"showbackground\": true, \"ticks\": \"\", \"zerolinecolor\": \"white\"}, \"zaxis\": {\"backgroundcolor\": \"#E5ECF6\", \"gridcolor\": \"white\", \"gridwidth\": 2, \"linecolor\": \"white\", \"showbackground\": true, \"ticks\": \"\", \"zerolinecolor\": \"white\"}}, \"shapedefaults\": {\"line\": {\"color\": \"#2a3f5f\"}}, \"ternary\": {\"aaxis\": {\"gridcolor\": \"white\", \"linecolor\": \"white\", \"ticks\": \"\"}, \"baxis\": {\"gridcolor\": \"white\", \"linecolor\": \"white\", \"ticks\": \"\"}, \"bgcolor\": \"#E5ECF6\", \"caxis\": {\"gridcolor\": \"white\", \"linecolor\": \"white\", \"ticks\": \"\"}}, \"title\": {\"x\": 0.05}, \"xaxis\": {\"automargin\": true, \"gridcolor\": \"white\", \"linecolor\": \"white\", \"ticks\": \"\", \"title\": {\"standoff\": 15}, \"zerolinecolor\": \"white\", \"zerolinewidth\": 2}, \"yaxis\": {\"automargin\": true, \"gridcolor\": \"white\", \"linecolor\": \"white\", \"ticks\": \"\", \"title\": {\"standoff\": 15}, \"zerolinecolor\": \"white\", \"zerolinewidth\": 2}}}, \"title\": {\"text\": \"Record Status vs. Breeder Species\"}, \"xaxis\": {\"gridcolor\": \"white\", \"gridwidth\": 2, \"title\": {\"text\": \"# Record Status Approved\"}, \"type\": \"linear\"}, \"yaxis\": {\"gridcolor\": \"white\", \"gridwidth\": 2, \"title\": {\"text\": \"# Breeder Species\"}, \"type\": \"linear\"}},\n",
       "                        {\"responsive\": true}\n",
       "                    ).then(function(){\n",
       "                            \n",
       "var gd = document.getElementById('8761b6ad-379f-49b6-81cc-d3a504a7789d');\n",
       "var x = new MutationObserver(function (mutations, observer) {{\n",
       "        var display = window.getComputedStyle(gd).display;\n",
       "        if (!display || display === 'none') {{\n",
       "            console.log([gd, 'removed!']);\n",
       "            Plotly.purge(gd);\n",
       "            observer.disconnect();\n",
       "        }}\n",
       "}});\n",
       "\n",
       "// Listen for the removal of the full notebook cells\n",
       "var notebookContainer = gd.closest('#notebook-container');\n",
       "if (notebookContainer) {{\n",
       "    x.observe(notebookContainer, {childList: true});\n",
       "}}\n",
       "\n",
       "// Listen for the clearing of the current output cell\n",
       "var outputEl = gd.closest('.output');\n",
       "if (outputEl) {{\n",
       "    x.observe(outputEl, {childList: true});\n",
       "}}\n",
       "\n",
       "                        })\n",
       "                };\n",
       "                });\n",
       "            </script>\n",
       "        </div>"
      ]
     },
     "metadata": {},
     "output_type": "display_data"
    }
   ],
   "source": [
    "cat_01 = 'RecordStatus_Approved'\n",
    "cat_02 = 'Breeder_Present'\n",
    "title = 'Record Status vs. Breeder Species'\n",
    "title_cat_01 = '# Record Status Approved'\n",
    "title_cat_02 = '# Breeder Species'\n",
    "fig =bubbleplot(df_park,cat_01,cat_02,title,title_cat_01,title_cat_02,x_axis_type='linear',cross_plot=parks_endangered)\n"
   ]
  },
  {
   "cell_type": "markdown",
   "metadata": {},
   "source": [
    "# Conclusions\n",
    "\n",
    "## Size does not matter (that much..)\n",
    "\n",
    "It might seem logical that the size of the national park should play an important role for the abundance of native species, but the given data set does not show such a relationship."
   ]
  },
  {
   "cell_type": "code",
   "execution_count": 220,
   "metadata": {},
   "outputs": [
    {
     "data": {
      "application/vnd.plotly.v1+json": {
       "config": {
        "plotlyServerURL": "https://plot.ly"
       },
       "data": [
        {
         "marker": {
          "line": {
           "width": 2
          },
          "size": [
           31.25699921617557,
           26.870057685088806,
           29.782545223670862,
           27.367864366808018,
           24.269322199023193,
           23.515952032609693,
           30.822070014844883,
           38.39270764090493
          ],
          "sizemode": "area",
          "sizeref": 0.05775
         },
         "mode": "markers",
         "name": "0",
         "text": [
          "Park Name: Denali National Park and Preserve<br>Size: 3372402<br># Species: 999<br># Native Species: 977<br>",
          "Park Name: Gates Of The Arctic National Park and Preserve<br>Size: 7523898<br># Species: 722<br># Native Species: 722<br>",
          "Park Name: Glacier Bay National Park and Preserve<br>Size: 3224840<br># Species: 916<br># Native Species: 887<br>",
          "Park Name: Katmai National Park and Preserve<br>Size: 3674530<br># Species: 760<br># Native Species: 749<br>",
          "Park Name: Kenai Fjords National Park<br>Size: 669983<br># Species: 605<br># Native Species: 589<br>",
          "Park Name: Kobuk Valley National Park<br>Size: 1750717<br># Species: 553<br># Native Species: 553<br>",
          "Park Name: Lake Clark National Park and Preserve<br>Size: 2619733<br># Species: 970<br># Native Species: 950<br>",
          "Park Name: Wrangell - St Elias National Park and Preserve<br>Size: 8323148<br># Species: 1509<br># Native Species: 1474<br>"
         ],
         "type": "scatter",
         "x": [
          3372402,
          7523898,
          3224840,
          3674530,
          669983,
          1750717,
          2619733,
          8323148
         ],
         "y": [
          977,
          722,
          887,
          749,
          589,
          553,
          950,
          1474
         ]
        },
        {
         "marker": {
          "line": {
           "width": 2
          },
          "size": [
           34.539832078341085,
           40.24922359499622
          ],
          "sizemode": "area",
          "sizeref": 0.05775
         },
         "mode": "markers",
         "name": "1",
         "text": [
          "Park Name: Haleakala National Park<br>Size: 29094<br># Species: 2023<br># Native Species: 1193<br>",
          "Park Name: Hawaii Volcanoes National Park<br>Size: 323431<br># Species: 2722<br># Native Species: 1620<br>"
         ],
         "type": "scatter",
         "x": [
          29094,
          323431
         ],
         "y": [
          1193,
          1620
         ]
        },
        {
         "marker": {
          "line": {
           "width": 2
          },
          "size": [
           36.46916505762094,
           47.30750469005948,
           34.713109915419565,
           38.05259518088089,
           44.710177812216315
          ],
          "sizemode": "area",
          "sizeref": 0.05775
         },
         "mode": "markers",
         "name": "2",
         "text": [
          "Park Name: Death Valley National Park<br>Size: 4740912<br># Species: 1410<br># Native Species: 1330<br>",
          "Park Name: Great Smoky Mountains National Park<br>Size: 521490<br># Species: 2598<br># Native Species: 2238<br>",
          "Park Name: Redwood National Park<br>Size: 112512<br># Species: 1525<br># Native Species: 1205<br>",
          "Park Name: Shenandoah National Park<br>Size: 199045<br># Species: 1824<br># Native Species: 1448<br>",
          "Park Name: Yellowstone National Park<br>Size: 2219791<br># Species: 2188<br># Native Species: 1999<br>"
         ],
         "type": "scatter",
         "x": [
          4740912,
          521490,
          112512,
          199045,
          2219791
         ],
         "y": [
          1330,
          2238,
          1205,
          1448,
          1999
         ]
        },
        {
         "marker": {
          "line": {
           "width": 2
          },
          "size": [
           43.61192497471305,
           25.729360660537214,
           40.28647415696737,
           38.768543949960254,
           18.439088914585774,
           37.134889255254286,
           48.062459362791664
          ],
          "sizemode": "area",
          "sizeref": 0.05775
         },
         "mode": "markers",
         "name": "3",
         "text": [
          "Park Name: Big Bend National Park<br>Size: 801163<br># Species: 2011<br># Native Species: 1902<br>",
          "Park Name: Biscayne National Park<br>Size: 172924<br># Species: 839<br># Native Species: 662<br>",
          "Park Name: Channel Islands National Park<br>Size: 249561<br># Species: 1847<br># Native Species: 1623<br>",
          "Park Name: Cuyahoga Valley National Park<br>Size: 32950<br># Species: 1770<br># Native Species: 1503<br>",
          "Park Name: Dry Tortugas National Park<br>Size: 64701<br># Species: 481<br># Native Species: 340<br>",
          "Park Name: Everglades National Park<br>Size: 1508538<br># Species: 1780<br># Native Species: 1379<br>",
          "Park Name: Grand Canyon National Park<br>Size: 1217403<br># Species: 2532<br># Native Species: 2310<br>"
         ],
         "type": "scatter",
         "x": [
          801163,
          172924,
          249561,
          32950,
          64701,
          1508538,
          1217403
         ],
         "y": [
          1902,
          662,
          1623,
          1503,
          340,
          1379,
          2310
         ]
        },
        {
         "marker": {
          "line": {
           "width": 2
          },
          "size": [
           29.715315916207253,
           25.787593916455254,
           24.939927826679853,
           24.758836806279895,
           26.981475126464083,
           28,
           32.0624390837628,
           36.823905279043935,
           33.481338085566414,
           32.69556544854363,
           45.36518488885502,
           38.02630668366309,
           29.782545223670862,
           28.089143810376278,
           39.08964057138413,
           22.891046284519195,
           32.046840717924134,
           28.600699292150182,
           30.903074280724887,
           38.09199390948182,
           31.38470965295043,
           32.17141588429082,
           42.67317658670374,
           35.25620512760839,
           26.038433132583073,
           28.478061731796284,
           37.841775856849004,
           38.36665218650175,
           39.88734135035826,
           26.92582403567252,
           32.31098884280702,
           28.178005607210743,
           41.255302689472536,
           34.11744421846396
          ],
          "sizemode": "area",
          "sizeref": 0.05775
         },
         "mode": "markers",
         "name": "4",
         "text": [
          "Park Name: Acadia National Park<br>Size: 47390<br># Species: 1157<br># Native Species: 883<br>",
          "Park Name: Arches National Park<br>Size: 76519<br># Species: 749<br># Native Species: 665<br>",
          "Park Name: Badlands National Park<br>Size: 242756<br># Species: 700<br># Native Species: 622<br>",
          "Park Name: Black Canyon of the Gunnison National Park<br>Size: 32950<br># Species: 689<br># Native Species: 613<br>",
          "Park Name: Bryce Canyon National Park<br>Size: 35835<br># Species: 788<br># Native Species: 728<br>",
          "Park Name: Canyonlands National Park<br>Size: 337598<br># Species: 866<br># Native Species: 784<br>",
          "Park Name: Capitol Reef National Park<br>Size: 241904<br># Species: 1161<br># Native Species: 1028<br>",
          "Park Name: Carlsbad Caverns National Park<br>Size: 46766<br># Species: 1427<br># Native Species: 1356<br>",
          "Park Name: Congaree National Park<br>Size: 26546<br># Species: 1205<br># Native Species: 1121<br>",
          "Park Name: Crater Lake National Park<br>Size: 183224<br># Species: 1122<br># Native Species: 1069<br>",
          "Park Name: Glacier National Park<br>Size: 1013572<br># Species: 2196<br># Native Species: 2058<br>",
          "Park Name: Grand Teton National Park<br>Size: 309995<br># Species: 1587<br># Native Species: 1446<br>",
          "Park Name: Great Basin National Park<br>Size: 77180<br># Species: 955<br># Native Species: 887<br>",
          "Park Name: Great Sand Dunes National Park and Preserve<br>Size: 42984<br># Species: 813<br># Native Species: 789<br>",
          "Park Name: Guadalupe Mountains National Park<br>Size: 86416<br># Species: 1578<br># Native Species: 1528<br>",
          "Park Name: Hot Springs National Park<br>Size: 5550<br># Species: 588<br># Native Species: 524<br>",
          "Park Name: Isle Royale National Park<br>Size: 571790<br># Species: 1167<br># Native Species: 1027<br>",
          "Park Name: Joshua Tree National Park<br>Size: 789745<br># Species: 849<br># Native Species: 818<br>",
          "Park Name: Lassen Volcanic National Park<br>Size: 106372<br># Species: 1005<br># Native Species: 955<br>",
          "Park Name: Mammoth Cave National Park<br>Size: 52830<br># Species: 1628<br># Native Species: 1451<br>",
          "Park Name: Mesa Verde National Park<br>Size: 52122<br># Species: 1106<br># Native Species: 985<br>",
          "Park Name: Mount Rainier National Park<br>Size: 235625<br># Species: 1191<br># Native Species: 1035<br>",
          "Park Name: North Cascades National Park<br>Size: 504781<br># Species: 2053<br># Native Species: 1821<br>",
          "Park Name: Olympic National Park<br>Size: 922651<br># Species: 1356<br># Native Species: 1243<br>",
          "Park Name: Petrified Forest National Park<br>Size: 93533<br># Species: 732<br># Native Species: 678<br>",
          "Park Name: Pinnacles National Park<br>Size: 26606<br># Species: 940<br># Native Species: 811<br>",
          "Park Name: Rocky Mountain National Park<br>Size: 265828<br># Species: 1526<br># Native Species: 1432<br>",
          "Park Name: Saguaro National Park<br>Size: 91440<br># Species: 1578<br># Native Species: 1472<br>",
          "Park Name: Sequoia and Kings Canyon National Parks<br>Size: 865952<br># Species: 1818<br># Native Species: 1591<br>",
          "Park Name: Theodore Roosevelt National Park<br>Size: 70447<br># Species: 807<br># Native Species: 725<br>",
          "Park Name: Voyageurs National Park<br>Size: 218200<br># Species: 1173<br># Native Species: 1044<br>",
          "Park Name: Wind Cave National Park<br>Size: 28295<br># Species: 890<br># Native Species: 794<br>",
          "Park Name: Yosemite National Park<br>Size: 761266<br># Species: 1896<br># Native Species: 1702<br>",
          "Park Name: Zion National Park<br>Size: 146598<br># Species: 1316<br># Native Species: 1164<br>"
         ],
         "type": "scatter",
         "x": [
          47390,
          76519,
          242756,
          32950,
          35835,
          337598,
          241904,
          46766,
          26546,
          183224,
          1013572,
          309995,
          77180,
          42984,
          86416,
          5550,
          571790,
          789745,
          106372,
          52830,
          52122,
          235625,
          504781,
          922651,
          93533,
          26606,
          265828,
          91440,
          865952,
          70447,
          218200,
          28295,
          761266,
          146598
         ],
         "y": [
          883,
          665,
          622,
          613,
          728,
          784,
          1028,
          1356,
          1121,
          1069,
          2058,
          1446,
          887,
          789,
          1528,
          524,
          1027,
          818,
          955,
          1451,
          985,
          1035,
          1821,
          1243,
          678,
          811,
          1432,
          1472,
          1591,
          725,
          1044,
          794,
          1702,
          1164
         ]
        },
        {
         "marker": {
          "color": "black"
         },
         "mode": "markers",
         "name": "Endangered",
         "type": "scatter",
         "x": [
          521490,
          5550,
          172924,
          64701,
          172924,
          112512,
          76519,
          35835,
          337598,
          241904,
          4740912,
          77180,
          1217403,
          789745,
          106372,
          52122,
          26606,
          865952,
          761266,
          146598
         ],
         "y": [
          2238,
          524,
          662,
          340,
          662,
          1205,
          665,
          728,
          784,
          1028,
          1330,
          887,
          2310,
          818,
          955,
          985,
          811,
          1591,
          1702,
          1164
         ]
        }
       ],
       "layout": {
        "legend": {
         "title": {
          "text": "Cluster"
         }
        },
        "template": {
         "data": {
          "bar": [
           {
            "error_x": {
             "color": "#2a3f5f"
            },
            "error_y": {
             "color": "#2a3f5f"
            },
            "marker": {
             "line": {
              "color": "#E5ECF6",
              "width": 0.5
             }
            },
            "type": "bar"
           }
          ],
          "barpolar": [
           {
            "marker": {
             "line": {
              "color": "#E5ECF6",
              "width": 0.5
             }
            },
            "type": "barpolar"
           }
          ],
          "carpet": [
           {
            "aaxis": {
             "endlinecolor": "#2a3f5f",
             "gridcolor": "white",
             "linecolor": "white",
             "minorgridcolor": "white",
             "startlinecolor": "#2a3f5f"
            },
            "baxis": {
             "endlinecolor": "#2a3f5f",
             "gridcolor": "white",
             "linecolor": "white",
             "minorgridcolor": "white",
             "startlinecolor": "#2a3f5f"
            },
            "type": "carpet"
           }
          ],
          "choropleth": [
           {
            "colorbar": {
             "outlinewidth": 0,
             "ticks": ""
            },
            "type": "choropleth"
           }
          ],
          "contour": [
           {
            "colorbar": {
             "outlinewidth": 0,
             "ticks": ""
            },
            "colorscale": [
             [
              0,
              "#0d0887"
             ],
             [
              0.1111111111111111,
              "#46039f"
             ],
             [
              0.2222222222222222,
              "#7201a8"
             ],
             [
              0.3333333333333333,
              "#9c179e"
             ],
             [
              0.4444444444444444,
              "#bd3786"
             ],
             [
              0.5555555555555556,
              "#d8576b"
             ],
             [
              0.6666666666666666,
              "#ed7953"
             ],
             [
              0.7777777777777778,
              "#fb9f3a"
             ],
             [
              0.8888888888888888,
              "#fdca26"
             ],
             [
              1,
              "#f0f921"
             ]
            ],
            "type": "contour"
           }
          ],
          "contourcarpet": [
           {
            "colorbar": {
             "outlinewidth": 0,
             "ticks": ""
            },
            "type": "contourcarpet"
           }
          ],
          "heatmap": [
           {
            "colorbar": {
             "outlinewidth": 0,
             "ticks": ""
            },
            "colorscale": [
             [
              0,
              "#0d0887"
             ],
             [
              0.1111111111111111,
              "#46039f"
             ],
             [
              0.2222222222222222,
              "#7201a8"
             ],
             [
              0.3333333333333333,
              "#9c179e"
             ],
             [
              0.4444444444444444,
              "#bd3786"
             ],
             [
              0.5555555555555556,
              "#d8576b"
             ],
             [
              0.6666666666666666,
              "#ed7953"
             ],
             [
              0.7777777777777778,
              "#fb9f3a"
             ],
             [
              0.8888888888888888,
              "#fdca26"
             ],
             [
              1,
              "#f0f921"
             ]
            ],
            "type": "heatmap"
           }
          ],
          "heatmapgl": [
           {
            "colorbar": {
             "outlinewidth": 0,
             "ticks": ""
            },
            "colorscale": [
             [
              0,
              "#0d0887"
             ],
             [
              0.1111111111111111,
              "#46039f"
             ],
             [
              0.2222222222222222,
              "#7201a8"
             ],
             [
              0.3333333333333333,
              "#9c179e"
             ],
             [
              0.4444444444444444,
              "#bd3786"
             ],
             [
              0.5555555555555556,
              "#d8576b"
             ],
             [
              0.6666666666666666,
              "#ed7953"
             ],
             [
              0.7777777777777778,
              "#fb9f3a"
             ],
             [
              0.8888888888888888,
              "#fdca26"
             ],
             [
              1,
              "#f0f921"
             ]
            ],
            "type": "heatmapgl"
           }
          ],
          "histogram": [
           {
            "marker": {
             "colorbar": {
              "outlinewidth": 0,
              "ticks": ""
             }
            },
            "type": "histogram"
           }
          ],
          "histogram2d": [
           {
            "colorbar": {
             "outlinewidth": 0,
             "ticks": ""
            },
            "colorscale": [
             [
              0,
              "#0d0887"
             ],
             [
              0.1111111111111111,
              "#46039f"
             ],
             [
              0.2222222222222222,
              "#7201a8"
             ],
             [
              0.3333333333333333,
              "#9c179e"
             ],
             [
              0.4444444444444444,
              "#bd3786"
             ],
             [
              0.5555555555555556,
              "#d8576b"
             ],
             [
              0.6666666666666666,
              "#ed7953"
             ],
             [
              0.7777777777777778,
              "#fb9f3a"
             ],
             [
              0.8888888888888888,
              "#fdca26"
             ],
             [
              1,
              "#f0f921"
             ]
            ],
            "type": "histogram2d"
           }
          ],
          "histogram2dcontour": [
           {
            "colorbar": {
             "outlinewidth": 0,
             "ticks": ""
            },
            "colorscale": [
             [
              0,
              "#0d0887"
             ],
             [
              0.1111111111111111,
              "#46039f"
             ],
             [
              0.2222222222222222,
              "#7201a8"
             ],
             [
              0.3333333333333333,
              "#9c179e"
             ],
             [
              0.4444444444444444,
              "#bd3786"
             ],
             [
              0.5555555555555556,
              "#d8576b"
             ],
             [
              0.6666666666666666,
              "#ed7953"
             ],
             [
              0.7777777777777778,
              "#fb9f3a"
             ],
             [
              0.8888888888888888,
              "#fdca26"
             ],
             [
              1,
              "#f0f921"
             ]
            ],
            "type": "histogram2dcontour"
           }
          ],
          "mesh3d": [
           {
            "colorbar": {
             "outlinewidth": 0,
             "ticks": ""
            },
            "type": "mesh3d"
           }
          ],
          "parcoords": [
           {
            "line": {
             "colorbar": {
              "outlinewidth": 0,
              "ticks": ""
             }
            },
            "type": "parcoords"
           }
          ],
          "pie": [
           {
            "automargin": true,
            "type": "pie"
           }
          ],
          "scatter": [
           {
            "marker": {
             "colorbar": {
              "outlinewidth": 0,
              "ticks": ""
             }
            },
            "type": "scatter"
           }
          ],
          "scatter3d": [
           {
            "line": {
             "colorbar": {
              "outlinewidth": 0,
              "ticks": ""
             }
            },
            "marker": {
             "colorbar": {
              "outlinewidth": 0,
              "ticks": ""
             }
            },
            "type": "scatter3d"
           }
          ],
          "scattercarpet": [
           {
            "marker": {
             "colorbar": {
              "outlinewidth": 0,
              "ticks": ""
             }
            },
            "type": "scattercarpet"
           }
          ],
          "scattergeo": [
           {
            "marker": {
             "colorbar": {
              "outlinewidth": 0,
              "ticks": ""
             }
            },
            "type": "scattergeo"
           }
          ],
          "scattergl": [
           {
            "marker": {
             "colorbar": {
              "outlinewidth": 0,
              "ticks": ""
             }
            },
            "type": "scattergl"
           }
          ],
          "scattermapbox": [
           {
            "marker": {
             "colorbar": {
              "outlinewidth": 0,
              "ticks": ""
             }
            },
            "type": "scattermapbox"
           }
          ],
          "scatterpolar": [
           {
            "marker": {
             "colorbar": {
              "outlinewidth": 0,
              "ticks": ""
             }
            },
            "type": "scatterpolar"
           }
          ],
          "scatterpolargl": [
           {
            "marker": {
             "colorbar": {
              "outlinewidth": 0,
              "ticks": ""
             }
            },
            "type": "scatterpolargl"
           }
          ],
          "scatterternary": [
           {
            "marker": {
             "colorbar": {
              "outlinewidth": 0,
              "ticks": ""
             }
            },
            "type": "scatterternary"
           }
          ],
          "surface": [
           {
            "colorbar": {
             "outlinewidth": 0,
             "ticks": ""
            },
            "colorscale": [
             [
              0,
              "#0d0887"
             ],
             [
              0.1111111111111111,
              "#46039f"
             ],
             [
              0.2222222222222222,
              "#7201a8"
             ],
             [
              0.3333333333333333,
              "#9c179e"
             ],
             [
              0.4444444444444444,
              "#bd3786"
             ],
             [
              0.5555555555555556,
              "#d8576b"
             ],
             [
              0.6666666666666666,
              "#ed7953"
             ],
             [
              0.7777777777777778,
              "#fb9f3a"
             ],
             [
              0.8888888888888888,
              "#fdca26"
             ],
             [
              1,
              "#f0f921"
             ]
            ],
            "type": "surface"
           }
          ],
          "table": [
           {
            "cells": {
             "fill": {
              "color": "#EBF0F8"
             },
             "line": {
              "color": "white"
             }
            },
            "header": {
             "fill": {
              "color": "#C8D4E3"
             },
             "line": {
              "color": "white"
             }
            },
            "type": "table"
           }
          ]
         },
         "layout": {
          "annotationdefaults": {
           "arrowcolor": "#2a3f5f",
           "arrowhead": 0,
           "arrowwidth": 1
          },
          "coloraxis": {
           "colorbar": {
            "outlinewidth": 0,
            "ticks": ""
           }
          },
          "colorscale": {
           "diverging": [
            [
             0,
             "#8e0152"
            ],
            [
             0.1,
             "#c51b7d"
            ],
            [
             0.2,
             "#de77ae"
            ],
            [
             0.3,
             "#f1b6da"
            ],
            [
             0.4,
             "#fde0ef"
            ],
            [
             0.5,
             "#f7f7f7"
            ],
            [
             0.6,
             "#e6f5d0"
            ],
            [
             0.7,
             "#b8e186"
            ],
            [
             0.8,
             "#7fbc41"
            ],
            [
             0.9,
             "#4d9221"
            ],
            [
             1,
             "#276419"
            ]
           ],
           "sequential": [
            [
             0,
             "#0d0887"
            ],
            [
             0.1111111111111111,
             "#46039f"
            ],
            [
             0.2222222222222222,
             "#7201a8"
            ],
            [
             0.3333333333333333,
             "#9c179e"
            ],
            [
             0.4444444444444444,
             "#bd3786"
            ],
            [
             0.5555555555555556,
             "#d8576b"
            ],
            [
             0.6666666666666666,
             "#ed7953"
            ],
            [
             0.7777777777777778,
             "#fb9f3a"
            ],
            [
             0.8888888888888888,
             "#fdca26"
            ],
            [
             1,
             "#f0f921"
            ]
           ],
           "sequentialminus": [
            [
             0,
             "#0d0887"
            ],
            [
             0.1111111111111111,
             "#46039f"
            ],
            [
             0.2222222222222222,
             "#7201a8"
            ],
            [
             0.3333333333333333,
             "#9c179e"
            ],
            [
             0.4444444444444444,
             "#bd3786"
            ],
            [
             0.5555555555555556,
             "#d8576b"
            ],
            [
             0.6666666666666666,
             "#ed7953"
            ],
            [
             0.7777777777777778,
             "#fb9f3a"
            ],
            [
             0.8888888888888888,
             "#fdca26"
            ],
            [
             1,
             "#f0f921"
            ]
           ]
          },
          "colorway": [
           "#636efa",
           "#EF553B",
           "#00cc96",
           "#ab63fa",
           "#FFA15A",
           "#19d3f3",
           "#FF6692",
           "#B6E880",
           "#FF97FF",
           "#FECB52"
          ],
          "font": {
           "color": "#2a3f5f"
          },
          "geo": {
           "bgcolor": "white",
           "lakecolor": "white",
           "landcolor": "#E5ECF6",
           "showlakes": true,
           "showland": true,
           "subunitcolor": "white"
          },
          "hoverlabel": {
           "align": "left"
          },
          "hovermode": "closest",
          "mapbox": {
           "style": "light"
          },
          "paper_bgcolor": "white",
          "plot_bgcolor": "#E5ECF6",
          "polar": {
           "angularaxis": {
            "gridcolor": "white",
            "linecolor": "white",
            "ticks": ""
           },
           "bgcolor": "#E5ECF6",
           "radialaxis": {
            "gridcolor": "white",
            "linecolor": "white",
            "ticks": ""
           }
          },
          "scene": {
           "xaxis": {
            "backgroundcolor": "#E5ECF6",
            "gridcolor": "white",
            "gridwidth": 2,
            "linecolor": "white",
            "showbackground": true,
            "ticks": "",
            "zerolinecolor": "white"
           },
           "yaxis": {
            "backgroundcolor": "#E5ECF6",
            "gridcolor": "white",
            "gridwidth": 2,
            "linecolor": "white",
            "showbackground": true,
            "ticks": "",
            "zerolinecolor": "white"
           },
           "zaxis": {
            "backgroundcolor": "#E5ECF6",
            "gridcolor": "white",
            "gridwidth": 2,
            "linecolor": "white",
            "showbackground": true,
            "ticks": "",
            "zerolinecolor": "white"
           }
          },
          "shapedefaults": {
           "line": {
            "color": "#2a3f5f"
           }
          },
          "ternary": {
           "aaxis": {
            "gridcolor": "white",
            "linecolor": "white",
            "ticks": ""
           },
           "baxis": {
            "gridcolor": "white",
            "linecolor": "white",
            "ticks": ""
           },
           "bgcolor": "#E5ECF6",
           "caxis": {
            "gridcolor": "white",
            "linecolor": "white",
            "ticks": ""
           }
          },
          "title": {
           "x": 0.05
          },
          "xaxis": {
           "automargin": true,
           "gridcolor": "white",
           "linecolor": "white",
           "ticks": "",
           "title": {
            "standoff": 15
           },
           "zerolinecolor": "white",
           "zerolinewidth": 2
          },
          "yaxis": {
           "automargin": true,
           "gridcolor": "white",
           "linecolor": "white",
           "ticks": "",
           "title": {
            "standoff": 15
           },
           "zerolinecolor": "white",
           "zerolinewidth": 2
          }
         }
        },
        "title": {
         "text": "Area vs. Native Species"
        },
        "xaxis": {
         "gridcolor": "white",
         "gridwidth": 2,
         "title": {
          "text": "Park Area (acres)"
         },
         "type": "log"
        },
        "yaxis": {
         "gridcolor": "white",
         "gridwidth": 2,
         "title": {
          "text": "# Native Species"
         },
         "type": "linear"
        }
       }
      },
      "text/html": [
       "<div>\n",
       "        \n",
       "        \n",
       "            <div id=\"2e92d97d-326e-44dd-be77-91645175b078\" class=\"plotly-graph-div\" style=\"height:525px; width:100%;\"></div>\n",
       "            <script type=\"text/javascript\">\n",
       "                require([\"plotly\"], function(Plotly) {\n",
       "                    window.PLOTLYENV=window.PLOTLYENV || {};\n",
       "                    \n",
       "                if (document.getElementById(\"2e92d97d-326e-44dd-be77-91645175b078\")) {\n",
       "                    Plotly.newPlot(\n",
       "                        '2e92d97d-326e-44dd-be77-91645175b078',\n",
       "                        [{\"marker\": {\"line\": {\"width\": 2}, \"size\": [31.25699921617557, 26.870057685088806, 29.782545223670862, 27.367864366808018, 24.269322199023193, 23.515952032609693, 30.822070014844883, 38.39270764090493], \"sizemode\": \"area\", \"sizeref\": 0.05775}, \"mode\": \"markers\", \"name\": \"0\", \"text\": [\"Park Name: Denali National Park and Preserve<br>Size: 3372402<br># Species: 999<br># Native Species: 977<br>\", \"Park Name: Gates Of The Arctic National Park and Preserve<br>Size: 7523898<br># Species: 722<br># Native Species: 722<br>\", \"Park Name: Glacier Bay National Park and Preserve<br>Size: 3224840<br># Species: 916<br># Native Species: 887<br>\", \"Park Name: Katmai National Park and Preserve<br>Size: 3674530<br># Species: 760<br># Native Species: 749<br>\", \"Park Name: Kenai Fjords National Park<br>Size: 669983<br># Species: 605<br># Native Species: 589<br>\", \"Park Name: Kobuk Valley National Park<br>Size: 1750717<br># Species: 553<br># Native Species: 553<br>\", \"Park Name: Lake Clark National Park and Preserve<br>Size: 2619733<br># Species: 970<br># Native Species: 950<br>\", \"Park Name: Wrangell - St Elias National Park and Preserve<br>Size: 8323148<br># Species: 1509<br># Native Species: 1474<br>\"], \"type\": \"scatter\", \"x\": [3372402, 7523898, 3224840, 3674530, 669983, 1750717, 2619733, 8323148], \"y\": [977, 722, 887, 749, 589, 553, 950, 1474]}, {\"marker\": {\"line\": {\"width\": 2}, \"size\": [34.539832078341085, 40.24922359499622], \"sizemode\": \"area\", \"sizeref\": 0.05775}, \"mode\": \"markers\", \"name\": \"1\", \"text\": [\"Park Name: Haleakala National Park<br>Size: 29094<br># Species: 2023<br># Native Species: 1193<br>\", \"Park Name: Hawaii Volcanoes National Park<br>Size: 323431<br># Species: 2722<br># Native Species: 1620<br>\"], \"type\": \"scatter\", \"x\": [29094, 323431], \"y\": [1193, 1620]}, {\"marker\": {\"line\": {\"width\": 2}, \"size\": [36.46916505762094, 47.30750469005948, 34.713109915419565, 38.05259518088089, 44.710177812216315], \"sizemode\": \"area\", \"sizeref\": 0.05775}, \"mode\": \"markers\", \"name\": \"2\", \"text\": [\"Park Name: Death Valley National Park<br>Size: 4740912<br># Species: 1410<br># Native Species: 1330<br>\", \"Park Name: Great Smoky Mountains National Park<br>Size: 521490<br># Species: 2598<br># Native Species: 2238<br>\", \"Park Name: Redwood National Park<br>Size: 112512<br># Species: 1525<br># Native Species: 1205<br>\", \"Park Name: Shenandoah National Park<br>Size: 199045<br># Species: 1824<br># Native Species: 1448<br>\", \"Park Name: Yellowstone National Park<br>Size: 2219791<br># Species: 2188<br># Native Species: 1999<br>\"], \"type\": \"scatter\", \"x\": [4740912, 521490, 112512, 199045, 2219791], \"y\": [1330, 2238, 1205, 1448, 1999]}, {\"marker\": {\"line\": {\"width\": 2}, \"size\": [43.61192497471305, 25.729360660537214, 40.28647415696737, 38.768543949960254, 18.439088914585774, 37.134889255254286, 48.062459362791664], \"sizemode\": \"area\", \"sizeref\": 0.05775}, \"mode\": \"markers\", \"name\": \"3\", \"text\": [\"Park Name: Big Bend National Park<br>Size: 801163<br># Species: 2011<br># Native Species: 1902<br>\", \"Park Name: Biscayne National Park<br>Size: 172924<br># Species: 839<br># Native Species: 662<br>\", \"Park Name: Channel Islands National Park<br>Size: 249561<br># Species: 1847<br># Native Species: 1623<br>\", \"Park Name: Cuyahoga Valley National Park<br>Size: 32950<br># Species: 1770<br># Native Species: 1503<br>\", \"Park Name: Dry Tortugas National Park<br>Size: 64701<br># Species: 481<br># Native Species: 340<br>\", \"Park Name: Everglades National Park<br>Size: 1508538<br># Species: 1780<br># Native Species: 1379<br>\", \"Park Name: Grand Canyon National Park<br>Size: 1217403<br># Species: 2532<br># Native Species: 2310<br>\"], \"type\": \"scatter\", \"x\": [801163, 172924, 249561, 32950, 64701, 1508538, 1217403], \"y\": [1902, 662, 1623, 1503, 340, 1379, 2310]}, {\"marker\": {\"line\": {\"width\": 2}, \"size\": [29.715315916207253, 25.787593916455254, 24.939927826679853, 24.758836806279895, 26.981475126464083, 28.0, 32.0624390837628, 36.823905279043935, 33.481338085566414, 32.69556544854363, 45.36518488885502, 38.02630668366309, 29.782545223670862, 28.089143810376278, 39.08964057138413, 22.891046284519195, 32.046840717924134, 28.600699292150182, 30.903074280724887, 38.09199390948182, 31.38470965295043, 32.17141588429082, 42.67317658670374, 35.25620512760839, 26.038433132583073, 28.478061731796284, 37.841775856849004, 38.36665218650175, 39.88734135035826, 26.92582403567252, 32.31098884280702, 28.178005607210743, 41.255302689472536, 34.11744421846396], \"sizemode\": \"area\", \"sizeref\": 0.05775}, \"mode\": \"markers\", \"name\": \"4\", \"text\": [\"Park Name: Acadia National Park<br>Size: 47390<br># Species: 1157<br># Native Species: 883<br>\", \"Park Name: Arches National Park<br>Size: 76519<br># Species: 749<br># Native Species: 665<br>\", \"Park Name: Badlands National Park<br>Size: 242756<br># Species: 700<br># Native Species: 622<br>\", \"Park Name: Black Canyon of the Gunnison National Park<br>Size: 32950<br># Species: 689<br># Native Species: 613<br>\", \"Park Name: Bryce Canyon National Park<br>Size: 35835<br># Species: 788<br># Native Species: 728<br>\", \"Park Name: Canyonlands National Park<br>Size: 337598<br># Species: 866<br># Native Species: 784<br>\", \"Park Name: Capitol Reef National Park<br>Size: 241904<br># Species: 1161<br># Native Species: 1028<br>\", \"Park Name: Carlsbad Caverns National Park<br>Size: 46766<br># Species: 1427<br># Native Species: 1356<br>\", \"Park Name: Congaree National Park<br>Size: 26546<br># Species: 1205<br># Native Species: 1121<br>\", \"Park Name: Crater Lake National Park<br>Size: 183224<br># Species: 1122<br># Native Species: 1069<br>\", \"Park Name: Glacier National Park<br>Size: 1013572<br># Species: 2196<br># Native Species: 2058<br>\", \"Park Name: Grand Teton National Park<br>Size: 309995<br># Species: 1587<br># Native Species: 1446<br>\", \"Park Name: Great Basin National Park<br>Size: 77180<br># Species: 955<br># Native Species: 887<br>\", \"Park Name: Great Sand Dunes National Park and Preserve<br>Size: 42984<br># Species: 813<br># Native Species: 789<br>\", \"Park Name: Guadalupe Mountains National Park<br>Size: 86416<br># Species: 1578<br># Native Species: 1528<br>\", \"Park Name: Hot Springs National Park<br>Size: 5550<br># Species: 588<br># Native Species: 524<br>\", \"Park Name: Isle Royale National Park<br>Size: 571790<br># Species: 1167<br># Native Species: 1027<br>\", \"Park Name: Joshua Tree National Park<br>Size: 789745<br># Species: 849<br># Native Species: 818<br>\", \"Park Name: Lassen Volcanic National Park<br>Size: 106372<br># Species: 1005<br># Native Species: 955<br>\", \"Park Name: Mammoth Cave National Park<br>Size: 52830<br># Species: 1628<br># Native Species: 1451<br>\", \"Park Name: Mesa Verde National Park<br>Size: 52122<br># Species: 1106<br># Native Species: 985<br>\", \"Park Name: Mount Rainier National Park<br>Size: 235625<br># Species: 1191<br># Native Species: 1035<br>\", \"Park Name: North Cascades National Park<br>Size: 504781<br># Species: 2053<br># Native Species: 1821<br>\", \"Park Name: Olympic National Park<br>Size: 922651<br># Species: 1356<br># Native Species: 1243<br>\", \"Park Name: Petrified Forest National Park<br>Size: 93533<br># Species: 732<br># Native Species: 678<br>\", \"Park Name: Pinnacles National Park<br>Size: 26606<br># Species: 940<br># Native Species: 811<br>\", \"Park Name: Rocky Mountain National Park<br>Size: 265828<br># Species: 1526<br># Native Species: 1432<br>\", \"Park Name: Saguaro National Park<br>Size: 91440<br># Species: 1578<br># Native Species: 1472<br>\", \"Park Name: Sequoia and Kings Canyon National Parks<br>Size: 865952<br># Species: 1818<br># Native Species: 1591<br>\", \"Park Name: Theodore Roosevelt National Park<br>Size: 70447<br># Species: 807<br># Native Species: 725<br>\", \"Park Name: Voyageurs National Park<br>Size: 218200<br># Species: 1173<br># Native Species: 1044<br>\", \"Park Name: Wind Cave National Park<br>Size: 28295<br># Species: 890<br># Native Species: 794<br>\", \"Park Name: Yosemite National Park<br>Size: 761266<br># Species: 1896<br># Native Species: 1702<br>\", \"Park Name: Zion National Park<br>Size: 146598<br># Species: 1316<br># Native Species: 1164<br>\"], \"type\": \"scatter\", \"x\": [47390, 76519, 242756, 32950, 35835, 337598, 241904, 46766, 26546, 183224, 1013572, 309995, 77180, 42984, 86416, 5550, 571790, 789745, 106372, 52830, 52122, 235625, 504781, 922651, 93533, 26606, 265828, 91440, 865952, 70447, 218200, 28295, 761266, 146598], \"y\": [883, 665, 622, 613, 728, 784, 1028, 1356, 1121, 1069, 2058, 1446, 887, 789, 1528, 524, 1027, 818, 955, 1451, 985, 1035, 1821, 1243, 678, 811, 1432, 1472, 1591, 725, 1044, 794, 1702, 1164]}, {\"marker\": {\"color\": \"black\"}, \"mode\": \"markers\", \"name\": \"Endangered\", \"type\": \"scatter\", \"x\": [521490, 5550, 172924, 64701, 172924, 112512, 76519, 35835, 337598, 241904, 4740912, 77180, 1217403, 789745, 106372, 52122, 26606, 865952, 761266, 146598], \"y\": [2238, 524, 662, 340, 662, 1205, 665, 728, 784, 1028, 1330, 887, 2310, 818, 955, 985, 811, 1591, 1702, 1164]}],\n",
       "                        {\"legend\": {\"title\": {\"text\": \"Cluster\"}}, \"template\": {\"data\": {\"bar\": [{\"error_x\": {\"color\": \"#2a3f5f\"}, \"error_y\": {\"color\": \"#2a3f5f\"}, \"marker\": {\"line\": {\"color\": \"#E5ECF6\", \"width\": 0.5}}, \"type\": \"bar\"}], \"barpolar\": [{\"marker\": {\"line\": {\"color\": \"#E5ECF6\", \"width\": 0.5}}, \"type\": \"barpolar\"}], \"carpet\": [{\"aaxis\": {\"endlinecolor\": \"#2a3f5f\", \"gridcolor\": \"white\", \"linecolor\": \"white\", \"minorgridcolor\": \"white\", \"startlinecolor\": \"#2a3f5f\"}, \"baxis\": {\"endlinecolor\": \"#2a3f5f\", \"gridcolor\": \"white\", \"linecolor\": \"white\", \"minorgridcolor\": \"white\", \"startlinecolor\": \"#2a3f5f\"}, \"type\": \"carpet\"}], \"choropleth\": [{\"colorbar\": {\"outlinewidth\": 0, \"ticks\": \"\"}, \"type\": \"choropleth\"}], \"contour\": [{\"colorbar\": {\"outlinewidth\": 0, \"ticks\": \"\"}, \"colorscale\": [[0.0, \"#0d0887\"], [0.1111111111111111, \"#46039f\"], [0.2222222222222222, \"#7201a8\"], [0.3333333333333333, \"#9c179e\"], [0.4444444444444444, \"#bd3786\"], [0.5555555555555556, \"#d8576b\"], [0.6666666666666666, \"#ed7953\"], [0.7777777777777778, \"#fb9f3a\"], [0.8888888888888888, \"#fdca26\"], [1.0, \"#f0f921\"]], \"type\": \"contour\"}], \"contourcarpet\": [{\"colorbar\": {\"outlinewidth\": 0, \"ticks\": \"\"}, \"type\": \"contourcarpet\"}], \"heatmap\": [{\"colorbar\": {\"outlinewidth\": 0, \"ticks\": \"\"}, \"colorscale\": [[0.0, \"#0d0887\"], [0.1111111111111111, \"#46039f\"], [0.2222222222222222, \"#7201a8\"], [0.3333333333333333, \"#9c179e\"], [0.4444444444444444, \"#bd3786\"], [0.5555555555555556, \"#d8576b\"], [0.6666666666666666, \"#ed7953\"], [0.7777777777777778, \"#fb9f3a\"], [0.8888888888888888, \"#fdca26\"], [1.0, \"#f0f921\"]], \"type\": \"heatmap\"}], \"heatmapgl\": [{\"colorbar\": {\"outlinewidth\": 0, \"ticks\": \"\"}, \"colorscale\": [[0.0, \"#0d0887\"], [0.1111111111111111, \"#46039f\"], [0.2222222222222222, \"#7201a8\"], [0.3333333333333333, \"#9c179e\"], [0.4444444444444444, \"#bd3786\"], [0.5555555555555556, \"#d8576b\"], [0.6666666666666666, \"#ed7953\"], [0.7777777777777778, \"#fb9f3a\"], [0.8888888888888888, \"#fdca26\"], [1.0, \"#f0f921\"]], \"type\": \"heatmapgl\"}], \"histogram\": [{\"marker\": {\"colorbar\": {\"outlinewidth\": 0, \"ticks\": \"\"}}, \"type\": \"histogram\"}], \"histogram2d\": [{\"colorbar\": {\"outlinewidth\": 0, \"ticks\": \"\"}, \"colorscale\": [[0.0, \"#0d0887\"], [0.1111111111111111, \"#46039f\"], [0.2222222222222222, \"#7201a8\"], [0.3333333333333333, \"#9c179e\"], [0.4444444444444444, \"#bd3786\"], [0.5555555555555556, \"#d8576b\"], [0.6666666666666666, \"#ed7953\"], [0.7777777777777778, \"#fb9f3a\"], [0.8888888888888888, \"#fdca26\"], [1.0, \"#f0f921\"]], \"type\": \"histogram2d\"}], \"histogram2dcontour\": [{\"colorbar\": {\"outlinewidth\": 0, \"ticks\": \"\"}, \"colorscale\": [[0.0, \"#0d0887\"], [0.1111111111111111, \"#46039f\"], [0.2222222222222222, \"#7201a8\"], [0.3333333333333333, \"#9c179e\"], [0.4444444444444444, \"#bd3786\"], [0.5555555555555556, \"#d8576b\"], [0.6666666666666666, \"#ed7953\"], [0.7777777777777778, \"#fb9f3a\"], [0.8888888888888888, \"#fdca26\"], [1.0, \"#f0f921\"]], \"type\": \"histogram2dcontour\"}], \"mesh3d\": [{\"colorbar\": {\"outlinewidth\": 0, \"ticks\": \"\"}, \"type\": \"mesh3d\"}], \"parcoords\": [{\"line\": {\"colorbar\": {\"outlinewidth\": 0, \"ticks\": \"\"}}, \"type\": \"parcoords\"}], \"pie\": [{\"automargin\": true, \"type\": \"pie\"}], \"scatter\": [{\"marker\": {\"colorbar\": {\"outlinewidth\": 0, \"ticks\": \"\"}}, \"type\": \"scatter\"}], \"scatter3d\": [{\"line\": {\"colorbar\": {\"outlinewidth\": 0, \"ticks\": \"\"}}, \"marker\": {\"colorbar\": {\"outlinewidth\": 0, \"ticks\": \"\"}}, \"type\": \"scatter3d\"}], \"scattercarpet\": [{\"marker\": {\"colorbar\": {\"outlinewidth\": 0, \"ticks\": \"\"}}, \"type\": \"scattercarpet\"}], \"scattergeo\": [{\"marker\": {\"colorbar\": {\"outlinewidth\": 0, \"ticks\": \"\"}}, \"type\": \"scattergeo\"}], \"scattergl\": [{\"marker\": {\"colorbar\": {\"outlinewidth\": 0, \"ticks\": \"\"}}, \"type\": \"scattergl\"}], \"scattermapbox\": [{\"marker\": {\"colorbar\": {\"outlinewidth\": 0, \"ticks\": \"\"}}, \"type\": \"scattermapbox\"}], \"scatterpolar\": [{\"marker\": {\"colorbar\": {\"outlinewidth\": 0, \"ticks\": \"\"}}, \"type\": \"scatterpolar\"}], \"scatterpolargl\": [{\"marker\": {\"colorbar\": {\"outlinewidth\": 0, \"ticks\": \"\"}}, \"type\": \"scatterpolargl\"}], \"scatterternary\": [{\"marker\": {\"colorbar\": {\"outlinewidth\": 0, \"ticks\": \"\"}}, \"type\": \"scatterternary\"}], \"surface\": [{\"colorbar\": {\"outlinewidth\": 0, \"ticks\": \"\"}, \"colorscale\": [[0.0, \"#0d0887\"], [0.1111111111111111, \"#46039f\"], [0.2222222222222222, \"#7201a8\"], [0.3333333333333333, \"#9c179e\"], [0.4444444444444444, \"#bd3786\"], [0.5555555555555556, \"#d8576b\"], [0.6666666666666666, \"#ed7953\"], [0.7777777777777778, \"#fb9f3a\"], [0.8888888888888888, \"#fdca26\"], [1.0, \"#f0f921\"]], \"type\": \"surface\"}], \"table\": [{\"cells\": {\"fill\": {\"color\": \"#EBF0F8\"}, \"line\": {\"color\": \"white\"}}, \"header\": {\"fill\": {\"color\": \"#C8D4E3\"}, \"line\": {\"color\": \"white\"}}, \"type\": \"table\"}]}, \"layout\": {\"annotationdefaults\": {\"arrowcolor\": \"#2a3f5f\", \"arrowhead\": 0, \"arrowwidth\": 1}, \"coloraxis\": {\"colorbar\": {\"outlinewidth\": 0, \"ticks\": \"\"}}, \"colorscale\": {\"diverging\": [[0, \"#8e0152\"], [0.1, \"#c51b7d\"], [0.2, \"#de77ae\"], [0.3, \"#f1b6da\"], [0.4, \"#fde0ef\"], [0.5, \"#f7f7f7\"], [0.6, \"#e6f5d0\"], [0.7, \"#b8e186\"], [0.8, \"#7fbc41\"], [0.9, \"#4d9221\"], [1, \"#276419\"]], \"sequential\": [[0.0, \"#0d0887\"], [0.1111111111111111, \"#46039f\"], [0.2222222222222222, \"#7201a8\"], [0.3333333333333333, \"#9c179e\"], [0.4444444444444444, \"#bd3786\"], [0.5555555555555556, \"#d8576b\"], [0.6666666666666666, \"#ed7953\"], [0.7777777777777778, \"#fb9f3a\"], [0.8888888888888888, \"#fdca26\"], [1.0, \"#f0f921\"]], \"sequentialminus\": [[0.0, \"#0d0887\"], [0.1111111111111111, \"#46039f\"], [0.2222222222222222, \"#7201a8\"], [0.3333333333333333, \"#9c179e\"], [0.4444444444444444, \"#bd3786\"], [0.5555555555555556, \"#d8576b\"], [0.6666666666666666, \"#ed7953\"], [0.7777777777777778, \"#fb9f3a\"], [0.8888888888888888, \"#fdca26\"], [1.0, \"#f0f921\"]]}, \"colorway\": [\"#636efa\", \"#EF553B\", \"#00cc96\", \"#ab63fa\", \"#FFA15A\", \"#19d3f3\", \"#FF6692\", \"#B6E880\", \"#FF97FF\", \"#FECB52\"], \"font\": {\"color\": \"#2a3f5f\"}, \"geo\": {\"bgcolor\": \"white\", \"lakecolor\": \"white\", \"landcolor\": \"#E5ECF6\", \"showlakes\": true, \"showland\": true, \"subunitcolor\": \"white\"}, \"hoverlabel\": {\"align\": \"left\"}, \"hovermode\": \"closest\", \"mapbox\": {\"style\": \"light\"}, \"paper_bgcolor\": \"white\", \"plot_bgcolor\": \"#E5ECF6\", \"polar\": {\"angularaxis\": {\"gridcolor\": \"white\", \"linecolor\": \"white\", \"ticks\": \"\"}, \"bgcolor\": \"#E5ECF6\", \"radialaxis\": {\"gridcolor\": \"white\", \"linecolor\": \"white\", \"ticks\": \"\"}}, \"scene\": {\"xaxis\": {\"backgroundcolor\": \"#E5ECF6\", \"gridcolor\": \"white\", \"gridwidth\": 2, \"linecolor\": \"white\", \"showbackground\": true, \"ticks\": \"\", \"zerolinecolor\": \"white\"}, \"yaxis\": {\"backgroundcolor\": \"#E5ECF6\", \"gridcolor\": \"white\", \"gridwidth\": 2, \"linecolor\": \"white\", \"showbackground\": true, \"ticks\": \"\", \"zerolinecolor\": \"white\"}, \"zaxis\": {\"backgroundcolor\": \"#E5ECF6\", \"gridcolor\": \"white\", \"gridwidth\": 2, \"linecolor\": \"white\", \"showbackground\": true, \"ticks\": \"\", \"zerolinecolor\": \"white\"}}, \"shapedefaults\": {\"line\": {\"color\": \"#2a3f5f\"}}, \"ternary\": {\"aaxis\": {\"gridcolor\": \"white\", \"linecolor\": \"white\", \"ticks\": \"\"}, \"baxis\": {\"gridcolor\": \"white\", \"linecolor\": \"white\", \"ticks\": \"\"}, \"bgcolor\": \"#E5ECF6\", \"caxis\": {\"gridcolor\": \"white\", \"linecolor\": \"white\", \"ticks\": \"\"}}, \"title\": {\"x\": 0.05}, \"xaxis\": {\"automargin\": true, \"gridcolor\": \"white\", \"linecolor\": \"white\", \"ticks\": \"\", \"title\": {\"standoff\": 15}, \"zerolinecolor\": \"white\", \"zerolinewidth\": 2}, \"yaxis\": {\"automargin\": true, \"gridcolor\": \"white\", \"linecolor\": \"white\", \"ticks\": \"\", \"title\": {\"standoff\": 15}, \"zerolinecolor\": \"white\", \"zerolinewidth\": 2}}}, \"title\": {\"text\": \"Area vs. Native Species\"}, \"xaxis\": {\"gridcolor\": \"white\", \"gridwidth\": 2, \"title\": {\"text\": \"Park Area (acres)\"}, \"type\": \"log\"}, \"yaxis\": {\"gridcolor\": \"white\", \"gridwidth\": 2, \"title\": {\"text\": \"# Native Species\"}, \"type\": \"linear\"}},\n",
       "                        {\"responsive\": true}\n",
       "                    ).then(function(){\n",
       "                            \n",
       "var gd = document.getElementById('2e92d97d-326e-44dd-be77-91645175b078');\n",
       "var x = new MutationObserver(function (mutations, observer) {{\n",
       "        var display = window.getComputedStyle(gd).display;\n",
       "        if (!display || display === 'none') {{\n",
       "            console.log([gd, 'removed!']);\n",
       "            Plotly.purge(gd);\n",
       "            observer.disconnect();\n",
       "        }}\n",
       "}});\n",
       "\n",
       "// Listen for the removal of the full notebook cells\n",
       "var notebookContainer = gd.closest('#notebook-container');\n",
       "if (notebookContainer) {{\n",
       "    x.observe(notebookContainer, {childList: true});\n",
       "}}\n",
       "\n",
       "// Listen for the clearing of the current output cell\n",
       "var outputEl = gd.closest('.output');\n",
       "if (outputEl) {{\n",
       "    x.observe(outputEl, {childList: true});\n",
       "}}\n",
       "\n",
       "                        })\n",
       "                };\n",
       "                });\n",
       "            </script>\n",
       "        </div>"
      ]
     },
     "metadata": {},
     "output_type": "display_data"
    }
   ],
   "source": [
    "cat_01 = 'Acres'\n",
    "cat_02 = 'Native_Present'\n",
    "title = 'Area vs. Native Species'\n",
    "title_cat_01 = 'Park Area (acres)'\n",
    "title_cat_02 = '# Native Species'\n",
    "fig =bubbleplot(df_park,cat_01,cat_02,title,title_cat_01,title_cat_02,x_axis_type='log',cross_plot=parks_endangered)"
   ]
  },
  {
   "cell_type": "markdown",
   "metadata": {},
   "source": [
    "## Monitoring is key\n",
    "\n",
    "The more record stati were approved, the more native species are detected. This could just highlight the difference in maintenance and not in actual species abundance. **Still, if we want to protect our native species, it is key to know where they are**."
   ]
  },
  {
   "cell_type": "code",
   "execution_count": 219,
   "metadata": {},
   "outputs": [
    {
     "data": {
      "application/vnd.plotly.v1+json": {
       "config": {
        "plotlyServerURL": "https://plot.ly"
       },
       "data": [
        {
         "marker": {
          "line": {
           "width": 2
          },
          "size": [
           31.25699921617557,
           26.870057685088806,
           29.782545223670862,
           27.367864366808018,
           24.269322199023193,
           23.515952032609693,
           30.822070014844883,
           38.39270764090493
          ],
          "sizemode": "area",
          "sizeref": 0.05775
         },
         "mode": "markers",
         "name": "0",
         "text": [
          "Park Name: Denali National Park and Preserve<br>Size: 3372402<br># Species: 999<br># Native Species: 977<br>",
          "Park Name: Gates Of The Arctic National Park and Preserve<br>Size: 7523898<br># Species: 722<br># Native Species: 722<br>",
          "Park Name: Glacier Bay National Park and Preserve<br>Size: 3224840<br># Species: 916<br># Native Species: 887<br>",
          "Park Name: Katmai National Park and Preserve<br>Size: 3674530<br># Species: 760<br># Native Species: 749<br>",
          "Park Name: Kenai Fjords National Park<br>Size: 669983<br># Species: 605<br># Native Species: 589<br>",
          "Park Name: Kobuk Valley National Park<br>Size: 1750717<br># Species: 553<br># Native Species: 553<br>",
          "Park Name: Lake Clark National Park and Preserve<br>Size: 2619733<br># Species: 970<br># Native Species: 950<br>",
          "Park Name: Wrangell - St Elias National Park and Preserve<br>Size: 8323148<br># Species: 1509<br># Native Species: 1474<br>"
         ],
         "type": "scatter",
         "x": [
          1058,
          871,
          1422,
          1024,
          992,
          663,
          1473,
          1790
         ],
         "y": [
          977,
          722,
          887,
          749,
          589,
          553,
          950,
          1474
         ]
        },
        {
         "marker": {
          "line": {
           "width": 2
          },
          "size": [
           34.539832078341085,
           40.24922359499622
          ],
          "sizemode": "area",
          "sizeref": 0.05775
         },
         "mode": "markers",
         "name": "1",
         "text": [
          "Park Name: Haleakala National Park<br>Size: 29094<br># Species: 2023<br># Native Species: 1193<br>",
          "Park Name: Hawaii Volcanoes National Park<br>Size: 323431<br># Species: 2722<br># Native Species: 1620<br>"
         ],
         "type": "scatter",
         "x": [
          1048,
          3298
         ],
         "y": [
          1193,
          1620
         ]
        },
        {
         "marker": {
          "line": {
           "width": 2
          },
          "size": [
           36.46916505762094,
           47.30750469005948,
           34.713109915419565,
           38.05259518088089,
           44.710177812216315
          ],
          "sizemode": "area",
          "sizeref": 0.05775
         },
         "mode": "markers",
         "name": "2",
         "text": [
          "Park Name: Death Valley National Park<br>Size: 4740912<br># Species: 1410<br># Native Species: 1330<br>",
          "Park Name: Great Smoky Mountains National Park<br>Size: 521490<br># Species: 2598<br># Native Species: 2238<br>",
          "Park Name: Redwood National Park<br>Size: 112512<br># Species: 1525<br># Native Species: 1205<br>",
          "Park Name: Shenandoah National Park<br>Size: 199045<br># Species: 1824<br># Native Species: 1448<br>",
          "Park Name: Yellowstone National Park<br>Size: 2219791<br># Species: 2188<br># Native Species: 1999<br>"
         ],
         "type": "scatter",
         "x": [
          1822,
          2655,
          1530,
          2643,
          1990
         ],
         "y": [
          1330,
          2238,
          1205,
          1448,
          1999
         ]
        },
        {
         "marker": {
          "line": {
           "width": 2
          },
          "size": [
           43.61192497471305,
           25.729360660537214,
           40.28647415696737,
           38.768543949960254,
           18.439088914585774,
           37.134889255254286,
           48.062459362791664
          ],
          "sizemode": "area",
          "sizeref": 0.05775
         },
         "mode": "markers",
         "name": "3",
         "text": [
          "Park Name: Big Bend National Park<br>Size: 801163<br># Species: 2011<br># Native Species: 1902<br>",
          "Park Name: Biscayne National Park<br>Size: 172924<br># Species: 839<br># Native Species: 662<br>",
          "Park Name: Channel Islands National Park<br>Size: 249561<br># Species: 1847<br># Native Species: 1623<br>",
          "Park Name: Cuyahoga Valley National Park<br>Size: 32950<br># Species: 1770<br># Native Species: 1503<br>",
          "Park Name: Dry Tortugas National Park<br>Size: 64701<br># Species: 481<br># Native Species: 340<br>",
          "Park Name: Everglades National Park<br>Size: 1508538<br># Species: 1780<br># Native Species: 1379<br>",
          "Park Name: Grand Canyon National Park<br>Size: 1217403<br># Species: 2532<br># Native Species: 2310<br>"
         ],
         "type": "scatter",
         "x": [
          2144,
          1600,
          1863,
          1695,
          842,
          1872,
          2583
         ],
         "y": [
          1902,
          662,
          1623,
          1503,
          340,
          1379,
          2310
         ]
        },
        {
         "marker": {
          "line": {
           "width": 2
          },
          "size": [
           29.715315916207253,
           25.787593916455254,
           24.939927826679853,
           24.758836806279895,
           26.981475126464083,
           28,
           32.0624390837628,
           36.823905279043935,
           33.481338085566414,
           32.69556544854363,
           45.36518488885502,
           38.02630668366309,
           29.782545223670862,
           28.089143810376278,
           39.08964057138413,
           22.891046284519195,
           32.046840717924134,
           28.600699292150182,
           30.903074280724887,
           38.09199390948182,
           31.38470965295043,
           32.17141588429082,
           42.67317658670374,
           35.25620512760839,
           26.038433132583073,
           28.478061731796284,
           37.841775856849004,
           38.36665218650175,
           39.88734135035826,
           26.92582403567252,
           32.31098884280702,
           28.178005607210743,
           41.255302689472536,
           34.11744421846396
          ],
          "sizemode": "area",
          "sizeref": 0.05775
         },
         "mode": "markers",
         "name": "4",
         "text": [
          "Park Name: Acadia National Park<br>Size: 47390<br># Species: 1157<br># Native Species: 883<br>",
          "Park Name: Arches National Park<br>Size: 76519<br># Species: 749<br># Native Species: 665<br>",
          "Park Name: Badlands National Park<br>Size: 242756<br># Species: 700<br># Native Species: 622<br>",
          "Park Name: Black Canyon of the Gunnison National Park<br>Size: 32950<br># Species: 689<br># Native Species: 613<br>",
          "Park Name: Bryce Canyon National Park<br>Size: 35835<br># Species: 788<br># Native Species: 728<br>",
          "Park Name: Canyonlands National Park<br>Size: 337598<br># Species: 866<br># Native Species: 784<br>",
          "Park Name: Capitol Reef National Park<br>Size: 241904<br># Species: 1161<br># Native Species: 1028<br>",
          "Park Name: Carlsbad Caverns National Park<br>Size: 46766<br># Species: 1427<br># Native Species: 1356<br>",
          "Park Name: Congaree National Park<br>Size: 26546<br># Species: 1205<br># Native Species: 1121<br>",
          "Park Name: Crater Lake National Park<br>Size: 183224<br># Species: 1122<br># Native Species: 1069<br>",
          "Park Name: Glacier National Park<br>Size: 1013572<br># Species: 2196<br># Native Species: 2058<br>",
          "Park Name: Grand Teton National Park<br>Size: 309995<br># Species: 1587<br># Native Species: 1446<br>",
          "Park Name: Great Basin National Park<br>Size: 77180<br># Species: 955<br># Native Species: 887<br>",
          "Park Name: Great Sand Dunes National Park and Preserve<br>Size: 42984<br># Species: 813<br># Native Species: 789<br>",
          "Park Name: Guadalupe Mountains National Park<br>Size: 86416<br># Species: 1578<br># Native Species: 1528<br>",
          "Park Name: Hot Springs National Park<br>Size: 5550<br># Species: 588<br># Native Species: 524<br>",
          "Park Name: Isle Royale National Park<br>Size: 571790<br># Species: 1167<br># Native Species: 1027<br>",
          "Park Name: Joshua Tree National Park<br>Size: 789745<br># Species: 849<br># Native Species: 818<br>",
          "Park Name: Lassen Volcanic National Park<br>Size: 106372<br># Species: 1005<br># Native Species: 955<br>",
          "Park Name: Mammoth Cave National Park<br>Size: 52830<br># Species: 1628<br># Native Species: 1451<br>",
          "Park Name: Mesa Verde National Park<br>Size: 52122<br># Species: 1106<br># Native Species: 985<br>",
          "Park Name: Mount Rainier National Park<br>Size: 235625<br># Species: 1191<br># Native Species: 1035<br>",
          "Park Name: North Cascades National Park<br>Size: 504781<br># Species: 2053<br># Native Species: 1821<br>",
          "Park Name: Olympic National Park<br>Size: 922651<br># Species: 1356<br># Native Species: 1243<br>",
          "Park Name: Petrified Forest National Park<br>Size: 93533<br># Species: 732<br># Native Species: 678<br>",
          "Park Name: Pinnacles National Park<br>Size: 26606<br># Species: 940<br># Native Species: 811<br>",
          "Park Name: Rocky Mountain National Park<br>Size: 265828<br># Species: 1526<br># Native Species: 1432<br>",
          "Park Name: Saguaro National Park<br>Size: 91440<br># Species: 1578<br># Native Species: 1472<br>",
          "Park Name: Sequoia and Kings Canyon National Parks<br>Size: 865952<br># Species: 1818<br># Native Species: 1591<br>",
          "Park Name: Theodore Roosevelt National Park<br>Size: 70447<br># Species: 807<br># Native Species: 725<br>",
          "Park Name: Voyageurs National Park<br>Size: 218200<br># Species: 1173<br># Native Species: 1044<br>",
          "Park Name: Wind Cave National Park<br>Size: 28295<br># Species: 890<br># Native Species: 794<br>",
          "Park Name: Yosemite National Park<br>Size: 761266<br># Species: 1896<br># Native Species: 1702<br>",
          "Park Name: Zion National Park<br>Size: 146598<br># Species: 1316<br># Native Species: 1164<br>"
         ],
         "type": "scatter",
         "x": [
          1694,
          1046,
          895,
          1106,
          1285,
          1223,
          1566,
          1481,
          1240,
          946,
          1643,
          1821,
          1149,
          801,
          1437,
          1743,
          1359,
          1299,
          1265,
          2055,
          1227,
          1303,
          3246,
          1907,
          843,
          1258,
          1416,
          1672,
          1995,
          977,
          1396,
          1237,
          2054,
          1791
         ],
         "y": [
          883,
          665,
          622,
          613,
          728,
          784,
          1028,
          1356,
          1121,
          1069,
          2058,
          1446,
          887,
          789,
          1528,
          524,
          1027,
          818,
          955,
          1451,
          985,
          1035,
          1821,
          1243,
          678,
          811,
          1432,
          1472,
          1591,
          725,
          1044,
          794,
          1702,
          1164
         ]
        },
        {
         "marker": {
          "color": "black"
         },
         "mode": "markers",
         "name": "Endangered",
         "type": "scatter",
         "x": [
          2655,
          1743,
          1600,
          842,
          1600,
          1530,
          1046,
          1285,
          1223,
          1566,
          1822,
          1149,
          2583,
          1299,
          1265,
          1227,
          1258,
          1995,
          2054,
          1791
         ],
         "y": [
          2238,
          524,
          662,
          340,
          662,
          1205,
          665,
          728,
          784,
          1028,
          1330,
          887,
          2310,
          818,
          955,
          985,
          811,
          1591,
          1702,
          1164
         ]
        }
       ],
       "layout": {
        "legend": {
         "title": {
          "text": "Cluster"
         }
        },
        "template": {
         "data": {
          "bar": [
           {
            "error_x": {
             "color": "#2a3f5f"
            },
            "error_y": {
             "color": "#2a3f5f"
            },
            "marker": {
             "line": {
              "color": "#E5ECF6",
              "width": 0.5
             }
            },
            "type": "bar"
           }
          ],
          "barpolar": [
           {
            "marker": {
             "line": {
              "color": "#E5ECF6",
              "width": 0.5
             }
            },
            "type": "barpolar"
           }
          ],
          "carpet": [
           {
            "aaxis": {
             "endlinecolor": "#2a3f5f",
             "gridcolor": "white",
             "linecolor": "white",
             "minorgridcolor": "white",
             "startlinecolor": "#2a3f5f"
            },
            "baxis": {
             "endlinecolor": "#2a3f5f",
             "gridcolor": "white",
             "linecolor": "white",
             "minorgridcolor": "white",
             "startlinecolor": "#2a3f5f"
            },
            "type": "carpet"
           }
          ],
          "choropleth": [
           {
            "colorbar": {
             "outlinewidth": 0,
             "ticks": ""
            },
            "type": "choropleth"
           }
          ],
          "contour": [
           {
            "colorbar": {
             "outlinewidth": 0,
             "ticks": ""
            },
            "colorscale": [
             [
              0,
              "#0d0887"
             ],
             [
              0.1111111111111111,
              "#46039f"
             ],
             [
              0.2222222222222222,
              "#7201a8"
             ],
             [
              0.3333333333333333,
              "#9c179e"
             ],
             [
              0.4444444444444444,
              "#bd3786"
             ],
             [
              0.5555555555555556,
              "#d8576b"
             ],
             [
              0.6666666666666666,
              "#ed7953"
             ],
             [
              0.7777777777777778,
              "#fb9f3a"
             ],
             [
              0.8888888888888888,
              "#fdca26"
             ],
             [
              1,
              "#f0f921"
             ]
            ],
            "type": "contour"
           }
          ],
          "contourcarpet": [
           {
            "colorbar": {
             "outlinewidth": 0,
             "ticks": ""
            },
            "type": "contourcarpet"
           }
          ],
          "heatmap": [
           {
            "colorbar": {
             "outlinewidth": 0,
             "ticks": ""
            },
            "colorscale": [
             [
              0,
              "#0d0887"
             ],
             [
              0.1111111111111111,
              "#46039f"
             ],
             [
              0.2222222222222222,
              "#7201a8"
             ],
             [
              0.3333333333333333,
              "#9c179e"
             ],
             [
              0.4444444444444444,
              "#bd3786"
             ],
             [
              0.5555555555555556,
              "#d8576b"
             ],
             [
              0.6666666666666666,
              "#ed7953"
             ],
             [
              0.7777777777777778,
              "#fb9f3a"
             ],
             [
              0.8888888888888888,
              "#fdca26"
             ],
             [
              1,
              "#f0f921"
             ]
            ],
            "type": "heatmap"
           }
          ],
          "heatmapgl": [
           {
            "colorbar": {
             "outlinewidth": 0,
             "ticks": ""
            },
            "colorscale": [
             [
              0,
              "#0d0887"
             ],
             [
              0.1111111111111111,
              "#46039f"
             ],
             [
              0.2222222222222222,
              "#7201a8"
             ],
             [
              0.3333333333333333,
              "#9c179e"
             ],
             [
              0.4444444444444444,
              "#bd3786"
             ],
             [
              0.5555555555555556,
              "#d8576b"
             ],
             [
              0.6666666666666666,
              "#ed7953"
             ],
             [
              0.7777777777777778,
              "#fb9f3a"
             ],
             [
              0.8888888888888888,
              "#fdca26"
             ],
             [
              1,
              "#f0f921"
             ]
            ],
            "type": "heatmapgl"
           }
          ],
          "histogram": [
           {
            "marker": {
             "colorbar": {
              "outlinewidth": 0,
              "ticks": ""
             }
            },
            "type": "histogram"
           }
          ],
          "histogram2d": [
           {
            "colorbar": {
             "outlinewidth": 0,
             "ticks": ""
            },
            "colorscale": [
             [
              0,
              "#0d0887"
             ],
             [
              0.1111111111111111,
              "#46039f"
             ],
             [
              0.2222222222222222,
              "#7201a8"
             ],
             [
              0.3333333333333333,
              "#9c179e"
             ],
             [
              0.4444444444444444,
              "#bd3786"
             ],
             [
              0.5555555555555556,
              "#d8576b"
             ],
             [
              0.6666666666666666,
              "#ed7953"
             ],
             [
              0.7777777777777778,
              "#fb9f3a"
             ],
             [
              0.8888888888888888,
              "#fdca26"
             ],
             [
              1,
              "#f0f921"
             ]
            ],
            "type": "histogram2d"
           }
          ],
          "histogram2dcontour": [
           {
            "colorbar": {
             "outlinewidth": 0,
             "ticks": ""
            },
            "colorscale": [
             [
              0,
              "#0d0887"
             ],
             [
              0.1111111111111111,
              "#46039f"
             ],
             [
              0.2222222222222222,
              "#7201a8"
             ],
             [
              0.3333333333333333,
              "#9c179e"
             ],
             [
              0.4444444444444444,
              "#bd3786"
             ],
             [
              0.5555555555555556,
              "#d8576b"
             ],
             [
              0.6666666666666666,
              "#ed7953"
             ],
             [
              0.7777777777777778,
              "#fb9f3a"
             ],
             [
              0.8888888888888888,
              "#fdca26"
             ],
             [
              1,
              "#f0f921"
             ]
            ],
            "type": "histogram2dcontour"
           }
          ],
          "mesh3d": [
           {
            "colorbar": {
             "outlinewidth": 0,
             "ticks": ""
            },
            "type": "mesh3d"
           }
          ],
          "parcoords": [
           {
            "line": {
             "colorbar": {
              "outlinewidth": 0,
              "ticks": ""
             }
            },
            "type": "parcoords"
           }
          ],
          "pie": [
           {
            "automargin": true,
            "type": "pie"
           }
          ],
          "scatter": [
           {
            "marker": {
             "colorbar": {
              "outlinewidth": 0,
              "ticks": ""
             }
            },
            "type": "scatter"
           }
          ],
          "scatter3d": [
           {
            "line": {
             "colorbar": {
              "outlinewidth": 0,
              "ticks": ""
             }
            },
            "marker": {
             "colorbar": {
              "outlinewidth": 0,
              "ticks": ""
             }
            },
            "type": "scatter3d"
           }
          ],
          "scattercarpet": [
           {
            "marker": {
             "colorbar": {
              "outlinewidth": 0,
              "ticks": ""
             }
            },
            "type": "scattercarpet"
           }
          ],
          "scattergeo": [
           {
            "marker": {
             "colorbar": {
              "outlinewidth": 0,
              "ticks": ""
             }
            },
            "type": "scattergeo"
           }
          ],
          "scattergl": [
           {
            "marker": {
             "colorbar": {
              "outlinewidth": 0,
              "ticks": ""
             }
            },
            "type": "scattergl"
           }
          ],
          "scattermapbox": [
           {
            "marker": {
             "colorbar": {
              "outlinewidth": 0,
              "ticks": ""
             }
            },
            "type": "scattermapbox"
           }
          ],
          "scatterpolar": [
           {
            "marker": {
             "colorbar": {
              "outlinewidth": 0,
              "ticks": ""
             }
            },
            "type": "scatterpolar"
           }
          ],
          "scatterpolargl": [
           {
            "marker": {
             "colorbar": {
              "outlinewidth": 0,
              "ticks": ""
             }
            },
            "type": "scatterpolargl"
           }
          ],
          "scatterternary": [
           {
            "marker": {
             "colorbar": {
              "outlinewidth": 0,
              "ticks": ""
             }
            },
            "type": "scatterternary"
           }
          ],
          "surface": [
           {
            "colorbar": {
             "outlinewidth": 0,
             "ticks": ""
            },
            "colorscale": [
             [
              0,
              "#0d0887"
             ],
             [
              0.1111111111111111,
              "#46039f"
             ],
             [
              0.2222222222222222,
              "#7201a8"
             ],
             [
              0.3333333333333333,
              "#9c179e"
             ],
             [
              0.4444444444444444,
              "#bd3786"
             ],
             [
              0.5555555555555556,
              "#d8576b"
             ],
             [
              0.6666666666666666,
              "#ed7953"
             ],
             [
              0.7777777777777778,
              "#fb9f3a"
             ],
             [
              0.8888888888888888,
              "#fdca26"
             ],
             [
              1,
              "#f0f921"
             ]
            ],
            "type": "surface"
           }
          ],
          "table": [
           {
            "cells": {
             "fill": {
              "color": "#EBF0F8"
             },
             "line": {
              "color": "white"
             }
            },
            "header": {
             "fill": {
              "color": "#C8D4E3"
             },
             "line": {
              "color": "white"
             }
            },
            "type": "table"
           }
          ]
         },
         "layout": {
          "annotationdefaults": {
           "arrowcolor": "#2a3f5f",
           "arrowhead": 0,
           "arrowwidth": 1
          },
          "coloraxis": {
           "colorbar": {
            "outlinewidth": 0,
            "ticks": ""
           }
          },
          "colorscale": {
           "diverging": [
            [
             0,
             "#8e0152"
            ],
            [
             0.1,
             "#c51b7d"
            ],
            [
             0.2,
             "#de77ae"
            ],
            [
             0.3,
             "#f1b6da"
            ],
            [
             0.4,
             "#fde0ef"
            ],
            [
             0.5,
             "#f7f7f7"
            ],
            [
             0.6,
             "#e6f5d0"
            ],
            [
             0.7,
             "#b8e186"
            ],
            [
             0.8,
             "#7fbc41"
            ],
            [
             0.9,
             "#4d9221"
            ],
            [
             1,
             "#276419"
            ]
           ],
           "sequential": [
            [
             0,
             "#0d0887"
            ],
            [
             0.1111111111111111,
             "#46039f"
            ],
            [
             0.2222222222222222,
             "#7201a8"
            ],
            [
             0.3333333333333333,
             "#9c179e"
            ],
            [
             0.4444444444444444,
             "#bd3786"
            ],
            [
             0.5555555555555556,
             "#d8576b"
            ],
            [
             0.6666666666666666,
             "#ed7953"
            ],
            [
             0.7777777777777778,
             "#fb9f3a"
            ],
            [
             0.8888888888888888,
             "#fdca26"
            ],
            [
             1,
             "#f0f921"
            ]
           ],
           "sequentialminus": [
            [
             0,
             "#0d0887"
            ],
            [
             0.1111111111111111,
             "#46039f"
            ],
            [
             0.2222222222222222,
             "#7201a8"
            ],
            [
             0.3333333333333333,
             "#9c179e"
            ],
            [
             0.4444444444444444,
             "#bd3786"
            ],
            [
             0.5555555555555556,
             "#d8576b"
            ],
            [
             0.6666666666666666,
             "#ed7953"
            ],
            [
             0.7777777777777778,
             "#fb9f3a"
            ],
            [
             0.8888888888888888,
             "#fdca26"
            ],
            [
             1,
             "#f0f921"
            ]
           ]
          },
          "colorway": [
           "#636efa",
           "#EF553B",
           "#00cc96",
           "#ab63fa",
           "#FFA15A",
           "#19d3f3",
           "#FF6692",
           "#B6E880",
           "#FF97FF",
           "#FECB52"
          ],
          "font": {
           "color": "#2a3f5f"
          },
          "geo": {
           "bgcolor": "white",
           "lakecolor": "white",
           "landcolor": "#E5ECF6",
           "showlakes": true,
           "showland": true,
           "subunitcolor": "white"
          },
          "hoverlabel": {
           "align": "left"
          },
          "hovermode": "closest",
          "mapbox": {
           "style": "light"
          },
          "paper_bgcolor": "white",
          "plot_bgcolor": "#E5ECF6",
          "polar": {
           "angularaxis": {
            "gridcolor": "white",
            "linecolor": "white",
            "ticks": ""
           },
           "bgcolor": "#E5ECF6",
           "radialaxis": {
            "gridcolor": "white",
            "linecolor": "white",
            "ticks": ""
           }
          },
          "scene": {
           "xaxis": {
            "backgroundcolor": "#E5ECF6",
            "gridcolor": "white",
            "gridwidth": 2,
            "linecolor": "white",
            "showbackground": true,
            "ticks": "",
            "zerolinecolor": "white"
           },
           "yaxis": {
            "backgroundcolor": "#E5ECF6",
            "gridcolor": "white",
            "gridwidth": 2,
            "linecolor": "white",
            "showbackground": true,
            "ticks": "",
            "zerolinecolor": "white"
           },
           "zaxis": {
            "backgroundcolor": "#E5ECF6",
            "gridcolor": "white",
            "gridwidth": 2,
            "linecolor": "white",
            "showbackground": true,
            "ticks": "",
            "zerolinecolor": "white"
           }
          },
          "shapedefaults": {
           "line": {
            "color": "#2a3f5f"
           }
          },
          "ternary": {
           "aaxis": {
            "gridcolor": "white",
            "linecolor": "white",
            "ticks": ""
           },
           "baxis": {
            "gridcolor": "white",
            "linecolor": "white",
            "ticks": ""
           },
           "bgcolor": "#E5ECF6",
           "caxis": {
            "gridcolor": "white",
            "linecolor": "white",
            "ticks": ""
           }
          },
          "title": {
           "x": 0.05
          },
          "xaxis": {
           "automargin": true,
           "gridcolor": "white",
           "linecolor": "white",
           "ticks": "",
           "title": {
            "standoff": 15
           },
           "zerolinecolor": "white",
           "zerolinewidth": 2
          },
          "yaxis": {
           "automargin": true,
           "gridcolor": "white",
           "linecolor": "white",
           "ticks": "",
           "title": {
            "standoff": 15
           },
           "zerolinecolor": "white",
           "zerolinewidth": 2
          }
         }
        },
        "title": {
         "text": "Record Status vs. Native Species"
        },
        "xaxis": {
         "gridcolor": "white",
         "gridwidth": 2,
         "title": {
          "text": "# Record Status Approved"
         },
         "type": "linear"
        },
        "yaxis": {
         "gridcolor": "white",
         "gridwidth": 2,
         "title": {
          "text": "# Native Species"
         },
         "type": "linear"
        }
       }
      },
      "text/html": [
       "<div>\n",
       "        \n",
       "        \n",
       "            <div id=\"9c99b6f3-ee22-4374-833f-1df2883dc925\" class=\"plotly-graph-div\" style=\"height:525px; width:100%;\"></div>\n",
       "            <script type=\"text/javascript\">\n",
       "                require([\"plotly\"], function(Plotly) {\n",
       "                    window.PLOTLYENV=window.PLOTLYENV || {};\n",
       "                    \n",
       "                if (document.getElementById(\"9c99b6f3-ee22-4374-833f-1df2883dc925\")) {\n",
       "                    Plotly.newPlot(\n",
       "                        '9c99b6f3-ee22-4374-833f-1df2883dc925',\n",
       "                        [{\"marker\": {\"line\": {\"width\": 2}, \"size\": [31.25699921617557, 26.870057685088806, 29.782545223670862, 27.367864366808018, 24.269322199023193, 23.515952032609693, 30.822070014844883, 38.39270764090493], \"sizemode\": \"area\", \"sizeref\": 0.05775}, \"mode\": \"markers\", \"name\": \"0\", \"text\": [\"Park Name: Denali National Park and Preserve<br>Size: 3372402<br># Species: 999<br># Native Species: 977<br>\", \"Park Name: Gates Of The Arctic National Park and Preserve<br>Size: 7523898<br># Species: 722<br># Native Species: 722<br>\", \"Park Name: Glacier Bay National Park and Preserve<br>Size: 3224840<br># Species: 916<br># Native Species: 887<br>\", \"Park Name: Katmai National Park and Preserve<br>Size: 3674530<br># Species: 760<br># Native Species: 749<br>\", \"Park Name: Kenai Fjords National Park<br>Size: 669983<br># Species: 605<br># Native Species: 589<br>\", \"Park Name: Kobuk Valley National Park<br>Size: 1750717<br># Species: 553<br># Native Species: 553<br>\", \"Park Name: Lake Clark National Park and Preserve<br>Size: 2619733<br># Species: 970<br># Native Species: 950<br>\", \"Park Name: Wrangell - St Elias National Park and Preserve<br>Size: 8323148<br># Species: 1509<br># Native Species: 1474<br>\"], \"type\": \"scatter\", \"x\": [1058, 871, 1422, 1024, 992, 663, 1473, 1790], \"y\": [977, 722, 887, 749, 589, 553, 950, 1474]}, {\"marker\": {\"line\": {\"width\": 2}, \"size\": [34.539832078341085, 40.24922359499622], \"sizemode\": \"area\", \"sizeref\": 0.05775}, \"mode\": \"markers\", \"name\": \"1\", \"text\": [\"Park Name: Haleakala National Park<br>Size: 29094<br># Species: 2023<br># Native Species: 1193<br>\", \"Park Name: Hawaii Volcanoes National Park<br>Size: 323431<br># Species: 2722<br># Native Species: 1620<br>\"], \"type\": \"scatter\", \"x\": [1048, 3298], \"y\": [1193, 1620]}, {\"marker\": {\"line\": {\"width\": 2}, \"size\": [36.46916505762094, 47.30750469005948, 34.713109915419565, 38.05259518088089, 44.710177812216315], \"sizemode\": \"area\", \"sizeref\": 0.05775}, \"mode\": \"markers\", \"name\": \"2\", \"text\": [\"Park Name: Death Valley National Park<br>Size: 4740912<br># Species: 1410<br># Native Species: 1330<br>\", \"Park Name: Great Smoky Mountains National Park<br>Size: 521490<br># Species: 2598<br># Native Species: 2238<br>\", \"Park Name: Redwood National Park<br>Size: 112512<br># Species: 1525<br># Native Species: 1205<br>\", \"Park Name: Shenandoah National Park<br>Size: 199045<br># Species: 1824<br># Native Species: 1448<br>\", \"Park Name: Yellowstone National Park<br>Size: 2219791<br># Species: 2188<br># Native Species: 1999<br>\"], \"type\": \"scatter\", \"x\": [1822, 2655, 1530, 2643, 1990], \"y\": [1330, 2238, 1205, 1448, 1999]}, {\"marker\": {\"line\": {\"width\": 2}, \"size\": [43.61192497471305, 25.729360660537214, 40.28647415696737, 38.768543949960254, 18.439088914585774, 37.134889255254286, 48.062459362791664], \"sizemode\": \"area\", \"sizeref\": 0.05775}, \"mode\": \"markers\", \"name\": \"3\", \"text\": [\"Park Name: Big Bend National Park<br>Size: 801163<br># Species: 2011<br># Native Species: 1902<br>\", \"Park Name: Biscayne National Park<br>Size: 172924<br># Species: 839<br># Native Species: 662<br>\", \"Park Name: Channel Islands National Park<br>Size: 249561<br># Species: 1847<br># Native Species: 1623<br>\", \"Park Name: Cuyahoga Valley National Park<br>Size: 32950<br># Species: 1770<br># Native Species: 1503<br>\", \"Park Name: Dry Tortugas National Park<br>Size: 64701<br># Species: 481<br># Native Species: 340<br>\", \"Park Name: Everglades National Park<br>Size: 1508538<br># Species: 1780<br># Native Species: 1379<br>\", \"Park Name: Grand Canyon National Park<br>Size: 1217403<br># Species: 2532<br># Native Species: 2310<br>\"], \"type\": \"scatter\", \"x\": [2144, 1600, 1863, 1695, 842, 1872, 2583], \"y\": [1902, 662, 1623, 1503, 340, 1379, 2310]}, {\"marker\": {\"line\": {\"width\": 2}, \"size\": [29.715315916207253, 25.787593916455254, 24.939927826679853, 24.758836806279895, 26.981475126464083, 28.0, 32.0624390837628, 36.823905279043935, 33.481338085566414, 32.69556544854363, 45.36518488885502, 38.02630668366309, 29.782545223670862, 28.089143810376278, 39.08964057138413, 22.891046284519195, 32.046840717924134, 28.600699292150182, 30.903074280724887, 38.09199390948182, 31.38470965295043, 32.17141588429082, 42.67317658670374, 35.25620512760839, 26.038433132583073, 28.478061731796284, 37.841775856849004, 38.36665218650175, 39.88734135035826, 26.92582403567252, 32.31098884280702, 28.178005607210743, 41.255302689472536, 34.11744421846396], \"sizemode\": \"area\", \"sizeref\": 0.05775}, \"mode\": \"markers\", \"name\": \"4\", \"text\": [\"Park Name: Acadia National Park<br>Size: 47390<br># Species: 1157<br># Native Species: 883<br>\", \"Park Name: Arches National Park<br>Size: 76519<br># Species: 749<br># Native Species: 665<br>\", \"Park Name: Badlands National Park<br>Size: 242756<br># Species: 700<br># Native Species: 622<br>\", \"Park Name: Black Canyon of the Gunnison National Park<br>Size: 32950<br># Species: 689<br># Native Species: 613<br>\", \"Park Name: Bryce Canyon National Park<br>Size: 35835<br># Species: 788<br># Native Species: 728<br>\", \"Park Name: Canyonlands National Park<br>Size: 337598<br># Species: 866<br># Native Species: 784<br>\", \"Park Name: Capitol Reef National Park<br>Size: 241904<br># Species: 1161<br># Native Species: 1028<br>\", \"Park Name: Carlsbad Caverns National Park<br>Size: 46766<br># Species: 1427<br># Native Species: 1356<br>\", \"Park Name: Congaree National Park<br>Size: 26546<br># Species: 1205<br># Native Species: 1121<br>\", \"Park Name: Crater Lake National Park<br>Size: 183224<br># Species: 1122<br># Native Species: 1069<br>\", \"Park Name: Glacier National Park<br>Size: 1013572<br># Species: 2196<br># Native Species: 2058<br>\", \"Park Name: Grand Teton National Park<br>Size: 309995<br># Species: 1587<br># Native Species: 1446<br>\", \"Park Name: Great Basin National Park<br>Size: 77180<br># Species: 955<br># Native Species: 887<br>\", \"Park Name: Great Sand Dunes National Park and Preserve<br>Size: 42984<br># Species: 813<br># Native Species: 789<br>\", \"Park Name: Guadalupe Mountains National Park<br>Size: 86416<br># Species: 1578<br># Native Species: 1528<br>\", \"Park Name: Hot Springs National Park<br>Size: 5550<br># Species: 588<br># Native Species: 524<br>\", \"Park Name: Isle Royale National Park<br>Size: 571790<br># Species: 1167<br># Native Species: 1027<br>\", \"Park Name: Joshua Tree National Park<br>Size: 789745<br># Species: 849<br># Native Species: 818<br>\", \"Park Name: Lassen Volcanic National Park<br>Size: 106372<br># Species: 1005<br># Native Species: 955<br>\", \"Park Name: Mammoth Cave National Park<br>Size: 52830<br># Species: 1628<br># Native Species: 1451<br>\", \"Park Name: Mesa Verde National Park<br>Size: 52122<br># Species: 1106<br># Native Species: 985<br>\", \"Park Name: Mount Rainier National Park<br>Size: 235625<br># Species: 1191<br># Native Species: 1035<br>\", \"Park Name: North Cascades National Park<br>Size: 504781<br># Species: 2053<br># Native Species: 1821<br>\", \"Park Name: Olympic National Park<br>Size: 922651<br># Species: 1356<br># Native Species: 1243<br>\", \"Park Name: Petrified Forest National Park<br>Size: 93533<br># Species: 732<br># Native Species: 678<br>\", \"Park Name: Pinnacles National Park<br>Size: 26606<br># Species: 940<br># Native Species: 811<br>\", \"Park Name: Rocky Mountain National Park<br>Size: 265828<br># Species: 1526<br># Native Species: 1432<br>\", \"Park Name: Saguaro National Park<br>Size: 91440<br># Species: 1578<br># Native Species: 1472<br>\", \"Park Name: Sequoia and Kings Canyon National Parks<br>Size: 865952<br># Species: 1818<br># Native Species: 1591<br>\", \"Park Name: Theodore Roosevelt National Park<br>Size: 70447<br># Species: 807<br># Native Species: 725<br>\", \"Park Name: Voyageurs National Park<br>Size: 218200<br># Species: 1173<br># Native Species: 1044<br>\", \"Park Name: Wind Cave National Park<br>Size: 28295<br># Species: 890<br># Native Species: 794<br>\", \"Park Name: Yosemite National Park<br>Size: 761266<br># Species: 1896<br># Native Species: 1702<br>\", \"Park Name: Zion National Park<br>Size: 146598<br># Species: 1316<br># Native Species: 1164<br>\"], \"type\": \"scatter\", \"x\": [1694, 1046, 895, 1106, 1285, 1223, 1566, 1481, 1240, 946, 1643, 1821, 1149, 801, 1437, 1743, 1359, 1299, 1265, 2055, 1227, 1303, 3246, 1907, 843, 1258, 1416, 1672, 1995, 977, 1396, 1237, 2054, 1791], \"y\": [883, 665, 622, 613, 728, 784, 1028, 1356, 1121, 1069, 2058, 1446, 887, 789, 1528, 524, 1027, 818, 955, 1451, 985, 1035, 1821, 1243, 678, 811, 1432, 1472, 1591, 725, 1044, 794, 1702, 1164]}, {\"marker\": {\"color\": \"black\"}, \"mode\": \"markers\", \"name\": \"Endangered\", \"type\": \"scatter\", \"x\": [2655, 1743, 1600, 842, 1600, 1530, 1046, 1285, 1223, 1566, 1822, 1149, 2583, 1299, 1265, 1227, 1258, 1995, 2054, 1791], \"y\": [2238, 524, 662, 340, 662, 1205, 665, 728, 784, 1028, 1330, 887, 2310, 818, 955, 985, 811, 1591, 1702, 1164]}],\n",
       "                        {\"legend\": {\"title\": {\"text\": \"Cluster\"}}, \"template\": {\"data\": {\"bar\": [{\"error_x\": {\"color\": \"#2a3f5f\"}, \"error_y\": {\"color\": \"#2a3f5f\"}, \"marker\": {\"line\": {\"color\": \"#E5ECF6\", \"width\": 0.5}}, \"type\": \"bar\"}], \"barpolar\": [{\"marker\": {\"line\": {\"color\": \"#E5ECF6\", \"width\": 0.5}}, \"type\": \"barpolar\"}], \"carpet\": [{\"aaxis\": {\"endlinecolor\": \"#2a3f5f\", \"gridcolor\": \"white\", \"linecolor\": \"white\", \"minorgridcolor\": \"white\", \"startlinecolor\": \"#2a3f5f\"}, \"baxis\": {\"endlinecolor\": \"#2a3f5f\", \"gridcolor\": \"white\", \"linecolor\": \"white\", \"minorgridcolor\": \"white\", \"startlinecolor\": \"#2a3f5f\"}, \"type\": \"carpet\"}], \"choropleth\": [{\"colorbar\": {\"outlinewidth\": 0, \"ticks\": \"\"}, \"type\": \"choropleth\"}], \"contour\": [{\"colorbar\": {\"outlinewidth\": 0, \"ticks\": \"\"}, \"colorscale\": [[0.0, \"#0d0887\"], [0.1111111111111111, \"#46039f\"], [0.2222222222222222, \"#7201a8\"], [0.3333333333333333, \"#9c179e\"], [0.4444444444444444, \"#bd3786\"], [0.5555555555555556, \"#d8576b\"], [0.6666666666666666, \"#ed7953\"], [0.7777777777777778, \"#fb9f3a\"], [0.8888888888888888, \"#fdca26\"], [1.0, \"#f0f921\"]], \"type\": \"contour\"}], \"contourcarpet\": [{\"colorbar\": {\"outlinewidth\": 0, \"ticks\": \"\"}, \"type\": \"contourcarpet\"}], \"heatmap\": [{\"colorbar\": {\"outlinewidth\": 0, \"ticks\": \"\"}, \"colorscale\": [[0.0, \"#0d0887\"], [0.1111111111111111, \"#46039f\"], [0.2222222222222222, \"#7201a8\"], [0.3333333333333333, \"#9c179e\"], [0.4444444444444444, \"#bd3786\"], [0.5555555555555556, \"#d8576b\"], [0.6666666666666666, \"#ed7953\"], [0.7777777777777778, \"#fb9f3a\"], [0.8888888888888888, \"#fdca26\"], [1.0, \"#f0f921\"]], \"type\": \"heatmap\"}], \"heatmapgl\": [{\"colorbar\": {\"outlinewidth\": 0, \"ticks\": \"\"}, \"colorscale\": [[0.0, \"#0d0887\"], [0.1111111111111111, \"#46039f\"], [0.2222222222222222, \"#7201a8\"], [0.3333333333333333, \"#9c179e\"], [0.4444444444444444, \"#bd3786\"], [0.5555555555555556, \"#d8576b\"], [0.6666666666666666, \"#ed7953\"], [0.7777777777777778, \"#fb9f3a\"], [0.8888888888888888, \"#fdca26\"], [1.0, \"#f0f921\"]], \"type\": \"heatmapgl\"}], \"histogram\": [{\"marker\": {\"colorbar\": {\"outlinewidth\": 0, \"ticks\": \"\"}}, \"type\": \"histogram\"}], \"histogram2d\": [{\"colorbar\": {\"outlinewidth\": 0, \"ticks\": \"\"}, \"colorscale\": [[0.0, \"#0d0887\"], [0.1111111111111111, \"#46039f\"], [0.2222222222222222, \"#7201a8\"], [0.3333333333333333, \"#9c179e\"], [0.4444444444444444, \"#bd3786\"], [0.5555555555555556, \"#d8576b\"], [0.6666666666666666, \"#ed7953\"], [0.7777777777777778, \"#fb9f3a\"], [0.8888888888888888, \"#fdca26\"], [1.0, \"#f0f921\"]], \"type\": \"histogram2d\"}], \"histogram2dcontour\": [{\"colorbar\": {\"outlinewidth\": 0, \"ticks\": \"\"}, \"colorscale\": [[0.0, \"#0d0887\"], [0.1111111111111111, \"#46039f\"], [0.2222222222222222, \"#7201a8\"], [0.3333333333333333, \"#9c179e\"], [0.4444444444444444, \"#bd3786\"], [0.5555555555555556, \"#d8576b\"], [0.6666666666666666, \"#ed7953\"], [0.7777777777777778, \"#fb9f3a\"], [0.8888888888888888, \"#fdca26\"], [1.0, \"#f0f921\"]], \"type\": \"histogram2dcontour\"}], \"mesh3d\": [{\"colorbar\": {\"outlinewidth\": 0, \"ticks\": \"\"}, \"type\": \"mesh3d\"}], \"parcoords\": [{\"line\": {\"colorbar\": {\"outlinewidth\": 0, \"ticks\": \"\"}}, \"type\": \"parcoords\"}], \"pie\": [{\"automargin\": true, \"type\": \"pie\"}], \"scatter\": [{\"marker\": {\"colorbar\": {\"outlinewidth\": 0, \"ticks\": \"\"}}, \"type\": \"scatter\"}], \"scatter3d\": [{\"line\": {\"colorbar\": {\"outlinewidth\": 0, \"ticks\": \"\"}}, \"marker\": {\"colorbar\": {\"outlinewidth\": 0, \"ticks\": \"\"}}, \"type\": \"scatter3d\"}], \"scattercarpet\": [{\"marker\": {\"colorbar\": {\"outlinewidth\": 0, \"ticks\": \"\"}}, \"type\": \"scattercarpet\"}], \"scattergeo\": [{\"marker\": {\"colorbar\": {\"outlinewidth\": 0, \"ticks\": \"\"}}, \"type\": \"scattergeo\"}], \"scattergl\": [{\"marker\": {\"colorbar\": {\"outlinewidth\": 0, \"ticks\": \"\"}}, \"type\": \"scattergl\"}], \"scattermapbox\": [{\"marker\": {\"colorbar\": {\"outlinewidth\": 0, \"ticks\": \"\"}}, \"type\": \"scattermapbox\"}], \"scatterpolar\": [{\"marker\": {\"colorbar\": {\"outlinewidth\": 0, \"ticks\": \"\"}}, \"type\": \"scatterpolar\"}], \"scatterpolargl\": [{\"marker\": {\"colorbar\": {\"outlinewidth\": 0, \"ticks\": \"\"}}, \"type\": \"scatterpolargl\"}], \"scatterternary\": [{\"marker\": {\"colorbar\": {\"outlinewidth\": 0, \"ticks\": \"\"}}, \"type\": \"scatterternary\"}], \"surface\": [{\"colorbar\": {\"outlinewidth\": 0, \"ticks\": \"\"}, \"colorscale\": [[0.0, \"#0d0887\"], [0.1111111111111111, \"#46039f\"], [0.2222222222222222, \"#7201a8\"], [0.3333333333333333, \"#9c179e\"], [0.4444444444444444, \"#bd3786\"], [0.5555555555555556, \"#d8576b\"], [0.6666666666666666, \"#ed7953\"], [0.7777777777777778, \"#fb9f3a\"], [0.8888888888888888, \"#fdca26\"], [1.0, \"#f0f921\"]], \"type\": \"surface\"}], \"table\": [{\"cells\": {\"fill\": {\"color\": \"#EBF0F8\"}, \"line\": {\"color\": \"white\"}}, \"header\": {\"fill\": {\"color\": \"#C8D4E3\"}, \"line\": {\"color\": \"white\"}}, \"type\": \"table\"}]}, \"layout\": {\"annotationdefaults\": {\"arrowcolor\": \"#2a3f5f\", \"arrowhead\": 0, \"arrowwidth\": 1}, \"coloraxis\": {\"colorbar\": {\"outlinewidth\": 0, \"ticks\": \"\"}}, \"colorscale\": {\"diverging\": [[0, \"#8e0152\"], [0.1, \"#c51b7d\"], [0.2, \"#de77ae\"], [0.3, \"#f1b6da\"], [0.4, \"#fde0ef\"], [0.5, \"#f7f7f7\"], [0.6, \"#e6f5d0\"], [0.7, \"#b8e186\"], [0.8, \"#7fbc41\"], [0.9, \"#4d9221\"], [1, \"#276419\"]], \"sequential\": [[0.0, \"#0d0887\"], [0.1111111111111111, \"#46039f\"], [0.2222222222222222, \"#7201a8\"], [0.3333333333333333, \"#9c179e\"], [0.4444444444444444, \"#bd3786\"], [0.5555555555555556, \"#d8576b\"], [0.6666666666666666, \"#ed7953\"], [0.7777777777777778, \"#fb9f3a\"], [0.8888888888888888, \"#fdca26\"], [1.0, \"#f0f921\"]], \"sequentialminus\": [[0.0, \"#0d0887\"], [0.1111111111111111, \"#46039f\"], [0.2222222222222222, \"#7201a8\"], [0.3333333333333333, \"#9c179e\"], [0.4444444444444444, \"#bd3786\"], [0.5555555555555556, \"#d8576b\"], [0.6666666666666666, \"#ed7953\"], [0.7777777777777778, \"#fb9f3a\"], [0.8888888888888888, \"#fdca26\"], [1.0, \"#f0f921\"]]}, \"colorway\": [\"#636efa\", \"#EF553B\", \"#00cc96\", \"#ab63fa\", \"#FFA15A\", \"#19d3f3\", \"#FF6692\", \"#B6E880\", \"#FF97FF\", \"#FECB52\"], \"font\": {\"color\": \"#2a3f5f\"}, \"geo\": {\"bgcolor\": \"white\", \"lakecolor\": \"white\", \"landcolor\": \"#E5ECF6\", \"showlakes\": true, \"showland\": true, \"subunitcolor\": \"white\"}, \"hoverlabel\": {\"align\": \"left\"}, \"hovermode\": \"closest\", \"mapbox\": {\"style\": \"light\"}, \"paper_bgcolor\": \"white\", \"plot_bgcolor\": \"#E5ECF6\", \"polar\": {\"angularaxis\": {\"gridcolor\": \"white\", \"linecolor\": \"white\", \"ticks\": \"\"}, \"bgcolor\": \"#E5ECF6\", \"radialaxis\": {\"gridcolor\": \"white\", \"linecolor\": \"white\", \"ticks\": \"\"}}, \"scene\": {\"xaxis\": {\"backgroundcolor\": \"#E5ECF6\", \"gridcolor\": \"white\", \"gridwidth\": 2, \"linecolor\": \"white\", \"showbackground\": true, \"ticks\": \"\", \"zerolinecolor\": \"white\"}, \"yaxis\": {\"backgroundcolor\": \"#E5ECF6\", \"gridcolor\": \"white\", \"gridwidth\": 2, \"linecolor\": \"white\", \"showbackground\": true, \"ticks\": \"\", \"zerolinecolor\": \"white\"}, \"zaxis\": {\"backgroundcolor\": \"#E5ECF6\", \"gridcolor\": \"white\", \"gridwidth\": 2, \"linecolor\": \"white\", \"showbackground\": true, \"ticks\": \"\", \"zerolinecolor\": \"white\"}}, \"shapedefaults\": {\"line\": {\"color\": \"#2a3f5f\"}}, \"ternary\": {\"aaxis\": {\"gridcolor\": \"white\", \"linecolor\": \"white\", \"ticks\": \"\"}, \"baxis\": {\"gridcolor\": \"white\", \"linecolor\": \"white\", \"ticks\": \"\"}, \"bgcolor\": \"#E5ECF6\", \"caxis\": {\"gridcolor\": \"white\", \"linecolor\": \"white\", \"ticks\": \"\"}}, \"title\": {\"x\": 0.05}, \"xaxis\": {\"automargin\": true, \"gridcolor\": \"white\", \"linecolor\": \"white\", \"ticks\": \"\", \"title\": {\"standoff\": 15}, \"zerolinecolor\": \"white\", \"zerolinewidth\": 2}, \"yaxis\": {\"automargin\": true, \"gridcolor\": \"white\", \"linecolor\": \"white\", \"ticks\": \"\", \"title\": {\"standoff\": 15}, \"zerolinecolor\": \"white\", \"zerolinewidth\": 2}}}, \"title\": {\"text\": \"Record Status vs. Native Species\"}, \"xaxis\": {\"gridcolor\": \"white\", \"gridwidth\": 2, \"title\": {\"text\": \"# Record Status Approved\"}, \"type\": \"linear\"}, \"yaxis\": {\"gridcolor\": \"white\", \"gridwidth\": 2, \"title\": {\"text\": \"# Native Species\"}, \"type\": \"linear\"}},\n",
       "                        {\"responsive\": true}\n",
       "                    ).then(function(){\n",
       "                            \n",
       "var gd = document.getElementById('9c99b6f3-ee22-4374-833f-1df2883dc925');\n",
       "var x = new MutationObserver(function (mutations, observer) {{\n",
       "        var display = window.getComputedStyle(gd).display;\n",
       "        if (!display || display === 'none') {{\n",
       "            console.log([gd, 'removed!']);\n",
       "            Plotly.purge(gd);\n",
       "            observer.disconnect();\n",
       "        }}\n",
       "}});\n",
       "\n",
       "// Listen for the removal of the full notebook cells\n",
       "var notebookContainer = gd.closest('#notebook-container');\n",
       "if (notebookContainer) {{\n",
       "    x.observe(notebookContainer, {childList: true});\n",
       "}}\n",
       "\n",
       "// Listen for the clearing of the current output cell\n",
       "var outputEl = gd.closest('.output');\n",
       "if (outputEl) {{\n",
       "    x.observe(outputEl, {childList: true});\n",
       "}}\n",
       "\n",
       "                        })\n",
       "                };\n",
       "                });\n",
       "            </script>\n",
       "        </div>"
      ]
     },
     "metadata": {},
     "output_type": "display_data"
    }
   ],
   "source": [
    "cat_01 = 'RecordStatus_Approved'\n",
    "cat_02 = 'Native_Present'\n",
    "title = 'Record Status vs. Native Species'\n",
    "title_cat_01 = '# Record Status Approved'\n",
    "title_cat_02 = '# Native Species'\n",
    "fig =bubbleplot(df_park,cat_01,cat_02,title,title_cat_01,title_cat_02,x_axis_type='linear',cross_plot=parks_endangered)\n"
   ]
  }
 ],
 "metadata": {
  "kernelspec": {
   "display_name": "Python 3",
   "language": "python",
   "name": "python3"
  },
  "language_info": {
   "codemirror_mode": {
    "name": "ipython",
    "version": 3
   },
   "file_extension": ".py",
   "mimetype": "text/x-python",
   "name": "python",
   "nbconvert_exporter": "python",
   "pygments_lexer": "ipython3",
   "version": "3.7.6"
  }
 },
 "nbformat": 4,
 "nbformat_minor": 4
}
