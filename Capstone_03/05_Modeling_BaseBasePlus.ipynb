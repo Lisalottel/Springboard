{
 "cells": [
  {
   "cell_type": "markdown",
   "metadata": {},
   "source": [
    "# Modeling"
   ]
  },
  {
   "cell_type": "markdown",
   "metadata": {},
   "source": [
    "In this notebook various classification models will be tested in their pridictive power for the errors. As measures precision (few false alarms) and high recall (no error is missed) are taken.\n",
    "\n",
    "The first models are a **logistic regression** and a **naive Bayes** model. Next, we will go into some more complex classification models like **(kernel) SVM**, **decision tree** or **ensemble based** models. "
   ]
  },
  {
   "cell_type": "code",
   "execution_count": 2,
   "metadata": {},
   "outputs": [],
   "source": [
    "import pandas as pd\n",
    "import numpy as np\n",
    "import matplotlib.pyplot as plt\n",
    "import seaborn as sns\n",
    "import sqlite3\n",
    "import time\n",
    "%matplotlib inline"
   ]
  },
  {
   "cell_type": "code",
   "execution_count": 3,
   "metadata": {},
   "outputs": [],
   "source": [
    "from sklearn.metrics import accuracy_score, recall_score, precision_score, roc_auc_score, f1_score"
   ]
  },
  {
   "cell_type": "code",
   "execution_count": 4,
   "metadata": {},
   "outputs": [],
   "source": [
    "import matplotlib as mpl\n",
    "font = {'size':16}\n",
    "mpl.rc('font',**font)\n",
    "mpl.rcParams['xtick.labelsize']=14\n",
    "mpl.rcParams['ytick.labelsize']=14\n",
    "mpl.rcParams['axes.labelsize']='small'"
   ]
  },
  {
   "cell_type": "markdown",
   "metadata": {},
   "source": [
    "### Load Functions"
   ]
  },
  {
   "cell_type": "code",
   "execution_count": 5,
   "metadata": {},
   "outputs": [],
   "source": [
    "def update_results(dic,method,file='../data/results.db'):\n",
    "    con = sqlite3.connect(file)\n",
    "    cursor = con.cursor()\n",
    "    cursor.execute(\"SELECT * FROM results;\")\n",
    "    if method not in [i[0] for i in cursor.description]:\n",
    "        cursor.execute(\"ALTER TABLE results ADD COLUMN '%s' REAL\" %method)\n",
    "        con.commit()\n",
    "    query = \"UPDATE results SET {} = ? WHERE score = ?\".format(method)\n",
    "    for score in dic.keys():\n",
    "        cursor.execute(query ,(dic[score], score))\n",
    "        con.commit()\n",
    "    con.close()\n",
    "    return;\n",
    "\n",
    "def score_func(ypredict,ytest,prob=[],prt_info = False):\n",
    "    # Function returns a dictionary with the key measures, printing the results is optional with prt_info\n",
    "    accuracy = accuracy_score(ytest,ypredict)\n",
    "    recall = recall_score(ytest,ypredict)\n",
    "    precision = precision_score(ytest,ypredict)\n",
    "    f1sc = f1_score(ytest,ypredict)\n",
    "    result_dic = {'accuracy':accuracy,'recall':recall,'precision':precision,'f1-score':f1sc}\n",
    "    if prt_info:\n",
    "        print('The accuracy is {:.3f}, meaning that {:.1f}% of the data was predicted right.'.format(accuracy, accuracy*100))\n",
    "        print('The recall is {:.3f}, meaning that {:.1f}% of errors were predicted right.'.format(recall, recall*100))\n",
    "        print('The precision is {:.3f}, meaning that only {:.1f}% of the predicted errors were actual errors.'.format(precision, precision*100))\n",
    "        print('The f1 score is {:.3f}.'.format(f1sc))\n",
    "    if prob:\n",
    "        prob_y_2 = [p[1] for p in prob]\n",
    "        roc_auc =roc_auc_score(ytest,prob_y_2)\n",
    "        result_dic.update({'AUROC':roc_auc})\n",
    "        if prt_info:\n",
    "            print('The area under the ROC-AUC curve is {:.3f} with a minimum of 0.5.'.format(roc_auc))\n",
    "    \n",
    "    return result_dic;\n",
    "def feature_def2(feat,file='../data/feature_tabs2.db'):\n",
    "    table = 'xx'\n",
    "    for name in ['id','flg','cl','ty','dt']:\n",
    "        if name in feat:\n",
    "            table = name\n",
    "            break\n",
    "    df = pd.read_sql('SELECT * FROM '+table,'sqlite:///'+file,index_col='index') \n",
    "    if feat in df.original.values:\n",
    "        return df.loc[df.original== feat,'acronym'].iloc[0]\n",
    "    elif feat in df.acronym.values:\n",
    "        return df.loc[df.acronym== feat,'original'].iloc[0]\n",
    "    else:\n",
    "        print('Feature not found.')\n",
    "        return []"
   ]
  },
  {
   "cell_type": "markdown",
   "metadata": {},
   "source": [
    "### Load Data"
   ]
  },
  {
   "cell_type": "code",
   "execution_count": 59,
   "metadata": {},
   "outputs": [],
   "source": [
    "from scipy.sparse import csr_matrix, save_npz, load_npz\n",
    "Xtrain = load_npz('../data/data_base_Xtrain2.npz')\n",
    "Xtest = load_npz('../data/data_base_Xtest2.npz')\n",
    "df_ytrain = pd.read_sql(\"SELECT * FROM y_train\", 'sqlite:///../data/model_data_base2.db',index_col='index')\n",
    "df_ytest = pd.read_sql(\"SELECT * FROM y_test\", 'sqlite:///../data/model_data_base2.db',index_col='index')\n",
    "ytrain = df_ytrain.values.ravel() #.reshape(1,1)\n",
    "ytest = df_ytest.values.ravel() #.reshape(1,-1)\n",
    "columns = np.load('../data/data_base_columns2.npy',allow_pickle=True)"
   ]
  },
  {
   "cell_type": "code",
   "execution_count": 43,
   "metadata": {},
   "outputs": [
    {
     "name": "stdout",
     "output_type": "stream",
     "text": [
      " 7737 columns and 38432 entries\n"
     ]
    }
   ],
   "source": [
    "print(' {} columns and {} entries'.format(len(columns),len(ytrain)+len(ytest)))"
   ]
  },
  {
   "cell_type": "markdown",
   "metadata": {},
   "source": [
    "Since some model fitting takes a long time and we do not want to repeat this step every time we start the kernel anew, the previous model results are stored in *results_base.db*."
   ]
  },
  {
   "cell_type": "code",
   "execution_count": 50,
   "metadata": {},
   "outputs": [
    {
     "name": "stdout",
     "output_type": "stream",
     "text": [
      "Existing Scores:  dict_keys(['ComplementNB', 'LogisticRegression', 'GridSearch_LogReg', 'RandomSearch_LogReg', 'SVC', 'RandomForest'])\n"
     ]
    }
   ],
   "source": [
    "results_file = '../data/results_base2.db'\n",
    "import os\n",
    "if os.path.exists(results_file):\n",
    "    results = pd.read_sql('SELECT * FROM results','sqlite:///'+results_file,index_col='score')\n",
    "    results.drop('index',axis=1,inplace=True)\n",
    "    result_dic = results.to_dict()\n",
    "    print('Existing Scores: ',result_dic.keys())\n",
    "else:\n",
    "    results = pd.DataFrame(['accuracy','f1-score','precision','recall'], columns=['score'])\n",
    "    con = sqlite3.connect(results_file)\n",
    "    results.to_sql(name='results',con=con,if_exists='replace')\n",
    "    result_dic = {}\n",
    "    print('new')\n",
    "    con.close()"
   ]
  },
  {
   "cell_type": "markdown",
   "metadata": {},
   "source": [
    "## Naive Bayes\n",
    "With our data set we can assume that a) errors are instantaneous occurances and do not depend on previous actions, and b) errors do not depend on other jobs occuring at the same time. Therefore, **Naive Bayes** is a good start for our model study."
   ]
  },
  {
   "cell_type": "code",
   "execution_count": 7,
   "metadata": {},
   "outputs": [
    {
     "name": "stdout",
     "output_type": "stream",
     "text": [
      "The accuracy is 0.955, meaning that 95.5% of the data was predicted right.\n",
      "The recall is 0.995, meaning that 99.5% of errors were predicted right.\n",
      "The precision is 0.521, meaning that only 52.1% of the predicted errors were actual errors.\n",
      "The f1 score is 0.684.\n"
     ]
    }
   ],
   "source": [
    "from sklearn.naive_bayes import GaussianNB\n",
    "gnb = GaussianNB()\n",
    "gnb.fit(Xtrain.todense(),ytrain) # does not work with sparse matrixes\n",
    "ypredict = gnb.predict(Xtest.todense())\n",
    "method = 'GaussianNB'\n",
    "result_dic.update({method:score_func(ypredict,ytest,prt_info=True)})\n",
    "update_results(result_dic[method],method,results_file)"
   ]
  },
  {
   "cell_type": "markdown",
   "metadata": {},
   "source": [
    "While the **recall is very good** the **precision is lousy** which is to expected with an imbalanced data set like ours. Before we go into more detailed parameter tuning or reassessment of our data, let's try the **Complement Naive Bayes** model, which is specifically designed for sparse data sets."
   ]
  },
  {
   "cell_type": "code",
   "execution_count": 7,
   "metadata": {},
   "outputs": [
    {
     "name": "stdout",
     "output_type": "stream",
     "text": [
      "The accuracy is 0.888, meaning that 88.8% of the data was predicted right.\n",
      "The recall is 0.918, meaning that 91.8% of errors were predicted right.\n",
      "The precision is 0.295, meaning that only 29.5% of the predicted errors were actual errors.\n",
      "The f1 score is 0.446.\n"
     ]
    }
   ],
   "source": [
    "from sklearn.naive_bayes import ComplementNB\n",
    "cnb = ComplementNB()\n",
    "cnb.fit(Xtrain,ytrain)\n",
    "ypredict = cnb.predict(Xtest)\n",
    "method = 'ComplementNB'\n",
    "result_dic.update({method:score_func(ypredict,ytest,prt_info=True)})\n",
    "update_results(result_dic[method],method,results_file)"
   ]
  },
  {
   "cell_type": "markdown",
   "metadata": {},
   "source": [
    "We can see that this **ComplementNB cannot handle the data as is**. Let's look at more models to determine which one has the most potential to be tuned."
   ]
  },
  {
   "cell_type": "markdown",
   "metadata": {},
   "source": [
    "## Logistic Regression"
   ]
  },
  {
   "cell_type": "code",
   "execution_count": 8,
   "metadata": {},
   "outputs": [
    {
     "name": "stdout",
     "output_type": "stream",
     "text": [
      "The accuracy is 0.967, meaning that 96.7% of the data was predicted right.\n",
      "The recall is 1.000, meaning that 100.0% of errors were predicted right.\n",
      "The precision is 0.599, meaning that only 59.9% of the predicted errors were actual errors.\n",
      "The f1 score is 0.750.\n"
     ]
    }
   ],
   "source": [
    "from sklearn.linear_model import LogisticRegression\n",
    "logreg = LogisticRegression(random_state=42,class_weight='balanced',multi_class='auto',solver='lbfgs',max_iter=10000)\n",
    "logreg.fit(Xtrain,ytrain)\n",
    "ypredict = logreg.predict(Xtest)\n",
    "method = 'LogisticRegression'\n",
    "result_dic.update({method:score_func(ypredict,ytest,prt_info=True)})\n",
    "update_results(result_dic[method],method,results_file)"
   ]
  },
  {
   "cell_type": "markdown",
   "metadata": {},
   "source": [
    "This is the **best result so far** and was achieved with the help of the **balanced class weights** which take the distribution of the target value into account and uses its frequency as an inverse weight. The **100% recall score is to the cost of the precision** which needs to be improved."
   ]
  },
  {
   "cell_type": "code",
   "execution_count": 10,
   "metadata": {},
   "outputs": [
    {
     "name": "stdout",
     "output_type": "stream",
     "text": [
      "Best parameters are:  {'C': 25.77236116829747}\n",
      "The accuracy is 0.982, meaning that 98.2% of the data was predicted right.\n",
      "The recall is 0.987, meaning that 98.7% of errors were predicted right.\n",
      "The precision is 0.731, meaning that only 73.1% of the predicted errors were actual errors.\n",
      "The f1 score is 0.840.\n"
     ]
    }
   ],
   "source": [
    "from sklearn.model_selection import RandomizedSearchCV, StratifiedKFold\n",
    "from scipy.stats import loguniform\n",
    "params = {\"C\":loguniform(a=1e1,b=3e1)}\n",
    "cv = StratifiedKFold(n_splits=10,shuffle=True,random_state=42)\n",
    "logreg = LogisticRegression(random_state=42,class_weight='balanced',max_iter=100000)\n",
    "rand_lr = RandomizedSearchCV(estimator=logreg,param_distributions=params,n_jobs=-1,cv=cv,scoring=['f1','precision','recall'],refit='f1')\n",
    "rand_lr.fit(Xtrain,ytrain)\n",
    "print('Best parameters are: ', rand_lr.best_params_)\n",
    "ypredict = rand_lr.predict(Xtest)\n",
    "method = 'RandomSearch_LogReg'\n",
    "result_dic.update({method:score_func(ypredict,ytest,prt_info=True)})\n",
    "update_results(result_dic[method],method,results_file)"
   ]
  },
  {
   "cell_type": "markdown",
   "metadata": {},
   "source": [
    "Compared to the previous models, RandomizedSearch improved the accuracy and the precision and therefore the f1-score.\n"
   ]
  },
  {
   "cell_type": "markdown",
   "metadata": {},
   "source": [
    "## Penalize Algorithm: Support Vector Machine Classifier\n",
    "Let's try to improve the performance by penalizing mistakes with the minority class, or in other words penalizing when errors where not predicted correctly."
   ]
  },
  {
   "cell_type": "code",
   "execution_count": 11,
   "metadata": {},
   "outputs": [
    {
     "name": "stdout",
     "output_type": "stream",
     "text": [
      "Time to fit:  22.85019564628601\n",
      "Time to predict:  2.968817710876465\n",
      "The accuracy is 0.979, meaning that 97.9% of the data was predicted right.\n",
      "The recall is 0.989, meaning that 98.9% of errors were predicted right.\n",
      "The precision is 0.705, meaning that only 70.5% of the predicted errors were actual errors.\n",
      "The f1 score is 0.823.\n"
     ]
    }
   ],
   "source": [
    "from sklearn.svm import SVC\n",
    "svc = SVC(class_weight='balanced',kernel='linear') # kernel='rbf' which is given as default does not perform as well with f1 = 47.6, but stronger in recall\n",
    "t_start = time.time()\n",
    "svc.fit(Xtrain,ytrain)\n",
    "print('Time to fit: ',time.time()-t_start)\n",
    "t_start = time.time()\n",
    "ypredict = svc.predict(Xtest)\n",
    "print('Time to predict: ',time.time()-t_start)\n",
    "method = 'SVC'\n",
    "result_dic.update({method:score_func(ypredict,ytest,prt_info=True)})\n",
    "update_results(result_dic[method],method,results_file)"
   ]
  },
  {
   "cell_type": "markdown",
   "metadata": {},
   "source": [
    "This is the best f1-score so far. So let's try to improve the SVC model parameterization with the help of RandomizedSearchCV."
   ]
  },
  {
   "cell_type": "code",
   "execution_count": null,
   "metadata": {},
   "outputs": [
    {
     "name": "stdout",
     "output_type": "stream",
     "text": [
      "Fitting 10 folds for each of 10 candidates, totalling 100 fits\n"
     ]
    },
    {
     "name": "stderr",
     "output_type": "stream",
     "text": [
      "[Parallel(n_jobs=-1)]: Using backend SequentialBackend with 1 concurrent workers.\n"
     ]
    }
   ],
   "source": [
    "from sklearn.model_selection import RandomizedSearchCV, StratifiedKFold\n",
    "from scipy.stats import loguniform\n",
    "params = {\"C\":loguniform(a=1e1,b=3e1)}\n",
    "cv = StratifiedKFold(n_splits=10,shuffle=True,random_state=42)\n",
    "svc = SVC(random_state=42,class_weight='balanced',kernel='linear')\n",
    "rand_svc = RandomizedSearchCV(estimator=svc,param_distributions=params,n_jobs=-1,cv=cv,scoring=['f1','precision','recall'],refit='f1',verbose=True)\n",
    "t_start = time.time()\n",
    "rand_svc.fit(Xtrain,ytrain)\n",
    "print('Time to fit: ',time.time()-t_start)\n",
    "print('Best parameters are: ', rand_svc.best_params_)\n",
    "t_start = time.time()\n",
    "ypredict = rand_svc.predict(Xtest)\n",
    "print('Time to predict: ',time.time()-t_start)\n",
    "method = 'RandomSearch_SVC'\n",
    "result_dic.update({method:score_func(ypredict,ytest,prt_info=True)})\n",
    "update_results(result_dic[method],method,results_file)"
   ]
  },
  {
   "cell_type": "markdown",
   "metadata": {},
   "source": [
    "**THE SVC DOES NOT CONVERGE FOR THIS DATA SET!!** It is very likely that the Logistic Regression model is the best we can do."
   ]
  },
  {
   "cell_type": "code",
   "execution_count": 10,
   "metadata": {},
   "outputs": [
    {
     "data": {
      "image/png": "[encoded data removed]",
      "text/plain": [
       "<Figure size 576x360 with 2 Axes>"
      ]
     },
     "metadata": {
      "needs_background": "light"
     },
     "output_type": "display_data"
    }
   ],
   "source": [
    "plt.figure(figsize=(8,5))\n",
    "df_res = pd.DataFrame(result_dic)\n",
    "#sns.heatmap(df_res[['GaussianNB','ComplementNB','LogisticRegression','RandomSearch_LogReg','SVC']]*100,annot=True,cmap='OrRd',fmt='.1f')\n",
    "sns.heatmap(df_res*100,annot=True,cmap='OrRd',fmt='.1f')\n",
    "plt.yticks(rotation=0)\n",
    "plt.xticks(rotation=50)\n",
    "plt.show()"
   ]
  },
  {
   "cell_type": "markdown",
   "metadata": {},
   "source": [
    "## Random Forest Classifier\n",
    "\n",
    "Having investigated different models and data set sampling, let's now continue with ensemble modeling. The first model to investigate is the Random Forest Classifier."
   ]
  },
  {
   "cell_type": "code",
   "execution_count": 8,
   "metadata": {},
   "outputs": [
    {
     "name": "stdout",
     "output_type": "stream",
     "text": [
      "Time to fit:  57.000662088394165\n",
      "Time to predict:  0.35903453826904297\n",
      "The accuracy is 0.977, meaning that 97.7% of the data was predicted right.\n",
      "The recall is 0.775, meaning that 77.5% of errors were predicted right.\n",
      "The precision is 0.758, meaning that only 75.8% of the predicted errors were actual errors.\n",
      "The f1 score is 0.766.\n"
     ]
    }
   ],
   "source": [
    "from sklearn.ensemble import RandomForestClassifier\n",
    "rfc = RandomForestClassifier(random_state=42, n_estimators=250)\n",
    "t_start = time.time()\n",
    "rfc.fit(Xtrain,ytrain)\n",
    "print('Time to fit: ',time.time()-t_start)\n",
    "t_start = time.time()\n",
    "ypredict = rfc.predict(Xtest)\n",
    "print('Time to predict: ',time.time()-t_start)\n",
    "method = 'RandomForest'\n",
    "result_dic.update({method:score_func(ypredict,ytest,prt_info=True)})\n",
    "update_results(result_dic[method],method,results_file)"
   ]
  },
  {
   "cell_type": "markdown",
   "metadata": {},
   "source": [
    "This is the best result so far concerning precision. But recall is pretty weak. Let's apply both the resampled data set and GridSearchCV or RandomizedSearchCV to improve this result."
   ]
  },
  {
   "cell_type": "code",
   "execution_count": null,
   "metadata": {},
   "outputs": [],
   "source": [
    "rfc = RandomForestClassifier(random_state=42,n_estimators=250,bootstrap=True)\n",
    "#params = {'n_estimators':[150,250], 'max_depth':[3,6,None],'max_features':[6,12],'min_samples_split':[2,4],'bootstrap':[True,False]}\n",
    "#grid_rfc = GridSearchCV(estimator=rfc,param_grid=params,n_jobs=-1,cv=3,scoring='recall',verbose=True)\n",
    "\n",
    "cv = StratifiedKFold(n_splits=10,shuffle=True,random_state=42)\n",
    "params = { 'max_depth':[6,12,None],'max_features':[6,8,10],'min_samples_split':[2,5,8]}\n",
    "rand_rfc = RandomizedSearchCV(estimator=rfc,param_distributions=params,n_jobs=-1,cv=cv,scoring=['f1','recall'],refit='f1',verbose=True)\n",
    "t_start = time.time()\n",
    "rand_rfc.fit(Xtrain,ytrain)\n",
    "print('Time to fit: ',time.time()-t_start)\n",
    "print('Best parameters are: ', rand_rfc.best_params_)\n",
    "t_start = time.time()\n",
    "ypredict = rand_rfc.predict(Xtest)\n",
    "print('Time to predict: ',time.time()-t_start)\n",
    "#result_dic.update({'GridSearch_RandomForest':score_func(ypredict,ytest,prt_info=True)})\n",
    "method = 'RandSearch_RandomForest'\n",
    "result_dic.update({method:score_func(ypredict,ytest,prt_info=True)})\n",
    "update_results(result_dic[method],method,results_file)"
   ]
  },
  {
   "cell_type": "markdown",
   "metadata": {},
   "source": [
    "**Precision as score produces a long list of warnings.**\n",
    "\n",
    "**To conclude: The Logisitc Regression model appears to be the best performing model.**"
   ]
  },
  {
   "cell_type": "markdown",
   "metadata": {},
   "source": [
    "## Resampling of the data"
   ]
  },
  {
   "cell_type": "markdown",
   "metadata": {},
   "source": [
    "Before we continue testing other models, different ways of resampling the data are investigated. The reason for this is the strongly imbalanced data set with less than 5% of the data being errors."
   ]
  },
  {
   "cell_type": "markdown",
   "metadata": {},
   "source": [
    "### SMOTE"
   ]
  },
  {
   "cell_type": "code",
   "execution_count": 41,
   "metadata": {},
   "outputs": [],
   "source": [
    "from imblearn.over_sampling import SMOTE\n",
    "sm = SMOTE(random_state = 42)\n",
    "Xtrain_res, ytrain_res = sm.fit_sample(Xtrain, ytrain.ravel())"
   ]
  },
  {
   "cell_type": "code",
   "execution_count": 57,
   "metadata": {},
   "outputs": [
    {
     "data": {
      "text/plain": [
       "58472"
      ]
     },
     "execution_count": 57,
     "metadata": {},
     "output_type": "execute_result"
    }
   ],
   "source": [
    "Xtrain_res.shape[0]"
   ]
  },
  {
   "cell_type": "code",
   "execution_count": 23,
   "metadata": {},
   "outputs": [
    {
     "data": {
      "text/plain": [
       "<matplotlib.axes._subplots.AxesSubplot at 0x7fea0c507cf8>"
      ]
     },
     "execution_count": 23,
     "metadata": {},
     "output_type": "execute_result"
    },
    {
     "data": {
      "image/png": "[encoded data removed]",
      "text/plain": [
       "<Figure size 432x288 with 1 Axes>"
      ]
     },
     "metadata": {
      "needs_background": "light"
     },
     "output_type": "display_data"
    }
   ],
   "source": [
    "ii = np.where(columns=='error')[0][0]\n",
    "df_res = pd.DataFrame(Xtrain_res.todense(),columns=np.hstack((columns[:ii],columns[ii+1:])))\n",
    "df_res['error'] = ytrain_res\n",
    "\n",
    "for col in df_res.columns:\n",
    "    if df_res[col].unique().sort() != [0,1].sort():\n",
    "        print(col, ': ',df_res[col].unique())\n",
    "\n",
    "sns.distplot(df_res['error']) \n",
    "sns.distplot(ytrain) "
   ]
  },
  {
   "cell_type": "markdown",
   "metadata": {},
   "source": [
    "The resampling produced a data set with equal number of true and false errors. Since the original data set is truely binary, it was important to see, whether the resampled data set is so as well. And indeed it is. So in this sense, it should not be a problem."
   ]
  },
  {
   "cell_type": "code",
   "execution_count": 37,
   "metadata": {},
   "outputs": [],
   "source": [
    "cols = df_res.columns\n",
    "k=1\n",
    "i=0\n",
    "finish = False\n",
    "while i <(len(cols)-1):\n",
    "    if cols[i] == 'morning':\n",
    "        k=2\n",
    "    elif cols[i] == 'Monday':\n",
    "        k = 6\n",
    "        finish = True\n",
    "    else:\n",
    "        col = cols[i].split('_')[0]+'_'+cols[i].split('_')[1]\n",
    "        while col in cols[i+k]:\n",
    "            k+=1\n",
    "            if i+k >= len(cols)-1:\n",
    "                finish = True\n",
    "                break\n",
    "    if np.max(np.sum(df_res.iloc[:,i:i+k],axis=1)) > 1:\n",
    "        print(col)\n",
    "    if finish:\n",
    "        break\n",
    "    else:\n",
    "        i=i+k\n",
    "        k=1\n",
    "    "
   ]
  },
  {
   "cell_type": "markdown",
   "metadata": {},
   "source": [
    "SMOTE also sees that features that belong together are exclusive, meaning that it cannot be Monday and Wednesday at the same time."
   ]
  },
  {
   "cell_type": "code",
   "execution_count": 41,
   "metadata": {},
   "outputs": [],
   "source": [
    "from imblearn.over_sampling import SMOTE\n",
    "sm = SMOTE(random_state = 42)\n",
    "Xtrain_res, ytrain_res = sm.fit_sample(Xtrain, ytrain.ravel())"
   ]
  },
  {
   "cell_type": "code",
   "execution_count": 52,
   "metadata": {},
   "outputs": [
    {
     "name": "stdout",
     "output_type": "stream",
     "text": [
      "The accuracy is 0.982, meaning that 98.2% of the data was predicted right.\n",
      "The recall is 0.987, meaning that 98.7% of errors were predicted right.\n",
      "The precision is 0.732, meaning that only 73.2% of the predicted errors were actual errors.\n",
      "The f1 score is 0.841.\n"
     ]
    }
   ],
   "source": [
    "from sklearn.linear_model import LogisticRegression\n",
    "c = 26.319416905182656\n",
    "logreg_res = LogisticRegression(random_state=42,multi_class='auto',solver='lbfgs',max_iter=10000,C=c)\n",
    "logreg_res.fit(Xtrain_res,ytrain_res)\n",
    "ypredict = logreg_res.predict(Xtest)\n",
    "method = 'LogisticRegression_SMOTE'\n",
    "result_dic.update({method:score_func(ypredict,ytest,prt_info=True)})\n",
    "update_results(result_dic[method],method,results_file)"
   ]
  },
  {
   "cell_type": "code",
   "execution_count": 39,
   "metadata": {},
   "outputs": [
    {
     "name": "stdout",
     "output_type": "stream",
     "text": [
      "Existing Scores:  dict_keys(['ComplementNB', 'LogisticRegression', 'GridSearch_LogReg', 'RandomSearch_LogReg', 'SVC', 'RandomForest'])\n"
     ]
    }
   ],
   "source": [
    "results_file = '../data/results_base2.db'\n",
    "import os\n",
    "if os.path.exists(results_file):\n",
    "    results = pd.read_sql('SELECT * FROM results','sqlite:///'+results_file,index_col='score')\n",
    "    results.drop('index',axis=1,inplace=True)\n",
    "    result_dic = results.to_dict()\n",
    "    print('Existing Scores: ',result_dic.keys())\n",
    "else:\n",
    "    results = pd.DataFrame(['accuracy','f1-score','precision','recall'], columns=['score'])\n",
    "    con = sqlite3.connect(results_file)\n",
    "    results.to_sql(name='results',con=con,if_exists='replace')\n",
    "    result_dic = {}\n",
    "    print('new')\n",
    "    con.close()"
   ]
  },
  {
   "cell_type": "code",
   "execution_count": 43,
   "metadata": {},
   "outputs": [
    {
     "data": {
      "image/png": "[encoded data removed]",
      "text/plain": [
       "<Figure size 720x432 with 2 Axes>"
      ]
     },
     "metadata": {
      "needs_background": "light"
     },
     "output_type": "display_data"
    }
   ],
   "source": [
    "df_res = pd.DataFrame(result_dic)\n",
    "plt.figure(figsize=(10,6))\n",
    "sns.heatmap(df_res.loc[['recall','precision','f1-score'],:]*100,annot=True,cmap='OrRd',fmt='.1f')\n",
    "plt.yticks(rotation=0)\n",
    "plt.xticks(rotation=50)\n",
    "plt.show()"
   ]
  },
  {
   "cell_type": "code",
   "execution_count": null,
   "metadata": {},
   "outputs": [],
   "source": [
    "from sklearn.model_selection import RandomizedSearchCV, StratifiedKFold\n",
    "from scipy.stats import loguniform\n",
    "params = {\"C\":loguniform(a=1e1,b=3e1)}\n",
    "cv = StratifiedKFold(n_splits=10,shuffle=True,random_state=42)\n",
    "logreg = LogisticRegression(random_state=42,class_weight='balanced',max_iter=100000)\n",
    "rand_lr_smote = RandomizedSearchCV(estimator=logreg,param_distributions=params,n_jobs=-1,cv=cv,scoring=['f1','precision','recall'],refit='f1')\n",
    "rand_lr_smote.fit(Xtrain_res,ytrain_res)\n",
    "print('Best parameters are: ', rand_lr.best_params_)\n",
    "ypredict = rand_lr_smote.predict(Xtest)\n",
    "method = 'RandomSearch_LogReg_SMOTE'\n",
    "result_dic.update({method:score_func(ypredict,ytest,prt_info=True)})\n",
    "update_results(result_dic[method],method,results_file)"
   ]
  },
  {
   "cell_type": "markdown",
   "metadata": {},
   "source": [
    "## Feature Selection to reduce noise"
   ]
  },
  {
   "cell_type": "code",
   "execution_count": 60,
   "metadata": {},
   "outputs": [
    {
     "name": "stdout",
     "output_type": "stream",
     "text": [
      "Time to fit:  53.636053800582886\n",
      "Time to predict:  0.30972957611083984\n",
      "The accuracy is 0.977, meaning that 97.7% of the data was predicted right.\n",
      "The recall is 0.775, meaning that 77.5% of errors were predicted right.\n",
      "The precision is 0.758, meaning that only 75.8% of the predicted errors were actual errors.\n",
      "The f1 score is 0.766.\n"
     ]
    }
   ],
   "source": [
    "from sklearn.ensemble import RandomForestClassifier\n",
    "rfc = RandomForestClassifier(random_state=42, n_estimators=250)\n",
    "t_start = time.time()\n",
    "rfc.fit(Xtrain,ytrain)\n",
    "print('Time to fit: ',time.time()-t_start)\n",
    "t_start = time.time()\n",
    "ypredict = rfc.predict(Xtest)\n",
    "print('Time to predict: ',time.time()-t_start)\n",
    "method = 'RandomForest'\n",
    "result_dic.update({method:score_func(ypredict,ytest,prt_info=True)})\n",
    "update_results(result_dic[method],method,results_file)"
   ]
  },
  {
   "cell_type": "code",
   "execution_count": 61,
   "metadata": {},
   "outputs": [
    {
     "data": {
      "text/plain": [
       "667            id_001_187\n",
       "668            id_001_817\n",
       "669            id_001_444\n",
       "670            id_001_410\n",
       "671            id_001_140\n",
       "              ...        \n",
       "7731      id_026_392998.0\n",
       "7732      id_026_393014.0\n",
       "7733      id_026_393026.0\n",
       "7734      id_026_393046.0\n",
       "7735    id_006_0110270601\n",
       "Name: Feature, Length: 7069, dtype: object"
      ]
     },
     "execution_count": 61,
     "metadata": {},
     "output_type": "execute_result"
    }
   ],
   "source": [
    "imp = rfc.feature_importances_\n",
    "cols = [i  for i in columns if i!='error']\n",
    "order = np.argsort(imp)\n",
    "df_imp = pd.DataFrame([cols[i] for i in order[::-1]],columns=['Feature'])\n",
    "df_imp['Importance'] = np.round(imp[order]*100,2)[::-1]\n",
    "df_imp.loc[df_imp['Importance']==0,'Feature']"
   ]
  },
  {
   "cell_type": "code",
   "execution_count": 62,
   "metadata": {},
   "outputs": [],
   "source": [
    "bla = []\n",
    "for var in df_imp['Feature']:\n",
    "    if '_' in var:\n",
    "        var0 = var.split('_')[0]+'_'+var.split('_')[1]\n",
    "        new_var = feature_def2(var0)\n",
    "        if len(var.split('_'))==3:\n",
    "            new_var = new_var+' '+var.split('_')[-1]\n",
    "        bla.append(new_var)\n",
    "    else:\n",
    "        bla.append(var)\n",
    "df_imp['True Feature'] = bla"
   ]
  },
  {
   "cell_type": "code",
   "execution_count": 70,
   "metadata": {},
   "outputs": [
    {
     "data": {
      "image/png": "[encoded data removed]",
      "text/plain": [
       "<Figure size 504x432 with 1 Axes>"
      ]
     },
     "metadata": {
      "needs_background": "light"
     },
     "output_type": "display_data"
    }
   ],
   "source": [
    "label_type = '_Acro' # '' #\n",
    "plt.figure(figsize=(7,6))\n",
    "plt.title(\"Feature importance\")\n",
    "plt.barh(range(10), df_imp.loc[9:0:-1,'Importance'].values,\n",
    "       color=\"r\")\n",
    "# If you want to define your own labels,\n",
    "# change indices to a list of labels on the following line.\n",
    "if label_type == '_Acro':\n",
    "    plt.yticks(range(10),df_imp.loc[9:0:-1,'Feature'] )\n",
    "else:\n",
    "    plt.yticks(range(10),df_imp.loc[9:0:-1,'True Feature'] )\n",
    "plt.ylim([-1, 10])\n",
    "#plt.xticklabels(df_imp.loc[:10,'True Feature'])\n",
    "plt.gcf().subplots_adjust(left=0.25)\n",
    "plt.text(8,0,'BasePlus')\n",
    "plt.savefig('../plots/FeatureImportance_basePlus{}.png'.format(label_type))"
   ]
  },
  {
   "cell_type": "markdown",
   "metadata": {},
   "source": [
    "#### Identify features with importance greater 0"
   ]
  },
  {
   "cell_type": "code",
   "execution_count": 72,
   "metadata": {},
   "outputs": [
    {
     "name": "stdout",
     "output_type": "stream",
     "text": [
      "Before:  (30745, 7736)  After:  (30745, 4997)\n",
      "Before:  (7687, 7736)  After:  (7687, 4997)\n"
     ]
    }
   ],
   "source": [
    "imp_pos = np.where(imp > 0)[0]\n",
    "Xtrain_imp = Xtrain[:,imp_pos]\n",
    "Xtest_imp = Xtest[:,imp_pos]\n",
    "print('Before: ', Xtrain.shape, ' After: ',Xtrain_imp.shape)\n",
    "print('Before: ', Xtest.shape, ' After: ',Xtest_imp.shape)"
   ]
  },
  {
   "cell_type": "code",
   "execution_count": 73,
   "metadata": {},
   "outputs": [
    {
     "name": "stdout",
     "output_type": "stream",
     "text": [
      "The accuracy is 0.983, meaning that 98.3% of the data was predicted right.\n",
      "The recall is 0.915, meaning that 91.5% of errors were predicted right.\n",
      "The precision is 0.772, meaning that only 77.2% of the predicted errors were actual errors.\n",
      "The f1 score is 0.837.\n"
     ]
    }
   ],
   "source": [
    "c = 26.319416905182656\n",
    "logreg_imp = LogisticRegression(random_state=42,multi_class='auto',solver='lbfgs',max_iter=10000,C=c)\n",
    "logreg_imp.fit(Xtrain_imp,ytrain)\n",
    "ypredict = logreg_imp.predict(Xtest_imp)\n",
    "method = 'LogisticRegression_Important'\n",
    "result_dic.update({method:score_func(ypredict,ytest,prt_info=True)})\n",
    "update_results(result_dic[method],method,results_file)"
   ]
  },
  {
   "cell_type": "markdown",
   "metadata": {},
   "source": [
    "This result is worse than with the complete data set. It could be that some crucial information is removed. Let's see if hyperparameter tuning can revert this effect."
   ]
  },
  {
   "cell_type": "code",
   "execution_count": null,
   "metadata": {},
   "outputs": [],
   "source": [
    "from sklearn.model_selection import RandomizedSearchCV, StratifiedKFold\n",
    "from scipy.stats import loguniform\n",
    "params = {\"C\":loguniform(a=1e1,b=3e1)}\n",
    "cv = StratifiedKFold(n_splits=10,shuffle=True,random_state=42)\n",
    "logreg = LogisticRegression(random_state=42,class_weight='balanced',max_iter=100000)\n",
    "rand_lr_imp = RandomizedSearchCV(estimator=logreg,param_distributions=params,n_jobs=-1,cv=cv,scoring=['f1','precision','recall'],refit='f1')\n",
    "rand_lr_imp.fit(Xtrain_imp,ytrain)\n",
    "print('Best parameters are: ', rand_lr_imp.best_params_)\n",
    "ypredict = rand_lr_imp.predict(Xtest_imp)\n",
    "method = 'RandomSearch_LogReg_Important'\n",
    "result_dic.update({method:score_func(ypredict,ytest,prt_info=True)})\n",
    "update_results(result_dic[method],method,results_file)"
   ]
  },
  {
   "cell_type": "markdown",
   "metadata": {},
   "source": [
    "### Most relevant features"
   ]
  },
  {
   "cell_type": "code",
   "execution_count": 23,
   "metadata": {},
   "outputs": [
    {
     "data": {
      "text/html": [
       "<div>\n",
       "<style scoped>\n",
       "    .dataframe tbody tr th:only-of-type {\n",
       "        vertical-align: middle;\n",
       "    }\n",
       "\n",
       "    .dataframe tbody tr th {\n",
       "        vertical-align: top;\n",
       "    }\n",
       "\n",
       "    .dataframe thead th {\n",
       "        text-align: right;\n",
       "    }\n",
       "</style>\n",
       "<table border=\"1\" class=\"dataframe\">\n",
       "  <thead>\n",
       "    <tr style=\"text-align: right;\">\n",
       "      <th></th>\n",
       "      <th>Feature</th>\n",
       "      <th>Importance</th>\n",
       "    </tr>\n",
       "  </thead>\n",
       "  <tbody>\n",
       "    <tr>\n",
       "      <th>0</th>\n",
       "      <td>xx_016</td>\n",
       "      <td>10.74</td>\n",
       "    </tr>\n",
       "    <tr>\n",
       "      <th>1</th>\n",
       "      <td>id_004_0102</td>\n",
       "      <td>6.52</td>\n",
       "    </tr>\n",
       "    <tr>\n",
       "      <th>2</th>\n",
       "      <td>id_008_0101</td>\n",
       "      <td>6.13</td>\n",
       "    </tr>\n",
       "    <tr>\n",
       "      <th>3</th>\n",
       "      <td>xx_016_0</td>\n",
       "      <td>2.60</td>\n",
       "    </tr>\n",
       "    <tr>\n",
       "      <th>4</th>\n",
       "      <td>xx_016_2</td>\n",
       "      <td>2.48</td>\n",
       "    </tr>\n",
       "    <tr>\n",
       "      <th>5</th>\n",
       "      <td>id_008_0110</td>\n",
       "      <td>2.40</td>\n",
       "    </tr>\n",
       "    <tr>\n",
       "      <th>6</th>\n",
       "      <td>ty_000_006</td>\n",
       "      <td>1.95</td>\n",
       "    </tr>\n",
       "    <tr>\n",
       "      <th>7</th>\n",
       "      <td>cl_003_6</td>\n",
       "      <td>1.57</td>\n",
       "    </tr>\n",
       "    <tr>\n",
       "      <th>8</th>\n",
       "      <td>id_006_0102</td>\n",
       "      <td>1.22</td>\n",
       "    </tr>\n",
       "    <tr>\n",
       "      <th>9</th>\n",
       "      <td>id_024_1</td>\n",
       "      <td>1.17</td>\n",
       "    </tr>\n",
       "    <tr>\n",
       "      <th>10</th>\n",
       "      <td>id_019_unknown</td>\n",
       "      <td>1.16</td>\n",
       "    </tr>\n",
       "    <tr>\n",
       "      <th>11</th>\n",
       "      <td>afternoon</td>\n",
       "      <td>1.13</td>\n",
       "    </tr>\n",
       "    <tr>\n",
       "      <th>12</th>\n",
       "      <td>cl_003_unknown</td>\n",
       "      <td>1.10</td>\n",
       "    </tr>\n",
       "    <tr>\n",
       "      <th>13</th>\n",
       "      <td>id_001_097</td>\n",
       "      <td>0.95</td>\n",
       "    </tr>\n",
       "    <tr>\n",
       "      <th>14</th>\n",
       "      <td>cl_006_1</td>\n",
       "      <td>0.94</td>\n",
       "    </tr>\n",
       "    <tr>\n",
       "      <th>15</th>\n",
       "      <td>cl_008_1</td>\n",
       "      <td>0.93</td>\n",
       "    </tr>\n",
       "    <tr>\n",
       "      <th>16</th>\n",
       "      <td>Wednesday</td>\n",
       "      <td>0.92</td>\n",
       "    </tr>\n",
       "    <tr>\n",
       "      <th>17</th>\n",
       "      <td>xx_016_3</td>\n",
       "      <td>0.89</td>\n",
       "    </tr>\n",
       "    <tr>\n",
       "      <th>18</th>\n",
       "      <td>Monday</td>\n",
       "      <td>0.82</td>\n",
       "    </tr>\n",
       "    <tr>\n",
       "      <th>19</th>\n",
       "      <td>flg_001_1</td>\n",
       "      <td>0.82</td>\n",
       "    </tr>\n",
       "  </tbody>\n",
       "</table>\n",
       "</div>"
      ],
      "text/plain": [
       "           Feature  Importance\n",
       "0           xx_016       10.74\n",
       "1      id_004_0102        6.52\n",
       "2      id_008_0101        6.13\n",
       "3         xx_016_0        2.60\n",
       "4         xx_016_2        2.48\n",
       "5      id_008_0110        2.40\n",
       "6       ty_000_006        1.95\n",
       "7         cl_003_6        1.57\n",
       "8      id_006_0102        1.22\n",
       "9         id_024_1        1.17\n",
       "10  id_019_unknown        1.16\n",
       "11       afternoon        1.13\n",
       "12  cl_003_unknown        1.10\n",
       "13      id_001_097        0.95\n",
       "14        cl_006_1        0.94\n",
       "15        cl_008_1        0.93\n",
       "16       Wednesday        0.92\n",
       "17        xx_016_3        0.89\n",
       "18          Monday        0.82\n",
       "19       flg_001_1        0.82"
      ]
     },
     "execution_count": 23,
     "metadata": {},
     "output_type": "execute_result"
    }
   ],
   "source": [
    "df_imp.head(20)"
   ]
  },
  {
   "cell_type": "markdown",
   "metadata": {},
   "source": [
    "## Look at the Base data set to compare the performance and characteristics"
   ]
  },
  {
   "cell_type": "code",
   "execution_count": 28,
   "metadata": {},
   "outputs": [],
   "source": [
    "from scipy.sparse import csr_matrix, save_npz, load_npz\n",
    "Xtrain_base = load_npz('../data/base_Xtrain.npz')\n",
    "Xtest_base = load_npz('../data/base_Xtest.npz')\n",
    "df_ytrain_base = pd.read_sql(\"SELECT * FROM y_train\", 'sqlite:///../data/model_base.db',index_col='index')\n",
    "df_ytest_base = pd.read_sql(\"SELECT * FROM y_test\", 'sqlite:///../data/model_base.db',index_col='index')\n",
    "ytrain_base = df_ytrain_base.values.ravel() #.reshape(1,1)\n",
    "ytest_base = df_ytest_base.values.ravel() #.reshape(1,-1)\n",
    "columns_base = np.load('../data/base_columns.npy',allow_pickle=True)"
   ]
  },
  {
   "cell_type": "code",
   "execution_count": 29,
   "metadata": {},
   "outputs": [
    {
     "name": "stdout",
     "output_type": "stream",
     "text": [
      " 7721 columns and 38432 entries\n"
     ]
    }
   ],
   "source": [
    "print(' {} columns and {} entries'.format(len(columns_base),len(ytrain_base)+len(ytest_base)))"
   ]
  },
  {
   "cell_type": "markdown",
   "metadata": {},
   "source": [
    "Since some model fitting takes a long time and we do not want to repeat this step every time we start the kernel anew, the previous model results are stored in *results_base.db*."
   ]
  },
  {
   "cell_type": "code",
   "execution_count": 44,
   "metadata": {},
   "outputs": [
    {
     "name": "stdout",
     "output_type": "stream",
     "text": [
      "Existing Scores:  dict_keys(['ComplementNB', 'LogisticRegression', 'GridSearch_LogReg', 'RandomSearch_LogReg', 'SVC', 'RandomForest'])\n"
     ]
    }
   ],
   "source": [
    "results_file_base = '../data/results_base_base.db'\n",
    "import os\n",
    "if os.path.exists(results_file):\n",
    "    results_base = pd.read_sql('SELECT * FROM results','sqlite:///'+results_file,index_col='score')\n",
    "    results_base.drop('index',axis=1,inplace=True)\n",
    "    result_dic_base = results_base.to_dict()\n",
    "    print('Existing Scores: ',result_dic_base.keys())\n",
    "else:\n",
    "    results_base = pd.DataFrame(['accuracy','f1-score','precision','recall'], columns=['score'])\n",
    "    con = sqlite3.connect(results_file)\n",
    "    results_base.to_sql(name='results',con=con,if_exists='replace')\n",
    "    result_dic_base = {}\n",
    "    print('new')\n",
    "    con.close()"
   ]
  },
  {
   "cell_type": "code",
   "execution_count": 45,
   "metadata": {},
   "outputs": [
    {
     "name": "stdout",
     "output_type": "stream",
     "text": [
      "The accuracy is 0.959, meaning that 95.9% of the data was predicted right.\n",
      "The recall is 0.995, meaning that 99.5% of errors were predicted right.\n",
      "The precision is 0.546, meaning that only 54.6% of the predicted errors were actual errors.\n",
      "The f1 score is 0.705.\n"
     ]
    }
   ],
   "source": [
    "from sklearn.linear_model import LogisticRegression\n",
    "logreg_base = LogisticRegression(random_state=42,class_weight='balanced',multi_class='auto',solver='lbfgs',max_iter=10000)\n",
    "logreg_base.fit(Xtrain_base,ytrain_base)\n",
    "ypredict = logreg_base.predict(Xtest_base)\n",
    "method = 'LogisticRegression_Base'\n",
    "result_dic_base.update({method:score_func(ypredict,ytest_base,prt_info=True)})\n",
    "update_results(result_dic_base[method],method,results_file_base)"
   ]
  },
  {
   "cell_type": "code",
   "execution_count": 28,
   "metadata": {},
   "outputs": [
    {
     "name": "stdout",
     "output_type": "stream",
     "text": [
      "Best parameters are:  {'C': 28.855514094256947}\n",
      "The accuracy is 0.981, meaning that 98.1% of the data was predicted right.\n",
      "The recall is 0.989, meaning that 98.9% of errors were predicted right.\n",
      "The precision is 0.726, meaning that only 72.6% of the predicted errors were actual errors.\n",
      "The f1 score is 0.837.\n"
     ]
    }
   ],
   "source": [
    "from sklearn.model_selection import RandomizedSearchCV, StratifiedKFold\n",
    "from scipy.stats import loguniform\n",
    "params = {\"C\":loguniform(a=1e1,b=3e1)}\n",
    "cv = StratifiedKFold(n_splits=10,shuffle=True,random_state=42)\n",
    "logreg = LogisticRegression(random_state=42,class_weight='balanced',max_iter=100000)\n",
    "rand_lr_base = RandomizedSearchCV(estimator=logreg,param_distributions=params,n_jobs=-1,cv=cv,scoring=['f1','precision','recall'],refit='f1')\n",
    "rand_lr_base.fit(Xtrain_base,ytrain_base)\n",
    "print('Best parameters are: ', rand_lr_base.best_params_)\n",
    "ypredict = rand_lr_base.predict(Xtest_base)\n",
    "method = 'RandomSearch_LogReg_Base'\n",
    "result_dic_base.update({method:score_func(ypredict,ytest_base,prt_info=True)})\n",
    "update_results(result_dic_base[method],method,results_file_base)"
   ]
  },
  {
   "cell_type": "code",
   "execution_count": 46,
   "metadata": {},
   "outputs": [],
   "source": [
    "from imblearn.over_sampling import SMOTE\n",
    "sm = SMOTE(random_state = 42)\n",
    "Xtrain_base_res, ytrain_base_res = sm.fit_sample(Xtrain_base, ytrain_base.ravel())"
   ]
  },
  {
   "cell_type": "code",
   "execution_count": 49,
   "metadata": {},
   "outputs": [
    {
     "name": "stdout",
     "output_type": "stream",
     "text": [
      "The accuracy is 0.981, meaning that 98.1% of the data was predicted right.\n",
      "The recall is 0.989, meaning that 98.9% of errors were predicted right.\n",
      "The precision is 0.724, meaning that only 72.4% of the predicted errors were actual errors.\n",
      "The f1 score is 0.836.\n"
     ]
    }
   ],
   "source": [
    "from sklearn.linear_model import LogisticRegression\n",
    "c = 28.855514094256947\n",
    "logreg_res = LogisticRegression(random_state=42,multi_class='auto',solver='lbfgs',max_iter=10000,C=c)\n",
    "logreg_res.fit(Xtrain_base_res,ytrain_base_res)\n",
    "ypredict = logreg_res.predict(Xtest_base)\n",
    "method = 'LogisticRegression_SMOTE_base'\n",
    "result_dic_base.update({method:score_func(ypredict,ytest_base,prt_info=True)})\n",
    "update_results(result_dic_base[method],method,results_file_base)"
   ]
  },
  {
   "cell_type": "code",
   "execution_count": 31,
   "metadata": {},
   "outputs": [
    {
     "name": "stdout",
     "output_type": "stream",
     "text": [
      "Time to fit:  44.510862827301025\n",
      "Time to predict:  0.44813966751098633\n",
      "The accuracy is 0.977, meaning that 97.7% of the data was predicted right.\n",
      "The recall is 0.798, meaning that 79.8% of errors were predicted right.\n",
      "The precision is 0.752, meaning that only 75.2% of the predicted errors were actual errors.\n",
      "The f1 score is 0.775.\n"
     ]
    }
   ],
   "source": [
    "from sklearn.ensemble import RandomForestClassifier\n",
    "rfc_base = RandomForestClassifier(random_state=42, n_estimators=250)\n",
    "t_start = time.time()\n",
    "rfc_base.fit(Xtrain_base,ytrain_base)\n",
    "print('Time to fit: ',time.time()-t_start)\n",
    "t_start = time.time()\n",
    "ypredict = rfc_base.predict(Xtest_base)\n",
    "print('Time to predict: ',time.time()-t_start)\n",
    "method = 'RandomForest_base'\n",
    "result_dic.update({method:score_func(ypredict,ytest,prt_info=True)})\n",
    "update_results(result_dic[method],method,results_file)"
   ]
  },
  {
   "cell_type": "code",
   "execution_count": 33,
   "metadata": {},
   "outputs": [
    {
     "data": {
      "text/plain": [
       "670         id_001_1929\n",
       "671         id_001_2469\n",
       "672          id_001_485\n",
       "673         id_001_1309\n",
       "674          id_001_599\n",
       "             ...       \n",
       "7714    id_026_388526.0\n",
       "7715    id_026_388527.0\n",
       "7716    id_026_388528.0\n",
       "7717    id_026_388529.0\n",
       "7718    id_026_431244.0\n",
       "Name: Feature, Length: 7049, dtype: object"
      ]
     },
     "execution_count": 33,
     "metadata": {},
     "output_type": "execute_result"
    }
   ],
   "source": [
    "imp_base = rfc_base.feature_importances_\n",
    "cols_base = [i  for i in columns_base if i!='error']\n",
    "order = np.argsort(imp_base)\n",
    "df_imp_base = pd.DataFrame([cols_base[i] for i in order[::-1]],columns=['Feature'])\n",
    "df_imp_base['Importance'] = np.round(imp_base[order]*100,2)[::-1]\n",
    "df_imp_base.loc[df_imp_base['Importance']==0,'Feature']"
   ]
  },
  {
   "cell_type": "code",
   "execution_count": 34,
   "metadata": {},
   "outputs": [],
   "source": [
    "bla = []\n",
    "for var in df_imp_base['Feature']:\n",
    "    if '_' in var:\n",
    "        var0 = var.split('_')[0]+'_'+var.split('_')[1]\n",
    "        new_var = feature_def2(var0)\n",
    "        if len(var.split('_'))==3:\n",
    "            new_var = new_var+' '+var.split('_')[-1]\n",
    "        bla.append(new_var)\n",
    "    else:\n",
    "        bla.append(var)\n",
    "df_imp_base['True Feature'] = bla"
   ]
  },
  {
   "cell_type": "code",
   "execution_count": 74,
   "metadata": {},
   "outputs": [
    {
     "data": {
      "image/png": "[encoded data removed]",
      "text/plain": [
       "<Figure size 504x432 with 1 Axes>"
      ]
     },
     "metadata": {
      "needs_background": "light"
     },
     "output_type": "display_data"
    }
   ],
   "source": [
    "label_type = '_Acro' # '' #\n",
    "plt.figure(figsize=(7,6))\n",
    "plt.title(\"Feature importance\")\n",
    "plt.barh(range(10), df_imp_base.loc[9:0:-1,'Importance'].values,\n",
    "       color=\"r\")\n",
    "if label_type == '_Acro':\n",
    "    plt.yticks(range(10),df_imp_base.loc[9:0:-1,'Feature'] )\n",
    "else:\n",
    "    plt.yticks(range(10),df_imp_base.loc[9:0:-1,'True Feature'] )\n",
    "plt.ylim([-1, 10])\n",
    "plt.gcf().subplots_adjust(left=0.3)\n",
    "plt.text(8,0,'Base')\n",
    "plt.savefig('../plots/FeatureImportance_base{}.png'.format(label_type))"
   ]
  },
  {
   "cell_type": "code",
   "execution_count": null,
   "metadata": {},
   "outputs": [],
   "source": []
  }
 ],
 "metadata": {
  "kernelspec": {
   "display_name": "Python 3",
   "language": "python",
   "name": "python3"
  },
  "language_info": {
   "codemirror_mode": {
    "name": "ipython",
    "version": 3
   },
   "file_extension": ".py",
   "mimetype": "text/x-python",
   "name": "python",
   "nbconvert_exporter": "python",
   "pygments_lexer": "ipython3",
   "version": "3.6.9"
  }
 },
 "nbformat": 4,
 "nbformat_minor": 4
}
