{
 "cells": [
  {
   "cell_type": "markdown",
   "metadata": {},
   "source": [
    "# Pre-processing and Training Data\n",
    "In this notebook the data set is further preprocessed to meet the criteria for the modeling step. This includes further analysis of the relevant features and creating a training data set."
   ]
  },
  {
   "cell_type": "code",
   "execution_count": 1,
   "metadata": {},
   "outputs": [],
   "source": [
    "import pandas as pd\n",
    "import numpy as np\n",
    "import matplotlib.pyplot as plt\n",
    "import seaborn as sns\n",
    "import sqlite3\n",
    "from IPython.display import display\n",
    "import scipy as sp\n",
    "from sklearn.model_selection import train_test_split\n",
    "from scipy.sparse import csr_matrix, save_npz, load_npz"
   ]
  },
  {
   "cell_type": "markdown",
   "metadata": {},
   "source": [
    "## Load the Data"
   ]
  },
  {
   "cell_type": "code",
   "execution_count": 2,
   "metadata": {},
   "outputs": [
    {
     "name": "stdout",
     "output_type": "stream",
     "text": [
      "<class 'pandas.core.frame.DataFrame'>\n",
      "Int64Index: 38432 entries, 0 to 38431\n",
      "Data columns (total 36 columns):\n",
      " #   Column   Non-Null Count  Dtype \n",
      "---  ------   --------------  ----- \n",
      " 0   id_000   38432 non-null  int64 \n",
      " 1   ty_000   38432 non-null  object\n",
      " 2   cl_000   38432 non-null  object\n",
      " 3   xx_000   38432 non-null  object\n",
      " 4   id_001   38432 non-null  object\n",
      " 5   xx_001   38432 non-null  object\n",
      " 6   cl_001   38432 non-null  object\n",
      " 7   id_002   38432 non-null  object\n",
      " 8   id_003   38432 non-null  object\n",
      " 9   id_004   38432 non-null  object\n",
      " 10  id_005   38432 non-null  object\n",
      " 11  id_006   38432 non-null  object\n",
      " 12  id_007   38432 non-null  object\n",
      " 13  id_008   38432 non-null  object\n",
      " 14  xx_005   38432 non-null  int64 \n",
      " 15  ty_002   38432 non-null  object\n",
      " 16  ty_004   38432 non-null  object\n",
      " 17  cl_003   38432 non-null  object\n",
      " 18  id_018   38432 non-null  object\n",
      " 19  id_019   38432 non-null  object\n",
      " 20  xx_014   38432 non-null  object\n",
      " 21  cl_006   38432 non-null  object\n",
      " 22  cl_007   38432 non-null  object\n",
      " 23  cl_008   38432 non-null  object\n",
      " 24  id_024   38432 non-null  object\n",
      " 25  xx_016   38432 non-null  int64 \n",
      " 26  id_026   38432 non-null  object\n",
      " 27  flg_001  38432 non-null  object\n",
      " 28  xx_026   38432 non-null  int64 \n",
      " 29  dt_001   38432 non-null  object\n",
      " 30  xx_027   38432 non-null  object\n",
      " 31  xx_028   38432 non-null  int64 \n",
      " 32  xx_029   38432 non-null  object\n",
      " 33  ty_006   38432 non-null  object\n",
      " 34  id_033   38432 non-null  int64 \n",
      " 35  error    38432 non-null  int64 \n",
      "dtypes: int64(7), object(29)\n",
      "memory usage: 10.8+ MB\n"
     ]
    }
   ],
   "source": [
    "df = pd.read_sql('SELECT * FROM data_base_error ', 'sqlite:///../data/data2.db',index_col='index')\n",
    "df.info(verbose=True, null_counts=True)"
   ]
  },
  {
   "cell_type": "code",
   "execution_count": 3,
   "metadata": {},
   "outputs": [],
   "source": [
    "df.drop(['id_000','id_033','xx_026'],axis=1,inplace=True)"
   ]
  },
  {
   "cell_type": "markdown",
   "metadata": {},
   "source": [
    "### Make proper datetime feature"
   ]
  },
  {
   "cell_type": "code",
   "execution_count": 4,
   "metadata": {},
   "outputs": [],
   "source": [
    "x = 'dt_001'\n",
    "df[x] = pd.to_datetime(df[x])\n",
    "df.loc[:,x] = df[x].apply(lambda y: y.replace(microsecond=0))"
   ]
  },
  {
   "cell_type": "markdown",
   "metadata": {},
   "source": [
    "### xx_005 is an ordinal variable"
   ]
  },
  {
   "cell_type": "code",
   "execution_count": 5,
   "metadata": {},
   "outputs": [
    {
     "data": {
      "image/png": "[encoded data removed]",
      "text/plain": [
       "<Figure size 432x288 with 1 Axes>"
      ]
     },
     "metadata": {
      "needs_background": "light"
     },
     "output_type": "display_data"
    }
   ],
   "source": [
    "plt.hist(df['xx_005'],bins=range(-2,7))\n",
    "plt.show()"
   ]
  },
  {
   "cell_type": "code",
   "execution_count": 5,
   "metadata": {},
   "outputs": [],
   "source": [
    "from sklearn.preprocessing import MinMaxScaler\n",
    "mms = MinMaxScaler()\n",
    "mms.fit(df['xx_005'].values.reshape(-1,1))\n",
    "df['xx_005'] = mms.transform(df['xx_005'].values.reshape(-1,1))"
   ]
  },
  {
   "cell_type": "markdown",
   "metadata": {},
   "source": [
    "## Create dummy features"
   ]
  },
  {
   "cell_type": "code",
   "execution_count": 6,
   "metadata": {},
   "outputs": [
    {
     "name": "stdout",
     "output_type": "stream",
     "text": [
      "Integer values:  xx_005  :::  8\n",
      "Integer values:  xx_016  :::  991\n",
      "Integer values:  xx_028  :::  63\n",
      "Integer values:  error  :::  2\n"
     ]
    }
   ],
   "source": [
    "df_dum = df.copy()\n",
    "for var in df_dum.columns:\n",
    "    if (var == 'id_000')|(var == 'id_033')|(var == 'dt_001'):\n",
    "        continue\n",
    "    if (df_dum[var].dtype=='O'):\n",
    "        if ('1' in df_dum[var].unique())|('0.0' in df_dum[var].unique())|(('0' in df_dum[var].unique())):\n",
    "            print(var, ' has integers as strings')\n",
    "            continue\n",
    "            \n",
    "        if isinstance(df[var].unique()[0],str):\n",
    "            if sum([1 if var not in value else 0 for value in df[var].unique()]) > 0:\n",
    "                df_temp = pd.get_dummies(df[var],drop_first=True,prefix_sep='_',prefix=var)\n",
    "            else:\n",
    "                df_temp = pd.get_dummies(df[var],drop_first=True)\n",
    "        else:\n",
    "            df_temp = pd.get_dummies(df[var],drop_first=True)\n",
    "        df_dum = pd.concat([df_dum.drop(var,axis=1),df_temp],axis=1)\n",
    "        del df_temp\n",
    "    else:\n",
    "        print('Integer values: ',var,' ::: ',df_dum[var].nunique())\n"
   ]
  },
  {
   "cell_type": "code",
   "execution_count": 7,
   "metadata": {},
   "outputs": [
    {
     "name": "stdout",
     "output_type": "stream",
     "text": [
      "Before:  (38432, 33)  after: (38432, 7721)\n"
     ]
    }
   ],
   "source": [
    "print('Before: ',df.shape,' after:',df_dum.shape)"
   ]
  },
  {
   "cell_type": "markdown",
   "metadata": {},
   "source": [
    "## First Data Set: No Feature Engineering"
   ]
  },
  {
   "cell_type": "markdown",
   "metadata": {},
   "source": [
    "#### xx_016 and xx_028 are numerical"
   ]
  },
  {
   "cell_type": "code",
   "execution_count": 8,
   "metadata": {},
   "outputs": [],
   "source": [
    "df_base = df_dum.copy()\n",
    "for var in ['xx_016','xx_028']:\n",
    "    mms = MinMaxScaler()\n",
    "    mms.fit(df_base[var].values.reshape(-1,1))\n",
    "    df_base[var] = mms.transform(df[var].values.reshape(-1,1))"
   ]
  },
  {
   "cell_type": "code",
   "execution_count": 9,
   "metadata": {},
   "outputs": [],
   "source": [
    "df_base.drop('dt_001',axis=1,inplace=True)"
   ]
  },
  {
   "cell_type": "markdown",
   "metadata": {},
   "source": [
    "## Split test and training data set"
   ]
  },
  {
   "cell_type": "code",
   "execution_count": 10,
   "metadata": {},
   "outputs": [
    {
     "name": "stdout",
     "output_type": "stream",
     "text": [
      "Errors make up only 4.91% of the data set.\n"
     ]
    }
   ],
   "source": [
    "print('Errors make up only {:.2f}% of the data set.'.format(df_base['error'].sum()/df_base['error'].count()*100))"
   ]
  },
  {
   "cell_type": "markdown",
   "metadata": {},
   "source": [
    "Therefore, the test and training set are split such that each has 4.83 % errors."
   ]
  },
  {
   "cell_type": "code",
   "execution_count": 11,
   "metadata": {},
   "outputs": [
    {
     "name": "stdout",
     "output_type": "stream",
     "text": [
      "Training data:  30745  Testing data:  7687\n"
     ]
    }
   ],
   "source": [
    "import scipy as sp\n",
    "from sklearn.model_selection import train_test_split\n",
    "y = df_base['error'].values\n",
    "X = sp.sparse.csr_matrix(df_base.drop('error',axis=1))\n",
    "X_train, X_test, y_train, y_test = train_test_split(X, y, test_size = 0.2, random_state=42,stratify=y)\n",
    "print('Training data: ',len(y_train),' Testing data: ',len(y_test))"
   ]
  },
  {
   "cell_type": "code",
   "execution_count": 12,
   "metadata": {},
   "outputs": [
    {
     "name": "stdout",
     "output_type": "stream",
     "text": [
      "In the train set errors make up 4.91% of the data.\n",
      "In the test set errors make up 4.90% of the data.\n"
     ]
    }
   ],
   "source": [
    "print('In the train set errors make up {:.2f}% of the data.'.format(y_train.sum()/len(y_train)*100))\n",
    "print('In the test set errors make up {:.2f}% of the data.'.format(y_test.sum()/len(y_test)*100))"
   ]
  },
  {
   "cell_type": "markdown",
   "metadata": {},
   "source": [
    "## Save data sets"
   ]
  },
  {
   "cell_type": "code",
   "execution_count": 13,
   "metadata": {},
   "outputs": [],
   "source": [
    "con = sqlite3.connect('../data/model_base.db')\n",
    "pd.DataFrame(y_train,columns=['error']).to_sql(name='y_train', con=con, if_exists='replace')\n",
    "pd.DataFrame(y_test,columns=['error']).to_sql(name='y_test', con=con, if_exists='replace')\n",
    "con.close()"
   ]
  },
  {
   "cell_type": "code",
   "execution_count": 14,
   "metadata": {},
   "outputs": [],
   "source": [
    "from scipy.sparse import csr_matrix, save_npz, load_npz\n",
    "\n",
    "save_npz('../data/base_Xtrain.npz',X_train)\n",
    "save_npz('../data/base_Xtest.npz',X_test)\n",
    "np.save('../data/base_columns',df_dum.columns)"
   ]
  },
  {
   "cell_type": "markdown",
   "metadata": {},
   "source": [
    "## Data set with Clusters and Datetime Features\n",
    "### Create clusters for xx_016 and xx_28\n",
    "We have inside knowledge that these features contain numerical data and to compare it to the other features, clusters are defined."
   ]
  },
  {
   "cell_type": "code",
   "execution_count": 15,
   "metadata": {},
   "outputs": [
    {
     "data": {
      "image/png": "[encoded data removed]",
      "text/plain": [
       "<Figure size 864x288 with 2 Axes>"
      ]
     },
     "metadata": {
      "needs_background": "light"
     },
     "output_type": "display_data"
    }
   ],
   "source": [
    "from sklearn.cluster import KMeans\n",
    "plt.figure(figsize=(12,4))\n",
    "k = 1\n",
    "for var in ['xx_016','xx_028']:\n",
    "    inertia = []\n",
    "\n",
    "    for nc in range(2,12):\n",
    "        kmeans = KMeans(n_clusters=nc)\n",
    "        kmeans.fit(df[var].values.reshape(-1,1))\n",
    "        inertia.append(kmeans.inertia_)  \n",
    "    plt.subplot(1,3,k)\n",
    "    plt.plot(range(2,12),inertia)\n",
    "    plt.title(var)\n",
    "    k+=1\n"
   ]
  },
  {
   "cell_type": "code",
   "execution_count": 16,
   "metadata": {},
   "outputs": [
    {
     "name": "stdout",
     "output_type": "stream",
     "text": [
      "                       xx_016                              \n",
      "                         mean     min     max           std\n",
      "xx_016_cluster                                             \n",
      "0                  954.811861       0  170000  11335.080341\n",
      "1               346677.467105  179700  437600  61848.089901\n",
      "2               538566.912610  447000  618200  46043.352644\n",
      "3               704526.062992  621800  921528  59939.416659\n",
      "                    xx_028                    \n",
      "                      mean min  max        std\n",
      "xx_028_cluster                                \n",
      "0                 0.006152   0    1   0.078197\n",
      "1                 2.551692   2    6   0.809375\n",
      "2                10.495624   7   24   3.522496\n",
      "3                38.232323  25   53   7.286874\n",
      "4               102.230769  81  152  27.374890\n"
     ]
    }
   ],
   "source": [
    "from sklearn.preprocessing import MinMaxScaler\n",
    "df_combo = df.copy()\n",
    "for var in ['xx_016','xx_028']:\n",
    "    if var == 'xx_028':\n",
    "        n_clust = 5\n",
    "    else:\n",
    "        n_clust = 4\n",
    "    # Generate new cluster\n",
    "    kmeans = KMeans(n_clusters=n_clust)\n",
    "    df_temp = pd.DataFrame(df_combo[var].copy())\n",
    "    df_temp[var+'_cluster'] = kmeans.fit_predict(df_combo[var].values.reshape(-1,1))\n",
    "    # analyze cluster\n",
    "    tab = df_temp.groupby(var+'_cluster').agg({var:['mean','min','max','std']})\n",
    "    #print(tab)\n",
    "    # sort cluster\n",
    "    new_clust = np.argsort(tab[var].loc[:,'min'])\n",
    "    temp = np.zeros(len(df_temp[var+'_cluster']),dtype=int)\n",
    "    for i in range(len(new_clust)):\n",
    "        #print(i,new_clust[i])\n",
    "        temp[df_temp[var+'_cluster']==new_clust[i]]=i\n",
    "    df_temp.loc[:,var+'_cluster'] = temp\n",
    "    print(df_temp.groupby(var+'_cluster').agg({var:['mean','min','max','std']}))\n",
    "    # Create dummy features\n",
    "    df_temp2 = pd.get_dummies(df_temp[var+'_cluster'],prefix=var, prefix_sep='_')\n",
    "    # Add to data set\n",
    "    df_combo = pd.concat([df_combo,df_temp2],axis=1)\n",
    "    # Rescale the data set\n",
    "    mms = MinMaxScaler()\n",
    "    mms.fit(df_combo[var].values.reshape(-1,1))\n",
    "    df_combo[var] = mms.transform(df_combo[var].values.reshape(-1,1))"
   ]
  },
  {
   "cell_type": "code",
   "execution_count": 19,
   "metadata": {},
   "outputs": [
    {
     "data": {
      "text/html": [
       "<div>\n",
       "<style scoped>\n",
       "    .dataframe tbody tr th:only-of-type {\n",
       "        vertical-align: middle;\n",
       "    }\n",
       "\n",
       "    .dataframe tbody tr th {\n",
       "        vertical-align: top;\n",
       "    }\n",
       "\n",
       "    .dataframe thead th {\n",
       "        text-align: right;\n",
       "    }\n",
       "</style>\n",
       "<table border=\"1\" class=\"dataframe\">\n",
       "  <thead>\n",
       "    <tr style=\"text-align: right;\">\n",
       "      <th></th>\n",
       "      <th>count</th>\n",
       "      <th>mean</th>\n",
       "      <th>std</th>\n",
       "      <th>min</th>\n",
       "      <th>25%</th>\n",
       "      <th>50%</th>\n",
       "      <th>75%</th>\n",
       "      <th>max</th>\n",
       "    </tr>\n",
       "  </thead>\n",
       "  <tbody>\n",
       "    <tr>\n",
       "      <th>xx_005</th>\n",
       "      <td>38432.0</td>\n",
       "      <td>0.408006</td>\n",
       "      <td>0.273189</td>\n",
       "      <td>0.0</td>\n",
       "      <td>0.25</td>\n",
       "      <td>0.250000</td>\n",
       "      <td>0.500000</td>\n",
       "      <td>1.0</td>\n",
       "    </tr>\n",
       "    <tr>\n",
       "      <th>xx_016</th>\n",
       "      <td>38432.0</td>\n",
       "      <td>0.143841</td>\n",
       "      <td>0.275517</td>\n",
       "      <td>0.0</td>\n",
       "      <td>0.00</td>\n",
       "      <td>0.000000</td>\n",
       "      <td>0.000000</td>\n",
       "      <td>1.0</td>\n",
       "    </tr>\n",
       "    <tr>\n",
       "      <th>xx_028</th>\n",
       "      <td>38432.0</td>\n",
       "      <td>0.011783</td>\n",
       "      <td>0.025496</td>\n",
       "      <td>0.0</td>\n",
       "      <td>0.00</td>\n",
       "      <td>0.013158</td>\n",
       "      <td>0.013158</td>\n",
       "      <td>1.0</td>\n",
       "    </tr>\n",
       "    <tr>\n",
       "      <th>error</th>\n",
       "      <td>38432.0</td>\n",
       "      <td>0.049074</td>\n",
       "      <td>0.216025</td>\n",
       "      <td>0.0</td>\n",
       "      <td>0.00</td>\n",
       "      <td>0.000000</td>\n",
       "      <td>0.000000</td>\n",
       "      <td>1.0</td>\n",
       "    </tr>\n",
       "    <tr>\n",
       "      <th>xx_016_0</th>\n",
       "      <td>38432.0</td>\n",
       "      <td>0.776566</td>\n",
       "      <td>0.416552</td>\n",
       "      <td>0.0</td>\n",
       "      <td>1.00</td>\n",
       "      <td>1.000000</td>\n",
       "      <td>1.000000</td>\n",
       "      <td>1.0</td>\n",
       "    </tr>\n",
       "    <tr>\n",
       "      <th>xx_016_1</th>\n",
       "      <td>38432.0</td>\n",
       "      <td>0.031640</td>\n",
       "      <td>0.175043</td>\n",
       "      <td>0.0</td>\n",
       "      <td>0.00</td>\n",
       "      <td>0.000000</td>\n",
       "      <td>0.000000</td>\n",
       "      <td>1.0</td>\n",
       "    </tr>\n",
       "    <tr>\n",
       "      <th>xx_016_2</th>\n",
       "      <td>38432.0</td>\n",
       "      <td>0.086048</td>\n",
       "      <td>0.280439</td>\n",
       "      <td>0.0</td>\n",
       "      <td>0.00</td>\n",
       "      <td>0.000000</td>\n",
       "      <td>0.000000</td>\n",
       "      <td>1.0</td>\n",
       "    </tr>\n",
       "    <tr>\n",
       "      <th>xx_016_3</th>\n",
       "      <td>38432.0</td>\n",
       "      <td>0.105745</td>\n",
       "      <td>0.307515</td>\n",
       "      <td>0.0</td>\n",
       "      <td>0.00</td>\n",
       "      <td>0.000000</td>\n",
       "      <td>0.000000</td>\n",
       "      <td>1.0</td>\n",
       "    </tr>\n",
       "    <tr>\n",
       "      <th>xx_028_0</th>\n",
       "      <td>38432.0</td>\n",
       "      <td>0.435627</td>\n",
       "      <td>0.495845</td>\n",
       "      <td>0.0</td>\n",
       "      <td>0.00</td>\n",
       "      <td>0.000000</td>\n",
       "      <td>1.000000</td>\n",
       "      <td>1.0</td>\n",
       "    </tr>\n",
       "    <tr>\n",
       "      <th>xx_028_1</th>\n",
       "      <td>38432.0</td>\n",
       "      <td>0.537339</td>\n",
       "      <td>0.498610</td>\n",
       "      <td>0.0</td>\n",
       "      <td>0.00</td>\n",
       "      <td>1.000000</td>\n",
       "      <td>1.000000</td>\n",
       "      <td>1.0</td>\n",
       "    </tr>\n",
       "    <tr>\n",
       "      <th>xx_028_2</th>\n",
       "      <td>38432.0</td>\n",
       "      <td>0.023782</td>\n",
       "      <td>0.152372</td>\n",
       "      <td>0.0</td>\n",
       "      <td>0.00</td>\n",
       "      <td>0.000000</td>\n",
       "      <td>0.000000</td>\n",
       "      <td>1.0</td>\n",
       "    </tr>\n",
       "    <tr>\n",
       "      <th>xx_028_3</th>\n",
       "      <td>38432.0</td>\n",
       "      <td>0.002576</td>\n",
       "      <td>0.050689</td>\n",
       "      <td>0.0</td>\n",
       "      <td>0.00</td>\n",
       "      <td>0.000000</td>\n",
       "      <td>0.000000</td>\n",
       "      <td>1.0</td>\n",
       "    </tr>\n",
       "    <tr>\n",
       "      <th>xx_028_4</th>\n",
       "      <td>38432.0</td>\n",
       "      <td>0.000677</td>\n",
       "      <td>0.026002</td>\n",
       "      <td>0.0</td>\n",
       "      <td>0.00</td>\n",
       "      <td>0.000000</td>\n",
       "      <td>0.000000</td>\n",
       "      <td>1.0</td>\n",
       "    </tr>\n",
       "  </tbody>\n",
       "</table>\n",
       "</div>"
      ],
      "text/plain": [
       "            count      mean       std  min   25%       50%       75%  max\n",
       "xx_005    38432.0  0.408006  0.273189  0.0  0.25  0.250000  0.500000  1.0\n",
       "xx_016    38432.0  0.143841  0.275517  0.0  0.00  0.000000  0.000000  1.0\n",
       "xx_028    38432.0  0.011783  0.025496  0.0  0.00  0.013158  0.013158  1.0\n",
       "error     38432.0  0.049074  0.216025  0.0  0.00  0.000000  0.000000  1.0\n",
       "xx_016_0  38432.0  0.776566  0.416552  0.0  1.00  1.000000  1.000000  1.0\n",
       "xx_016_1  38432.0  0.031640  0.175043  0.0  0.00  0.000000  0.000000  1.0\n",
       "xx_016_2  38432.0  0.086048  0.280439  0.0  0.00  0.000000  0.000000  1.0\n",
       "xx_016_3  38432.0  0.105745  0.307515  0.0  0.00  0.000000  0.000000  1.0\n",
       "xx_028_0  38432.0  0.435627  0.495845  0.0  0.00  0.000000  1.000000  1.0\n",
       "xx_028_1  38432.0  0.537339  0.498610  0.0  0.00  1.000000  1.000000  1.0\n",
       "xx_028_2  38432.0  0.023782  0.152372  0.0  0.00  0.000000  0.000000  1.0\n",
       "xx_028_3  38432.0  0.002576  0.050689  0.0  0.00  0.000000  0.000000  1.0\n",
       "xx_028_4  38432.0  0.000677  0.026002  0.0  0.00  0.000000  0.000000  1.0"
      ]
     },
     "execution_count": 19,
     "metadata": {},
     "output_type": "execute_result"
    }
   ],
   "source": [
    "df_combo.describe().transpose()"
   ]
  },
  {
   "cell_type": "code",
   "execution_count": 24,
   "metadata": {},
   "outputs": [
    {
     "name": "stdout",
     "output_type": "stream",
     "text": [
      "<class 'pandas.core.frame.DataFrame'>\n",
      "Int64Index: 38432 entries, 0 to 38431\n",
      "Data columns (total 43 columns):\n",
      " #   Column    Non-Null Count  Dtype         \n",
      "---  ------    --------------  -----         \n",
      " 0   ty_000    38432 non-null  object        \n",
      " 1   cl_000    38432 non-null  object        \n",
      " 2   xx_000    38432 non-null  object        \n",
      " 3   id_001    38432 non-null  object        \n",
      " 4   xx_001    38432 non-null  object        \n",
      " 5   cl_001    38432 non-null  object        \n",
      " 6   id_002    38432 non-null  object        \n",
      " 7   id_003    38432 non-null  object        \n",
      " 8   id_004    38432 non-null  object        \n",
      " 9   id_005    38432 non-null  object        \n",
      " 10  id_006    38432 non-null  object        \n",
      " 11  id_007    38432 non-null  object        \n",
      " 12  id_008    38432 non-null  object        \n",
      " 13  xx_005    38432 non-null  float64       \n",
      " 14  ty_002    38432 non-null  object        \n",
      " 15  ty_004    38432 non-null  object        \n",
      " 16  cl_003    38432 non-null  object        \n",
      " 17  id_018    38432 non-null  object        \n",
      " 18  id_019    38432 non-null  object        \n",
      " 19  cl_005    38432 non-null  object        \n",
      " 20  xx_014    38432 non-null  object        \n",
      " 21  cl_006    38432 non-null  object        \n",
      " 22  cl_007    38432 non-null  object        \n",
      " 23  cl_008    38432 non-null  object        \n",
      " 24  id_024    38432 non-null  object        \n",
      " 25  xx_016    38432 non-null  float64       \n",
      " 26  id_026    38432 non-null  object        \n",
      " 27  flg_001   38432 non-null  object        \n",
      " 28  dt_001    38432 non-null  datetime64[ns]\n",
      " 29  xx_027    38432 non-null  object        \n",
      " 30  xx_028    38432 non-null  float64       \n",
      " 31  xx_029    38432 non-null  object        \n",
      " 32  ty_006    38432 non-null  object        \n",
      " 33  error     38432 non-null  int64         \n",
      " 34  xx_016_0  38432 non-null  uint8         \n",
      " 35  xx_016_1  38432 non-null  uint8         \n",
      " 36  xx_016_2  38432 non-null  uint8         \n",
      " 37  xx_016_3  38432 non-null  uint8         \n",
      " 38  xx_028_0  38432 non-null  uint8         \n",
      " 39  xx_028_1  38432 non-null  uint8         \n",
      " 40  xx_028_2  38432 non-null  uint8         \n",
      " 41  xx_028_3  38432 non-null  uint8         \n",
      " 42  xx_028_4  38432 non-null  uint8         \n",
      "dtypes: datetime64[ns](1), float64(3), int64(1), object(29), uint8(9)\n",
      "memory usage: 10.6+ MB\n"
     ]
    }
   ],
   "source": [
    "df_combo.info()"
   ]
  },
  {
   "cell_type": "code",
   "execution_count": 17,
   "metadata": {},
   "outputs": [
    {
     "name": "stdout",
     "output_type": "stream",
     "text": [
      "Integer values:  xx_005  :::  8\n",
      "Integer values:  xx_016  :::  991\n",
      "Integer values:  xx_028  :::  63\n",
      "Integer values:  error  :::  2\n",
      "Integer values:  xx_016_0  :::  2\n",
      "Integer values:  xx_016_1  :::  2\n",
      "Integer values:  xx_016_2  :::  2\n",
      "Integer values:  xx_016_3  :::  2\n",
      "Integer values:  xx_028_0  :::  2\n",
      "Integer values:  xx_028_1  :::  2\n",
      "Integer values:  xx_028_2  :::  2\n",
      "Integer values:  xx_028_3  :::  2\n",
      "Integer values:  xx_028_4  :::  2\n"
     ]
    }
   ],
   "source": [
    "df_dum = df_combo.copy()\n",
    "for var in df_dum.columns:\n",
    "    if (var == 'id_000')|(var == 'id_033')|(var == 'dt_001'):\n",
    "        continue\n",
    "    if (df_dum[var].dtype=='O'):\n",
    "        if ('1' in df_dum[var].unique())|('0.0' in df_dum[var].unique())|(('0' in df_dum[var].unique())):\n",
    "            print(var, ' has integers as strings')\n",
    "            continue\n",
    "            \n",
    "        if isinstance(df[var].unique()[0],str):\n",
    "            if sum([1 if var not in value else 0 for value in df[var].unique()]) > 0:\n",
    "                df_temp = pd.get_dummies(df[var],drop_first=True,prefix_sep='_',prefix=var)\n",
    "            else:\n",
    "                df_temp = pd.get_dummies(df[var],drop_first=True)\n",
    "        else:\n",
    "            df_temp = pd.get_dummies(df[var],drop_first=True)\n",
    "        df_dum = pd.concat([df_dum.drop(var,axis=1),df_temp],axis=1)\n",
    "        del df_temp\n",
    "    else:\n",
    "        print('Integer values: ',var,' ::: ',df_dum[var].nunique())\n"
   ]
  },
  {
   "cell_type": "code",
   "execution_count": 18,
   "metadata": {},
   "outputs": [
    {
     "name": "stdout",
     "output_type": "stream",
     "text": [
      "Before:  (38432, 42)  after: (38432, 7730)\n"
     ]
    }
   ],
   "source": [
    "print('Before: ',df_combo.shape,' after:',df_dum.shape)"
   ]
  },
  {
   "cell_type": "markdown",
   "metadata": {},
   "source": [
    "## Add time and date features"
   ]
  },
  {
   "cell_type": "markdown",
   "metadata": {},
   "source": [
    "We have seen in the EDA  that errors happen rather **at the beginning of the month**, **aroud 8am or later in the day**, and rather **on Tuesday or towards the end of the week**.\n",
    "\n",
    "Since we have only one month, we will take only the daytime and weekday as representative for the feature engineering."
   ]
  },
  {
   "cell_type": "code",
   "execution_count": 20,
   "metadata": {},
   "outputs": [],
   "source": [
    "df_time=pd.DataFrame(df_dum['dt_001'].copy(),columns=['dt_001'])\n",
    "df_time['month']=[x.month for x in df_dum['dt_001']]\n",
    "df_time['day']=[x.day for x in df_dum['dt_001']]\n",
    "df_time['hour']=[x.hour for x in df_dum['dt_001']]\n",
    "df_time['weekday']=[x.weekday() for x in df_dum['dt_001']]\n",
    "\n",
    "df_dum['morning'] = [0 if x >= 12 else 1 for x in df_time['hour']]\n",
    "df_dum['afternoon'] = [0 if (x < 12)|(x>18) else 1 for x in df_time['hour']]\n",
    "df_dum['evening'] = [0 if (x <= 18) else 1 for x in df_time['hour']]\n",
    "\n",
    "wdays = ['Monday','Tuesday','Wednesday','Thursday','Friday','Saturday','Sunday']\n",
    "for i in range(7):\n",
    "    df_dum[wdays[i]] = [1 if x == i else 0 for x in df_time['weekday']]\n",
    "df_dum.drop('dt_001',axis=1,inplace=True)"
   ]
  },
  {
   "cell_type": "markdown",
   "metadata": {},
   "source": [
    "We will now take out the sparsest category per feature to further reduce the data set."
   ]
  },
  {
   "cell_type": "code",
   "execution_count": 21,
   "metadata": {},
   "outputs": [
    {
     "data": {
      "text/plain": [
       "morning      15260\n",
       "afternoon    18924\n",
       "evening       4248\n",
       "dtype: int64"
      ]
     },
     "execution_count": 21,
     "metadata": {},
     "output_type": "execute_result"
    }
   ],
   "source": [
    "np.sum(df_dum.loc[:,['morning','afternoon','evening']],axis=0)"
   ]
  },
  {
   "cell_type": "code",
   "execution_count": 22,
   "metadata": {},
   "outputs": [],
   "source": [
    "df_dum.drop(['evening','Sunday'],axis=1,inplace=True)"
   ]
  },
  {
   "cell_type": "markdown",
   "metadata": {},
   "source": [
    "It appears that the clustering is not adding more value to the data set, nor the PCA decomposition. For now they will not be included to the data set."
   ]
  },
  {
   "cell_type": "markdown",
   "metadata": {},
   "source": [
    "## Split test and training data set"
   ]
  },
  {
   "cell_type": "code",
   "execution_count": 23,
   "metadata": {},
   "outputs": [
    {
     "name": "stdout",
     "output_type": "stream",
     "text": [
      "Errors make up only 4.91% of the data set.\n"
     ]
    }
   ],
   "source": [
    "print('Errors make up only {:.2f}% of the data set.'.format(df_dum['error'].sum()/df_dum['error'].count()*100))"
   ]
  },
  {
   "cell_type": "markdown",
   "metadata": {},
   "source": [
    "Therefore, the test and training set are split such that each has 4.83 % errors."
   ]
  },
  {
   "cell_type": "code",
   "execution_count": 25,
   "metadata": {},
   "outputs": [
    {
     "name": "stdout",
     "output_type": "stream",
     "text": [
      "Training data:  30745  Testing data:  7687\n"
     ]
    }
   ],
   "source": [
    "import scipy as sp\n",
    "from sklearn.model_selection import train_test_split\n",
    "y = df_dum['error'].values\n",
    "#X = df_dum.drop('error',axis=1).values\n",
    "X = sp.sparse.csr_matrix(df_dum.drop('error',axis=1))\n",
    "X_train, X_test, y_train, y_test = train_test_split(X, y, test_size = 0.2, random_state=42,stratify=y)\n",
    "print('Training data: ',len(y_train),' Testing data: ',len(y_test))"
   ]
  },
  {
   "cell_type": "code",
   "execution_count": 26,
   "metadata": {},
   "outputs": [
    {
     "name": "stdout",
     "output_type": "stream",
     "text": [
      "In the train set errors make up 4.91% of the data.\n",
      "In the test set errors make up 4.90% of the data.\n"
     ]
    }
   ],
   "source": [
    "print('In the train set errors make up {:.2f}% of the data.'.format(y_train.sum()/len(y_train)*100))\n",
    "print('In the test set errors make up {:.2f}% of the data.'.format(y_test.sum()/len(y_test)*100))"
   ]
  },
  {
   "cell_type": "markdown",
   "metadata": {},
   "source": [
    "## Save data sets"
   ]
  },
  {
   "cell_type": "code",
   "execution_count": 26,
   "metadata": {},
   "outputs": [],
   "source": [
    "con = sqlite3.connect('../data/model_data_base2.db')\n",
    "pd.DataFrame(y_train,columns=['error']).to_sql(name='y_train', con=con, if_exists='replace')\n",
    "pd.DataFrame(y_test,columns=['error']).to_sql(name='y_test', con=con, if_exists='replace')\n",
    "con.close()"
   ]
  },
  {
   "cell_type": "code",
   "execution_count": 27,
   "metadata": {},
   "outputs": [],
   "source": [
    "from scipy.sparse import csr_matrix, save_npz, load_npz\n",
    "\n",
    "save_npz('../data/data_base_Xtrain2.npz',X_train)\n",
    "save_npz('../data/data_base_Xtest2.npz',X_test)\n",
    "np.save('../data/data_base_columns2',df_dum.columns)"
   ]
  },
  {
   "cell_type": "markdown",
   "metadata": {},
   "source": [
    "## Load the Data"
   ]
  },
  {
   "cell_type": "code",
   "execution_count": 28,
   "metadata": {},
   "outputs": [
    {
     "name": "stdout",
     "output_type": "stream",
     "text": [
      "<class 'pandas.core.frame.DataFrame'>\n",
      "Int64Index: 38432 entries, 0 to 38431\n",
      "Data columns (total 43 columns):\n",
      " #   Column   Non-Null Count  Dtype  \n",
      "---  ------   --------------  -----  \n",
      " 0   id_013   38432 non-null  object \n",
      " 1   id_014   38432 non-null  object \n",
      " 2   xx_006   38432 non-null  float64\n",
      " 3   cl_002   38432 non-null  object \n",
      " 4   cl_004   38432 non-null  object \n",
      " 5   flg_000  38432 non-null  object \n",
      " 6   flg_004  38432 non-null  object \n",
      " 7   id_000   38432 non-null  int64  \n",
      " 8   ty_000   38432 non-null  object \n",
      " 9   cl_000   38432 non-null  object \n",
      " 10  xx_000   38432 non-null  object \n",
      " 11  id_001   38432 non-null  object \n",
      " 12  xx_001   38432 non-null  object \n",
      " 13  cl_001   38432 non-null  object \n",
      " 14  id_002   38432 non-null  object \n",
      " 15  id_003   38432 non-null  object \n",
      " 16  id_004   38432 non-null  object \n",
      " 17  id_005   38432 non-null  object \n",
      " 18  id_006   38432 non-null  object \n",
      " 19  id_007   38432 non-null  object \n",
      " 20  id_008   38432 non-null  object \n",
      " 21  xx_005   38432 non-null  int64  \n",
      " 22  ty_002   38432 non-null  object \n",
      " 23  ty_004   38432 non-null  object \n",
      " 24  cl_003   38432 non-null  object \n",
      " 25  id_018   38432 non-null  object \n",
      " 26  id_019   38432 non-null  object \n",
      " 27  xx_014   38432 non-null  object \n",
      " 28  cl_006   38432 non-null  object \n",
      " 29  cl_007   38432 non-null  object \n",
      " 30  cl_008   38432 non-null  object \n",
      " 31  id_024   38432 non-null  object \n",
      " 32  xx_016   38432 non-null  int64  \n",
      " 33  id_026   38432 non-null  object \n",
      " 34  flg_001  38432 non-null  object \n",
      " 35  xx_026   38432 non-null  int64  \n",
      " 36  dt_001   38432 non-null  object \n",
      " 37  xx_027   38432 non-null  object \n",
      " 38  xx_028   38432 non-null  int64  \n",
      " 39  xx_029   38432 non-null  object \n",
      " 40  ty_006   38432 non-null  object \n",
      " 41  id_033   38432 non-null  int64  \n",
      " 42  error    38432 non-null  int64  \n",
      "dtypes: float64(1), int64(7), object(35)\n",
      "memory usage: 12.9+ MB\n"
     ]
    }
   ],
   "source": [
    "df = pd.read_sql('SELECT * FROM data_extra_base_error ', 'sqlite:///../data/data2.db',index_col='index')\n",
    "df.info(verbose=True, null_counts=True)"
   ]
  },
  {
   "cell_type": "code",
   "execution_count": 29,
   "metadata": {},
   "outputs": [],
   "source": [
    "df.drop(['id_000','id_033','xx_026'],axis=1,inplace=True)"
   ]
  },
  {
   "cell_type": "markdown",
   "metadata": {},
   "source": [
    "### Create clusters for xx_016 and xx_28\n",
    "We have inside knowledge that these features contain numerical data and to compare it to the other features, clusters are defined."
   ]
  },
  {
   "cell_type": "code",
   "execution_count": 30,
   "metadata": {},
   "outputs": [
    {
     "data": {
      "image/png": "[encoded data removed]",
      "text/plain": [
       "<Figure size 864x288 with 2 Axes>"
      ]
     },
     "metadata": {
      "needs_background": "light"
     },
     "output_type": "display_data"
    }
   ],
   "source": [
    "from sklearn.cluster import KMeans\n",
    "plt.figure(figsize=(12,4))\n",
    "k = 1\n",
    "for var in ['xx_016','xx_028']:\n",
    "    inertia = []\n",
    "\n",
    "    for nc in range(2,12):\n",
    "        kmeans = KMeans(n_clusters=nc)\n",
    "        kmeans.fit(df[var].values.reshape(-1,1))\n",
    "        inertia.append(kmeans.inertia_)  \n",
    "    plt.subplot(1,3,k)\n",
    "    plt.plot(range(2,12),inertia)\n",
    "    plt.title(var)\n",
    "    k+=1\n"
   ]
  },
  {
   "cell_type": "code",
   "execution_count": 31,
   "metadata": {},
   "outputs": [
    {
     "name": "stdout",
     "output_type": "stream",
     "text": [
      "                       xx_016                              \n",
      "                         mean     min     max           std\n",
      "xx_016_cluster                                             \n",
      "0                  954.811861       0  170000  11335.080341\n",
      "1               346677.467105  179700  437600  61848.089901\n",
      "2               538566.912610  447000  618200  46043.352644\n",
      "3               704526.062992  621800  921528  59939.416659\n",
      "                    xx_028                    \n",
      "                      mean min  max        std\n",
      "xx_028_cluster                                \n",
      "0                 0.006152   0    1   0.078197\n",
      "1                 2.551692   2    6   0.809375\n",
      "2                10.495624   7   24   3.522496\n",
      "3                38.232323  25   53   7.286874\n",
      "4               102.230769  81  152  27.374890\n"
     ]
    }
   ],
   "source": [
    "from sklearn.preprocessing import MinMaxScaler\n",
    "df_combo = df.copy()\n",
    "for var in ['xx_016','xx_028']:\n",
    "    if var == 'xx_028':\n",
    "        n_clust = 5\n",
    "    else:\n",
    "        n_clust = 4\n",
    "    # Generate new cluster\n",
    "    kmeans = KMeans(n_clusters=n_clust)\n",
    "    df_temp = pd.DataFrame(df_combo[var].copy())\n",
    "    df_temp[var+'_cluster'] = kmeans.fit_predict(df_combo[var].values.reshape(-1,1))\n",
    "    # analyze cluster\n",
    "    tab = df_temp.groupby(var+'_cluster').agg({var:['mean','min','max','std']})\n",
    "    #print(tab)\n",
    "    # sort cluster\n",
    "    new_clust = np.argsort(tab[var].loc[:,'min'])\n",
    "    temp = np.zeros(len(df_temp[var+'_cluster']),dtype=int)\n",
    "    for i in range(len(new_clust)):\n",
    "        #print(i,new_clust[i])\n",
    "        temp[df_temp[var+'_cluster']==new_clust[i]]=i\n",
    "    df_temp.loc[:,var+'_cluster'] = temp\n",
    "    print(df_temp.groupby(var+'_cluster').agg({var:['mean','min','max','std']}))\n",
    "    # Create dummy features\n",
    "    df_temp2 = pd.get_dummies(df_temp[var+'_cluster'],prefix=var, prefix_sep='_')\n",
    "    # Add to data set\n",
    "    df_combo = pd.concat([df_combo,df_temp2],axis=1)\n",
    "    # Rescale the data set\n",
    "    mms = MinMaxScaler()\n",
    "    mms.fit(df_combo[var].values.reshape(-1,1))\n",
    "    df_combo[var] = mms.transform(df_combo[var].values.reshape(-1,1))"
   ]
  },
  {
   "cell_type": "code",
   "execution_count": 32,
   "metadata": {},
   "outputs": [
    {
     "data": {
      "text/html": [
       "<div>\n",
       "<style scoped>\n",
       "    .dataframe tbody tr th:only-of-type {\n",
       "        vertical-align: middle;\n",
       "    }\n",
       "\n",
       "    .dataframe tbody tr th {\n",
       "        vertical-align: top;\n",
       "    }\n",
       "\n",
       "    .dataframe thead th {\n",
       "        text-align: right;\n",
       "    }\n",
       "</style>\n",
       "<table border=\"1\" class=\"dataframe\">\n",
       "  <thead>\n",
       "    <tr style=\"text-align: right;\">\n",
       "      <th></th>\n",
       "      <th>count</th>\n",
       "      <th>mean</th>\n",
       "      <th>std</th>\n",
       "      <th>min</th>\n",
       "      <th>25%</th>\n",
       "      <th>50%</th>\n",
       "      <th>75%</th>\n",
       "      <th>max</th>\n",
       "    </tr>\n",
       "  </thead>\n",
       "  <tbody>\n",
       "    <tr>\n",
       "      <th>xx_006</th>\n",
       "      <td>38432.0</td>\n",
       "      <td>0.448350</td>\n",
       "      <td>2.283522</td>\n",
       "      <td>0.0</td>\n",
       "      <td>0.0</td>\n",
       "      <td>0.000000</td>\n",
       "      <td>0.000000</td>\n",
       "      <td>40.0</td>\n",
       "    </tr>\n",
       "    <tr>\n",
       "      <th>xx_005</th>\n",
       "      <td>38432.0</td>\n",
       "      <td>1.264051</td>\n",
       "      <td>2.185513</td>\n",
       "      <td>-2.0</td>\n",
       "      <td>0.0</td>\n",
       "      <td>0.000000</td>\n",
       "      <td>2.000000</td>\n",
       "      <td>6.0</td>\n",
       "    </tr>\n",
       "    <tr>\n",
       "      <th>xx_016</th>\n",
       "      <td>38432.0</td>\n",
       "      <td>0.143841</td>\n",
       "      <td>0.275517</td>\n",
       "      <td>0.0</td>\n",
       "      <td>0.0</td>\n",
       "      <td>0.000000</td>\n",
       "      <td>0.000000</td>\n",
       "      <td>1.0</td>\n",
       "    </tr>\n",
       "    <tr>\n",
       "      <th>xx_028</th>\n",
       "      <td>38432.0</td>\n",
       "      <td>0.011783</td>\n",
       "      <td>0.025496</td>\n",
       "      <td>0.0</td>\n",
       "      <td>0.0</td>\n",
       "      <td>0.013158</td>\n",
       "      <td>0.013158</td>\n",
       "      <td>1.0</td>\n",
       "    </tr>\n",
       "    <tr>\n",
       "      <th>error</th>\n",
       "      <td>38432.0</td>\n",
       "      <td>0.049074</td>\n",
       "      <td>0.216025</td>\n",
       "      <td>0.0</td>\n",
       "      <td>0.0</td>\n",
       "      <td>0.000000</td>\n",
       "      <td>0.000000</td>\n",
       "      <td>1.0</td>\n",
       "    </tr>\n",
       "    <tr>\n",
       "      <th>xx_016_0</th>\n",
       "      <td>38432.0</td>\n",
       "      <td>0.776566</td>\n",
       "      <td>0.416552</td>\n",
       "      <td>0.0</td>\n",
       "      <td>1.0</td>\n",
       "      <td>1.000000</td>\n",
       "      <td>1.000000</td>\n",
       "      <td>1.0</td>\n",
       "    </tr>\n",
       "    <tr>\n",
       "      <th>xx_016_1</th>\n",
       "      <td>38432.0</td>\n",
       "      <td>0.031640</td>\n",
       "      <td>0.175043</td>\n",
       "      <td>0.0</td>\n",
       "      <td>0.0</td>\n",
       "      <td>0.000000</td>\n",
       "      <td>0.000000</td>\n",
       "      <td>1.0</td>\n",
       "    </tr>\n",
       "    <tr>\n",
       "      <th>xx_016_2</th>\n",
       "      <td>38432.0</td>\n",
       "      <td>0.086048</td>\n",
       "      <td>0.280439</td>\n",
       "      <td>0.0</td>\n",
       "      <td>0.0</td>\n",
       "      <td>0.000000</td>\n",
       "      <td>0.000000</td>\n",
       "      <td>1.0</td>\n",
       "    </tr>\n",
       "    <tr>\n",
       "      <th>xx_016_3</th>\n",
       "      <td>38432.0</td>\n",
       "      <td>0.105745</td>\n",
       "      <td>0.307515</td>\n",
       "      <td>0.0</td>\n",
       "      <td>0.0</td>\n",
       "      <td>0.000000</td>\n",
       "      <td>0.000000</td>\n",
       "      <td>1.0</td>\n",
       "    </tr>\n",
       "    <tr>\n",
       "      <th>xx_028_0</th>\n",
       "      <td>38432.0</td>\n",
       "      <td>0.435627</td>\n",
       "      <td>0.495845</td>\n",
       "      <td>0.0</td>\n",
       "      <td>0.0</td>\n",
       "      <td>0.000000</td>\n",
       "      <td>1.000000</td>\n",
       "      <td>1.0</td>\n",
       "    </tr>\n",
       "    <tr>\n",
       "      <th>xx_028_1</th>\n",
       "      <td>38432.0</td>\n",
       "      <td>0.537339</td>\n",
       "      <td>0.498610</td>\n",
       "      <td>0.0</td>\n",
       "      <td>0.0</td>\n",
       "      <td>1.000000</td>\n",
       "      <td>1.000000</td>\n",
       "      <td>1.0</td>\n",
       "    </tr>\n",
       "    <tr>\n",
       "      <th>xx_028_2</th>\n",
       "      <td>38432.0</td>\n",
       "      <td>0.023782</td>\n",
       "      <td>0.152372</td>\n",
       "      <td>0.0</td>\n",
       "      <td>0.0</td>\n",
       "      <td>0.000000</td>\n",
       "      <td>0.000000</td>\n",
       "      <td>1.0</td>\n",
       "    </tr>\n",
       "    <tr>\n",
       "      <th>xx_028_3</th>\n",
       "      <td>38432.0</td>\n",
       "      <td>0.002576</td>\n",
       "      <td>0.050689</td>\n",
       "      <td>0.0</td>\n",
       "      <td>0.0</td>\n",
       "      <td>0.000000</td>\n",
       "      <td>0.000000</td>\n",
       "      <td>1.0</td>\n",
       "    </tr>\n",
       "    <tr>\n",
       "      <th>xx_028_4</th>\n",
       "      <td>38432.0</td>\n",
       "      <td>0.000677</td>\n",
       "      <td>0.026002</td>\n",
       "      <td>0.0</td>\n",
       "      <td>0.0</td>\n",
       "      <td>0.000000</td>\n",
       "      <td>0.000000</td>\n",
       "      <td>1.0</td>\n",
       "    </tr>\n",
       "  </tbody>\n",
       "</table>\n",
       "</div>"
      ],
      "text/plain": [
       "            count      mean       std  min  25%       50%       75%   max\n",
       "xx_006    38432.0  0.448350  2.283522  0.0  0.0  0.000000  0.000000  40.0\n",
       "xx_005    38432.0  1.264051  2.185513 -2.0  0.0  0.000000  2.000000   6.0\n",
       "xx_016    38432.0  0.143841  0.275517  0.0  0.0  0.000000  0.000000   1.0\n",
       "xx_028    38432.0  0.011783  0.025496  0.0  0.0  0.013158  0.013158   1.0\n",
       "error     38432.0  0.049074  0.216025  0.0  0.0  0.000000  0.000000   1.0\n",
       "xx_016_0  38432.0  0.776566  0.416552  0.0  1.0  1.000000  1.000000   1.0\n",
       "xx_016_1  38432.0  0.031640  0.175043  0.0  0.0  0.000000  0.000000   1.0\n",
       "xx_016_2  38432.0  0.086048  0.280439  0.0  0.0  0.000000  0.000000   1.0\n",
       "xx_016_3  38432.0  0.105745  0.307515  0.0  0.0  0.000000  0.000000   1.0\n",
       "xx_028_0  38432.0  0.435627  0.495845  0.0  0.0  0.000000  1.000000   1.0\n",
       "xx_028_1  38432.0  0.537339  0.498610  0.0  0.0  1.000000  1.000000   1.0\n",
       "xx_028_2  38432.0  0.023782  0.152372  0.0  0.0  0.000000  0.000000   1.0\n",
       "xx_028_3  38432.0  0.002576  0.050689  0.0  0.0  0.000000  0.000000   1.0\n",
       "xx_028_4  38432.0  0.000677  0.026002  0.0  0.0  0.000000  0.000000   1.0"
      ]
     },
     "execution_count": 32,
     "metadata": {},
     "output_type": "execute_result"
    }
   ],
   "source": [
    "df_combo.describe().transpose()"
   ]
  },
  {
   "cell_type": "code",
   "execution_count": 33,
   "metadata": {},
   "outputs": [
    {
     "name": "stdout",
     "output_type": "stream",
     "text": [
      "<class 'pandas.core.frame.DataFrame'>\n",
      "Int64Index: 38432 entries, 0 to 39062\n",
      "Data columns (total 49 columns):\n",
      " #   Column    Non-Null Count  Dtype  \n",
      "---  ------    --------------  -----  \n",
      " 0   id_013    38432 non-null  object \n",
      " 1   id_014    38432 non-null  object \n",
      " 2   xx_006    38432 non-null  float64\n",
      " 3   cl_002    38432 non-null  object \n",
      " 4   cl_004    38432 non-null  object \n",
      " 5   flg_000   38432 non-null  object \n",
      " 6   flg_004   38432 non-null  object \n",
      " 7   ty_000    38432 non-null  object \n",
      " 8   cl_000    38432 non-null  object \n",
      " 9   xx_000    38432 non-null  object \n",
      " 10  id_001    38432 non-null  object \n",
      " 11  xx_001    38432 non-null  object \n",
      " 12  cl_001    38432 non-null  object \n",
      " 13  id_002    38432 non-null  object \n",
      " 14  id_003    38432 non-null  object \n",
      " 15  id_004    38432 non-null  object \n",
      " 16  id_005    38432 non-null  object \n",
      " 17  id_006    38432 non-null  object \n",
      " 18  id_007    38432 non-null  object \n",
      " 19  id_008    38432 non-null  object \n",
      " 20  xx_005    38432 non-null  int64  \n",
      " 21  ty_002    38432 non-null  object \n",
      " 22  ty_004    38432 non-null  object \n",
      " 23  cl_003    38432 non-null  object \n",
      " 24  id_018    38432 non-null  object \n",
      " 25  id_019    38432 non-null  object \n",
      " 26  xx_014    38432 non-null  object \n",
      " 27  cl_006    38432 non-null  object \n",
      " 28  cl_007    38432 non-null  object \n",
      " 29  cl_008    38432 non-null  object \n",
      " 30  id_024    38432 non-null  object \n",
      " 31  xx_016    38432 non-null  float64\n",
      " 32  id_026    38432 non-null  object \n",
      " 33  flg_001   38432 non-null  object \n",
      " 34  dt_001    38432 non-null  object \n",
      " 35  xx_027    38432 non-null  object \n",
      " 36  xx_028    38432 non-null  float64\n",
      " 37  xx_029    38432 non-null  object \n",
      " 38  ty_006    38432 non-null  object \n",
      " 39  error     38432 non-null  int64  \n",
      " 40  xx_016_0  38432 non-null  uint8  \n",
      " 41  xx_016_1  38432 non-null  uint8  \n",
      " 42  xx_016_2  38432 non-null  uint8  \n",
      " 43  xx_016_3  38432 non-null  uint8  \n",
      " 44  xx_028_0  38432 non-null  uint8  \n",
      " 45  xx_028_1  38432 non-null  uint8  \n",
      " 46  xx_028_2  38432 non-null  uint8  \n",
      " 47  xx_028_3  38432 non-null  uint8  \n",
      " 48  xx_028_4  38432 non-null  uint8  \n",
      "dtypes: float64(3), int64(2), object(35), uint8(9)\n",
      "memory usage: 12.4+ MB\n"
     ]
    }
   ],
   "source": [
    "df_combo.info()"
   ]
  },
  {
   "cell_type": "markdown",
   "metadata": {},
   "source": [
    "### xx_005 is an ordinal variable"
   ]
  },
  {
   "cell_type": "code",
   "execution_count": 33,
   "metadata": {},
   "outputs": [
    {
     "data": {
      "image/png": "[encoded data removed]",
      "text/plain": [
       "<Figure size 432x288 with 1 Axes>"
      ]
     },
     "metadata": {
      "needs_background": "light"
     },
     "output_type": "display_data"
    }
   ],
   "source": [
    "plt.hist(df['xx_005'],bins=range(-2,7))\n",
    "plt.show()"
   ]
  },
  {
   "cell_type": "code",
   "execution_count": 34,
   "metadata": {},
   "outputs": [],
   "source": [
    "from sklearn.preprocessing import MinMaxScaler\n",
    "mms = MinMaxScaler()\n",
    "mms.fit(df_combo['xx_005'].values.reshape(-1,1))\n",
    "df_combo['xx_005'] = mms.transform(df_combo['xx_005'].values.reshape(-1,1))"
   ]
  },
  {
   "cell_type": "markdown",
   "metadata": {},
   "source": [
    "## Create dummy features"
   ]
  },
  {
   "cell_type": "code",
   "execution_count": 35,
   "metadata": {},
   "outputs": [
    {
     "name": "stdout",
     "output_type": "stream",
     "text": [
      "Integer values:  xx_006  :::  26\n",
      "Integer values:  xx_005  :::  8\n",
      "Integer values:  xx_016  :::  991\n",
      "Integer values:  xx_028  :::  63\n",
      "Integer values:  error  :::  2\n",
      "Integer values:  xx_016_0  :::  2\n",
      "Integer values:  xx_016_1  :::  2\n",
      "Integer values:  xx_016_2  :::  2\n",
      "Integer values:  xx_016_3  :::  2\n",
      "Integer values:  xx_028_0  :::  2\n",
      "Integer values:  xx_028_1  :::  2\n",
      "Integer values:  xx_028_2  :::  2\n",
      "Integer values:  xx_028_3  :::  2\n",
      "Integer values:  xx_028_4  :::  2\n"
     ]
    }
   ],
   "source": [
    "df_dum = df_combo.copy()\n",
    "for var in df_dum.columns:\n",
    "    if (var == 'id_000')|(var == 'id_033')|(var == 'dt_001'):\n",
    "        continue\n",
    "    if (df_dum[var].dtype=='O'):\n",
    "        if ('1' in df_dum[var].unique())|('0.0' in df_dum[var].unique())|(('0' in df_dum[var].unique())):\n",
    "            print(var, ' has integers as strings')\n",
    "            continue\n",
    "        if isinstance(df[var].unique()[0],str):\n",
    "            if sum([1 if var not in value else 0 for value in df[var].unique()]) > 0:\n",
    "                df_temp = pd.get_dummies(df_combo[var],drop_first=True,prefix_sep='_',prefix=var)\n",
    "            else:\n",
    "                df_temp = pd.get_dummies(df_combo[var],drop_first=True)\n",
    "        else:\n",
    "            df_temp = pd.get_dummies(df_combo[var],drop_first=True)\n",
    "        df_dum = pd.concat([df_dum.drop(var,axis=1),df_temp],axis=1)\n",
    "        del df_temp\n",
    "    else:\n",
    "        print('Integer values: ',var,' ::: ',df_dum[var].nunique())\n"
   ]
  },
  {
   "cell_type": "markdown",
   "metadata": {},
   "source": [
    "## Add time and date features"
   ]
  },
  {
   "cell_type": "code",
   "execution_count": 36,
   "metadata": {},
   "outputs": [],
   "source": [
    "x = 'dt_001'\n",
    "df_dum[x] = pd.to_datetime(df_dum[x])\n",
    "df_dum.loc[:,x] = df_dum[x].apply(lambda y: y.replace(microsecond=0))"
   ]
  },
  {
   "cell_type": "code",
   "execution_count": 37,
   "metadata": {},
   "outputs": [],
   "source": [
    "df_time=pd.DataFrame(df_dum['dt_001'].copy(),columns=['dt_001'])\n",
    "df_time['month']=[x.month for x in df_dum['dt_001']]\n",
    "df_time['day']=[x.day for x in df_dum['dt_001']]\n",
    "df_time['hour']=[x.hour for x in df_dum['dt_001']]\n",
    "df_time['weekday']=[x.weekday() for x in df_dum['dt_001']]\n",
    "\n",
    "df_dum['morning'] = [0 if x >= 12 else 1 for x in df_time['hour']]\n",
    "df_dum['afternoon'] = [0 if (x < 12)|(x>18) else 1 for x in df_time['hour']]\n",
    "df_dum['evening'] = [0 if (x <= 18) else 1 for x in df_time['hour']]\n",
    "\n",
    "wdays = ['Monday','Tuesday','Wednesday','Thursday','Friday','Saturday','Sunday']\n",
    "for i in range(7):\n",
    "    df_dum[wdays[i]] = [1 if x == i else 0 for x in df_time['weekday']]\n",
    "df_dum.drop('dt_001',axis=1,inplace=True)"
   ]
  },
  {
   "cell_type": "markdown",
   "metadata": {},
   "source": [
    "We will now take out the sparsest category per feature to further reduce the data set."
   ]
  },
  {
   "cell_type": "code",
   "execution_count": 39,
   "metadata": {},
   "outputs": [
    {
     "data": {
      "text/plain": [
       "morning      15260\n",
       "afternoon    18924\n",
       "evening       4248\n",
       "dtype: int64"
      ]
     },
     "execution_count": 39,
     "metadata": {},
     "output_type": "execute_result"
    }
   ],
   "source": [
    "np.sum(df_dum.loc[:,['morning','afternoon','evening']],axis=0)"
   ]
  },
  {
   "cell_type": "code",
   "execution_count": 38,
   "metadata": {},
   "outputs": [],
   "source": [
    "df_dum.drop(['evening','Sunday'],axis=1,inplace=True)"
   ]
  },
  {
   "cell_type": "markdown",
   "metadata": {},
   "source": [
    "It appears that the clustering is not adding more value to the data set, nor the PCA decomposition. For now they will not be included to the data set."
   ]
  },
  {
   "cell_type": "markdown",
   "metadata": {},
   "source": [
    "## Split test and training data set"
   ]
  },
  {
   "cell_type": "code",
   "execution_count": 40,
   "metadata": {},
   "outputs": [
    {
     "name": "stdout",
     "output_type": "stream",
     "text": [
      "Errors make up only 4.91% of the data set.\n"
     ]
    }
   ],
   "source": [
    "print('Errors make up only {:.2f}% of the data set.'.format(df_dum['error'].sum()/df_dum['error'].count()*100))"
   ]
  },
  {
   "cell_type": "markdown",
   "metadata": {},
   "source": [
    "Therefore, the test and training set are split such that each has 4.83 % errors."
   ]
  },
  {
   "cell_type": "code",
   "execution_count": 41,
   "metadata": {},
   "outputs": [
    {
     "name": "stdout",
     "output_type": "stream",
     "text": [
      "Training data:  30745  Testing data:  7687\n"
     ]
    }
   ],
   "source": [
    "import scipy as sp\n",
    "from sklearn.model_selection import train_test_split\n",
    "y = df_dum['error'].values\n",
    "X = sp.sparse.csr_matrix(df_dum.drop('error',axis=1))\n",
    "X_train, X_test, y_train, y_test = train_test_split(X, y, test_size = 0.2, random_state=42,stratify=y)\n",
    "print('Training data: ',len(y_train),' Testing data: ',len(y_test))"
   ]
  },
  {
   "cell_type": "code",
   "execution_count": 43,
   "metadata": {},
   "outputs": [
    {
     "name": "stdout",
     "output_type": "stream",
     "text": [
      "In the train set errors make up 4.91% of the data.\n",
      "In the test set errors make up 4.90% of the data.\n"
     ]
    }
   ],
   "source": [
    "print('In the train set errors make up {:.2f}% of the data.'.format(y_train.sum()/len(y_train)*100))\n",
    "print('In the test set errors make up {:.2f}% of the data.'.format(y_test.sum()/len(y_test)*100))"
   ]
  },
  {
   "cell_type": "markdown",
   "metadata": {},
   "source": [
    "## Save data sets"
   ]
  },
  {
   "cell_type": "code",
   "execution_count": 42,
   "metadata": {},
   "outputs": [],
   "source": [
    "con = sqlite3.connect('../data/model_data_extra_base2.db')\n",
    "pd.DataFrame(y_train,columns=['error']).to_sql(name='y_train', con=con, if_exists='replace')\n",
    "pd.DataFrame(y_test,columns=['error']).to_sql(name='y_test', con=con, if_exists='replace')\n",
    "con.close()"
   ]
  },
  {
   "cell_type": "code",
   "execution_count": 43,
   "metadata": {},
   "outputs": [],
   "source": [
    "from scipy.sparse import csr_matrix, save_npz, load_npz\n",
    "\n",
    "save_npz('../data/data_extra_base_Xtrain2.npz',X_train)\n",
    "save_npz('../data/data_extra_base_Xtest2.npz',X_test)"
   ]
  },
  {
   "cell_type": "code",
   "execution_count": 44,
   "metadata": {},
   "outputs": [],
   "source": [
    "np.save('../data/data_extra_base_columns2',df_dum.columns)"
   ]
  },
  {
   "cell_type": "code",
   "execution_count": null,
   "metadata": {},
   "outputs": [],
   "source": []
  }
 ],
 "metadata": {
  "kernelspec": {
   "display_name": "Python 3",
   "language": "python",
   "name": "python3"
  },
  "language_info": {
   "codemirror_mode": {
    "name": "ipython",
    "version": 3
   },
   "file_extension": ".py",
   "mimetype": "text/x-python",
   "name": "python",
   "nbconvert_exporter": "python",
   "pygments_lexer": "ipython3",
   "version": "3.6.9"
  }
 },
 "nbformat": 4,
 "nbformat_minor": 4
}
