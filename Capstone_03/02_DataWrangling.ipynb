{
 "cells": [
  {
   "cell_type": "markdown",
   "metadata": {},
   "source": [
    "# Step 2: Data Wrangling\n",
    "In this notebook, the data from all 3 tables are read in and an initial cleaning process is done to fill empty values, discard of unnecessary features and choosing relevant identifiers and features. Ultimately, only the material flow and error message tables are used and merged to a new table."
   ]
  },
  {
   "cell_type": "code",
   "execution_count": 2,
   "metadata": {},
   "outputs": [],
   "source": [
    "import pandas as pd\n",
    "import numpy as np\n",
    "import matplotlib.pyplot as plt\n",
    "import seaborn as sns\n",
    "import sqlite3\n",
    "import math\n",
    "%matplotlib inline"
   ]
  },
  {
   "cell_type": "markdown",
   "metadata": {},
   "source": [
    "## Load data from SQL file"
   ]
  },
  {
   "cell_type": "markdown",
   "metadata": {},
   "source": [
    "### Inspect database"
   ]
  },
  {
   "cell_type": "code",
   "execution_count": 1,
   "metadata": {},
   "outputs": [
    {
     "ename": "NameError",
     "evalue": "name 'sqlite3' is not defined",
     "output_type": "error",
     "traceback": [
      "\u001b[0;31m---------------------------------------------------------------------------\u001b[0m",
      "\u001b[0;31mNameError\u001b[0m                                 Traceback (most recent call last)",
      "\u001b[0;32m<ipython-input-1-10801954b852>\u001b[0m in \u001b[0;36m<module>\u001b[0;34m\u001b[0m\n\u001b[0;32m----> 1\u001b[0;31m \u001b[0mcon\u001b[0m \u001b[0;34m=\u001b[0m \u001b[0msqlite3\u001b[0m\u001b[0;34m.\u001b[0m\u001b[0mconnect\u001b[0m\u001b[0;34m(\u001b[0m\u001b[0;34m'../data/data2.db'\u001b[0m\u001b[0;34m)\u001b[0m\u001b[0;34m\u001b[0m\u001b[0;34m\u001b[0m\u001b[0m\n\u001b[0m\u001b[1;32m      2\u001b[0m \u001b[0mcursor\u001b[0m \u001b[0;34m=\u001b[0m \u001b[0mcon\u001b[0m\u001b[0;34m.\u001b[0m\u001b[0mcursor\u001b[0m\u001b[0;34m(\u001b[0m\u001b[0;34m)\u001b[0m\u001b[0;34m\u001b[0m\u001b[0;34m\u001b[0m\u001b[0m\n\u001b[1;32m      3\u001b[0m \u001b[0mcursor\u001b[0m\u001b[0;34m.\u001b[0m\u001b[0mexecute\u001b[0m\u001b[0;34m(\u001b[0m\u001b[0;34m\"SELECT name FROM sqlite_master WHERE type='table';\"\u001b[0m\u001b[0;34m)\u001b[0m\u001b[0;34m\u001b[0m\u001b[0;34m\u001b[0m\u001b[0m\n\u001b[1;32m      4\u001b[0m \u001b[0mprint\u001b[0m\u001b[0;34m(\u001b[0m\u001b[0mcursor\u001b[0m\u001b[0;34m.\u001b[0m\u001b[0mfetchall\u001b[0m\u001b[0;34m(\u001b[0m\u001b[0;34m)\u001b[0m\u001b[0;34m)\u001b[0m\u001b[0;34m\u001b[0m\u001b[0;34m\u001b[0m\u001b[0m\n",
      "\u001b[0;31mNameError\u001b[0m: name 'sqlite3' is not defined"
     ]
    }
   ],
   "source": [
    "con = sqlite3.connect('../data/data2.db')\n",
    "cursor = con.cursor()\n",
    "cursor.execute(\"SELECT name FROM sqlite_master WHERE type='table';\")\n",
    "print(cursor.fetchall())"
   ]
  },
  {
   "cell_type": "markdown",
   "metadata": {},
   "source": [
    "### Function(s) needed for analysis"
   ]
  },
  {
   "cell_type": "code",
   "execution_count": 3,
   "metadata": {},
   "outputs": [],
   "source": [
    "def empty_features(df,threshold=0.9):\n",
    "    # defines string containing feature names for features that are 90% or more empty (or zero) \n",
    "    # or contain only one value (without being empty)\n",
    "    # df: data frame that is searched for empty features\n",
    "    # threshold: defines the threshold for the 'almost empty' classification, e.g. 0.8 means 80% or more of the data\n",
    "    #      is empty. Note that the threshold for 'zero-empty' is always 90% to avoid misinterpretation with other data\n",
    "    # returns an array containing all feature/column names that are classified as empty\n",
    "    str_empty = []\n",
    "    for var in df.columns:\n",
    "        if (sum(df[var].isna()) >=  (threshold*df.shape[0])) | (sum(df[var]==0) >=  (0.9*df.shape[0])) | (df[var].nunique(dropna=False)==1):\n",
    "            str_empty.append(var)  \n",
    "        elif '999' in df[var]:\n",
    "            if (sum(df[var].isna())+sum(df[var]== '999') >=  (threshold*df.shape[0])):\n",
    "                str_empty.append(var)  \n",
    "        #elif ('id' in var) & (sum(df[var].isna())+sum(df[var]== 0) >=  (threshold*df.shape[0])):\n",
    "         #       str_empty.append(var)  \n",
    "    return str_empty;"
   ]
  },
  {
   "cell_type": "markdown",
   "metadata": {},
   "source": [
    "## Load MF (material flow) data"
   ]
  },
  {
   "cell_type": "code",
   "execution_count": 3,
   "metadata": {},
   "outputs": [
    {
     "data": {
      "text/html": [
       "<div>\n",
       "<style scoped>\n",
       "    .dataframe tbody tr th:only-of-type {\n",
       "        vertical-align: middle;\n",
       "    }\n",
       "\n",
       "    .dataframe tbody tr th {\n",
       "        vertical-align: top;\n",
       "    }\n",
       "\n",
       "    .dataframe thead th {\n",
       "        text-align: right;\n",
       "    }\n",
       "</style>\n",
       "<table border=\"1\" class=\"dataframe\">\n",
       "  <thead>\n",
       "    <tr style=\"text-align: right;\">\n",
       "      <th></th>\n",
       "      <th>id_000</th>\n",
       "      <th>ty_000</th>\n",
       "      <th>cl_000</th>\n",
       "      <th>xx_000</th>\n",
       "      <th>id_001</th>\n",
       "      <th>xx_001</th>\n",
       "      <th>cl_001</th>\n",
       "      <th>id_002</th>\n",
       "      <th>id_003</th>\n",
       "      <th>id_004</th>\n",
       "      <th>...</th>\n",
       "      <th>xx_024</th>\n",
       "      <th>xx_025</th>\n",
       "      <th>xx_026</th>\n",
       "      <th>flg_004</th>\n",
       "      <th>dt_001</th>\n",
       "      <th>xx_027</th>\n",
       "      <th>xx_028</th>\n",
       "      <th>xx_029</th>\n",
       "      <th>ty_006</th>\n",
       "      <th>id_033</th>\n",
       "    </tr>\n",
       "    <tr>\n",
       "      <th>index</th>\n",
       "      <th></th>\n",
       "      <th></th>\n",
       "      <th></th>\n",
       "      <th></th>\n",
       "      <th></th>\n",
       "      <th></th>\n",
       "      <th></th>\n",
       "      <th></th>\n",
       "      <th></th>\n",
       "      <th></th>\n",
       "      <th></th>\n",
       "      <th></th>\n",
       "      <th></th>\n",
       "      <th></th>\n",
       "      <th></th>\n",
       "      <th></th>\n",
       "      <th></th>\n",
       "      <th></th>\n",
       "      <th></th>\n",
       "      <th></th>\n",
       "      <th></th>\n",
       "    </tr>\n",
       "  </thead>\n",
       "  <tbody>\n",
       "    <tr>\n",
       "      <th>0</th>\n",
       "      <td>372892</td>\n",
       "      <td>ty_000_007</td>\n",
       "      <td>cl_000_001</td>\n",
       "      <td>5</td>\n",
       "      <td>None</td>\n",
       "      <td>xx_001_000</td>\n",
       "      <td>cl_001_001</td>\n",
       "      <td>1.0</td>\n",
       "      <td>None</td>\n",
       "      <td>None</td>\n",
       "      <td>...</td>\n",
       "      <td>0</td>\n",
       "      <td>0</td>\n",
       "      <td>64</td>\n",
       "      <td>0</td>\n",
       "      <td>2020-04-09 06:01:09</td>\n",
       "      <td>xx_027_002</td>\n",
       "      <td>0</td>\n",
       "      <td>xx_029_000</td>\n",
       "      <td>ty_006_000</td>\n",
       "      <td>1041973</td>\n",
       "    </tr>\n",
       "    <tr>\n",
       "      <th>1</th>\n",
       "      <td>372893</td>\n",
       "      <td>ty_000_010</td>\n",
       "      <td>cl_000_000</td>\n",
       "      <td>5</td>\n",
       "      <td>None</td>\n",
       "      <td>xx_001_000</td>\n",
       "      <td>cl_001_000</td>\n",
       "      <td>1.0</td>\n",
       "      <td>None</td>\n",
       "      <td>None</td>\n",
       "      <td>...</td>\n",
       "      <td>0</td>\n",
       "      <td>0</td>\n",
       "      <td>41</td>\n",
       "      <td>0</td>\n",
       "      <td>2020-04-09 06:01:39</td>\n",
       "      <td>xx_027_001</td>\n",
       "      <td>0</td>\n",
       "      <td>xx_029_000</td>\n",
       "      <td>ty_006_000</td>\n",
       "      <td>1041974</td>\n",
       "    </tr>\n",
       "    <tr>\n",
       "      <th>2</th>\n",
       "      <td>372894</td>\n",
       "      <td>ty_000_010</td>\n",
       "      <td>cl_000_000</td>\n",
       "      <td>5</td>\n",
       "      <td>None</td>\n",
       "      <td>xx_001_000</td>\n",
       "      <td>cl_001_000</td>\n",
       "      <td>2.0</td>\n",
       "      <td>None</td>\n",
       "      <td>None</td>\n",
       "      <td>...</td>\n",
       "      <td>0</td>\n",
       "      <td>0</td>\n",
       "      <td>44</td>\n",
       "      <td>0</td>\n",
       "      <td>2020-04-09 06:01:39</td>\n",
       "      <td>xx_027_001</td>\n",
       "      <td>0</td>\n",
       "      <td>xx_029_000</td>\n",
       "      <td>ty_006_000</td>\n",
       "      <td>1041975</td>\n",
       "    </tr>\n",
       "    <tr>\n",
       "      <th>3</th>\n",
       "      <td>372893</td>\n",
       "      <td>ty_000_010</td>\n",
       "      <td>cl_000_000</td>\n",
       "      <td>20</td>\n",
       "      <td>None</td>\n",
       "      <td>xx_001_000</td>\n",
       "      <td>cl_001_000</td>\n",
       "      <td>1.0</td>\n",
       "      <td>None</td>\n",
       "      <td>None</td>\n",
       "      <td>...</td>\n",
       "      <td>0</td>\n",
       "      <td>0</td>\n",
       "      <td>50</td>\n",
       "      <td>0</td>\n",
       "      <td>2020-04-09 06:01:39</td>\n",
       "      <td>xx_027_001</td>\n",
       "      <td>2</td>\n",
       "      <td>xx_029_001</td>\n",
       "      <td>ty_006_001</td>\n",
       "      <td>1041976</td>\n",
       "    </tr>\n",
       "    <tr>\n",
       "      <th>4</th>\n",
       "      <td>372894</td>\n",
       "      <td>ty_000_010</td>\n",
       "      <td>cl_000_000</td>\n",
       "      <td>20</td>\n",
       "      <td>None</td>\n",
       "      <td>xx_001_000</td>\n",
       "      <td>cl_001_000</td>\n",
       "      <td>2.0</td>\n",
       "      <td>None</td>\n",
       "      <td>None</td>\n",
       "      <td>...</td>\n",
       "      <td>0</td>\n",
       "      <td>0</td>\n",
       "      <td>53</td>\n",
       "      <td>0</td>\n",
       "      <td>2020-04-09 06:01:39</td>\n",
       "      <td>xx_027_001</td>\n",
       "      <td>2</td>\n",
       "      <td>xx_029_001</td>\n",
       "      <td>ty_006_001</td>\n",
       "      <td>1041977</td>\n",
       "    </tr>\n",
       "  </tbody>\n",
       "</table>\n",
       "<p>5 rows × 87 columns</p>\n",
       "</div>"
      ],
      "text/plain": [
       "       id_000      ty_000      cl_000  xx_000 id_001      xx_001      cl_001  \\\n",
       "index                                                                          \n",
       "0      372892  ty_000_007  cl_000_001       5   None  xx_001_000  cl_001_001   \n",
       "1      372893  ty_000_010  cl_000_000       5   None  xx_001_000  cl_001_000   \n",
       "2      372894  ty_000_010  cl_000_000       5   None  xx_001_000  cl_001_000   \n",
       "3      372893  ty_000_010  cl_000_000      20   None  xx_001_000  cl_001_000   \n",
       "4      372894  ty_000_010  cl_000_000      20   None  xx_001_000  cl_001_000   \n",
       "\n",
       "       id_002 id_003 id_004  ... xx_024 xx_025 xx_026 flg_004  \\\n",
       "index                        ...                                \n",
       "0         1.0   None   None  ...      0      0     64       0   \n",
       "1         1.0   None   None  ...      0      0     41       0   \n",
       "2         2.0   None   None  ...      0      0     44       0   \n",
       "3         1.0   None   None  ...      0      0     50       0   \n",
       "4         2.0   None   None  ...      0      0     53       0   \n",
       "\n",
       "                    dt_001      xx_027 xx_028      xx_029      ty_006   id_033  \n",
       "index                                                                           \n",
       "0      2020-04-09 06:01:09  xx_027_002      0  xx_029_000  ty_006_000  1041973  \n",
       "1      2020-04-09 06:01:39  xx_027_001      0  xx_029_000  ty_006_000  1041974  \n",
       "2      2020-04-09 06:01:39  xx_027_001      0  xx_029_000  ty_006_000  1041975  \n",
       "3      2020-04-09 06:01:39  xx_027_001      2  xx_029_001  ty_006_001  1041976  \n",
       "4      2020-04-09 06:01:39  xx_027_001      2  xx_029_001  ty_006_001  1041977  \n",
       "\n",
       "[5 rows x 87 columns]"
      ]
     },
     "execution_count": 3,
     "metadata": {},
     "output_type": "execute_result"
    }
   ],
   "source": [
    "df_mf = pd.read_sql('SELECT * FROM data','sqlite:///../data/data2.db',index_col='index')\n",
    "df_mf.head()"
   ]
  },
  {
   "cell_type": "code",
   "execution_count": 4,
   "metadata": {},
   "outputs": [
    {
     "name": "stdout",
     "output_type": "stream",
     "text": [
      "<class 'pandas.core.frame.DataFrame'>\n",
      "Int64Index: 38432 entries, 0 to 38431\n",
      "Data columns (total 87 columns):\n",
      " #   Column   Non-Null Count  Dtype  \n",
      "---  ------   --------------  -----  \n",
      " 0   id_000   38432 non-null  int64  \n",
      " 1   ty_000   38432 non-null  object \n",
      " 2   cl_000   38432 non-null  object \n",
      " 3   xx_000   38432 non-null  int64  \n",
      " 4   id_001   36728 non-null  object \n",
      " 5   xx_001   27443 non-null  object \n",
      " 6   cl_001   26249 non-null  object \n",
      " 7   id_002   26210 non-null  float64\n",
      " 8   id_003   34015 non-null  object \n",
      " 9   id_004   34015 non-null  object \n",
      " 10  id_005   22620 non-null  object \n",
      " 11  id_006   22620 non-null  object \n",
      " 12  id_007   20080 non-null  object \n",
      " 13  id_008   13437 non-null  object \n",
      " 14  id_009   132 non-null    object \n",
      " 15  id_010   132 non-null    object \n",
      " 16  id_011   2389 non-null   object \n",
      " 17  id_012   2389 non-null   object \n",
      " 18  xx_002   38432 non-null  int64  \n",
      " 19  xx_003   38432 non-null  int64  \n",
      " 20  ty_001   38432 non-null  int64  \n",
      " 21  xx_004   2619 non-null   object \n",
      " 22  xx_005   38432 non-null  int64  \n",
      " 23  id_013   0 non-null      object \n",
      " 24  ty_002   7571 non-null   object \n",
      " 25  id_014   3798 non-null   float64\n",
      " 26  xx_006   3798 non-null   float64\n",
      " 27  id_015   0 non-null      object \n",
      " 28  xx_007   0 non-null      object \n",
      " 29  id_016   1120 non-null   float64\n",
      " 30  xx_008   0 non-null      object \n",
      " 31  ty_003   0 non-null      object \n",
      " 32  id_017   0 non-null      object \n",
      " 33  ty_004   8737 non-null   object \n",
      " 34  ty_005   1120 non-null   object \n",
      " 35  cl_002   38432 non-null  object \n",
      " 36  cl_003   5311 non-null   object \n",
      " 37  cl_004   0 non-null      object \n",
      " 38  id_018   4188 non-null   object \n",
      " 39  id_019   7647 non-null   object \n",
      " 40  id_020   0 non-null      object \n",
      " 41  cl_005   5078 non-null   object \n",
      " 42  xx_009   38432 non-null  int64  \n",
      " 43  xx_010   38432 non-null  int64  \n",
      " 44  xx_011   38432 non-null  int64  \n",
      " 45  xx_012   38432 non-null  int64  \n",
      " 46  xx_013   38432 non-null  int64  \n",
      " 47  dt_000   0 non-null      object \n",
      " 48  xx_014   11750 non-null  object \n",
      " 49  id_021   38432 non-null  int64  \n",
      " 50  xx_015   2 non-null      object \n",
      " 51  id_022   38432 non-null  int64  \n",
      " 52  id_023   38432 non-null  int64  \n",
      " 53  cl_006   17061 non-null  object \n",
      " 54  cl_007   16621 non-null  object \n",
      " 55  cl_008   16621 non-null  object \n",
      " 56  id_024   16621 non-null  object \n",
      " 57  xx_016   38432 non-null  int64  \n",
      " 58  xx_017   38432 non-null  int64  \n",
      " 59  xx_018   38432 non-null  int64  \n",
      " 60  id_025   38432 non-null  int64  \n",
      " 61  xx_019   12 non-null     object \n",
      " 62  xx_020   0 non-null      object \n",
      " 63  xx_021   1895 non-null   object \n",
      " 64  id_026   6988 non-null   float64\n",
      " 65  id_027   2978 non-null   object \n",
      " 66  flg_000  38432 non-null  int64  \n",
      " 67  flg_001  38432 non-null  int64  \n",
      " 68  id_028   3798 non-null   object \n",
      " 69  id_029   3794 non-null   object \n",
      " 70  xx_022   12 non-null     object \n",
      " 71  id_030   8 non-null      object \n",
      " 72  flg_002  38432 non-null  int64  \n",
      " 73  flg_003  38432 non-null  int64  \n",
      " 74  id_031   38432 non-null  int64  \n",
      " 75  id_032   0 non-null      object \n",
      " 76  xx_023   38432 non-null  int64  \n",
      " 77  xx_024   38432 non-null  int64  \n",
      " 78  xx_025   38432 non-null  int64  \n",
      " 79  xx_026   38432 non-null  int64  \n",
      " 80  flg_004  38432 non-null  int64  \n",
      " 81  dt_001   38432 non-null  object \n",
      " 82  xx_027   38432 non-null  object \n",
      " 83  xx_028   38432 non-null  int64  \n",
      " 84  xx_029   38432 non-null  object \n",
      " 85  ty_006   38432 non-null  object \n",
      " 86  id_033   38432 non-null  int64  \n",
      "dtypes: float64(5), int64(30), object(52)\n",
      "memory usage: 25.8+ MB\n"
     ]
    }
   ],
   "source": [
    "df_mf.info(verbose=True, null_counts=True)"
   ]
  },
  {
   "cell_type": "markdown",
   "metadata": {},
   "source": [
    "Identify the distribution of filled and not filled features"
   ]
  },
  {
   "cell_type": "code",
   "execution_count": 5,
   "metadata": {},
   "outputs": [],
   "source": [
    "thres = [0.9, 0.75, 0.5, 0.25,0.01]\n",
    "num_feat = np.zeros(6)\n",
    "k = 0\n",
    "for t in thres:\n",
    "    num_feat[k] = len(empty_features(df_mf,threshold=t))\n",
    "    k += 1\n",
    "\n",
    "num_feat[1:-1] = num_feat[1:-1]-num_feat[0:-2]\n",
    "num_feat[-1] = df_mf.shape[1]-sum(num_feat)"
   ]
  },
  {
   "cell_type": "code",
   "execution_count": 6,
   "metadata": {},
   "outputs": [
    {
     "name": "stdout",
     "output_type": "stream",
     "text": [
      "Distribution of filled data:\n",
      " >90% empty :: 51.0 (58.6%)\n",
      " 75-90% empty :: 7.0 (8.0%)\n",
      " 50-75% empty :: 6.0 (6.9%)\n",
      " 25-50% empty :: 6.0 (6.9%)\n",
      " 0.1-25% empty :: 3.0 (3.4%)\n",
      " full :: 14.0 (16.1%)\n"
     ]
    }
   ],
   "source": [
    "print('Distribution of filled data:')\n",
    "ranges = ['>90% empty','75-90% empty','50-75% empty','25-50% empty','0.1-25% empty','full']\n",
    "num_feat_per = num_feat/df_mf.shape[1]*100\n",
    "for i in range(len(num_feat)):\n",
    "    print(' {} :: {} ({}%)'.format(ranges[i],num_feat[i],np.round(num_feat_per[i],1)))\n",
    "\n"
   ]
  },
  {
   "cell_type": "code",
   "execution_count": 7,
   "metadata": {},
   "outputs": [
    {
     "name": "stdout",
     "output_type": "stream",
     "text": [
      "Date range:\n",
      "2020-04-09 06:01:09 2020-04-27 14:55:09\n"
     ]
    }
   ],
   "source": [
    "print('Date range:')\n",
    "print(df_mf.dt_001[0],df_mf.dt_001.iloc[-1])"
   ]
  },
  {
   "cell_type": "markdown",
   "metadata": {},
   "source": [
    "### Perform some basic data cleaning"
   ]
  },
  {
   "cell_type": "code",
   "execution_count": 8,
   "metadata": {},
   "outputs": [
    {
     "name": "stderr",
     "output_type": "stream",
     "text": [
      "/home/lhw/DSproject/lib/python3.6/site-packages/ipykernel_launcher.py:2: FutureWarning: elementwise comparison failed; returning scalar instead, but in the future will perform elementwise comparison\n",
      "  \n"
     ]
    },
    {
     "name": "stdout",
     "output_type": "stream",
     "text": [
      "cl_005 999\n",
      "id_021\n",
      "id_022\n",
      "id_023\n",
      "id_025\n",
      "id_031\n"
     ]
    }
   ],
   "source": [
    "for var in df_mf.columns:\n",
    "    if '999' in df_mf[var].unique():\n",
    "        df_mf.loc[df_mf[var]=='999',var] = np.NaN\n",
    "        print(var,'999')\n",
    "    elif ('id' in var) & (0 in df_mf[var].unique()):\n",
    "        df_mf.loc[df_mf[var]==0,var] = np.NaN\n",
    "        print(var)"
   ]
  },
  {
   "cell_type": "code",
   "execution_count": 9,
   "metadata": {
    "scrolled": true
   },
   "outputs": [
    {
     "name": "stdout",
     "output_type": "stream",
     "text": [
      "['cl_002' 'cl_004' 'cl_005' 'dt_000' 'flg_000' 'flg_002' 'flg_003'\n",
      " 'flg_004' 'id_009' 'id_010' 'id_011' 'id_012' 'id_013' 'id_014' 'id_015'\n",
      " 'id_016' 'id_017' 'id_020' 'id_021' 'id_022' 'id_023' 'id_025' 'id_027'\n",
      " 'id_028' 'id_029' 'id_030' 'id_031' 'id_032' 'ty_001' 'ty_003' 'ty_005'\n",
      " 'xx_002' 'xx_003' 'xx_004' 'xx_006' 'xx_007' 'xx_008' 'xx_009' 'xx_010'\n",
      " 'xx_011' 'xx_012' 'xx_013' 'xx_015' 'xx_017' 'xx_018' 'xx_019' 'xx_020'\n",
      " 'xx_021' 'xx_022' 'xx_023' 'xx_024' 'xx_025']\n",
      "52\n"
     ]
    }
   ],
   "source": [
    "str_empty = empty_features(df_mf)\n",
    "print(np.sort(str_empty))\n",
    "print(len(str_empty))"
   ]
  },
  {
   "cell_type": "markdown",
   "metadata": {},
   "source": [
    "Of the above we already know that all **id** and the **flg** features are actually objects. Let's take an even closer look:"
   ]
  },
  {
   "cell_type": "code",
   "execution_count": 10,
   "metadata": {},
   "outputs": [
    {
     "name": "stdout",
     "output_type": "stream",
     "text": [
      "xx_000  :::  [ 5 20 60 99 10 40]\n",
      "id_002  :::  [ 1.  2. nan]\n",
      "xx_005  :::  [ 0  5  1 -2 -1  3  6  2]\n",
      "cl_003  :::  ['2' '3' '1' '6' '4' '5']\n",
      "xx_014  :::  ['00']\n",
      "cl_006  :::  ['1' '0']\n",
      "cl_007  :::  ['2' '3' '1' '0']\n",
      "cl_008  :::  ['1' '0']\n",
      "id_024  :::  ['1' '0']\n",
      "flg_001  :::  [0 1]\n"
     ]
    }
   ],
   "source": [
    "df_clean = df_mf.drop(str_empty,axis=1)\n",
    "for var in df_clean.columns:\n",
    "    uni = df_clean[var].unique()\n",
    "    if None == df_clean[var].unique()[0]:\n",
    "        uni = uni[1:]\n",
    "    if (len(uni)>20):\n",
    "        continue\n",
    "    if isinstance(uni[0],str)== False:\n",
    "        print(var,' ::: ',uni)\n",
    "    elif ('_' not in uni[0]):\n",
    "        print(var,' ::: ',uni)"
   ]
  },
  {
   "cell_type": "markdown",
   "metadata": {},
   "source": [
    "To keep the logic of the labeling within the data set, we will rename categories that are clearly classes, flags or identifiers."
   ]
  },
  {
   "cell_type": "code",
   "execution_count": 11,
   "metadata": {},
   "outputs": [],
   "source": [
    "for var in ['xx_000','xx_014','id_002','id_024','cl_003','cl_006','cl_007','cl_008','flg_001']:\n",
    "    uni = df_clean[var].unique()\n",
    "    for v in uni:\n",
    "        if v == None:\n",
    "            continue\n",
    "        elif (isinstance(v,str)):\n",
    "            df_clean.loc[df_clean[var]==v,var] = '{}_{:01d}'.format(var,int(v))\n",
    "        elif  (isinstance(v,int)) | (v.dtype=='int64'):\n",
    "            df_clean.loc[df_clean[var]==v,var] = '{}_{:01d}'.format(var,v)\n",
    "        "
   ]
  },
  {
   "cell_type": "code",
   "execution_count": 12,
   "metadata": {},
   "outputs": [],
   "source": [
    "for var in ['xx_000','xx_014','id_000','id_002','id_024','id_026','id_033','cl_003','cl_006','cl_007','cl_008','flg_001']:\n",
    "    df_clean.loc[:,var] = df_clean[var].astype(object)"
   ]
  },
  {
   "cell_type": "code",
   "execution_count": 13,
   "metadata": {},
   "outputs": [
    {
     "name": "stdout",
     "output_type": "stream",
     "text": [
      "<class 'pandas.core.frame.DataFrame'>\n",
      "Int64Index: 38432 entries, 0 to 38431\n",
      "Data columns (total 35 columns):\n",
      " #   Column   Non-Null Count  Dtype \n",
      "---  ------   --------------  ----- \n",
      " 0   id_000   38432 non-null  object\n",
      " 1   ty_000   38432 non-null  object\n",
      " 2   cl_000   38432 non-null  object\n",
      " 3   xx_000   38432 non-null  object\n",
      " 4   id_001   36728 non-null  object\n",
      " 5   xx_001   27443 non-null  object\n",
      " 6   cl_001   26249 non-null  object\n",
      " 7   id_002   26210 non-null  object\n",
      " 8   id_003   34015 non-null  object\n",
      " 9   id_004   34015 non-null  object\n",
      " 10  id_005   22620 non-null  object\n",
      " 11  id_006   22620 non-null  object\n",
      " 12  id_007   20080 non-null  object\n",
      " 13  id_008   13437 non-null  object\n",
      " 14  xx_005   38432 non-null  int64 \n",
      " 15  ty_002   7571 non-null   object\n",
      " 16  ty_004   8737 non-null   object\n",
      " 17  cl_003   5311 non-null   object\n",
      " 18  id_018   4188 non-null   object\n",
      " 19  id_019   7647 non-null   object\n",
      " 20  xx_014   11750 non-null  object\n",
      " 21  cl_006   17061 non-null  object\n",
      " 22  cl_007   16621 non-null  object\n",
      " 23  cl_008   16621 non-null  object\n",
      " 24  id_024   16621 non-null  object\n",
      " 25  xx_016   38432 non-null  int64 \n",
      " 26  id_026   6988 non-null   object\n",
      " 27  flg_001  38432 non-null  object\n",
      " 28  xx_026   38432 non-null  int64 \n",
      " 29  dt_001   38432 non-null  object\n",
      " 30  xx_027   38432 non-null  object\n",
      " 31  xx_028   38432 non-null  int64 \n",
      " 32  xx_029   38432 non-null  object\n",
      " 33  ty_006   38432 non-null  object\n",
      " 34  id_033   38432 non-null  object\n",
      "dtypes: int64(4), object(31)\n",
      "memory usage: 11.8+ MB\n"
     ]
    }
   ],
   "source": [
    "df_clean.info(verbose=True, null_counts=True)"
   ]
  },
  {
   "cell_type": "markdown",
   "metadata": {},
   "source": [
    "### Fill missing categorical values\n",
    "Since the few remaining undefined features have no missing values, we can simply fill all missing values with *unknown*."
   ]
  },
  {
   "cell_type": "code",
   "execution_count": 14,
   "metadata": {},
   "outputs": [],
   "source": [
    "for var in df_clean.columns:\n",
    "    df_clean[var].fillna(var+'_unknown',inplace=True)"
   ]
  },
  {
   "cell_type": "code",
   "execution_count": 15,
   "metadata": {},
   "outputs": [],
   "source": [
    "df_clean = df_clean.drop_duplicates()"
   ]
  },
  {
   "cell_type": "markdown",
   "metadata": {},
   "source": [
    "### Store a base table without empty or duplicate features\n",
    "This table is cleaned from empty and less than 10% filles variables, where id's with value 0 or features with value '999' have been identified as nan, subcategories have been renamed, and empty values are replaced with '\\_unknown' (only categorical values had missing values). Duplicates are dropped. "
   ]
  },
  {
   "cell_type": "code",
   "execution_count": 16,
   "metadata": {},
   "outputs": [],
   "source": [
    "con = sqlite3.connect('../data/data2.db')\n",
    "df_clean.to_sql(name='data_base',con=con,if_exists='replace')\n",
    "con.close()"
   ]
  },
  {
   "cell_type": "markdown",
   "metadata": {},
   "source": [
    "### Inspect error table"
   ]
  },
  {
   "cell_type": "code",
   "execution_count": 4,
   "metadata": {},
   "outputs": [
    {
     "data": {
      "text/html": [
       "<div>\n",
       "<style scoped>\n",
       "    .dataframe tbody tr th:only-of-type {\n",
       "        vertical-align: middle;\n",
       "    }\n",
       "\n",
       "    .dataframe tbody tr th {\n",
       "        vertical-align: top;\n",
       "    }\n",
       "\n",
       "    .dataframe thead th {\n",
       "        text-align: right;\n",
       "    }\n",
       "</style>\n",
       "<table border=\"1\" class=\"dataframe\">\n",
       "  <thead>\n",
       "    <tr style=\"text-align: right;\">\n",
       "      <th></th>\n",
       "      <th>id_033</th>\n",
       "      <th>id_034</th>\n",
       "      <th>xx_030</th>\n",
       "      <th>ty_007</th>\n",
       "      <th>ty_008</th>\n",
       "      <th>id_021</th>\n",
       "      <th>id_035</th>\n",
       "      <th>id_036</th>\n",
       "      <th>id_037</th>\n",
       "      <th>id_001</th>\n",
       "      <th>...</th>\n",
       "      <th>dt_016</th>\n",
       "      <th>dt_017</th>\n",
       "      <th>xx_036</th>\n",
       "      <th>xx_026</th>\n",
       "      <th>flg_004</th>\n",
       "      <th>dt_001</th>\n",
       "      <th>xx_027</th>\n",
       "      <th>xx_028</th>\n",
       "      <th>xx_029</th>\n",
       "      <th>ty_006</th>\n",
       "    </tr>\n",
       "    <tr>\n",
       "      <th>index</th>\n",
       "      <th></th>\n",
       "      <th></th>\n",
       "      <th></th>\n",
       "      <th></th>\n",
       "      <th></th>\n",
       "      <th></th>\n",
       "      <th></th>\n",
       "      <th></th>\n",
       "      <th></th>\n",
       "      <th></th>\n",
       "      <th></th>\n",
       "      <th></th>\n",
       "      <th></th>\n",
       "      <th></th>\n",
       "      <th></th>\n",
       "      <th></th>\n",
       "      <th></th>\n",
       "      <th></th>\n",
       "      <th></th>\n",
       "      <th></th>\n",
       "      <th></th>\n",
       "    </tr>\n",
       "  </thead>\n",
       "  <tbody>\n",
       "    <tr>\n",
       "      <th>0</th>\n",
       "      <td>1</td>\n",
       "      <td>1</td>\n",
       "      <td>WM</td>\n",
       "      <td>REPL</td>\n",
       "      <td>INT</td>\n",
       "      <td>15050</td>\n",
       "      <td>None</td>\n",
       "      <td>A41</td>\n",
       "      <td>003010203</td>\n",
       "      <td>None</td>\n",
       "      <td>...</td>\n",
       "      <td>0</td>\n",
       "      <td>None</td>\n",
       "      <td>0</td>\n",
       "      <td>21</td>\n",
       "      <td>1</td>\n",
       "      <td>2019-03-18 07:41:53</td>\n",
       "      <td>xx_027_024</td>\n",
       "      <td>0</td>\n",
       "      <td>xx_029_003</td>\n",
       "      <td>ty_006_001</td>\n",
       "    </tr>\n",
       "    <tr>\n",
       "      <th>1</th>\n",
       "      <td>2</td>\n",
       "      <td>2</td>\n",
       "      <td>WM</td>\n",
       "      <td>HOST</td>\n",
       "      <td>INT</td>\n",
       "      <td>12000</td>\n",
       "      <td>None</td>\n",
       "      <td>None</td>\n",
       "      <td>None</td>\n",
       "      <td>None</td>\n",
       "      <td>...</td>\n",
       "      <td>56161</td>\n",
       "      <td>None</td>\n",
       "      <td>0</td>\n",
       "      <td>21</td>\n",
       "      <td>1</td>\n",
       "      <td>2019-04-02 16:26:18</td>\n",
       "      <td>xx_027_012</td>\n",
       "      <td>0</td>\n",
       "      <td>xx_029_003</td>\n",
       "      <td>ty_006_001</td>\n",
       "    </tr>\n",
       "    <tr>\n",
       "      <th>2</th>\n",
       "      <td>3</td>\n",
       "      <td>3</td>\n",
       "      <td>WM</td>\n",
       "      <td>HOST</td>\n",
       "      <td>INT</td>\n",
       "      <td>12000</td>\n",
       "      <td>None</td>\n",
       "      <td>None</td>\n",
       "      <td>None</td>\n",
       "      <td>None</td>\n",
       "      <td>...</td>\n",
       "      <td>2270</td>\n",
       "      <td>None</td>\n",
       "      <td>0</td>\n",
       "      <td>21</td>\n",
       "      <td>1</td>\n",
       "      <td>2019-04-05 10:18:02</td>\n",
       "      <td>xx_027_012</td>\n",
       "      <td>0</td>\n",
       "      <td>xx_029_003</td>\n",
       "      <td>ty_006_001</td>\n",
       "    </tr>\n",
       "    <tr>\n",
       "      <th>3</th>\n",
       "      <td>4</td>\n",
       "      <td>11</td>\n",
       "      <td>WM</td>\n",
       "      <td>HOST</td>\n",
       "      <td>INT</td>\n",
       "      <td>12000</td>\n",
       "      <td>None</td>\n",
       "      <td>None</td>\n",
       "      <td>None</td>\n",
       "      <td>None</td>\n",
       "      <td>...</td>\n",
       "      <td>441</td>\n",
       "      <td>None</td>\n",
       "      <td>0</td>\n",
       "      <td>21</td>\n",
       "      <td>1</td>\n",
       "      <td>2019-04-08 13:01:27</td>\n",
       "      <td>xx_027_012</td>\n",
       "      <td>0</td>\n",
       "      <td>xx_029_003</td>\n",
       "      <td>ty_006_001</td>\n",
       "    </tr>\n",
       "    <tr>\n",
       "      <th>4</th>\n",
       "      <td>5</td>\n",
       "      <td>12</td>\n",
       "      <td>WM</td>\n",
       "      <td>HOST</td>\n",
       "      <td>INT</td>\n",
       "      <td>12000</td>\n",
       "      <td>None</td>\n",
       "      <td>None</td>\n",
       "      <td>None</td>\n",
       "      <td>None</td>\n",
       "      <td>...</td>\n",
       "      <td>1999</td>\n",
       "      <td>None</td>\n",
       "      <td>0</td>\n",
       "      <td>21</td>\n",
       "      <td>1</td>\n",
       "      <td>2019-04-09 10:03:45</td>\n",
       "      <td>xx_027_012</td>\n",
       "      <td>0</td>\n",
       "      <td>xx_029_003</td>\n",
       "      <td>ty_006_001</td>\n",
       "    </tr>\n",
       "  </tbody>\n",
       "</table>\n",
       "<p>5 rows × 61 columns</p>\n",
       "</div>"
      ],
      "text/plain": [
       "       id_033  id_034 xx_030 ty_007 ty_008  id_021 id_035 id_036     id_037  \\\n",
       "index                                                                         \n",
       "0           1       1     WM   REPL    INT   15050   None    A41  003010203   \n",
       "1           2       2     WM   HOST    INT   12000   None   None       None   \n",
       "2           3       3     WM   HOST    INT   12000   None   None       None   \n",
       "3           4      11     WM   HOST    INT   12000   None   None       None   \n",
       "4           5      12     WM   HOST    INT   12000   None   None       None   \n",
       "\n",
       "      id_001  ... dt_016 dt_017  xx_036 xx_026 flg_004               dt_001  \\\n",
       "index         ...                                                             \n",
       "0       None  ...      0   None       0     21       1  2019-03-18 07:41:53   \n",
       "1       None  ...  56161   None       0     21       1  2019-04-02 16:26:18   \n",
       "2       None  ...   2270   None       0     21       1  2019-04-05 10:18:02   \n",
       "3       None  ...    441   None       0     21       1  2019-04-08 13:01:27   \n",
       "4       None  ...   1999   None       0     21       1  2019-04-09 10:03:45   \n",
       "\n",
       "           xx_027  xx_028      xx_029      ty_006  \n",
       "index                                              \n",
       "0      xx_027_024       0  xx_029_003  ty_006_001  \n",
       "1      xx_027_012       0  xx_029_003  ty_006_001  \n",
       "2      xx_027_012       0  xx_029_003  ty_006_001  \n",
       "3      xx_027_012       0  xx_029_003  ty_006_001  \n",
       "4      xx_027_012       0  xx_029_003  ty_006_001  \n",
       "\n",
       "[5 rows x 61 columns]"
      ]
     },
     "execution_count": 4,
     "metadata": {},
     "output_type": "execute_result"
    }
   ],
   "source": [
    "df_err = pd.read_sql('SELECT * FROM error','sqlite:///../data/data2.db',index_col='index')\n",
    "df_err.head()"
   ]
  },
  {
   "cell_type": "code",
   "execution_count": 107,
   "metadata": {},
   "outputs": [
    {
     "name": "stdout",
     "output_type": "stream",
     "text": [
      "<class 'pandas.core.frame.DataFrame'>\n",
      "Int64Index: 14039 entries, 0 to 14038\n",
      "Data columns (total 61 columns):\n",
      " #   Column   Non-Null Count  Dtype  \n",
      "---  ------   --------------  -----  \n",
      " 0   id_033   14039 non-null  int64  \n",
      " 1   id_034   14039 non-null  int64  \n",
      " 2   xx_030   14039 non-null  object \n",
      " 3   ty_007   14039 non-null  object \n",
      " 4   ty_008   14039 non-null  object \n",
      " 5   id_021   14039 non-null  int64  \n",
      " 6   id_035   6626 non-null   object \n",
      " 7   id_036   6338 non-null   object \n",
      " 8   id_037   6624 non-null   object \n",
      " 9   id_001   6725 non-null   object \n",
      " 10  cl_005   600 non-null    object \n",
      " 11  id_038   4 non-null      object \n",
      " 12  id_039   4201 non-null   float64\n",
      " 13  xx_001   3333 non-null   object \n",
      " 14  cl_001   3333 non-null   object \n",
      " 15  id_002   3333 non-null   float64\n",
      " 16  id_000   481 non-null    float64\n",
      " 17  id_040   1026 non-null   float64\n",
      " 18  id_026   78 non-null     float64\n",
      " 19  id_027   0 non-null      object \n",
      " 20  id_014   0 non-null      object \n",
      " 21  id_041   132 non-null    float64\n",
      " 22  id_042   560 non-null    float64\n",
      " 23  id_030   0 non-null      object \n",
      " 24  id_043   506 non-null    object \n",
      " 25  id_044   0 non-null      object \n",
      " 26  id_045   0 non-null      object \n",
      " 27  id_046   0 non-null      object \n",
      " 28  id_047   0 non-null      object \n",
      " 29  id_048   0 non-null      object \n",
      " 30  id_049   0 non-null      object \n",
      " 31  xx_031   560 non-null    float64\n",
      " 32  xx_032   560 non-null    object \n",
      " 33  xx_033   0 non-null      object \n",
      " 34  xx_034   8628 non-null   object \n",
      " 35  xx_035   4892 non-null   object \n",
      " 36  cl_009   6534 non-null   object \n",
      " 37  dt_002   65 non-null     object \n",
      " 38  dt_003   0 non-null      object \n",
      " 39  dt_004   14039 non-null  int64  \n",
      " 40  dt_005   0 non-null      object \n",
      " 41  dt_006   0 non-null      object \n",
      " 42  dt_007   14039 non-null  int64  \n",
      " 43  dt_008   0 non-null      object \n",
      " 44  dt_009   0 non-null      object \n",
      " 45  dt_010   14039 non-null  int64  \n",
      " 46  dt_011   1154 non-null   object \n",
      " 47  dt_012   1154 non-null   object \n",
      " 48  dt_013   14039 non-null  int64  \n",
      " 49  dt_014   13466 non-null  object \n",
      " 50  dt_015   11398 non-null  object \n",
      " 51  dt_016   14039 non-null  int64  \n",
      " 52  dt_017   187 non-null    object \n",
      " 53  xx_036   14039 non-null  int64  \n",
      " 54  xx_026   14039 non-null  int64  \n",
      " 55  flg_004  14039 non-null  int64  \n",
      " 56  dt_001   14039 non-null  object \n",
      " 57  xx_027   14039 non-null  object \n",
      " 58  xx_028   14039 non-null  int64  \n",
      " 59  xx_029   14039 non-null  object \n",
      " 60  ty_006   14039 non-null  object \n",
      "dtypes: float64(8), int64(12), object(41)\n",
      "memory usage: 7.3+ MB\n"
     ]
    }
   ],
   "source": [
    "df_err.info()"
   ]
  },
  {
   "cell_type": "code",
   "execution_count": 18,
   "metadata": {},
   "outputs": [],
   "source": [
    "thres = [0.9, 0.75, 0.5, 0.25,0.01]\n",
    "num_feat = np.zeros(6)\n",
    "k = 0\n",
    "for t in thres:\n",
    "    num_feat[k] = len(empty_features(df_err,threshold=t))\n",
    "    k += 1\n",
    "\n",
    "num_feat[1:-1] = num_feat[1:-1]-num_feat[0:-2]\n",
    "num_feat[-1] = df_err.shape[1]-sum(num_feat)"
   ]
  },
  {
   "cell_type": "code",
   "execution_count": 19,
   "metadata": {},
   "outputs": [
    {
     "name": "stdout",
     "output_type": "stream",
     "text": [
      "Distribution of filled data:\n",
      " >90% empty :: 36.0 (59.0%)\n",
      " 75-90% empty :: 3.0 (4.9%)\n",
      " 50-75% empty :: 7.0 (11.5%)\n",
      " 25-50% empty :: 1.0 (1.6%)\n",
      " 0.1-25% empty :: 2.0 (3.3%)\n",
      " full :: 12.0 (19.7%)\n"
     ]
    }
   ],
   "source": [
    "print('Distribution of filled data:')\n",
    "ranges = ['>90% empty','75-90% empty','50-75% empty','25-50% empty','0.1-25% empty','full']\n",
    "num_feat_per = num_feat/df_err.shape[1]*100\n",
    "for i in range(len(num_feat)):\n",
    "    print(' {} :: {} ({}%)'.format(ranges[i],num_feat[i],np.round(num_feat_per[i],1)))\n",
    "\n"
   ]
  },
  {
   "cell_type": "code",
   "execution_count": 20,
   "metadata": {},
   "outputs": [
    {
     "name": "stdout",
     "output_type": "stream",
     "text": [
      "Date range:\n",
      "2019-03-18 07:41:53 2020-04-24 13:58:06\n"
     ]
    }
   ],
   "source": [
    "print('Date range:')\n",
    "print(df_err.dt_001[0],df_err.dt_001.iloc[-1])"
   ]
  },
  {
   "cell_type": "code",
   "execution_count": 21,
   "metadata": {},
   "outputs": [
    {
     "name": "stdout",
     "output_type": "stream",
     "text": [
      "# Common features with data table: 19\n"
     ]
    }
   ],
   "source": [
    "print('# Common features with data table:',sum([1 if var in df_mf.columns else 0 for var in df_err.columns]))"
   ]
  },
  {
   "cell_type": "markdown",
   "metadata": {},
   "source": [
    "### Merge with the error table"
   ]
  },
  {
   "cell_type": "code",
   "execution_count": 22,
   "metadata": {},
   "outputs": [
    {
     "name": "stdout",
     "output_type": "stream",
     "text": [
      "<class 'pandas.core.frame.DataFrame'>\n",
      "Int64Index: 38554 entries, 0 to 38431\n",
      "Data columns (total 36 columns):\n",
      " #   Column   Non-Null Count  Dtype  \n",
      "---  ------   --------------  -----  \n",
      " 0   id_000   38554 non-null  int64  \n",
      " 1   ty_000   38554 non-null  object \n",
      " 2   cl_000   38554 non-null  object \n",
      " 3   xx_000   38554 non-null  object \n",
      " 4   id_001   38554 non-null  object \n",
      " 5   xx_001   38554 non-null  object \n",
      " 6   cl_001   38554 non-null  object \n",
      " 7   id_002   38554 non-null  object \n",
      " 8   id_003   38554 non-null  object \n",
      " 9   id_004   38554 non-null  object \n",
      " 10  id_005   38554 non-null  object \n",
      " 11  id_006   38554 non-null  object \n",
      " 12  id_007   38554 non-null  object \n",
      " 13  id_008   38554 non-null  object \n",
      " 14  xx_005   38554 non-null  int64  \n",
      " 15  ty_002   38554 non-null  object \n",
      " 16  ty_004   38554 non-null  object \n",
      " 17  cl_003   38554 non-null  object \n",
      " 18  id_018   38554 non-null  object \n",
      " 19  id_019   38554 non-null  object \n",
      " 20  xx_014   38554 non-null  object \n",
      " 21  cl_006   38554 non-null  object \n",
      " 22  cl_007   38554 non-null  object \n",
      " 23  cl_008   38554 non-null  object \n",
      " 24  id_024   38554 non-null  object \n",
      " 25  xx_016   38554 non-null  int64  \n",
      " 26  id_026   38554 non-null  object \n",
      " 27  flg_001  38554 non-null  object \n",
      " 28  xx_026   38554 non-null  int64  \n",
      " 29  dt_001   38554 non-null  object \n",
      " 30  xx_027   38554 non-null  object \n",
      " 31  xx_028   38554 non-null  int64  \n",
      " 32  xx_029   38554 non-null  object \n",
      " 33  ty_006   38554 non-null  object \n",
      " 34  id_033   38554 non-null  int64  \n",
      " 35  error    2008 non-null   float64\n",
      "dtypes: float64(1), int64(6), object(29)\n",
      "memory usage: 10.9+ MB\n"
     ]
    }
   ],
   "source": [
    "df_combo= pd.read_sql('SELECT da.*, err.id_034 as error FROM data_base as da LEFT JOIN error_clean as err on datetime(err.dt_001)=datetime(da.dt_001) AND (err.id_001 == da.id_001)','sqlite:///../data/data2.db',index_col='index')\n",
    "df_combo.info()"
   ]
  },
  {
   "cell_type": "markdown",
   "metadata": {},
   "source": [
    "We see that we have 2008 non-zero errors among the 39169 jobs. Feature **id_034** is now labeled as **error** and is chosen to represent the jobs with errors and will be masked as 0 (no error) and 1 (error) below. It was just important to choose a 100% filled feature from the error table that is not contained in the mfque table."
   ]
  },
  {
   "cell_type": "code",
   "execution_count": 23,
   "metadata": {},
   "outputs": [],
   "source": [
    "df_combo.loc[:,'error'] = df_combo['error'].apply(lambda x: 0 if math.isnan(x) else 1)"
   ]
  },
  {
   "cell_type": "markdown",
   "metadata": {},
   "source": [
    "Let's also make sure that we do not have duplicate rows."
   ]
  },
  {
   "cell_type": "code",
   "execution_count": 24,
   "metadata": {},
   "outputs": [],
   "source": [
    "df_combo.drop_duplicates(inplace= True)"
   ]
  },
  {
   "cell_type": "markdown",
   "metadata": {},
   "source": [
    "For now, the other features remain as they are and will be dealt with in the Exploratory Data Analysis section."
   ]
  },
  {
   "cell_type": "markdown",
   "metadata": {},
   "source": [
    "### Save to SQL file"
   ]
  },
  {
   "cell_type": "code",
   "execution_count": 25,
   "metadata": {},
   "outputs": [],
   "source": [
    "con = sqlite3.connect('../data/data2.db')\n",
    "df_combo.to_sql(name='data_base_error',con=con,if_exists='replace')\n",
    "con.close()"
   ]
  },
  {
   "cell_type": "markdown",
   "metadata": {},
   "source": [
    "# Combine with extra table"
   ]
  },
  {
   "cell_type": "markdown",
   "metadata": {},
   "source": [
    "Before we drop these features, let's first check whether the *extra* table has more information on some of these."
   ]
  },
  {
   "cell_type": "code",
   "execution_count": 26,
   "metadata": {},
   "outputs": [
    {
     "name": "stdout",
     "output_type": "stream",
     "text": [
      "<class 'pandas.core.frame.DataFrame'>\n",
      "Int64Index: 224483 entries, 0 to 224482\n",
      "Columns: 117 entries, xx_037 to xx_028\n",
      "dtypes: float64(12), int64(27), object(78)\n",
      "memory usage: 202.1+ MB\n"
     ]
    }
   ],
   "source": [
    "df_ex = pd.read_sql('SELECT * FROM extra','sqlite:///../data/data2.db',index_col='index')\n",
    "df_ex.info()"
   ]
  },
  {
   "cell_type": "code",
   "execution_count": 27,
   "metadata": {},
   "outputs": [],
   "source": [
    "thres = [0.9, 0.75, 0.5, 0.25,0.01]\n",
    "num_feat = np.zeros(6)\n",
    "k = 0\n",
    "for t in thres:\n",
    "    num_feat[k] = len(empty_features(df_ex,threshold=t))\n",
    "    k += 1\n",
    "\n",
    "num_feat[1:-1] = num_feat[1:-1]-num_feat[0:-2]\n",
    "num_feat[-1] = df_ex.shape[1]-sum(num_feat)"
   ]
  },
  {
   "cell_type": "code",
   "execution_count": 28,
   "metadata": {},
   "outputs": [
    {
     "name": "stdout",
     "output_type": "stream",
     "text": [
      "Distribution of filled data:\n",
      " >90% empty :: 54.0 (46.2%)\n",
      " 75-90% empty :: 13.0 (11.1%)\n",
      " 50-75% empty :: 15.0 (12.8%)\n",
      " 25-50% empty :: 9.0 (7.7%)\n",
      " 0.1-25% empty :: 1.0 (0.9%)\n",
      " full :: 25.0 (21.4%)\n"
     ]
    }
   ],
   "source": [
    "print('Distribution of filled data:')\n",
    "ranges = ['>90% empty','75-90% empty','50-75% empty','25-50% empty','0.1-25% empty','full']\n",
    "num_feat_per = num_feat/df_ex.shape[1]*100\n",
    "for i in range(len(num_feat)):\n",
    "    print(' {} :: {} ({}%)'.format(ranges[i],num_feat[i],np.round(num_feat_per[i],1)))\n",
    "\n"
   ]
  },
  {
   "cell_type": "code",
   "execution_count": 29,
   "metadata": {},
   "outputs": [
    {
     "name": "stdout",
     "output_type": "stream",
     "text": [
      "Date range:\n",
      "2020-04-08 00:07:28 2020-04-26 23:22:11\n"
     ]
    }
   ],
   "source": [
    "print('Date range:')\n",
    "print(df_ex.dt_001[0],df_ex.dt_001.iloc[-1])"
   ]
  },
  {
   "cell_type": "code",
   "execution_count": 30,
   "metadata": {},
   "outputs": [
    {
     "name": "stdout",
     "output_type": "stream",
     "text": [
      "# Common features with data table: 38\n"
     ]
    }
   ],
   "source": [
    "print('# Common features with data table:',sum([1 if var in df_mf.columns else 0 for var in df_ex.columns]))"
   ]
  },
  {
   "cell_type": "markdown",
   "metadata": {},
   "source": [
    "First see if there are overlapping features that are empty in the data table."
   ]
  },
  {
   "cell_type": "markdown",
   "metadata": {},
   "source": [
    "These are the features that will be taken from the extra table:"
   ]
  },
  {
   "cell_type": "code",
   "execution_count": 31,
   "metadata": {},
   "outputs": [
    {
     "name": "stdout",
     "output_type": "stream",
     "text": [
      "id_013  :::  154919\n",
      "id_014  :::  224483\n",
      "xx_006  :::  224483\n",
      "id_016  :::  224483\n",
      "xx_008  :::  22265\n",
      "ty_005  :::  63871\n",
      "cl_002  :::  224483\n",
      "cl_004  :::  65008\n",
      "id_020  :::  130964\n",
      "cl_005  :::  224483\n",
      "id_027  :::  96322\n",
      "flg_000  :::  224483\n",
      "id_031  :::  224483\n",
      "flg_004  :::  224483\n"
     ]
    }
   ],
   "source": [
    "str_empty = empty_features(df_mf)\n",
    "sql_str = ''\n",
    "for var in str_empty:\n",
    "    if var in df_ex.columns:\n",
    "        if df_ex[var].count() > 10:\n",
    "            print(var, ' ::: ',(df_ex[var].count()))\n",
    "            sql_str = sql_str+'ex.'+var+', '"
   ]
  },
  {
   "cell_type": "code",
   "execution_count": 32,
   "metadata": {},
   "outputs": [],
   "source": [
    "# Turn dt into datetime and drop microseconds to compare\n",
    "x = 'dt_001'\n",
    "df_ex[x] = pd.to_datetime(df_ex[x])\n",
    "#df_ex.loc[:,x] = df_ex[x].apply(lambda y: y.replace(microsecond=0))\n",
    "\n",
    "df_mf[x] = pd.to_datetime(df_mf[x])\n",
    "#df_mf.loc[:,x] = df_mf[x].apply(lambda y: y.replace(microsecond=0))"
   ]
  },
  {
   "cell_type": "markdown",
   "metadata": {},
   "source": [
    "Identify common features to merge the two tables:"
   ]
  },
  {
   "cell_type": "code",
   "execution_count": 33,
   "metadata": {},
   "outputs": [
    {
     "name": "stdout",
     "output_type": "stream",
     "text": [
      "id_001 in data 7.4% are unique and 6.3% same as extra\n",
      "id_007 in data 0.1% are unique and 0.1% same as extra\n",
      "id_014 in data 3.8% are unique and 3.4% same as extra\n",
      "xx_006 in data 0.1% are unique and 0.1% same as extra\n",
      "id_016 in data 0.5% are unique and 0.5% same as extra\n",
      "id_026 in data 6.7% are unique and 1.3% same as extra\n",
      "id_027 in data 0.5% are unique and 0.5% same as extra\n",
      "xx_026 in data 35.1% are unique and 0.1% same as extra\n",
      "dt_001 in data 27.8% are unique and 11.2% same as extra\n"
     ]
    }
   ],
   "source": [
    "n_ex = len(df_ex.index)\n",
    "n_mf = len(df_mf.index)\n",
    "for v in df_mf.columns:\n",
    "    if v in df_ex.columns:\n",
    "        uni_mf = round(df_mf[v].nunique()/n_mf*100,1)\n",
    "        both = 0\n",
    "        df_red = df_ex[v].unique()\n",
    "        for i in df_mf[v].unique():\n",
    "            if i in df_red:\n",
    "                both += 1\n",
    "        uni_ex = round(both/n_mf*100,1)\n",
    "        if uni_ex > 0:\n",
    "            print('{} in data {}% are unique and {}% same as extra'.format(v,uni_mf,uni_ex))"
   ]
  },
  {
   "cell_type": "markdown",
   "metadata": {},
   "source": [
    "### Load from data replacing missing values from extra table"
   ]
  },
  {
   "cell_type": "code",
   "execution_count": 34,
   "metadata": {},
   "outputs": [
    {
     "name": "stdout",
     "output_type": "stream",
     "text": [
      "da.id_000, da.ty_000, da.cl_000, da.xx_000, da.id_001, da.xx_001, da.cl_001, da.id_002, da.id_003, da.id_004, da.id_005, da.id_006, da.id_007, da.id_008, da.xx_005, da.ty_002, da.ty_004, da.cl_003, da.id_018, da.id_019, da.xx_014, da.cl_006, da.cl_007, da.cl_008, da.id_024, da.xx_016, da.id_026, da.flg_001, da.xx_026, da.dt_001, da.xx_027, da.xx_028, da.xx_029, da.ty_006, da.id_033, \n"
     ]
    }
   ],
   "source": [
    "sql_da = ''\n",
    "for var in df_mf.drop(str_empty,axis=1).columns:\n",
    "    sql_da += 'da.'+var+', '\n",
    "print(sql_da)"
   ]
  },
  {
   "cell_type": "code",
   "execution_count": 35,
   "metadata": {},
   "outputs": [
    {
     "data": {
      "text/plain": [
       "'ex.id_013, ex.id_014, ex.xx_006, ex.id_016, ex.xx_008, ex.ty_005, ex.cl_002, ex.cl_004, ex.id_020, ex.cl_005, ex.id_027, ex.flg_000, ex.id_031, ex.flg_004, '"
      ]
     },
     "execution_count": 35,
     "metadata": {},
     "output_type": "execute_result"
    }
   ],
   "source": [
    "sql_str"
   ]
  },
  {
   "cell_type": "code",
   "execution_count": 36,
   "metadata": {},
   "outputs": [
    {
     "name": "stdout",
     "output_type": "stream",
     "text": [
      "<class 'pandas.core.frame.DataFrame'>\n",
      "RangeIndex: 39063 entries, 0 to 39062\n",
      "Data columns (total 49 columns):\n",
      " #   Column   Non-Null Count  Dtype  \n",
      "---  ------   --------------  -----  \n",
      " 0   id_013   4431 non-null   object \n",
      " 1   id_014   7668 non-null   float64\n",
      " 2   xx_006   7668 non-null   float64\n",
      " 3   id_016   7668 non-null   float64\n",
      " 4   xx_008   241 non-null    object \n",
      " 5   ty_005   3765 non-null   object \n",
      " 6   cl_002   7668 non-null   object \n",
      " 7   cl_004   6141 non-null   object \n",
      " 8   id_020   3899 non-null   object \n",
      " 9   cl_005   7668 non-null   object \n",
      " 10  id_027   2510 non-null   object \n",
      " 11  flg_000  7668 non-null   float64\n",
      " 12  id_031   7668 non-null   float64\n",
      " 13  flg_004  7668 non-null   float64\n",
      " 14  id_000   39063 non-null  int64  \n",
      " 15  ty_000   39063 non-null  object \n",
      " 16  cl_000   39063 non-null  object \n",
      " 17  xx_000   39063 non-null  int64  \n",
      " 18  id_001   37359 non-null  object \n",
      " 19  xx_001   28074 non-null  object \n",
      " 20  cl_001   26876 non-null  object \n",
      " 21  id_002   26819 non-null  float64\n",
      " 22  id_003   34628 non-null  object \n",
      " 23  id_004   34628 non-null  object \n",
      " 24  id_005   22627 non-null  object \n",
      " 25  id_006   22627 non-null  object \n",
      " 26  id_007   20087 non-null  object \n",
      " 27  id_008   13444 non-null  object \n",
      " 28  xx_005   39063 non-null  int64  \n",
      " 29  ty_002   7578 non-null   object \n",
      " 30  ty_004   8741 non-null   object \n",
      " 31  cl_003   5311 non-null   object \n",
      " 32  id_018   4191 non-null   object \n",
      " 33  id_019   7647 non-null   object \n",
      " 34  xx_014   11758 non-null  object \n",
      " 35  cl_006   17069 non-null  object \n",
      " 36  cl_007   16629 non-null  object \n",
      " 37  cl_008   16629 non-null  object \n",
      " 38  id_024   16629 non-null  object \n",
      " 39  xx_016   39063 non-null  int64  \n",
      " 40  id_026   7013 non-null   float64\n",
      " 41  flg_001  39063 non-null  int64  \n",
      " 42  xx_026   39063 non-null  int64  \n",
      " 43  dt_001   39063 non-null  object \n",
      " 44  xx_027   39063 non-null  object \n",
      " 45  xx_028   39063 non-null  int64  \n",
      " 46  xx_029   39063 non-null  object \n",
      " 47  ty_006   39063 non-null  object \n",
      " 48  id_033   39063 non-null  int64  \n",
      "dtypes: float64(8), int64(8), object(33)\n",
      "memory usage: 14.6+ MB\n"
     ]
    }
   ],
   "source": [
    "df_temp= pd.read_sql('SELECT {}, {} FROM  data as da LEFT JOIN extra as ex on datetime(ex.dt_001)=datetime(da.dt_001) AND (ex.id_001 == da.id_001)'.format(sql_str[:-2],sql_da[:-2]),'sqlite:///../data/data2.db')\n",
    "df_temp.info()"
   ]
  },
  {
   "cell_type": "markdown",
   "metadata": {},
   "source": [
    "The merge led to some duplicate rows with complementary NaN's for the features imported from the extra table. Find these duplicate rows, fill the Nan's with the appropiate value and drop duplicate rows."
   ]
  },
  {
   "cell_type": "code",
   "execution_count": 37,
   "metadata": {},
   "outputs": [],
   "source": [
    "vcs = df_temp['id_033'].value_counts() # id_033 is a unique identifier and shows where duplicate rows were created in the merge\n",
    "ind = np.where(vcs>1)[0]\n",
    "for i in ind:\n",
    "    bool_id33 = df_temp.id_033==vcs.index[i]\n",
    "    for var in df_temp.columns:\n",
    "        if df_temp.loc[bool_id33,var].nunique(dropna=False) > 1:\n",
    "            if df_temp.loc[bool_id33,var].nunique() == 1:\n",
    "                df_temp.loc[bool_id33,var] = df_temp.loc[bool_id33,var].fillna(df_temp.loc[bool_id33,var].dropna().unique()[0])\n",
    "            else:\n",
    "                df_temp.loc[bool_id33,var] = np.max(df_temp.loc[bool_id33,var].unique())"
   ]
  },
  {
   "cell_type": "code",
   "execution_count": 40,
   "metadata": {},
   "outputs": [
    {
     "name": "stdout",
     "output_type": "stream",
     "text": [
      "<class 'pandas.core.frame.DataFrame'>\n",
      "Int64Index: 38432 entries, 0 to 38431\n",
      "Data columns (total 49 columns):\n",
      " #   Column   Non-Null Count  Dtype  \n",
      "---  ------   --------------  -----  \n",
      " 0   id_013   4400 non-null   object \n",
      " 1   id_014   7037 non-null   float64\n",
      " 2   xx_006   7037 non-null   float64\n",
      " 3   id_016   7037 non-null   float64\n",
      " 4   xx_008   241 non-null    object \n",
      " 5   ty_005   3765 non-null   object \n",
      " 6   cl_002   7037 non-null   object \n",
      " 7   cl_004   6138 non-null   object \n",
      " 8   id_020   3307 non-null   object \n",
      " 9   cl_005   7037 non-null   object \n",
      " 10  id_027   2492 non-null   object \n",
      " 11  flg_000  7037 non-null   float64\n",
      " 12  id_031   7037 non-null   float64\n",
      " 13  flg_004  7037 non-null   float64\n",
      " 14  id_000   38432 non-null  int64  \n",
      " 15  ty_000   38432 non-null  object \n",
      " 16  cl_000   38432 non-null  object \n",
      " 17  xx_000   38432 non-null  int64  \n",
      " 18  id_001   36728 non-null  object \n",
      " 19  xx_001   27443 non-null  object \n",
      " 20  cl_001   26249 non-null  object \n",
      " 21  id_002   26210 non-null  float64\n",
      " 22  id_003   34015 non-null  object \n",
      " 23  id_004   34015 non-null  object \n",
      " 24  id_005   22620 non-null  object \n",
      " 25  id_006   22620 non-null  object \n",
      " 26  id_007   20080 non-null  object \n",
      " 27  id_008   13437 non-null  object \n",
      " 28  xx_005   38432 non-null  int64  \n",
      " 29  ty_002   7571 non-null   object \n",
      " 30  ty_004   8737 non-null   object \n",
      " 31  cl_003   5311 non-null   object \n",
      " 32  id_018   4188 non-null   object \n",
      " 33  id_019   7647 non-null   object \n",
      " 34  xx_014   11750 non-null  object \n",
      " 35  cl_006   17061 non-null  object \n",
      " 36  cl_007   16621 non-null  object \n",
      " 37  cl_008   16621 non-null  object \n",
      " 38  id_024   16621 non-null  object \n",
      " 39  xx_016   38432 non-null  int64  \n",
      " 40  id_026   6988 non-null   float64\n",
      " 41  flg_001  38432 non-null  int64  \n",
      " 42  xx_026   38432 non-null  int64  \n",
      " 43  dt_001   38432 non-null  object \n",
      " 44  xx_027   38432 non-null  object \n",
      " 45  xx_028   38432 non-null  int64  \n",
      " 46  xx_029   38432 non-null  object \n",
      " 47  ty_006   38432 non-null  object \n",
      " 48  id_033   38432 non-null  int64  \n",
      "dtypes: float64(8), int64(8), object(33)\n",
      "memory usage: 14.7+ MB\n"
     ]
    }
   ],
   "source": [
    "df_temp.drop_duplicates(inplace=True)\n",
    "df_temp.reset_index(inplace=True, drop=True)\n",
    "df_temp.info()"
   ]
  },
  {
   "cell_type": "markdown",
   "metadata": {},
   "source": [
    "#### Turn datetime strings into datetime objects"
   ]
  },
  {
   "cell_type": "code",
   "execution_count": 41,
   "metadata": {},
   "outputs": [],
   "source": [
    "x = 'dt_001'\n",
    "df_temp[x] = pd.to_datetime(df_temp[x])"
   ]
  },
  {
   "cell_type": "code",
   "execution_count": 42,
   "metadata": {},
   "outputs": [
    {
     "name": "stdout",
     "output_type": "stream",
     "text": [
      "id_014\n",
      "id_016\n",
      "cl_005\n",
      "id_031\n"
     ]
    },
    {
     "name": "stderr",
     "output_type": "stream",
     "text": [
      "/home/lhw/DSproject/lib/python3.6/site-packages/ipykernel_launcher.py:2: FutureWarning: elementwise comparison failed; returning scalar instead, but in the future will perform elementwise comparison\n",
      "  \n",
      "/home/lhw/DSproject/lib/python3.6/site-packages/ipykernel_launcher.py:5: DeprecationWarning: elementwise comparison failed; this will raise an error in the future.\n",
      "  \"\"\"\n"
     ]
    }
   ],
   "source": [
    "for var in df_temp.columns:\n",
    "    if '999' in df_temp[var].unique():\n",
    "        df_temp.loc[df_temp[var]=='999',var] = np.NaN\n",
    "        print(var)\n",
    "    elif ('id' in var) & (0 in df_temp[var].unique()):\n",
    "        df_temp.loc[df_temp[var]==0,var] = np.NaN\n",
    "        print(var)"
   ]
  },
  {
   "cell_type": "code",
   "execution_count": 44,
   "metadata": {
    "scrolled": true
   },
   "outputs": [
    {
     "name": "stdout",
     "output_type": "stream",
     "text": [
      "['cl_005' 'id_016' 'id_020' 'id_027' 'id_031' 'ty_005' 'xx_008']\n",
      "7\n"
     ]
    }
   ],
   "source": [
    "str_empty = empty_features(df_temp)\n",
    "print(np.sort(str_empty))\n",
    "print(len(str_empty))"
   ]
  },
  {
   "cell_type": "markdown",
   "metadata": {},
   "source": [
    "Of the above we already know that all **id** and the **flg** features are actually objects. Let's take an even closer look:"
   ]
  },
  {
   "cell_type": "code",
   "execution_count": 45,
   "metadata": {},
   "outputs": [
    {
     "name": "stdout",
     "output_type": "stream",
     "text": [
      "flg_000  :::  [nan  0.  1.]\n",
      "flg_004  :::  [nan  0.]\n",
      "xx_000  :::  [ 5 20 60 99 10 40]\n",
      "id_002  :::  [ 1.  2. nan]\n",
      "xx_005  :::  [ 0  5  1 -2 -1  3  6  2]\n",
      "cl_003  :::  ['2' '3' '1' '6' '4' '5']\n",
      "xx_014  :::  ['00']\n",
      "cl_006  :::  ['1' '0']\n",
      "cl_007  :::  ['2' '3' '1' '0']\n",
      "cl_008  :::  ['1' '0']\n",
      "id_024  :::  ['1' '0']\n",
      "flg_001  :::  [0 1]\n"
     ]
    }
   ],
   "source": [
    "df_clean = df_temp.drop(str_empty,axis=1)\n",
    "for var in df_clean.columns:\n",
    "    uni = df_clean[var].unique()\n",
    "    if None == df_clean[var].unique()[0]:\n",
    "        uni = uni[1:]\n",
    "    if (len(uni)>20):\n",
    "        continue\n",
    "    if isinstance(uni[0],str)== False:\n",
    "        print(var,' ::: ',uni)\n",
    "    elif ('_' not in uni[0]):\n",
    "        print(var,' ::: ',uni)"
   ]
  },
  {
   "cell_type": "markdown",
   "metadata": {},
   "source": [
    "To keep the logic of the labeling within the data set, we will rename categories that are clearly classes, flags or identifiers."
   ]
  },
  {
   "cell_type": "code",
   "execution_count": 46,
   "metadata": {},
   "outputs": [
    {
     "name": "stdout",
     "output_type": "stream",
     "text": [
      "xx_000  : 5\n",
      "xx_000  : 20\n",
      "xx_000  : 60\n",
      "xx_000  : 99\n",
      "xx_000  : 10\n",
      "xx_000  : 40\n",
      "xx_014  : 00\n",
      "id_002  : 1.0\n",
      "id_002  : 2.0\n",
      "id_024  : 1\n",
      "id_024  : 0\n",
      "cl_003  : 2\n",
      "cl_003  : 3\n",
      "cl_003  : 1\n",
      "cl_003  : 6\n",
      "cl_003  : 4\n",
      "cl_003  : 5\n",
      "cl_006  : 1\n",
      "cl_006  : 0\n",
      "cl_007  : 2\n",
      "cl_007  : 3\n",
      "cl_007  : 1\n",
      "cl_007  : 0\n",
      "cl_008  : 1\n",
      "cl_008  : 0\n",
      "flg_000  : 0.0\n",
      "flg_000  : 1.0\n",
      "flg_001  : 0\n",
      "flg_001  : 1\n",
      "flg_004  : 0.0\n"
     ]
    }
   ],
   "source": [
    "for var in ['xx_000','xx_014','id_002','id_024','cl_003','cl_006','cl_007','cl_008','flg_000','flg_001','flg_004']:\n",
    "    uni = df_clean[var].unique()\n",
    "    for v in uni:\n",
    "        if v == None:\n",
    "            continue  \n",
    "        if (isinstance(v,str)):\n",
    "            df_clean.loc[df_clean[var]==v,var] = '{}_{:01d}'.format(var,int(v))\n",
    "        elif math.isnan(v):\n",
    "            continue  \n",
    "        elif (isinstance(v,float)):\n",
    "            df_clean.loc[df_clean[var]==v,var] = '{}_{:01d}'.format(var,int(v))\n",
    "        elif  (isinstance(v,int)) | (v.dtype=='int64'):\n",
    "            df_clean.loc[df_clean[var]==v,var] = '{}_{:01d}'.format(var,v)\n",
    "        print(var,' :',v)\n",
    "        "
   ]
  },
  {
   "cell_type": "code",
   "execution_count": 47,
   "metadata": {},
   "outputs": [],
   "source": [
    "for var in ['xx_000','xx_014','id_000','id_002','id_024','id_026','cl_003','cl_006','cl_007','cl_008','flg_000','flg_001','flg_004']:\n",
    "    df_clean.loc[:,var] = df_clean[var].astype(object)"
   ]
  },
  {
   "cell_type": "code",
   "execution_count": 48,
   "metadata": {},
   "outputs": [
    {
     "name": "stdout",
     "output_type": "stream",
     "text": [
      "<class 'pandas.core.frame.DataFrame'>\n",
      "Int64Index: 38432 entries, 0 to 38431\n",
      "Data columns (total 42 columns):\n",
      " #   Column   Non-Null Count  Dtype         \n",
      "---  ------   --------------  -----         \n",
      " 0   id_013   4400 non-null   object        \n",
      " 1   id_014   4400 non-null   float64       \n",
      " 2   xx_006   7037 non-null   float64       \n",
      " 3   cl_002   7037 non-null   object        \n",
      " 4   cl_004   6138 non-null   object        \n",
      " 5   flg_000  7037 non-null   object        \n",
      " 6   flg_004  7037 non-null   object        \n",
      " 7   id_000   38432 non-null  object        \n",
      " 8   ty_000   38432 non-null  object        \n",
      " 9   cl_000   38432 non-null  object        \n",
      " 10  xx_000   38432 non-null  object        \n",
      " 11  id_001   36728 non-null  object        \n",
      " 12  xx_001   27443 non-null  object        \n",
      " 13  cl_001   26249 non-null  object        \n",
      " 14  id_002   26210 non-null  object        \n",
      " 15  id_003   34015 non-null  object        \n",
      " 16  id_004   34015 non-null  object        \n",
      " 17  id_005   22620 non-null  object        \n",
      " 18  id_006   22620 non-null  object        \n",
      " 19  id_007   20080 non-null  object        \n",
      " 20  id_008   13437 non-null  object        \n",
      " 21  xx_005   38432 non-null  int64         \n",
      " 22  ty_002   7571 non-null   object        \n",
      " 23  ty_004   8737 non-null   object        \n",
      " 24  cl_003   5311 non-null   object        \n",
      " 25  id_018   4188 non-null   object        \n",
      " 26  id_019   7647 non-null   object        \n",
      " 27  xx_014   11750 non-null  object        \n",
      " 28  cl_006   17061 non-null  object        \n",
      " 29  cl_007   16621 non-null  object        \n",
      " 30  cl_008   16621 non-null  object        \n",
      " 31  id_024   16621 non-null  object        \n",
      " 32  xx_016   38432 non-null  int64         \n",
      " 33  id_026   6988 non-null   object        \n",
      " 34  flg_001  38432 non-null  object        \n",
      " 35  xx_026   38432 non-null  int64         \n",
      " 36  dt_001   38432 non-null  datetime64[ns]\n",
      " 37  xx_027   38432 non-null  object        \n",
      " 38  xx_028   38432 non-null  int64         \n",
      " 39  xx_029   38432 non-null  object        \n",
      " 40  ty_006   38432 non-null  object        \n",
      " 41  id_033   38432 non-null  int64         \n",
      "dtypes: datetime64[ns](1), float64(2), int64(5), object(34)\n",
      "memory usage: 13.9+ MB\n"
     ]
    }
   ],
   "source": [
    "df_clean.info(verbose=True, null_counts=True)"
   ]
  },
  {
   "cell_type": "markdown",
   "metadata": {},
   "source": [
    "### Analyze the ratio of missing values and unique values"
   ]
  },
  {
   "cell_type": "code",
   "execution_count": 50,
   "metadata": {},
   "outputs": [
    {
     "data": {
      "text/html": [
       "<div>\n",
       "<style scoped>\n",
       "    .dataframe tbody tr th:only-of-type {\n",
       "        vertical-align: middle;\n",
       "    }\n",
       "\n",
       "    .dataframe tbody tr th {\n",
       "        vertical-align: top;\n",
       "    }\n",
       "\n",
       "    .dataframe thead th {\n",
       "        text-align: right;\n",
       "    }\n",
       "</style>\n",
       "<table border=\"1\" class=\"dataframe\">\n",
       "  <thead>\n",
       "    <tr style=\"text-align: right;\">\n",
       "      <th></th>\n",
       "      <th>nunique</th>\n",
       "      <th>ratio_unique</th>\n",
       "      <th>ratio_filled</th>\n",
       "    </tr>\n",
       "  </thead>\n",
       "  <tbody>\n",
       "    <tr>\n",
       "      <th>id_013</th>\n",
       "      <td>204</td>\n",
       "      <td>4.6</td>\n",
       "      <td>11.4</td>\n",
       "    </tr>\n",
       "    <tr>\n",
       "      <th>id_014</th>\n",
       "      <td>204</td>\n",
       "      <td>4.6</td>\n",
       "      <td>11.4</td>\n",
       "    </tr>\n",
       "    <tr>\n",
       "      <th>xx_006</th>\n",
       "      <td>26</td>\n",
       "      <td>0.4</td>\n",
       "      <td>18.3</td>\n",
       "    </tr>\n",
       "    <tr>\n",
       "      <th>cl_002</th>\n",
       "      <td>1</td>\n",
       "      <td>0.0</td>\n",
       "      <td>18.3</td>\n",
       "    </tr>\n",
       "    <tr>\n",
       "      <th>cl_004</th>\n",
       "      <td>5</td>\n",
       "      <td>0.1</td>\n",
       "      <td>16.0</td>\n",
       "    </tr>\n",
       "    <tr>\n",
       "      <th>flg_000</th>\n",
       "      <td>2</td>\n",
       "      <td>0.0</td>\n",
       "      <td>18.3</td>\n",
       "    </tr>\n",
       "    <tr>\n",
       "      <th>flg_004</th>\n",
       "      <td>1</td>\n",
       "      <td>0.0</td>\n",
       "      <td>18.3</td>\n",
       "    </tr>\n",
       "    <tr>\n",
       "      <th>id_000</th>\n",
       "      <td>16651</td>\n",
       "      <td>43.3</td>\n",
       "      <td>100.0</td>\n",
       "    </tr>\n",
       "    <tr>\n",
       "      <th>ty_000</th>\n",
       "      <td>17</td>\n",
       "      <td>0.0</td>\n",
       "      <td>100.0</td>\n",
       "    </tr>\n",
       "    <tr>\n",
       "      <th>cl_000</th>\n",
       "      <td>2</td>\n",
       "      <td>0.0</td>\n",
       "      <td>100.0</td>\n",
       "    </tr>\n",
       "    <tr>\n",
       "      <th>xx_000</th>\n",
       "      <td>6</td>\n",
       "      <td>0.0</td>\n",
       "      <td>100.0</td>\n",
       "    </tr>\n",
       "    <tr>\n",
       "      <th>id_001</th>\n",
       "      <td>2843</td>\n",
       "      <td>7.7</td>\n",
       "      <td>95.6</td>\n",
       "    </tr>\n",
       "    <tr>\n",
       "      <th>xx_001</th>\n",
       "      <td>1</td>\n",
       "      <td>0.0</td>\n",
       "      <td>71.4</td>\n",
       "    </tr>\n",
       "    <tr>\n",
       "      <th>cl_001</th>\n",
       "      <td>2</td>\n",
       "      <td>0.0</td>\n",
       "      <td>68.3</td>\n",
       "    </tr>\n",
       "    <tr>\n",
       "      <th>id_002</th>\n",
       "      <td>2</td>\n",
       "      <td>0.0</td>\n",
       "      <td>68.2</td>\n",
       "    </tr>\n",
       "    <tr>\n",
       "      <th>id_003</th>\n",
       "      <td>5</td>\n",
       "      <td>0.0</td>\n",
       "      <td>88.5</td>\n",
       "    </tr>\n",
       "    <tr>\n",
       "      <th>id_004</th>\n",
       "      <td>845</td>\n",
       "      <td>2.5</td>\n",
       "      <td>88.5</td>\n",
       "    </tr>\n",
       "    <tr>\n",
       "      <th>id_005</th>\n",
       "      <td>6</td>\n",
       "      <td>0.0</td>\n",
       "      <td>58.9</td>\n",
       "    </tr>\n",
       "    <tr>\n",
       "      <th>id_006</th>\n",
       "      <td>682</td>\n",
       "      <td>3.0</td>\n",
       "      <td>58.9</td>\n",
       "    </tr>\n",
       "    <tr>\n",
       "      <th>id_007</th>\n",
       "      <td>26</td>\n",
       "      <td>0.1</td>\n",
       "      <td>52.2</td>\n",
       "    </tr>\n",
       "    <tr>\n",
       "      <th>id_008</th>\n",
       "      <td>637</td>\n",
       "      <td>4.7</td>\n",
       "      <td>35.0</td>\n",
       "    </tr>\n",
       "    <tr>\n",
       "      <th>xx_005</th>\n",
       "      <td>8</td>\n",
       "      <td>0.0</td>\n",
       "      <td>100.0</td>\n",
       "    </tr>\n",
       "    <tr>\n",
       "      <th>ty_002</th>\n",
       "      <td>13</td>\n",
       "      <td>0.2</td>\n",
       "      <td>19.7</td>\n",
       "    </tr>\n",
       "    <tr>\n",
       "      <th>ty_004</th>\n",
       "      <td>1</td>\n",
       "      <td>0.0</td>\n",
       "      <td>22.7</td>\n",
       "    </tr>\n",
       "    <tr>\n",
       "      <th>cl_003</th>\n",
       "      <td>6</td>\n",
       "      <td>0.1</td>\n",
       "      <td>13.8</td>\n",
       "    </tr>\n",
       "    <tr>\n",
       "      <th>id_018</th>\n",
       "      <td>2</td>\n",
       "      <td>0.0</td>\n",
       "      <td>10.9</td>\n",
       "    </tr>\n",
       "    <tr>\n",
       "      <th>id_019</th>\n",
       "      <td>3</td>\n",
       "      <td>0.0</td>\n",
       "      <td>19.9</td>\n",
       "    </tr>\n",
       "    <tr>\n",
       "      <th>xx_014</th>\n",
       "      <td>1</td>\n",
       "      <td>0.0</td>\n",
       "      <td>30.6</td>\n",
       "    </tr>\n",
       "    <tr>\n",
       "      <th>cl_006</th>\n",
       "      <td>2</td>\n",
       "      <td>0.0</td>\n",
       "      <td>44.4</td>\n",
       "    </tr>\n",
       "    <tr>\n",
       "      <th>cl_007</th>\n",
       "      <td>4</td>\n",
       "      <td>0.0</td>\n",
       "      <td>43.2</td>\n",
       "    </tr>\n",
       "    <tr>\n",
       "      <th>cl_008</th>\n",
       "      <td>2</td>\n",
       "      <td>0.0</td>\n",
       "      <td>43.2</td>\n",
       "    </tr>\n",
       "    <tr>\n",
       "      <th>id_024</th>\n",
       "      <td>2</td>\n",
       "      <td>0.0</td>\n",
       "      <td>43.2</td>\n",
       "    </tr>\n",
       "    <tr>\n",
       "      <th>xx_016</th>\n",
       "      <td>991</td>\n",
       "      <td>2.6</td>\n",
       "      <td>100.0</td>\n",
       "    </tr>\n",
       "    <tr>\n",
       "      <th>id_026</th>\n",
       "      <td>2583</td>\n",
       "      <td>37.0</td>\n",
       "      <td>18.2</td>\n",
       "    </tr>\n",
       "    <tr>\n",
       "      <th>flg_001</th>\n",
       "      <td>2</td>\n",
       "      <td>0.0</td>\n",
       "      <td>100.0</td>\n",
       "    </tr>\n",
       "    <tr>\n",
       "      <th>xx_026</th>\n",
       "      <td>13487</td>\n",
       "      <td>35.1</td>\n",
       "      <td>100.0</td>\n",
       "    </tr>\n",
       "    <tr>\n",
       "      <th>dt_001</th>\n",
       "      <td>10673</td>\n",
       "      <td>27.8</td>\n",
       "      <td>100.0</td>\n",
       "    </tr>\n",
       "    <tr>\n",
       "      <th>xx_027</th>\n",
       "      <td>22</td>\n",
       "      <td>0.1</td>\n",
       "      <td>100.0</td>\n",
       "    </tr>\n",
       "    <tr>\n",
       "      <th>xx_028</th>\n",
       "      <td>63</td>\n",
       "      <td>0.2</td>\n",
       "      <td>100.0</td>\n",
       "    </tr>\n",
       "    <tr>\n",
       "      <th>xx_029</th>\n",
       "      <td>3</td>\n",
       "      <td>0.0</td>\n",
       "      <td>100.0</td>\n",
       "    </tr>\n",
       "    <tr>\n",
       "      <th>ty_006</th>\n",
       "      <td>3</td>\n",
       "      <td>0.0</td>\n",
       "      <td>100.0</td>\n",
       "    </tr>\n",
       "    <tr>\n",
       "      <th>id_033</th>\n",
       "      <td>38432</td>\n",
       "      <td>100.0</td>\n",
       "      <td>100.0</td>\n",
       "    </tr>\n",
       "  </tbody>\n",
       "</table>\n",
       "</div>"
      ],
      "text/plain": [
       "         nunique  ratio_unique  ratio_filled\n",
       "id_013       204           4.6          11.4\n",
       "id_014       204           4.6          11.4\n",
       "xx_006        26           0.4          18.3\n",
       "cl_002         1           0.0          18.3\n",
       "cl_004         5           0.1          16.0\n",
       "flg_000        2           0.0          18.3\n",
       "flg_004        1           0.0          18.3\n",
       "id_000     16651          43.3         100.0\n",
       "ty_000        17           0.0         100.0\n",
       "cl_000         2           0.0         100.0\n",
       "xx_000         6           0.0         100.0\n",
       "id_001      2843           7.7          95.6\n",
       "xx_001         1           0.0          71.4\n",
       "cl_001         2           0.0          68.3\n",
       "id_002         2           0.0          68.2\n",
       "id_003         5           0.0          88.5\n",
       "id_004       845           2.5          88.5\n",
       "id_005         6           0.0          58.9\n",
       "id_006       682           3.0          58.9\n",
       "id_007        26           0.1          52.2\n",
       "id_008       637           4.7          35.0\n",
       "xx_005         8           0.0         100.0\n",
       "ty_002        13           0.2          19.7\n",
       "ty_004         1           0.0          22.7\n",
       "cl_003         6           0.1          13.8\n",
       "id_018         2           0.0          10.9\n",
       "id_019         3           0.0          19.9\n",
       "xx_014         1           0.0          30.6\n",
       "cl_006         2           0.0          44.4\n",
       "cl_007         4           0.0          43.2\n",
       "cl_008         2           0.0          43.2\n",
       "id_024         2           0.0          43.2\n",
       "xx_016       991           2.6         100.0\n",
       "id_026      2583          37.0          18.2\n",
       "flg_001        2           0.0         100.0\n",
       "xx_026     13487          35.1         100.0\n",
       "dt_001     10673          27.8         100.0\n",
       "xx_027        22           0.1         100.0\n",
       "xx_028        63           0.2         100.0\n",
       "xx_029         3           0.0         100.0\n",
       "ty_006         3           0.0         100.0\n",
       "id_033     38432         100.0         100.0"
      ]
     },
     "execution_count": 50,
     "metadata": {},
     "output_type": "execute_result"
    }
   ],
   "source": [
    "df_analysis = pd.DataFrame(df_clean.nunique(),columns=['nunique'])\n",
    "df_analysis['ratio_unique'] = np.round(df_clean.nunique()/df_clean.count()*100,1)\n",
    "df_analysis['ratio_filled'] = np.round(df_clean.count()/len(df_clean.index)*100,1)\n",
    "df_analysis"
   ]
  },
  {
   "cell_type": "markdown",
   "metadata": {},
   "source": [
    "### Fill missing categorical values\n",
    "Since the few remaining undefined features have no missing values, we can simply fill all missing values with *unknown*."
   ]
  },
  {
   "cell_type": "markdown",
   "metadata": {},
   "source": [
    "#### Investigating xx_006\n",
    "This is the only **xx** that has missing values AND is not categorical."
   ]
  },
  {
   "cell_type": "code",
   "execution_count": 39,
   "metadata": {},
   "outputs": [
    {
     "name": "stderr",
     "output_type": "stream",
     "text": [
      "/home/lhw/DSproject/lib/python3.6/site-packages/numpy/lib/histograms.py:839: RuntimeWarning: invalid value encountered in greater_equal\n",
      "  keep = (tmp_a >= first_edge)\n",
      "/home/lhw/DSproject/lib/python3.6/site-packages/numpy/lib/histograms.py:840: RuntimeWarning: invalid value encountered in less_equal\n",
      "  keep &= (tmp_a <= last_edge)\n"
     ]
    },
    {
     "data": {
      "image/png": "[encoded data removed]",
      "text/plain": [
       "<Figure size 432x288 with 1 Axes>"
      ]
     },
     "metadata": {
      "needs_background": "light"
     },
     "output_type": "display_data"
    }
   ],
   "source": [
    "plt.hist(df_clean.xx_006,bins=20)\n",
    "plt.show()"
   ]
  },
  {
   "cell_type": "code",
   "execution_count": 51,
   "metadata": {},
   "outputs": [],
   "source": [
    "df_clean['xx_006'].fillna(0,inplace=True)\n",
    "for var in df_clean.columns:\n",
    "    df_clean[var].fillna(var+'_unknown',inplace=True)"
   ]
  },
  {
   "cell_type": "code",
   "execution_count": 52,
   "metadata": {},
   "outputs": [],
   "source": [
    "df_clean = df_clean.drop_duplicates()"
   ]
  },
  {
   "cell_type": "markdown",
   "metadata": {},
   "source": [
    "### Store a data_extra_base table without empty or duplicate features\n",
    "This table is a combination of the data and extra table. The product is cleaned from empty and less than 10% filles variables, where id's with value 0 or features with value '999' have been identified as nan, subcategories have been renamed, and empty values are replaced with '\\_unknown' (only categorical values had missing values). Duplicates are dropped. "
   ]
  },
  {
   "cell_type": "code",
   "execution_count": 53,
   "metadata": {},
   "outputs": [],
   "source": [
    "con = sqlite3.connect('../data/data2.db')\n",
    "df_clean.to_sql(name='data_extra_base',con=con,if_exists='replace')\n",
    "con.close()"
   ]
  },
  {
   "cell_type": "markdown",
   "metadata": {},
   "source": [
    "### Merge with the error table"
   ]
  },
  {
   "cell_type": "code",
   "execution_count": 54,
   "metadata": {},
   "outputs": [
    {
     "name": "stdout",
     "output_type": "stream",
     "text": [
      "<class 'pandas.core.frame.DataFrame'>\n",
      "Int64Index: 38554 entries, 0 to 38431\n",
      "Data columns (total 43 columns):\n",
      " #   Column   Non-Null Count  Dtype  \n",
      "---  ------   --------------  -----  \n",
      " 0   id_013   38554 non-null  object \n",
      " 1   id_014   38554 non-null  object \n",
      " 2   xx_006   38554 non-null  float64\n",
      " 3   cl_002   38554 non-null  object \n",
      " 4   cl_004   38554 non-null  object \n",
      " 5   flg_000  38554 non-null  object \n",
      " 6   flg_004  38554 non-null  object \n",
      " 7   id_000   38554 non-null  int64  \n",
      " 8   ty_000   38554 non-null  object \n",
      " 9   cl_000   38554 non-null  object \n",
      " 10  xx_000   38554 non-null  object \n",
      " 11  id_001   38554 non-null  object \n",
      " 12  xx_001   38554 non-null  object \n",
      " 13  cl_001   38554 non-null  object \n",
      " 14  id_002   38554 non-null  object \n",
      " 15  id_003   38554 non-null  object \n",
      " 16  id_004   38554 non-null  object \n",
      " 17  id_005   38554 non-null  object \n",
      " 18  id_006   38554 non-null  object \n",
      " 19  id_007   38554 non-null  object \n",
      " 20  id_008   38554 non-null  object \n",
      " 21  xx_005   38554 non-null  int64  \n",
      " 22  ty_002   38554 non-null  object \n",
      " 23  ty_004   38554 non-null  object \n",
      " 24  cl_003   38554 non-null  object \n",
      " 25  id_018   38554 non-null  object \n",
      " 26  id_019   38554 non-null  object \n",
      " 27  xx_014   38554 non-null  object \n",
      " 28  cl_006   38554 non-null  object \n",
      " 29  cl_007   38554 non-null  object \n",
      " 30  cl_008   38554 non-null  object \n",
      " 31  id_024   38554 non-null  object \n",
      " 32  xx_016   38554 non-null  int64  \n",
      " 33  id_026   38554 non-null  object \n",
      " 34  flg_001  38554 non-null  object \n",
      " 35  xx_026   38554 non-null  int64  \n",
      " 36  dt_001   38554 non-null  object \n",
      " 37  xx_027   38554 non-null  object \n",
      " 38  xx_028   38554 non-null  int64  \n",
      " 39  xx_029   38554 non-null  object \n",
      " 40  ty_006   38554 non-null  object \n",
      " 41  id_033   38554 non-null  int64  \n",
      " 42  error    2008 non-null   float64\n",
      "dtypes: float64(2), int64(6), object(35)\n",
      "memory usage: 12.9+ MB\n"
     ]
    }
   ],
   "source": [
    "df_combo= pd.read_sql('SELECT da.*, err.id_034 as error FROM data_extra_base as da LEFT JOIN error_clean as err on datetime(err.dt_001)=datetime(da.dt_001) AND (err.id_001 == da.id_001)','sqlite:///../data/data2.db',index_col='index')\n",
    "df_combo.info()"
   ]
  },
  {
   "cell_type": "markdown",
   "metadata": {},
   "source": [
    "We see that we have 2008 non-zero errors among the 39169 jobs. Feature **id_034** is now labeled as **error** and is chosen to represent the jobs with errors and will be masked as 0 (no error) and 1 (error) below. It was just important to choose a 100% filled feature from the error table that is not contained in the mfque table."
   ]
  },
  {
   "cell_type": "code",
   "execution_count": 55,
   "metadata": {},
   "outputs": [],
   "source": [
    "df_combo.loc[:,'error'] = df_combo['error'].apply(lambda x: 0 if math.isnan(x) else 1)"
   ]
  },
  {
   "cell_type": "markdown",
   "metadata": {},
   "source": [
    "Let's also make sure that we do not have duplicate rows."
   ]
  },
  {
   "cell_type": "code",
   "execution_count": 56,
   "metadata": {},
   "outputs": [],
   "source": [
    "df_combo.drop_duplicates(inplace= True)"
   ]
  },
  {
   "cell_type": "markdown",
   "metadata": {},
   "source": [
    "For now, the other features remain as they are and will be dealt with in the Exploratory Data Analysis section."
   ]
  },
  {
   "cell_type": "markdown",
   "metadata": {},
   "source": [
    "## Save to SQL file"
   ]
  },
  {
   "cell_type": "code",
   "execution_count": 57,
   "metadata": {},
   "outputs": [],
   "source": [
    "con = sqlite3.connect('../data/data2.db')\n",
    "df_combo.to_sql(name='data_extra_base_error',con=con,if_exists='replace')\n",
    "con.close()"
   ]
  },
  {
   "cell_type": "markdown",
   "metadata": {},
   "source": [
    "## Reduce the number of categories\n",
    "\n",
    "**!!! NOTE: THIS TECHNIQUE LIKELY REDUCES INFORMATION THAT MIGHT BE RELEVANT FOR THE ERRORS SINCE THE CFC DOES NOT TAKE THE RELEVANCE FOR THE ERRORS INTO ACCOUNT !!!!**"
   ]
  },
  {
   "cell_type": "markdown",
   "metadata": {},
   "source": [
    "### Make exemplary Cummulative Frequency Curve plot"
   ]
  },
  {
   "cell_type": "code",
   "execution_count": 85,
   "metadata": {},
   "outputs": [],
   "source": [
    "def cfc(data):\n",
    "    # Cumulative frequency curve\n",
    "    # Determine x and y values for the cummulative Frequency Curve based on the counts in data\n",
    "    # data: counts of occurance of several features\n",
    "    #returns the category counts x and the relative count/occurance of the individual category\n",
    "\n",
    "    data = -1* np.sort(-data)\n",
    "    total = sum(data)\n",
    "    y = [data[0]] \n",
    "    for yi in data[1:]:\n",
    "        y.append(yi+y[-1])\n",
    "    y = y/total\n",
    "    x = np.arange(1,len(data)+1)/len(data)\n",
    "    return x,y;"
   ]
  },
  {
   "cell_type": "code",
   "execution_count": 83,
   "metadata": {},
   "outputs": [
    {
     "data": {
      "text/plain": [
       "Index(['id_000', 'ty_000', 'cl_000', 'xx_000', 'id_001', 'xx_001', 'cl_001',\n",
       "       'id_002', 'id_003', 'id_004', 'id_005', 'id_006', 'id_007', 'id_008',\n",
       "       'xx_005', 'ty_002', 'ty_004', 'cl_003', 'id_018', 'id_019', 'cl_005',\n",
       "       'xx_014', 'cl_006', 'cl_007', 'cl_008', 'id_024', 'xx_016', 'id_026',\n",
       "       'flg_001', 'xx_026', 'dt_001', 'xx_027', 'xx_028', 'xx_029', 'ty_006',\n",
       "       'id_033', 'error'],\n",
       "      dtype='object')"
      ]
     },
     "execution_count": 83,
     "metadata": {},
     "output_type": "execute_result"
    }
   ],
   "source": [
    "df.columns"
   ]
  },
  {
   "cell_type": "code",
   "execution_count": 87,
   "metadata": {},
   "outputs": [
    {
     "data": {
      "image/png": "[encoded data removed]",
      "text/plain": [
       "<Figure size 432x288 with 1 Axes>"
      ]
     },
     "metadata": {
      "needs_background": "light"
     },
     "output_type": "display_data"
    }
   ],
   "source": [
    "df = pd.read_sql('SELECT * FROM data_base_error','sqlite:///../data/data2.db',index_col='index')\n",
    "\n",
    "var = 'cl_003'\n",
    "counts = df[var].value_counts()\n",
    "x, y = cfc(counts)\n",
    "plt.plot(x,y,'.')\n",
    "#mu = np.mean(counts)\n",
    "#sigma = np.std(counts)\n",
    "#samples = np.random.normal(mu,sigma,size=10000)\n",
    "#x_theor, y_theor = cfc(samples)\n",
    "#plt.plot(x_theor,y_theor)\n",
    "plt.plot([0,1],[0.95,0.95],'k--',alpha=0.5)\n",
    "plt.plot([0,1],[1,1],'k',alpha=0.5)\n",
    "plt.title('{} (N = {})'.format(var,len(counts)))\n",
    "plt.show()\n",
    "#print(np.round(mu,2),np.round(sigma,2))"
   ]
  },
  {
   "cell_type": "code",
   "execution_count": 88,
   "metadata": {},
   "outputs": [
    {
     "data": {
      "image/png": "[encoded data removed]",
      "text/plain": [
       "<Figure size 432x288 with 1 Axes>"
      ]
     },
     "metadata": {
      "needs_background": "light"
     },
     "output_type": "display_data"
    }
   ],
   "source": [
    "df = pd.read_sql('SELECT * FROM data_base_error','sqlite:///../data/data2.db',index_col='index')\n",
    "\n",
    "var = 'cl_003'\n",
    "counts = df.loc[df['error']==1,var].value_counts()\n",
    "x, y = cfc(counts)\n",
    "plt.plot(x,y,'.')\n",
    "#mu = np.mean(counts)\n",
    "#sigma = np.std(counts)\n",
    "#samples = np.random.normal(mu,sigma,size=10000)\n",
    "#x_theor, y_theor = cfc(samples)\n",
    "#plt.plot(x_theor,y_theor)\n",
    "plt.plot([0,1],[0.95,0.95],'k--',alpha=0.5)\n",
    "plt.plot([0,1],[1,1],'k',alpha=0.5)\n",
    "plt.title('{} (N = {})'.format(var,len(counts)))\n",
    "plt.show()\n",
    "#print(np.round(mu,2),np.round(sigma,2))"
   ]
  },
  {
   "cell_type": "markdown",
   "metadata": {},
   "source": [
    "The example above shows, that it takes only 3 out of 7 categories to represent over 95% of the data set. Furthermore, there is 1 category that represents more than 85% of the data.\n",
    "\n",
    "Below we analyze categorical features for their potential to reduce the number of categories by replacing categories which contribute only to the final 5% of the cumulative frequency. Dummies for the remaining categories are created."
   ]
  },
  {
   "cell_type": "code",
   "execution_count": 23,
   "metadata": {},
   "outputs": [
    {
     "name": "stdout",
     "output_type": "stream",
     "text": [
      "id_013 does not have enough dominant features.\n",
      "id_014 does not have enough dominant features.\n",
      "xx_006  is not a string\n",
      "id_016 does not have enough dominant features.\n",
      "cl_002 has only two categories, namely cl_002_unknown and cl_002_000.\n",
      "For cl_004 6138 entries were reduced.\n",
      "For flg_000 7652 entries were reduced.\n",
      "id_000  is not a string\n",
      "For ty_000 4042 entries were reduced.\n",
      "cl_000 has only two categories, namely cl_000_000 and cl_000_001.\n",
      "For xx_000 5879 entries were reduced.\n",
      "id_001 does not have enough dominant features.\n",
      "xx_001 has only two categories, namely xx_001_000 and xx_001_unknown.\n",
      "For cl_001 8486 entries were reduced.\n",
      "For id_002 12717 entries were reduced.\n",
      "For id_003 2399 entries were reduced.\n",
      "id_004 does not have enough dominant features.\n",
      "For id_005 2403 entries were reduced.\n",
      "id_006 does not have enough dominant features.\n",
      "For id_007 1977 entries were reduced.\n",
      "id_008 does not have enough dominant features.\n",
      "xx_005  is not a string\n",
      "For ty_002 2274 entries were reduced.\n",
      "ty_004 has only two categories, namely ty_004_unknown and ty_004_000.\n",
      "For cl_003 3043 entries were reduced.\n",
      "For id_018 4188 entries were reduced.\n",
      "For id_019 2240 entries were reduced.\n",
      "xx_014 has only two categories, namely xx_014_unknown and xx_014_0.\n",
      "For cl_006 17061 entries were reduced.\n",
      "For cl_007 8549 entries were reduced.\n",
      "For cl_008 16621 entries were reduced.\n",
      "For id_024 16621 entries were reduced.\n",
      "xx_016  is not a string\n",
      "id_026 does not have enough dominant features.\n",
      "flg_001 has only two categories, namely flg_001_0 and flg_001_1.\n",
      "xx_026  is not a string\n",
      "dt_001  is not a string\n",
      "For xx_027 2770 entries were reduced.\n",
      "xx_028  is not a string\n",
      "For xx_029 5296 entries were reduced.\n",
      "For ty_006 5296 entries were reduced.\n",
      "id_033  is not a string\n"
     ]
    }
   ],
   "source": [
    "df_reduced = df.copy()\n",
    "for var in df.columns:   #['client']:# \n",
    "    if type(df[var][0]) != str:\n",
    "        print(var, ' is not a string')\n",
    "        continue\n",
    "    counts = df[var].value_counts()\n",
    "    x,y = cfc(counts)\n",
    "    if len(counts) == 1:\n",
    "        print('{} has only one category, namely {}.'.format(var,counts.index[0]))\n",
    "        df_reduced.drop(var,axis=1,inplace=True)\n",
    "    elif len(counts) == 2:\n",
    "        if (1 in counts.index) & (0 in counts.index):\n",
    "            print('{} remains {} and {}.'.format(var,counts.index[0],counts.index[1]))\n",
    "            continue\n",
    "        elif ('1' in counts.index) & ('0' in counts.index):\n",
    "            df_reduced.loc[:,var] = df_reduced[var].astype(int)\n",
    "        print('{} has only two categories, namely {} and {}.'.format(var,counts.index[0],counts.index[1]))\n",
    "    elif len(counts) == len(df[var]):\n",
    "        print('{} has only unique values.'.format(var))    \n",
    "    elif min(y) > 0.95:\n",
    "        df_reduced.loc[df_reduced[var].isin(counts.index[1:]),var] = var +'_other'\n",
    "    else:\n",
    "        ind = np.max(np.where(y <= 0.95)[0])\n",
    "        if (ind <= 0.75 * len(counts.index)) & (ind < 10):\n",
    "            df_reduced.loc[df_reduced[var].isin(counts.index[ind+1:]),var] = var +'_other'\n",
    "            print('For {} {} entries were reduced.'.format(var,sum(df_reduced[var]==var +'_other')))\n",
    "        else:\n",
    "            print('{} does not have enough dominant features.'.format(var))"
   ]
  },
  {
   "cell_type": "code",
   "execution_count": null,
   "metadata": {},
   "outputs": [],
   "source": []
  }
 ],
 "metadata": {
  "kernelspec": {
   "display_name": "Python 3",
   "language": "python",
   "name": "python3"
  },
  "language_info": {
   "codemirror_mode": {
    "name": "ipython",
    "version": 3
   },
   "file_extension": ".py",
   "mimetype": "text/x-python",
   "name": "python",
   "nbconvert_exporter": "python",
   "pygments_lexer": "ipython3",
   "version": "3.6.9"
  }
 },
 "nbformat": 4,
 "nbformat_minor": 4
}
