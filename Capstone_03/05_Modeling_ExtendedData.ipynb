{
 "cells": [
  {
   "cell_type": "markdown",
   "metadata": {},
   "source": [
    "# Modeling"
   ]
  },
  {
   "cell_type": "markdown",
   "metadata": {},
   "source": [
    "In this notebook various classification models will be tested in their pridictive power for the errors. As measures precision (few false alarms) and high recall (no error is missed) are taken.\n",
    "\n",
    "The first models are a **logistic regression** and a **naive Bayes** model. Next, we will go into some more complex classification models like **(kernel) SVM**, **decision tree** or **ensemble based** models. "
   ]
  },
  {
   "cell_type": "code",
   "execution_count": 1,
   "metadata": {},
   "outputs": [],
   "source": [
    "import pandas as pd\n",
    "import numpy as np\n",
    "import matplotlib.pyplot as plt\n",
    "import seaborn as sns\n",
    "import sqlite3\n",
    "import time\n",
    "%matplotlib inline"
   ]
  },
  {
   "cell_type": "code",
   "execution_count": 2,
   "metadata": {},
   "outputs": [],
   "source": [
    "from sklearn.metrics import accuracy_score, recall_score, precision_score, roc_auc_score, f1_score"
   ]
  },
  {
   "cell_type": "code",
   "execution_count": 3,
   "metadata": {},
   "outputs": [],
   "source": [
    "import matplotlib as mpl\n",
    "font = {'size':16}\n",
    "mpl.rc('font',**font)\n",
    "mpl.rcParams['xtick.labelsize']=14\n",
    "mpl.rcParams['ytick.labelsize']=14\n",
    "mpl.rcParams['axes.labelsize']='small'"
   ]
  },
  {
   "cell_type": "markdown",
   "metadata": {},
   "source": [
    "### Load Functions"
   ]
  },
  {
   "cell_type": "code",
   "execution_count": 4,
   "metadata": {},
   "outputs": [],
   "source": [
    "def update_results(dic,method,file='../data/results.db'):\n",
    "    con = sqlite3.connect(file)\n",
    "    cursor = con.cursor()\n",
    "    cursor.execute(\"SELECT * FROM results;\")\n",
    "    if method not in [i[0] for i in cursor.description]:\n",
    "        cursor.execute(\"ALTER TABLE results ADD COLUMN '%s' REAL\" %method)\n",
    "        con.commit()\n",
    "    query = \"UPDATE results SET {} = ? WHERE score = ?\".format(method)\n",
    "    for score in dic.keys():\n",
    "        cursor.execute(query ,(dic[score], score))\n",
    "        con.commit()\n",
    "    con.close()\n",
    "    return;\n",
    "\n",
    "def score_func(ypredict,ytest,prob=[],prt_info = False):\n",
    "    # Function returns a dictionary with the key measures, printing the results is optional with prt_info\n",
    "    accuracy = accuracy_score(ytest,ypredict)\n",
    "    recall = recall_score(ytest,ypredict)\n",
    "    precision = precision_score(ytest,ypredict)\n",
    "    f1sc = f1_score(ytest,ypredict)\n",
    "    result_dic = {'accuracy':accuracy,'recall':recall,'precision':precision,'f1-score':f1sc}\n",
    "    if prt_info:\n",
    "        print('The accuracy is {:.3f}, meaning that {:.1f}% of the data was predicted right.'.format(accuracy, accuracy*100))\n",
    "        print('The recall is {:.3f}, meaning that {:.1f}% of errors were predicted right.'.format(recall, recall*100))\n",
    "        print('The precision is {:.3f}, meaning that only {:.1f}% of the predicted errors were actual errors.'.format(precision, precision*100))\n",
    "        print('The f1 score is {:.3f}.'.format(f1sc))\n",
    "    if prob:\n",
    "        prob_y_2 = [p[1] for p in prob]\n",
    "        roc_auc =roc_auc_score(ytest,prob_y_2)\n",
    "        result_dic.update({'AUROC':roc_auc})\n",
    "        if prt_info:\n",
    "            print('The area under the ROC-AUC curve is {:.3f} with a minimum of 0.5.'.format(roc_auc))\n",
    "    \n",
    "    return result_dic;"
   ]
  },
  {
   "cell_type": "code",
   "execution_count": 35,
   "metadata": {},
   "outputs": [],
   "source": [
    "def feature_def(feat,file='../data/feature_tabs2.db'):\n",
    "    table = 'xx'\n",
    "    for name in ['id','flg','cl','ty','dt']:\n",
    "        if name in feat:\n",
    "            table = name\n",
    "            break\n",
    "    df = pd.read_sql('SELECT * FROM '+table,'sqlite:///'+file,index_col='index') \n",
    "    if feat in df.original.values:\n",
    "        return df.loc[df.original== feat,'acronym'].iloc[0]\n",
    "    elif feat in df.acronym.values:\n",
    "        return df.loc[df.acronym== feat,'original'].iloc[0]\n",
    "    else:\n",
    "        print('Feature not found.')\n",
    "        return []"
   ]
  },
  {
   "cell_type": "markdown",
   "metadata": {},
   "source": [
    "## Load Data"
   ]
  },
  {
   "cell_type": "code",
   "execution_count": 5,
   "metadata": {},
   "outputs": [],
   "source": [
    "from scipy.sparse import csr_matrix, save_npz, load_npz\n",
    "Xtrain = load_npz('../data/data_extra_base_Xtrain2.npz')\n",
    "Xtest = load_npz('../data/data_extra_base_Xtest2.npz')\n",
    "df_ytrain = pd.read_sql(\"SELECT * FROM y_train\", 'sqlite:///../data/model_data_extra_base2.db',index_col='index')\n",
    "df_ytest = pd.read_sql(\"SELECT * FROM y_test\", 'sqlite:///../data/model_data_extra_base2.db',index_col='index')\n",
    "ytrain = df_ytrain.values.ravel() #.reshape(1,1)\n",
    "ytest = df_ytest.values.ravel() #.reshape(1,-1)\n",
    "columns = np.load('../data/data_extra_base_columns2.npy',allow_pickle=True)"
   ]
  },
  {
   "cell_type": "markdown",
   "metadata": {},
   "source": [
    "Since some model fitting takes a long time and we do not want to repeat this step every time we start the kernel anew, the previous model results are stored in *results_extra.db*."
   ]
  },
  {
   "cell_type": "code",
   "execution_count": 6,
   "metadata": {},
   "outputs": [
    {
     "name": "stdout",
     "output_type": "stream",
     "text": [
      "Existing Scores:  dict_keys(['LogisticRegression', 'RandomSearch_LogReg', 'RandomSearch_LogReg_saga', 'SVC', 'RandomSearch_SVC', 'RandomSearch_SVC_rbf', 'RandomSearch_SVC_rbf_gamma', 'RandomForest', 'RandSearch_RandomForest', 'SVC_rbf_SMOTE', 'LogisticRegression_SMOTE', 'SVC_rbf_Important', 'SVC_rbf_No016Cluster', 'SVC_rbf_NoDate', 'SVC_rbf_NoDate2', 'SVC_rbf_Noxx_016', 'SVC_rbf_Noid_008', 'SVC_rbf_Noid_004', 'SVC_rbf_Noid_006', 'RandomSearch_SVC_rbf_smote', 'RandomSearch_SVC_gamma_Important'])\n"
     ]
    }
   ],
   "source": [
    "results_file = '../data/results_base_extra2.db'\n",
    "import os\n",
    "if os.path.exists(results_file):\n",
    "    results = pd.read_sql('SELECT * FROM results','sqlite:///'+results_file,index_col='score')\n",
    "    results.drop('index',axis=1,inplace=True)\n",
    "    result_dic = results.to_dict()\n",
    "    print('Existing Scores: ',result_dic.keys())\n",
    "else:\n",
    "    results = pd.DataFrame(['accuracy','f1-score','precision','recall'], columns=['score'])\n",
    "    con = sqlite3.connect(results_file)\n",
    "    results.to_sql(name='results',con=con,if_exists='replace')\n",
    "    result_dic = {}\n",
    "    print('new')\n",
    "    con.close()"
   ]
  },
  {
   "cell_type": "markdown",
   "metadata": {},
   "source": [
    "## Naive Bayes\n",
    "With our data set we can assume that a) errors are instantaneous occurances and do not depend on previous actions, and b) errors do not depend on other jobs occuring at the same time. Therefore, **Naive Bayes** is a good start for our model study."
   ]
  },
  {
   "cell_type": "code",
   "execution_count": 7,
   "metadata": {},
   "outputs": [
    {
     "name": "stdout",
     "output_type": "stream",
     "text": [
      "The accuracy is 0.958, meaning that 95.8% of the data was predicted right.\n",
      "The recall is 0.995, meaning that 99.5% of errors were predicted right.\n",
      "The precision is 0.537, meaning that only 53.7% of the predicted errors were actual errors.\n",
      "The f1 score is 0.698.\n"
     ]
    }
   ],
   "source": [
    "from sklearn.naive_bayes import GaussianNB\n",
    "gnb = GaussianNB()\n",
    "gnb.fit(Xtrain.todense(),ytrain) # does not work with sparse matrixes\n",
    "ypredict = gnb.predict(Xtest.todense())\n",
    "method = 'GaussianNB'\n",
    "result_dic.update({method:score_func(ypredict,ytest,prt_info=True)})\n",
    "update_results(result_dic[method],method)"
   ]
  },
  {
   "cell_type": "markdown",
   "metadata": {},
   "source": [
    "While the **recall is very good** the **precision is lousy** which is to expected with an imbalanced data set like ours. Before we go into more detailed parameter tuning or reassessment of our data, let's try the **Complement Naive Bayes** model, which is specifically designed for sparse data sets."
   ]
  },
  {
   "cell_type": "code",
   "execution_count": 8,
   "metadata": {},
   "outputs": [
    {
     "name": "stdout",
     "output_type": "stream",
     "text": [
      "The accuracy is 0.886, meaning that 88.6% of the data was predicted right.\n",
      "The recall is 0.920, meaning that 92.0% of errors were predicted right.\n",
      "The precision is 0.291, meaning that only 29.1% of the predicted errors were actual errors.\n",
      "The f1 score is 0.442.\n"
     ]
    }
   ],
   "source": [
    "from sklearn.naive_bayes import ComplementNB\n",
    "cnb = ComplementNB()\n",
    "cnb.fit(Xtrain,ytrain)\n",
    "ypredict = cnb.predict(Xtest)\n",
    "method = 'ComplementNB'\n",
    "result_dic.update({method:score_func(ypredict,ytest,prt_info=True)})\n",
    "update_results(result_dic[method],method)"
   ]
  },
  {
   "cell_type": "markdown",
   "metadata": {},
   "source": [
    "We can see that the **performance is even worse**. It is clear that the imbalanced data set should be dealt with with care."
   ]
  },
  {
   "cell_type": "markdown",
   "metadata": {},
   "source": [
    "## Logistic Regression"
   ]
  },
  {
   "cell_type": "code",
   "execution_count": 9,
   "metadata": {},
   "outputs": [],
   "source": [
    "from sklearn.linear_model import LogisticRegression"
   ]
  },
  {
   "cell_type": "code",
   "execution_count": 8,
   "metadata": {},
   "outputs": [
    {
     "name": "stdout",
     "output_type": "stream",
     "text": [
      "The accuracy is 0.967, meaning that 96.7% of the data was predicted right.\n",
      "The recall is 1.000, meaning that 100.0% of errors were predicted right.\n",
      "The precision is 0.600, meaning that only 60.0% of the predicted errors were actual errors.\n",
      "The f1 score is 0.750.\n"
     ]
    }
   ],
   "source": [
    "from sklearn.linear_model import LogisticRegression\n",
    "logreg = LogisticRegression(random_state=42,class_weight='balanced',multi_class='auto',solver='lbfgs',max_iter=1000)\n",
    "logreg.fit(Xtrain,ytrain)\n",
    "ypredict = logreg.predict(Xtest)\n",
    "method = 'LogisticRegression'\n",
    "result_dic.update({method:score_func(ypredict,ytest,prt_info=True)})\n",
    "update_results(result_dic[method],method,results_file)"
   ]
  },
  {
   "cell_type": "markdown",
   "metadata": {},
   "source": [
    "This is the **best result so far** and was achieved with the help of the **balanced class weights** which take the distribution of the target value into account and uses its frequency as an inverse weight. A **recall of 100% is suspicious (overfitting)** though.."
   ]
  },
  {
   "cell_type": "markdown",
   "metadata": {},
   "source": [
    "#### RandomizedSearch for Hyperparameter-Tuning"
   ]
  },
  {
   "cell_type": "code",
   "execution_count": 10,
   "metadata": {},
   "outputs": [
    {
     "name": "stdout",
     "output_type": "stream",
     "text": [
      "Best parameters are:  {'C': 24.03929474738365}\n",
      "The accuracy is 0.984, meaning that 98.4% of the data was predicted right.\n",
      "The recall is 0.997, meaning that 99.7% of errors were predicted right.\n",
      "The precision is 0.752, meaning that only 75.2% of the predicted errors were actual errors.\n",
      "The f1 score is 0.857.\n"
     ]
    }
   ],
   "source": [
    "from sklearn.model_selection import RandomizedSearchCV, StratifiedKFold\n",
    "from scipy.stats import loguniform\n",
    "params = {\"C\":loguniform(a=1e1,b=3e1)}\n",
    "cv = StratifiedKFold(n_splits=10,shuffle=True,random_state=42)\n",
    "logreg = LogisticRegression(random_state=42,class_weight='balanced',max_iter=100000)\n",
    "rand_lr = RandomizedSearchCV(estimator=logreg,param_distributions=params,n_jobs=1,cv=cv,scoring=['f1','precision','recall'],refit='f1')\n",
    "rand_lr.fit(Xtrain,ytrain)\n",
    "print('Best parameters are: ', rand_lr.best_params_)\n",
    "ypredict = rand_lr.predict(Xtest)\n",
    "method = 'RandomSearch_LogReg'\n",
    "result_dic.update({method:score_func(ypredict,ytest,prt_info=True)})\n",
    "update_results(result_dic[method],method,results_file)"
   ]
  },
  {
   "cell_type": "code",
   "execution_count": 11,
   "metadata": {},
   "outputs": [
    {
     "name": "stdout",
     "output_type": "stream",
     "text": [
      "Best parameters are:  {'C': 25.531829749546652}\n",
      "The accuracy is 0.980, meaning that 98.0% of the data was predicted right.\n",
      "The recall is 0.997, meaning that 99.7% of errors were predicted right.\n",
      "The precision is 0.704, meaning that only 70.4% of the predicted errors were actual errors.\n",
      "The f1 score is 0.825.\n"
     ]
    }
   ],
   "source": [
    "from sklearn.model_selection import RandomizedSearchCV, StratifiedKFold\n",
    "from scipy.stats import loguniform\n",
    "params = {\"C\":loguniform(a=1e1,b=3e1)}\n",
    "cv = StratifiedKFold(n_splits=10,shuffle=True,random_state=42)\n",
    "logreg = LogisticRegression(random_state=42,class_weight='balanced',max_iter=100000,solver='saga')\n",
    "rand_lr = RandomizedSearchCV(estimator=logreg,param_distributions=params,n_jobs=1,cv=cv,scoring=['f1','precision','recall'],refit='f1')\n",
    "rand_lr.fit(Xtrain,ytrain)\n",
    "print('Best parameters are: ', rand_lr.best_params_)\n",
    "ypredict = rand_lr.predict(Xtest)\n",
    "method = 'RandomSearch_LogReg_saga'\n",
    "result_dic.update({method:score_func(ypredict,ytest,prt_info=True)})\n",
    "update_results(result_dic[method],method,results_file)"
   ]
  },
  {
   "cell_type": "markdown",
   "metadata": {},
   "source": [
    "Compared to the previous models, **RandomizedSearch improved the performance**. The best result so far is **Logistic Regression with solver lbfgs and C $\\approx$ 24.03**. Having **25% false positives (false alarms)** is quite okay, but more analysis should be done."
   ]
  },
  {
   "cell_type": "markdown",
   "metadata": {},
   "source": [
    "## Penalize Algorithm: Support Vector Machine Classifier\n",
    "Let's try to improve the performance by penalizing mistakes with the minority class, or in other words penalizing when errors where not predicted correctly."
   ]
  },
  {
   "cell_type": "code",
   "execution_count": 12,
   "metadata": {},
   "outputs": [
    {
     "name": "stdout",
     "output_type": "stream",
     "text": [
      "The accuracy is 0.979, meaning that 97.9% of the data was predicted right.\n",
      "The recall is 0.989, meaning that 98.9% of errors were predicted right.\n",
      "The precision is 0.705, meaning that only 70.5% of the predicted errors were actual errors.\n",
      "The f1 score is 0.823.\n"
     ]
    }
   ],
   "source": [
    "from sklearn.svm import SVC\n",
    "svc = SVC(class_weight='balanced',kernel='linear') # kernel='rbf' which is given as default does not perform as well with f1 = 47.6, but stronger in recall\n",
    "svc.fit(Xtrain,ytrain)\n",
    "ypredict = svc.predict(Xtest)\n",
    "method = 'SVC'\n",
    "result_dic.update({method:score_func(ypredict,ytest,prt_info=True)})\n",
    "update_results(result_dic[method],method,results_file)"
   ]
  },
  {
   "cell_type": "markdown",
   "metadata": {},
   "source": [
    "This is a **promising f1-score and precision** for a first try. So let's try to improve the SVC model parameterization with the help of RandomizedSearchCV."
   ]
  },
  {
   "cell_type": "code",
   "execution_count": 13,
   "metadata": {},
   "outputs": [
    {
     "name": "stdout",
     "output_type": "stream",
     "text": [
      "Fitting 10 folds for each of 10 candidates, totalling 100 fits\n"
     ]
    },
    {
     "name": "stderr",
     "output_type": "stream",
     "text": [
      "[Parallel(n_jobs=-1)]: Using backend SequentialBackend with 1 concurrent workers.\n",
      "[Parallel(n_jobs=-1)]: Done 100 out of 100 | elapsed: 44.2min finished\n"
     ]
    },
    {
     "name": "stdout",
     "output_type": "stream",
     "text": [
      "Time to fit:  2729.5812289714813\n",
      "Best parameters are:  {'C': 27.20154871488711}\n",
      "Time to predict:  1.174307107925415\n",
      "The accuracy is 0.983, meaning that 98.3% of the data was predicted right.\n",
      "The recall is 0.981, meaning that 98.1% of errors were predicted right.\n",
      "The precision is 0.749, meaning that only 74.9% of the predicted errors were actual errors.\n",
      "The f1 score is 0.850.\n"
     ]
    }
   ],
   "source": [
    "from sklearn.model_selection import RandomizedSearchCV, StratifiedKFold\n",
    "from scipy.stats import loguniform\n",
    "params = {\"C\":loguniform(a=1.5e1,b=3e1)}\n",
    "cv = StratifiedKFold(n_splits=10,shuffle=True,random_state=42)\n",
    "svc = SVC(random_state=42,class_weight='balanced',kernel='linear')\n",
    "rand_svc = RandomizedSearchCV(estimator=svc,param_distributions=params,n_jobs=-1,cv=cv,scoring=['f1','precision','recall'],refit='f1',verbose=True)\n",
    "t_start = time.time()\n",
    "rand_svc.fit(Xtrain,ytrain)\n",
    "print('Time to fit: ',time.time()-t_start)\n",
    "print('Best parameters are: ', rand_svc.best_params_)\n",
    "t_start = time.time()\n",
    "ypredict = rand_svc.predict(Xtest)\n",
    "print('Time to predict: ',time.time()-t_start)\n",
    "method = 'RandomSearch_SVC'\n",
    "result_dic.update({method:score_func(ypredict,ytest,prt_info=True)})\n",
    "update_results(result_dic[method],method,results_file)"
   ]
  },
  {
   "cell_type": "code",
   "execution_count": 14,
   "metadata": {},
   "outputs": [
    {
     "name": "stdout",
     "output_type": "stream",
     "text": [
      "Fitting 10 folds for each of 10 candidates, totalling 100 fits\n"
     ]
    },
    {
     "name": "stderr",
     "output_type": "stream",
     "text": [
      "[Parallel(n_jobs=-1)]: Using backend SequentialBackend with 1 concurrent workers.\n",
      "[Parallel(n_jobs=-1)]: Done 100 out of 100 | elapsed: 38.3min finished\n"
     ]
    },
    {
     "name": "stdout",
     "output_type": "stream",
     "text": [
      "Time to fit:  2337.906134366989\n",
      "Best parameters are:  {'C': 27.401169563623807}\n",
      "Time to predict:  4.799362659454346\n",
      "The accuracy is 0.986, meaning that 98.6% of the data was predicted right.\n",
      "The recall is 0.984, meaning that 98.4% of errors were predicted right.\n",
      "The precision is 0.781, meaning that only 78.1% of the predicted errors were actual errors.\n",
      "The f1 score is 0.871.\n"
     ]
    }
   ],
   "source": [
    "from sklearn.model_selection import RandomizedSearchCV, StratifiedKFold\n",
    "from scipy.stats import loguniform\n",
    "params = {\"C\":loguniform(a=1.5e1,b=3e1)}\n",
    "cv = StratifiedKFold(n_splits=10,shuffle=True,random_state=42)\n",
    "svc = SVC(random_state=42,class_weight='balanced')\n",
    "rand_svc = RandomizedSearchCV(estimator=svc,param_distributions=params,n_jobs=-1,cv=cv,scoring=['f1','precision','recall'],refit='f1',verbose=True)\n",
    "t_start = time.time()\n",
    "rand_svc.fit(Xtrain,ytrain)\n",
    "print('Time to fit: ',time.time()-t_start)\n",
    "print('Best parameters are: ', rand_svc.best_params_)\n",
    "t_start = time.time()\n",
    "ypredict = rand_svc.predict(Xtest)\n",
    "print('Time to predict: ',time.time()-t_start)\n",
    "method = 'RandomSearch_SVC_rbf'\n",
    "result_dic.update({method:score_func(ypredict,ytest,prt_info=True)})\n",
    "update_results(result_dic[method],method,results_file)"
   ]
  },
  {
   "cell_type": "markdown",
   "metadata": {},
   "source": [
    "Let's try one more thing: tuning gamma. The reason for this is that in the default setup gamma scales with the inverse of the number of features. Our dataset has a lot of features that might not be relevant. Therefore gamma could be too small and hence the radius of the Radial Basis Function too large."
   ]
  },
  {
   "cell_type": "code",
   "execution_count": 15,
   "metadata": {},
   "outputs": [
    {
     "name": "stdout",
     "output_type": "stream",
     "text": [
      "Fitting 10 folds for each of 10 candidates, totalling 100 fits\n"
     ]
    },
    {
     "name": "stderr",
     "output_type": "stream",
     "text": [
      "[Parallel(n_jobs=-1)]: Using backend SequentialBackend with 1 concurrent workers.\n",
      "[Parallel(n_jobs=-1)]: Done 100 out of 100 | elapsed: 195.2min finished\n"
     ]
    },
    {
     "name": "stdout",
     "output_type": "stream",
     "text": [
      "Time to fit:  11755.411760568619\n"
     ]
    }
   ],
   "source": [
    "from sklearn.model_selection import RandomizedSearchCV, StratifiedKFold\n",
    "from scipy.stats import loguniform\n",
    "params = {\"C\":loguniform(a=1.5e1,b=3e1),'gamma':loguniform(a=1e-3,b=1e0)}\n",
    "cv = StratifiedKFold(n_splits=10,shuffle=True,random_state=42)\n",
    "svc = SVC(random_state=42,class_weight='balanced')\n",
    "rand_svc_gamma = RandomizedSearchCV(estimator=svc,param_distributions=params,n_jobs=-1,cv=cv,scoring=['f1','precision','recall'],refit='f1',verbose=True)\n",
    "t_start = time.time()\n",
    "rand_svc_gamma.fit(Xtrain,ytrain)\n",
    "print('Time to fit: ',time.time()-t_start)"
   ]
  },
  {
   "cell_type": "code",
   "execution_count": 16,
   "metadata": {},
   "outputs": [
    {
     "name": "stdout",
     "output_type": "stream",
     "text": [
      "Best parameters are:  {'C': 16.339651086494584, 'gamma': 0.03787891440837027}\n",
      "Time to predict:  5.10407829284668\n",
      "The accuracy is 0.986, meaning that 98.6% of the data was predicted right.\n",
      "The recall is 0.981, meaning that 98.1% of errors were predicted right.\n",
      "The precision is 0.782, meaning that only 78.2% of the predicted errors were actual errors.\n",
      "The f1 score is 0.871.\n"
     ]
    }
   ],
   "source": [
    "print('Best parameters are: ', rand_svc_gamma.best_params_)\n",
    "t_start = time.time()\n",
    "ypredict = rand_svc_gamma.predict(Xtest)\n",
    "print('Time to predict: ',time.time()-t_start)\n",
    "method = 'RandomSearch_SVC_rbf_gamma'\n",
    "result_dic.update({method:score_func(ypredict,ytest,prt_info=True)})\n",
    "update_results(result_dic[method],method,results_file)"
   ]
  },
  {
   "cell_type": "markdown",
   "metadata": {},
   "source": [
    "### Visualize the best 6 results so far"
   ]
  },
  {
   "cell_type": "code",
   "execution_count": 16,
   "metadata": {},
   "outputs": [
    {
     "data": {
      "text/plain": [
       "['SVC',\n",
       " 'Logistic Regression \\n RandomSearch \\n saga',\n",
       " 'Logistic Regression \\n RandomSearch',\n",
       " 'SVC \\n RandomSearch',\n",
       " 'SVC \\n RandomSearch \\n rbf gamma',\n",
       " 'SVC \\n RandomSearch \\n rbf']"
      ]
     },
     "execution_count": 16,
     "metadata": {},
     "output_type": "execute_result"
    }
   ],
   "source": [
    "ticklabel = []\n",
    "for v in df_sort.columns[-6:]:\n",
    "    if '_' in v:\n",
    "        if 'LogReg' in v:\n",
    "            t_str = 'Logistic Regression \\n'\n",
    "        elif 'SVC' in v:\n",
    "            t_str = 'SVC \\n'\n",
    "        if 'RandomSearch' in v:\n",
    "            t_str = t_str+' RandomSearch'\n",
    "        if len(v.split('_')) > 2:\n",
    "            temp = v.split('_')\n",
    "            t_str = t_str+ ' \\n'\n",
    "            for i in temp[2:]:\n",
    "                t_str = t_str+ ' {}'.format(i)\n",
    "    else:\n",
    "        t_str = v\n",
    "    ticklabel.append(t_str)\n",
    "ticklabel\n",
    "        \n"
   ]
  },
  {
   "cell_type": "code",
   "execution_count": 26,
   "metadata": {},
   "outputs": [
    {
     "data": {
      "image/png": "[encoded data removed]",
      "text/plain": [
       "<Figure size 504x576 with 2 Axes>"
      ]
     },
     "metadata": {
      "needs_background": "light"
     },
     "output_type": "display_data"
    }
   ],
   "source": [
    "df_res = pd.DataFrame(result_dic)\n",
    "for var in df_res.columns:\n",
    "    if ('SMOTE' in var)|('smote' in var)|('_No' in var)|('Important' in var):\n",
    "        df_res.drop(var,axis=1,inplace=True)\n",
    "df_sort = df_res.iloc[:,np.argsort(df_res.loc['f1-score',:])]\n",
    "plt.figure(figsize=(7,8))\n",
    "\n",
    "#sns.heatmap(df_res[['GaussianNB','ComplementNB','LogisticRegression','RandomSearch_LogReg','SVC','RandomSearch_SVC','RandomSearch_SVC_rbf']]*100,annot=True,cmap='OrRd',fmt='.1f')\n",
    "sns.heatmap(df_sort.loc[['recall','precision','f1-score'],df_sort.columns[-6:]].transpose()*100,annot=True,cmap='OrRd',fmt='.1f',vmin=50,vmax=100)\n",
    "plt.yticks(rotation=0)\n",
    "plt.xticks(rotation=0)\n",
    "plt.gca().set_yticklabels(ticklabel)\n",
    "\n",
    "plt.savefig('../plots/Extended_Top6.png')"
   ]
  },
  {
   "cell_type": "markdown",
   "metadata": {},
   "source": [
    "**Out of the Top 6, 4 are SVC's.**"
   ]
  },
  {
   "cell_type": "markdown",
   "metadata": {},
   "source": [
    "## Random Forest Classifier\n",
    "\n",
    "Having investigated different models and data set sampling, let's now continue with ensemble modeling. The first model to investigate is the Random Forest Classifier."
   ]
  },
  {
   "cell_type": "code",
   "execution_count": 14,
   "metadata": {},
   "outputs": [
    {
     "name": "stdout",
     "output_type": "stream",
     "text": [
      "Time to fit:  63.82076334953308\n",
      "Time to predict:  0.31267619132995605\n",
      "The accuracy is 0.977, meaning that 97.7% of the data was predicted right.\n",
      "The recall is 0.788, meaning that 78.8% of errors were predicted right.\n",
      "The precision is 0.760, meaning that only 76.0% of the predicted errors were actual errors.\n",
      "The f1 score is 0.773.\n"
     ]
    }
   ],
   "source": [
    "from sklearn.ensemble import RandomForestClassifier\n",
    "rfc = RandomForestClassifier(random_state=42, n_estimators=250)\n",
    "t_start = time.time()\n",
    "rfc.fit(Xtrain,ytrain)\n",
    "print('Time to fit: ',time.time()-t_start)\n",
    "t_start = time.time()\n",
    "ypredict = rfc.predict(Xtest)\n",
    "print('Time to predict: ',time.time()-t_start)\n",
    "method = 'RandomForest'\n",
    "result_dic.update({method:score_func(ypredict,ytest,prt_info=True)})\n",
    "update_results(result_dic[method],method,results_file)"
   ]
  },
  {
   "cell_type": "markdown",
   "metadata": {},
   "source": [
    "These results don't look as good as what we had before. Let's see if it is only a question of hyperparameter tuning and whether RandomizedSearchCV will improve this result."
   ]
  },
  {
   "cell_type": "code",
   "execution_count": 15,
   "metadata": {},
   "outputs": [
    {
     "name": "stdout",
     "output_type": "stream",
     "text": [
      "Fitting 10 folds for each of 10 candidates, totalling 100 fits\n"
     ]
    },
    {
     "name": "stderr",
     "output_type": "stream",
     "text": [
      "[Parallel(n_jobs=-1)]: Using backend SequentialBackend with 1 concurrent workers.\n",
      "/home/lhw/DSproject/lib/python3.6/site-packages/sklearn/metrics/_classification.py:1221: UndefinedMetricWarning: Precision is ill-defined and being set to 0.0 due to no predicted samples. Use `zero_division` parameter to control this behavior.\n",
      "  _warn_prf(average, modifier, msg_start, len(result))\n",
      "/home/lhw/DSproject/lib/python3.6/site-packages/sklearn/metrics/_classification.py:1221: UndefinedMetricWarning: Precision is ill-defined and being set to 0.0 due to no predicted samples. Use `zero_division` parameter to control this behavior.\n",
      "  _warn_prf(average, modifier, msg_start, len(result))\n",
      "/home/lhw/DSproject/lib/python3.6/site-packages/sklearn/metrics/_classification.py:1221: UndefinedMetricWarning: Precision is ill-defined and being set to 0.0 due to no predicted samples. Use `zero_division` parameter to control this behavior.\n",
      "  _warn_prf(average, modifier, msg_start, len(result))\n",
      "/home/lhw/DSproject/lib/python3.6/site-packages/sklearn/metrics/_classification.py:1221: UndefinedMetricWarning: Precision is ill-defined and being set to 0.0 due to no predicted samples. Use `zero_division` parameter to control this behavior.\n",
      "  _warn_prf(average, modifier, msg_start, len(result))\n",
      "/home/lhw/DSproject/lib/python3.6/site-packages/sklearn/metrics/_classification.py:1221: UndefinedMetricWarning: Precision is ill-defined and being set to 0.0 due to no predicted samples. Use `zero_division` parameter to control this behavior.\n",
      "  _warn_prf(average, modifier, msg_start, len(result))\n",
      "/home/lhw/DSproject/lib/python3.6/site-packages/sklearn/metrics/_classification.py:1221: UndefinedMetricWarning: Precision is ill-defined and being set to 0.0 due to no predicted samples. Use `zero_division` parameter to control this behavior.\n",
      "  _warn_prf(average, modifier, msg_start, len(result))\n",
      "/home/lhw/DSproject/lib/python3.6/site-packages/sklearn/metrics/_classification.py:1221: UndefinedMetricWarning: Precision is ill-defined and being set to 0.0 due to no predicted samples. Use `zero_division` parameter to control this behavior.\n",
      "  _warn_prf(average, modifier, msg_start, len(result))\n",
      "/home/lhw/DSproject/lib/python3.6/site-packages/sklearn/metrics/_classification.py:1221: UndefinedMetricWarning: Precision is ill-defined and being set to 0.0 due to no predicted samples. Use `zero_division` parameter to control this behavior.\n",
      "  _warn_prf(average, modifier, msg_start, len(result))\n",
      "/home/lhw/DSproject/lib/python3.6/site-packages/sklearn/metrics/_classification.py:1221: UndefinedMetricWarning: Precision is ill-defined and being set to 0.0 due to no predicted samples. Use `zero_division` parameter to control this behavior.\n",
      "  _warn_prf(average, modifier, msg_start, len(result))\n",
      "/home/lhw/DSproject/lib/python3.6/site-packages/sklearn/metrics/_classification.py:1221: UndefinedMetricWarning: Precision is ill-defined and being set to 0.0 due to no predicted samples. Use `zero_division` parameter to control this behavior.\n",
      "  _warn_prf(average, modifier, msg_start, len(result))\n",
      "/home/lhw/DSproject/lib/python3.6/site-packages/sklearn/metrics/_classification.py:1221: UndefinedMetricWarning: Precision is ill-defined and being set to 0.0 due to no predicted samples. Use `zero_division` parameter to control this behavior.\n",
      "  _warn_prf(average, modifier, msg_start, len(result))\n",
      "/home/lhw/DSproject/lib/python3.6/site-packages/sklearn/metrics/_classification.py:1221: UndefinedMetricWarning: Precision is ill-defined and being set to 0.0 due to no predicted samples. Use `zero_division` parameter to control this behavior.\n",
      "  _warn_prf(average, modifier, msg_start, len(result))\n",
      "/home/lhw/DSproject/lib/python3.6/site-packages/sklearn/metrics/_classification.py:1221: UndefinedMetricWarning: Precision is ill-defined and being set to 0.0 due to no predicted samples. Use `zero_division` parameter to control this behavior.\n",
      "  _warn_prf(average, modifier, msg_start, len(result))\n",
      "/home/lhw/DSproject/lib/python3.6/site-packages/sklearn/metrics/_classification.py:1221: UndefinedMetricWarning: Precision is ill-defined and being set to 0.0 due to no predicted samples. Use `zero_division` parameter to control this behavior.\n",
      "  _warn_prf(average, modifier, msg_start, len(result))\n",
      "/home/lhw/DSproject/lib/python3.6/site-packages/sklearn/metrics/_classification.py:1221: UndefinedMetricWarning: Precision is ill-defined and being set to 0.0 due to no predicted samples. Use `zero_division` parameter to control this behavior.\n",
      "  _warn_prf(average, modifier, msg_start, len(result))\n",
      "/home/lhw/DSproject/lib/python3.6/site-packages/sklearn/metrics/_classification.py:1221: UndefinedMetricWarning: Precision is ill-defined and being set to 0.0 due to no predicted samples. Use `zero_division` parameter to control this behavior.\n",
      "  _warn_prf(average, modifier, msg_start, len(result))\n",
      "/home/lhw/DSproject/lib/python3.6/site-packages/sklearn/metrics/_classification.py:1221: UndefinedMetricWarning: Precision is ill-defined and being set to 0.0 due to no predicted samples. Use `zero_division` parameter to control this behavior.\n",
      "  _warn_prf(average, modifier, msg_start, len(result))\n",
      "/home/lhw/DSproject/lib/python3.6/site-packages/sklearn/metrics/_classification.py:1221: UndefinedMetricWarning: Precision is ill-defined and being set to 0.0 due to no predicted samples. Use `zero_division` parameter to control this behavior.\n",
      "  _warn_prf(average, modifier, msg_start, len(result))\n",
      "/home/lhw/DSproject/lib/python3.6/site-packages/sklearn/metrics/_classification.py:1221: UndefinedMetricWarning: Precision is ill-defined and being set to 0.0 due to no predicted samples. Use `zero_division` parameter to control this behavior.\n",
      "  _warn_prf(average, modifier, msg_start, len(result))\n",
      "/home/lhw/DSproject/lib/python3.6/site-packages/sklearn/metrics/_classification.py:1221: UndefinedMetricWarning: Precision is ill-defined and being set to 0.0 due to no predicted samples. Use `zero_division` parameter to control this behavior.\n",
      "  _warn_prf(average, modifier, msg_start, len(result))\n",
      "/home/lhw/DSproject/lib/python3.6/site-packages/sklearn/metrics/_classification.py:1221: UndefinedMetricWarning: Precision is ill-defined and being set to 0.0 due to no predicted samples. Use `zero_division` parameter to control this behavior.\n",
      "  _warn_prf(average, modifier, msg_start, len(result))\n",
      "/home/lhw/DSproject/lib/python3.6/site-packages/sklearn/metrics/_classification.py:1221: UndefinedMetricWarning: Precision is ill-defined and being set to 0.0 due to no predicted samples. Use `zero_division` parameter to control this behavior.\n",
      "  _warn_prf(average, modifier, msg_start, len(result))\n",
      "/home/lhw/DSproject/lib/python3.6/site-packages/sklearn/metrics/_classification.py:1221: UndefinedMetricWarning: Precision is ill-defined and being set to 0.0 due to no predicted samples. Use `zero_division` parameter to control this behavior.\n",
      "  _warn_prf(average, modifier, msg_start, len(result))\n",
      "/home/lhw/DSproject/lib/python3.6/site-packages/sklearn/metrics/_classification.py:1221: UndefinedMetricWarning: Precision is ill-defined and being set to 0.0 due to no predicted samples. Use `zero_division` parameter to control this behavior.\n",
      "  _warn_prf(average, modifier, msg_start, len(result))\n",
      "/home/lhw/DSproject/lib/python3.6/site-packages/sklearn/metrics/_classification.py:1221: UndefinedMetricWarning: Precision is ill-defined and being set to 0.0 due to no predicted samples. Use `zero_division` parameter to control this behavior.\n",
      "  _warn_prf(average, modifier, msg_start, len(result))\n",
      "/home/lhw/DSproject/lib/python3.6/site-packages/sklearn/metrics/_classification.py:1221: UndefinedMetricWarning: Precision is ill-defined and being set to 0.0 due to no predicted samples. Use `zero_division` parameter to control this behavior.\n",
      "  _warn_prf(average, modifier, msg_start, len(result))\n",
      "/home/lhw/DSproject/lib/python3.6/site-packages/sklearn/metrics/_classification.py:1221: UndefinedMetricWarning: Precision is ill-defined and being set to 0.0 due to no predicted samples. Use `zero_division` parameter to control this behavior.\n",
      "  _warn_prf(average, modifier, msg_start, len(result))\n",
      "/home/lhw/DSproject/lib/python3.6/site-packages/sklearn/metrics/_classification.py:1221: UndefinedMetricWarning: Precision is ill-defined and being set to 0.0 due to no predicted samples. Use `zero_division` parameter to control this behavior.\n",
      "  _warn_prf(average, modifier, msg_start, len(result))\n",
      "/home/lhw/DSproject/lib/python3.6/site-packages/sklearn/metrics/_classification.py:1221: UndefinedMetricWarning: Precision is ill-defined and being set to 0.0 due to no predicted samples. Use `zero_division` parameter to control this behavior.\n",
      "  _warn_prf(average, modifier, msg_start, len(result))\n",
      "/home/lhw/DSproject/lib/python3.6/site-packages/sklearn/metrics/_classification.py:1221: UndefinedMetricWarning: Precision is ill-defined and being set to 0.0 due to no predicted samples. Use `zero_division` parameter to control this behavior.\n",
      "  _warn_prf(average, modifier, msg_start, len(result))\n",
      "/home/lhw/DSproject/lib/python3.6/site-packages/sklearn/metrics/_classification.py:1221: UndefinedMetricWarning: Precision is ill-defined and being set to 0.0 due to no predicted samples. Use `zero_division` parameter to control this behavior.\n",
      "  _warn_prf(average, modifier, msg_start, len(result))\n",
      "/home/lhw/DSproject/lib/python3.6/site-packages/sklearn/metrics/_classification.py:1221: UndefinedMetricWarning: Precision is ill-defined and being set to 0.0 due to no predicted samples. Use `zero_division` parameter to control this behavior.\n",
      "  _warn_prf(average, modifier, msg_start, len(result))\n",
      "/home/lhw/DSproject/lib/python3.6/site-packages/sklearn/metrics/_classification.py:1221: UndefinedMetricWarning: Precision is ill-defined and being set to 0.0 due to no predicted samples. Use `zero_division` parameter to control this behavior.\n",
      "  _warn_prf(average, modifier, msg_start, len(result))\n",
      "/home/lhw/DSproject/lib/python3.6/site-packages/sklearn/metrics/_classification.py:1221: UndefinedMetricWarning: Precision is ill-defined and being set to 0.0 due to no predicted samples. Use `zero_division` parameter to control this behavior.\n",
      "  _warn_prf(average, modifier, msg_start, len(result))\n",
      "/home/lhw/DSproject/lib/python3.6/site-packages/sklearn/metrics/_classification.py:1221: UndefinedMetricWarning: Precision is ill-defined and being set to 0.0 due to no predicted samples. Use `zero_division` parameter to control this behavior.\n",
      "  _warn_prf(average, modifier, msg_start, len(result))\n",
      "/home/lhw/DSproject/lib/python3.6/site-packages/sklearn/metrics/_classification.py:1221: UndefinedMetricWarning: Precision is ill-defined and being set to 0.0 due to no predicted samples. Use `zero_division` parameter to control this behavior.\n",
      "  _warn_prf(average, modifier, msg_start, len(result))\n",
      "/home/lhw/DSproject/lib/python3.6/site-packages/sklearn/metrics/_classification.py:1221: UndefinedMetricWarning: Precision is ill-defined and being set to 0.0 due to no predicted samples. Use `zero_division` parameter to control this behavior.\n",
      "  _warn_prf(average, modifier, msg_start, len(result))\n",
      "/home/lhw/DSproject/lib/python3.6/site-packages/sklearn/metrics/_classification.py:1221: UndefinedMetricWarning: Precision is ill-defined and being set to 0.0 due to no predicted samples. Use `zero_division` parameter to control this behavior.\n",
      "  _warn_prf(average, modifier, msg_start, len(result))\n",
      "/home/lhw/DSproject/lib/python3.6/site-packages/sklearn/metrics/_classification.py:1221: UndefinedMetricWarning: Precision is ill-defined and being set to 0.0 due to no predicted samples. Use `zero_division` parameter to control this behavior.\n",
      "  _warn_prf(average, modifier, msg_start, len(result))\n",
      "/home/lhw/DSproject/lib/python3.6/site-packages/sklearn/metrics/_classification.py:1221: UndefinedMetricWarning: Precision is ill-defined and being set to 0.0 due to no predicted samples. Use `zero_division` parameter to control this behavior.\n",
      "  _warn_prf(average, modifier, msg_start, len(result))\n",
      "/home/lhw/DSproject/lib/python3.6/site-packages/sklearn/metrics/_classification.py:1221: UndefinedMetricWarning: Precision is ill-defined and being set to 0.0 due to no predicted samples. Use `zero_division` parameter to control this behavior.\n",
      "  _warn_prf(average, modifier, msg_start, len(result))\n",
      "/home/lhw/DSproject/lib/python3.6/site-packages/sklearn/metrics/_classification.py:1221: UndefinedMetricWarning: Precision is ill-defined and being set to 0.0 due to no predicted samples. Use `zero_division` parameter to control this behavior.\n",
      "  _warn_prf(average, modifier, msg_start, len(result))\n",
      "/home/lhw/DSproject/lib/python3.6/site-packages/sklearn/metrics/_classification.py:1221: UndefinedMetricWarning: Precision is ill-defined and being set to 0.0 due to no predicted samples. Use `zero_division` parameter to control this behavior.\n",
      "  _warn_prf(average, modifier, msg_start, len(result))\n",
      "/home/lhw/DSproject/lib/python3.6/site-packages/sklearn/metrics/_classification.py:1221: UndefinedMetricWarning: Precision is ill-defined and being set to 0.0 due to no predicted samples. Use `zero_division` parameter to control this behavior.\n",
      "  _warn_prf(average, modifier, msg_start, len(result))\n",
      "/home/lhw/DSproject/lib/python3.6/site-packages/sklearn/metrics/_classification.py:1221: UndefinedMetricWarning: Precision is ill-defined and being set to 0.0 due to no predicted samples. Use `zero_division` parameter to control this behavior.\n",
      "  _warn_prf(average, modifier, msg_start, len(result))\n",
      "/home/lhw/DSproject/lib/python3.6/site-packages/sklearn/metrics/_classification.py:1221: UndefinedMetricWarning: Precision is ill-defined and being set to 0.0 due to no predicted samples. Use `zero_division` parameter to control this behavior.\n",
      "  _warn_prf(average, modifier, msg_start, len(result))\n",
      "/home/lhw/DSproject/lib/python3.6/site-packages/sklearn/metrics/_classification.py:1221: UndefinedMetricWarning: Precision is ill-defined and being set to 0.0 due to no predicted samples. Use `zero_division` parameter to control this behavior.\n",
      "  _warn_prf(average, modifier, msg_start, len(result))\n",
      "/home/lhw/DSproject/lib/python3.6/site-packages/sklearn/metrics/_classification.py:1221: UndefinedMetricWarning: Precision is ill-defined and being set to 0.0 due to no predicted samples. Use `zero_division` parameter to control this behavior.\n",
      "  _warn_prf(average, modifier, msg_start, len(result))\n",
      "/home/lhw/DSproject/lib/python3.6/site-packages/sklearn/metrics/_classification.py:1221: UndefinedMetricWarning: Precision is ill-defined and being set to 0.0 due to no predicted samples. Use `zero_division` parameter to control this behavior.\n",
      "  _warn_prf(average, modifier, msg_start, len(result))\n",
      "/home/lhw/DSproject/lib/python3.6/site-packages/sklearn/metrics/_classification.py:1221: UndefinedMetricWarning: Precision is ill-defined and being set to 0.0 due to no predicted samples. Use `zero_division` parameter to control this behavior.\n",
      "  _warn_prf(average, modifier, msg_start, len(result))\n",
      "[Parallel(n_jobs=-1)]: Done 100 out of 100 | elapsed: 34.4min finished\n"
     ]
    },
    {
     "name": "stdout",
     "output_type": "stream",
     "text": [
      "Time to fit:  2091.3559231758118\n",
      "Best parameters are:  {'min_samples_split': 8, 'max_features': 6, 'max_depth': None}\n",
      "Time to predict:  0.9488394260406494\n",
      "The accuracy is 0.977, meaning that 97.7% of the data was predicted right.\n",
      "The recall is 0.751, meaning that 75.1% of errors were predicted right.\n",
      "The precision is 0.775, meaning that only 77.5% of the predicted errors were actual errors.\n",
      "The f1 score is 0.763.\n"
     ]
    }
   ],
   "source": [
    "rfc = RandomForestClassifier(random_state=42,n_estimators=250,bootstrap=True)\n",
    "\n",
    "cv = StratifiedKFold(n_splits=10,shuffle=True,random_state=42)\n",
    "params = { 'max_depth':[6,12,None],'max_features':[6,9,12],'min_samples_split':[2,5,8]}\n",
    "rand_rfc = RandomizedSearchCV(estimator=rfc,param_distributions=params,n_jobs=-1,cv=cv,scoring=['f1','precision','recall'],refit='f1',verbose=True)\n",
    "t_start = time.time()\n",
    "rand_rfc.fit(Xtrain,ytrain)\n",
    "print('Time to fit: ',time.time()-t_start)\n",
    "print('Best parameters are: ', rand_rfc.best_params_)\n",
    "t_start = time.time()\n",
    "ypredict = rand_rfc.predict(Xtest)\n",
    "print('Time to predict: ',time.time()-t_start)\n",
    "method = 'RandSearch_RandomForest'\n",
    "result_dic.update({method:score_func(ypredict,ytest,prt_info=True)})\n",
    "update_results(result_dic[method],method,results_file)"
   ]
  },
  {
   "cell_type": "markdown",
   "metadata": {},
   "source": [
    "**This is not convincing and we will not investigate RandomForests anymore.** Additionally, the algorithm can't deal well with the sparse matrix."
   ]
  },
  {
   "cell_type": "markdown",
   "metadata": {},
   "source": [
    "## Data Wrangling (Part II)\n",
    "From the above results we can see that the hyperparameter tuning lead to a significant improvement with the Support Vector Machine using Radial Basis Function Kernel achieving the best predictions. In the following we will investigate whether a more balanced data set would improve the predictability of the models."
   ]
  },
  {
   "cell_type": "markdown",
   "metadata": {},
   "source": [
    "## Resampling of the data"
   ]
  },
  {
   "cell_type": "markdown",
   "metadata": {},
   "source": [
    "Just as a reminder: The reason for this is the **strongly imbalanced data set with less than 5% of the data being errors**."
   ]
  },
  {
   "cell_type": "markdown",
   "metadata": {},
   "source": [
    "### SMOTE"
   ]
  },
  {
   "cell_type": "code",
   "execution_count": 33,
   "metadata": {},
   "outputs": [],
   "source": [
    "from imblearn.over_sampling import SMOTE\n",
    "sm = SMOTE(random_state = 42)\n",
    "Xtrain_res, ytrain_res = sm.fit_sample(Xtrain, ytrain.ravel())"
   ]
  },
  {
   "cell_type": "markdown",
   "metadata": {},
   "source": [
    "Check out what effect this has on the data distribution of the ordinal, numerical and binary data."
   ]
  },
  {
   "cell_type": "code",
   "execution_count": 34,
   "metadata": {},
   "outputs": [
    {
     "data": {
      "image/png": "[encoded data removed]",
      "text/plain": [
       "<Figure size 432x288 with 1 Axes>"
      ]
     },
     "metadata": {
      "needs_background": "light"
     },
     "output_type": "display_data"
    }
   ],
   "source": [
    "sns.distplot(ytrain_res,label='SMOTE') \n",
    "sns.distplot(ytrain,label='original') \n",
    "plt.legend(fontsize=14)\n",
    "plt.grid()\n",
    "plt.title('error')\n",
    "plt.savefig('../plots/SMOTE_error.png')"
   ]
  },
  {
   "cell_type": "markdown",
   "metadata": {},
   "source": [
    "The resampling produced a data set with equal number of true and false errors. "
   ]
  },
  {
   "cell_type": "code",
   "execution_count": 59,
   "metadata": {},
   "outputs": [
    {
     "data": {
      "image/png": "[encoded data removed]",
      "text/plain": [
       "<Figure size 1008x576 with 6 Axes>"
      ]
     },
     "metadata": {
      "needs_background": "light"
     },
     "output_type": "display_data"
    }
   ],
   "source": [
    "label_type = '_Acro' # '' #\n",
    "plt.figure(figsize=(14,8))\n",
    "k=1\n",
    "for var in ['xx_005','xx_016','xx_028','Monday','Saturday','morning']:\n",
    "    ind = np.where(columns==var)[0][0]\n",
    "    if ind >np.where(columns=='error')[0]:\n",
    "        ind-=1\n",
    "    plt.subplot(2,3,k)\n",
    "    ax1 = sns.distplot(Xtrain_res[:,ind].todense(),label='SMOTE',norm_hist=True) \n",
    "    ax2 = sns.distplot(Xtrain[:,ind].todense(),label='original',norm_hist=True)\n",
    "    plt.legend(fontsize=14)\n",
    "    plt.grid()\n",
    "    if (label_type == '_Acro') | ('_' not in var):\n",
    "        plt.title(var)\n",
    "    else:\n",
    "        plt.title(feature_def(var))\n",
    "    k+=1\n",
    "plt.savefig('../plots/Data_extra_SMOTE_6{}.png'.format(label_type))"
   ]
  },
  {
   "cell_type": "markdown",
   "metadata": {},
   "source": [
    "The ordinal *xx_005* still sticks to the discrete values (standardized here) with a shift towards the 3rd place. The *xx_016* is less likely to be zero as does *xx_028*. Features representing days and times reveal that compared to the original data set it is **less likely to have data on Monday or in the morning, and more likely to have data on Saturday**. This suggests that **errors rather occur later in the day and in the weekend**."
   ]
  },
  {
   "cell_type": "code",
   "execution_count": 18,
   "metadata": {},
   "outputs": [
    {
     "name": "stdout",
     "output_type": "stream",
     "text": [
      "Time to fit:  80.7909791469574\n",
      "Time to predict:  3.428589344024658\n",
      "The accuracy is 0.984, meaning that 98.4% of the data was predicted right.\n",
      "The recall is 0.973, meaning that 97.3% of errors were predicted right.\n",
      "The precision is 0.769, meaning that only 76.9% of the predicted errors were actual errors.\n",
      "The f1 score is 0.859.\n"
     ]
    }
   ],
   "source": [
    "from sklearn.svm import SVC\n",
    "method = 'SVC_rbf_SMOTE'\n",
    "c = 28.45445387731721\n",
    "svc_smote = SVC(random_state=42,class_weight='balanced',C=c)\n",
    "t_start = time.time()\n",
    "svc_smote.fit(Xtrain_res,ytrain_res)\n",
    "print('Time to fit: ',time.time()-t_start)\n",
    "# Predict\n",
    "t_start = time.time()\n",
    "ypredict = svc_smote.predict(Xtest)\n",
    "print('Time to predict: ',time.time()-t_start)\n",
    "\n",
    "result_dic.update({method:score_func(ypredict,ytest,prt_info=True)})\n",
    "update_results(result_dic[method],method,results_file)"
   ]
  },
  {
   "cell_type": "code",
   "execution_count": 19,
   "metadata": {},
   "outputs": [
    {
     "name": "stdout",
     "output_type": "stream",
     "text": [
      "Fitting 10 folds for each of 10 candidates, totalling 100 fits\n"
     ]
    },
    {
     "name": "stderr",
     "output_type": "stream",
     "text": [
      "[Parallel(n_jobs=-1)]: Using backend SequentialBackend with 1 concurrent workers.\n",
      "[Parallel(n_jobs=-1)]: Done 100 out of 100 | elapsed: 124.1min finished\n"
     ]
    },
    {
     "name": "stdout",
     "output_type": "stream",
     "text": [
      "Time to fit:  7529.902170658112\n",
      "Best parameters are:  {'C': 29.720342764546768}\n",
      "Time to predict:  3.2566590309143066\n",
      "The accuracy is 0.985, meaning that 98.5% of the data was predicted right.\n",
      "The recall is 0.973, meaning that 97.3% of errors were predicted right.\n",
      "The precision is 0.771, meaning that only 77.1% of the predicted errors were actual errors.\n",
      "The f1 score is 0.860.\n"
     ]
    }
   ],
   "source": [
    "from sklearn.model_selection import RandomizedSearchCV, StratifiedKFold\n",
    "from scipy.stats import loguniform\n",
    "params = {\"C\":loguniform(a=1.5e1,b=3e1)}\n",
    "cv = 10\n",
    "svc = SVC(random_state=42,class_weight='balanced')\n",
    "rand_svc_smote = RandomizedSearchCV(estimator=svc,param_distributions=params,n_jobs=-1,cv=cv,scoring=['f1','precision','recall'],refit='f1',verbose=True)\n",
    "t_start = time.time()\n",
    "rand_svc_smote.fit(Xtrain_res,ytrain_res)\n",
    "print('Time to fit: ',time.time()-t_start)\n",
    "print('Best parameters are: ', rand_svc_smote.best_params_)\n",
    "t_start = time.time()\n",
    "ypredict = rand_svc_smote.predict(Xtest)\n",
    "print('Time to predict: ',time.time()-t_start)\n",
    "method = 'RandomSearch_SVC_rbf_smote'\n",
    "result_dic.update({method:score_func(ypredict,ytest,prt_info=True)})\n",
    "update_results(result_dic[method],method,results_file)"
   ]
  },
  {
   "cell_type": "code",
   "execution_count": 20,
   "metadata": {},
   "outputs": [
    {
     "name": "stdout",
     "output_type": "stream",
     "text": [
      "The accuracy is 0.982, meaning that 98.2% of the data was predicted right.\n",
      "The recall is 0.987, meaning that 98.7% of errors were predicted right.\n",
      "The precision is 0.732, meaning that only 73.2% of the predicted errors were actual errors.\n",
      "The f1 score is 0.841.\n"
     ]
    }
   ],
   "source": [
    "from sklearn.linear_model import LogisticRegression\n",
    "c = 23.17234813747275\n",
    "logreg_smote = LogisticRegression(random_state=42,class_weight='balanced',max_iter=100000,C=c)\n",
    "logreg_smote.fit(Xtrain_res,ytrain_res)\n",
    "ypredict = logreg_smote.predict(Xtest)\n",
    "method = 'LogisticRegression_SMOTE'\n",
    "result_dic.update({method:score_func(ypredict,ytest,prt_info=True)})\n",
    "update_results(result_dic[method],method,results_file)"
   ]
  },
  {
   "cell_type": "code",
   "execution_count": 16,
   "metadata": {},
   "outputs": [
    {
     "data": {
      "image/png": "[encoded data removed]",
      "text/plain": [
       "<Figure size 1080x360 with 2 Axes>"
      ]
     },
     "metadata": {
      "needs_background": "light"
     },
     "output_type": "display_data"
    }
   ],
   "source": [
    "df_res = pd.DataFrame(result_dic)\n",
    "plt.figure(figsize=(15,5))\n",
    "#sns.heatmap(df_res[['GaussianNB','ComplementNB','LogisticRegression','RandomSearch_LogReg','SVC','RandomSearch_SVC',]]*100,annot=True,cmap='OrRd',fmt='.1f')\n",
    "sns.heatmap(df_res.loc[['recall','precision','f1-score'],['RandomSearch_LogReg','LogisticRegression_SMOTE','RandomSearch_SVC_rbf','SVC_rbf_SMOTE']]*100,annot=True,cmap='OrRd',fmt='.1f')\n",
    "plt.yticks(rotation=0)\n",
    "plt.xticks(rotation=85)\n",
    "plt.show()"
   ]
  },
  {
   "cell_type": "markdown",
   "metadata": {},
   "source": [
    "The above heatmap shows two interesting outcomes: SMOTE improves the performance of the LogisticRegression model, but does not improve SupportVectorMachine Classifier even though resampling with SMOTE does slightly improve precision. Simultaneously, resampling also worsens recall leading to a lower f1-score compared to SVC with the imbalanced data set. Interestingly, all 3 models perform basically the same with the SMOTE data set. It appears that 85.9 is the maximum achievable f1-score. \n",
    "\n",
    "**Again, the Support Vector Machine Classifier with a Radial Basis Function Kernel yields the best performance.**"
   ]
  },
  {
   "cell_type": "markdown",
   "metadata": {},
   "source": [
    "## Most Important Features"
   ]
  },
  {
   "cell_type": "code",
   "execution_count": 28,
   "metadata": {},
   "outputs": [
    {
     "name": "stdout",
     "output_type": "stream",
     "text": [
      "Time to fit:  68.13374614715576\n",
      "Time to predict:  0.387371301651001\n",
      "The accuracy is 0.977, meaning that 97.7% of the data was predicted right.\n",
      "The recall is 0.788, meaning that 78.8% of errors were predicted right.\n",
      "The precision is 0.760, meaning that only 76.0% of the predicted errors were actual errors.\n",
      "The f1 score is 0.773.\n"
     ]
    }
   ],
   "source": [
    "from sklearn.ensemble import RandomForestClassifier\n",
    "rfc = RandomForestClassifier(random_state=42, n_estimators=250)\n",
    "t_start = time.time()\n",
    "rfc.fit(Xtrain,ytrain)\n",
    "print('Time to fit: ',time.time()-t_start)\n",
    "t_start = time.time()\n",
    "ypredict = rfc.predict(Xtest)\n",
    "print('Time to predict: ',time.time()-t_start)\n",
    "method = 'RandomForest'\n",
    "result_dic.update({method:score_func(ypredict,ytest,prt_info=True)})\n",
    "update_results(result_dic[method],method,results_file)"
   ]
  },
  {
   "cell_type": "code",
   "execution_count": 29,
   "metadata": {},
   "outputs": [
    {
     "data": {
      "text/plain": [
       "685          id_001_345\n",
       "686          id_001_540\n",
       "687          id_001_367\n",
       "688          id_001_414\n",
       "689          id_001_821\n",
       "             ...       \n",
       "8149    id_026_399177.0\n",
       "8150    id_026_399179.0\n",
       "8151    id_026_399181.0\n",
       "8152    id_026_399184.0\n",
       "8153    id_026_407071.0\n",
       "Name: Feature, Length: 7469, dtype: object"
      ]
     },
     "execution_count": 29,
     "metadata": {},
     "output_type": "execute_result"
    }
   ],
   "source": [
    "imp = rfc.feature_importances_\n",
    "cols = [i  for i in columns if i!='error']\n",
    "order = np.argsort(imp)\n",
    "df_imp = pd.DataFrame([cols[i] for i in order[::-1]],columns=['Feature'])\n",
    "df_imp['Importance'] = np.round(imp[order]*100,2)[::-1]\n",
    "df_imp.loc[df_imp['Importance']==0,'Feature']"
   ]
  },
  {
   "cell_type": "code",
   "execution_count": 23,
   "metadata": {},
   "outputs": [
    {
     "name": "stdout",
     "output_type": "stream",
     "text": [
      "Before:  (30745, 8154)  After:  (30745, 5084)\n",
      "Before:  (7687, 8154)  After:  (7687, 5084)\n"
     ]
    }
   ],
   "source": [
    "imp_pos = np.where(imp > 0)[0]\n",
    "Xtrain_imp = Xtrain[:,imp_pos]\n",
    "Xtest_imp = Xtest[:,imp_pos]\n",
    "print('Before: ', Xtrain.shape, ' After: ',Xtrain_imp.shape)\n",
    "print('Before: ', Xtest.shape, ' After: ',Xtest_imp.shape)"
   ]
  },
  {
   "cell_type": "code",
   "execution_count": 24,
   "metadata": {},
   "outputs": [
    {
     "name": "stdout",
     "output_type": "stream",
     "text": [
      "Time to fit:  16.065508127212524\n",
      "Time to predict:  2.4836766719818115\n",
      "The accuracy is 0.984, meaning that 98.4% of the data was predicted right.\n",
      "The recall is 0.984, meaning that 98.4% of errors were predicted right.\n",
      "The precision is 0.763, meaning that only 76.3% of the predicted errors were actual errors.\n",
      "The f1 score is 0.860.\n"
     ]
    }
   ],
   "source": [
    "from sklearn.svm import SVC\n",
    "method = 'SVC_rbf_Important'\n",
    "c = 28.45445387731721\n",
    "svc_imp = SVC(random_state=42,class_weight='balanced',C=c)\n",
    "t_start = time.time()\n",
    "svc_imp.fit(Xtrain_imp,ytrain)\n",
    "print('Time to fit: ',time.time()-t_start)\n",
    "# Predict\n",
    "t_start = time.time()\n",
    "ypredict = svc_imp.predict(Xtest_imp)\n",
    "print('Time to predict: ',time.time()-t_start)\n",
    "result_dic.update({method:score_func(ypredict,ytest,prt_info=True)})\n",
    "update_results(result_dic[method],method,results_file)"
   ]
  },
  {
   "cell_type": "markdown",
   "metadata": {},
   "source": [
    "This is a slightly less strong result as with the entire data set, because the recall is reduced. At least this tells us, that the 3151 features that were removed did only contribute little information for the SVC. Let's see if with the reduced noise the hyperparameter tuning leads to better prediction scores."
   ]
  },
  {
   "cell_type": "code",
   "execution_count": 25,
   "metadata": {},
   "outputs": [
    {
     "name": "stdout",
     "output_type": "stream",
     "text": [
      "Fitting 10 folds for each of 10 candidates, totalling 100 fits\n"
     ]
    },
    {
     "name": "stderr",
     "output_type": "stream",
     "text": [
      "[Parallel(n_jobs=-1)]: Using backend SequentialBackend with 1 concurrent workers.\n",
      "[Parallel(n_jobs=-1)]: Done 100 out of 100 | elapsed: 131.8min finished\n"
     ]
    },
    {
     "name": "stdout",
     "output_type": "stream",
     "text": [
      "Time to fit:  7922.647915124893\n",
      "Best parameters are:  {'C': 20.164039871518593, 'gamma': 0.0288477833410745}\n",
      "Time to predict:  2.40851092338562\n",
      "The accuracy is 0.984, meaning that 98.4% of the data was predicted right.\n",
      "The recall is 0.984, meaning that 98.4% of errors were predicted right.\n",
      "The precision is 0.763, meaning that only 76.3% of the predicted errors were actual errors.\n",
      "The f1 score is 0.860.\n"
     ]
    }
   ],
   "source": [
    "from sklearn.model_selection import RandomizedSearchCV, StratifiedKFold\n",
    "from scipy.stats import loguniform\n",
    "params = {\"C\":loguniform(a=1.5e1,b=3e1),'gamma':loguniform(a=1e-3,b=1e0)}\n",
    "cv = StratifiedKFold(n_splits=10,shuffle=True,random_state=42)\n",
    "svc = SVC(random_state=42,class_weight='balanced')\n",
    "rand_svc_gamma_imp = RandomizedSearchCV(estimator=svc,param_distributions=params,n_jobs=-1,cv=cv,scoring=['f1','precision','recall'],refit='f1',verbose=True)\n",
    "t_start = time.time()\n",
    "rand_svc_gamma_imp.fit(Xtrain_imp,ytrain)\n",
    "print('Time to fit: ',time.time()-t_start)\n",
    "print('Best parameters are: ', rand_svc_gamma_imp.best_params_)\n",
    "t_start = time.time()\n",
    "ypredict = rand_svc_gamma_imp.predict(Xtest_imp)\n",
    "print('Time to predict: ',time.time()-t_start)\n",
    "method = 'RandomSearch_SVC_gamma_Important'\n",
    "result_dic.update({method:score_func(ypredict,ytest,prt_info=True)})\n",
    "update_results(result_dic[method],method,results_file)"
   ]
  },
  {
   "cell_type": "markdown",
   "metadata": {},
   "source": [
    "### Analyze the most important features"
   ]
  },
  {
   "cell_type": "code",
   "execution_count": 30,
   "metadata": {},
   "outputs": [
    {
     "data": {
      "text/html": [
       "<div>\n",
       "<style scoped>\n",
       "    .dataframe tbody tr th:only-of-type {\n",
       "        vertical-align: middle;\n",
       "    }\n",
       "\n",
       "    .dataframe tbody tr th {\n",
       "        vertical-align: top;\n",
       "    }\n",
       "\n",
       "    .dataframe thead th {\n",
       "        text-align: right;\n",
       "    }\n",
       "</style>\n",
       "<table border=\"1\" class=\"dataframe\">\n",
       "  <thead>\n",
       "    <tr style=\"text-align: right;\">\n",
       "      <th></th>\n",
       "      <th>Feature</th>\n",
       "      <th>Importance</th>\n",
       "    </tr>\n",
       "  </thead>\n",
       "  <tbody>\n",
       "    <tr>\n",
       "      <th>0</th>\n",
       "      <td>xx_016</td>\n",
       "      <td>10.89</td>\n",
       "    </tr>\n",
       "    <tr>\n",
       "      <th>1</th>\n",
       "      <td>id_008_0101</td>\n",
       "      <td>5.99</td>\n",
       "    </tr>\n",
       "    <tr>\n",
       "      <th>2</th>\n",
       "      <td>id_004_0102</td>\n",
       "      <td>5.38</td>\n",
       "    </tr>\n",
       "    <tr>\n",
       "      <th>3</th>\n",
       "      <td>id_008_0110</td>\n",
       "      <td>2.64</td>\n",
       "    </tr>\n",
       "    <tr>\n",
       "      <th>4</th>\n",
       "      <td>xx_016_2</td>\n",
       "      <td>2.38</td>\n",
       "    </tr>\n",
       "    <tr>\n",
       "      <th>5</th>\n",
       "      <td>xx_016_0</td>\n",
       "      <td>2.20</td>\n",
       "    </tr>\n",
       "    <tr>\n",
       "      <th>6</th>\n",
       "      <td>ty_000_006</td>\n",
       "      <td>1.97</td>\n",
       "    </tr>\n",
       "    <tr>\n",
       "      <th>7</th>\n",
       "      <td>cl_003_6</td>\n",
       "      <td>1.83</td>\n",
       "    </tr>\n",
       "    <tr>\n",
       "      <th>8</th>\n",
       "      <td>id_006_0102</td>\n",
       "      <td>1.28</td>\n",
       "    </tr>\n",
       "    <tr>\n",
       "      <th>9</th>\n",
       "      <td>cl_008_unknown</td>\n",
       "      <td>1.09</td>\n",
       "    </tr>\n",
       "    <tr>\n",
       "      <th>10</th>\n",
       "      <td>afternoon</td>\n",
       "      <td>1.08</td>\n",
       "    </tr>\n",
       "    <tr>\n",
       "      <th>11</th>\n",
       "      <td>id_019_unknown</td>\n",
       "      <td>0.98</td>\n",
       "    </tr>\n",
       "    <tr>\n",
       "      <th>12</th>\n",
       "      <td>id_001_097</td>\n",
       "      <td>0.96</td>\n",
       "    </tr>\n",
       "    <tr>\n",
       "      <th>13</th>\n",
       "      <td>cl_003_unknown</td>\n",
       "      <td>0.95</td>\n",
       "    </tr>\n",
       "    <tr>\n",
       "      <th>14</th>\n",
       "      <td>xx_016_3</td>\n",
       "      <td>0.93</td>\n",
       "    </tr>\n",
       "    <tr>\n",
       "      <th>15</th>\n",
       "      <td>Wednesday</td>\n",
       "      <td>0.90</td>\n",
       "    </tr>\n",
       "    <tr>\n",
       "      <th>16</th>\n",
       "      <td>cl_000_001</td>\n",
       "      <td>0.88</td>\n",
       "    </tr>\n",
       "    <tr>\n",
       "      <th>17</th>\n",
       "      <td>id_024_unknown</td>\n",
       "      <td>0.84</td>\n",
       "    </tr>\n",
       "    <tr>\n",
       "      <th>18</th>\n",
       "      <td>Monday</td>\n",
       "      <td>0.83</td>\n",
       "    </tr>\n",
       "    <tr>\n",
       "      <th>19</th>\n",
       "      <td>cl_001_001</td>\n",
       "      <td>0.82</td>\n",
       "    </tr>\n",
       "  </tbody>\n",
       "</table>\n",
       "</div>"
      ],
      "text/plain": [
       "           Feature  Importance\n",
       "0           xx_016       10.89\n",
       "1      id_008_0101        5.99\n",
       "2      id_004_0102        5.38\n",
       "3      id_008_0110        2.64\n",
       "4         xx_016_2        2.38\n",
       "5         xx_016_0        2.20\n",
       "6       ty_000_006        1.97\n",
       "7         cl_003_6        1.83\n",
       "8      id_006_0102        1.28\n",
       "9   cl_008_unknown        1.09\n",
       "10       afternoon        1.08\n",
       "11  id_019_unknown        0.98\n",
       "12      id_001_097        0.96\n",
       "13  cl_003_unknown        0.95\n",
       "14        xx_016_3        0.93\n",
       "15       Wednesday        0.90\n",
       "16      cl_000_001        0.88\n",
       "17  id_024_unknown        0.84\n",
       "18          Monday        0.83\n",
       "19      cl_001_001        0.82"
      ]
     },
     "execution_count": 30,
     "metadata": {},
     "output_type": "execute_result"
    }
   ],
   "source": [
    "df_imp.head(20)"
   ]
  },
  {
   "cell_type": "code",
   "execution_count": 44,
   "metadata": {},
   "outputs": [],
   "source": [
    "bla = []\n",
    "for var in df_imp['Feature']:\n",
    "    if '_' in var:\n",
    "        var0 = var.split('_')[0]+'_'+var.split('_')[1]\n",
    "        new_var = feature_def(var0)\n",
    "        if len(var.split('_'))==3:\n",
    "            new_var = new_var+' '+var.split('_')[-1]\n",
    "        bla.append(new_var)\n",
    "    else:\n",
    "        bla.append(var)\n",
    "df_imp['True Feature'] = bla"
   ]
  },
  {
   "cell_type": "code",
   "execution_count": 64,
   "metadata": {},
   "outputs": [
    {
     "data": {
      "image/png": "[encoded data removed]",
      "text/plain": [
       "<Figure size 504x432 with 1 Axes>"
      ]
     },
     "metadata": {
      "needs_background": "light"
     },
     "output_type": "display_data"
    }
   ],
   "source": [
    "label_type = '_Acro' # '' #\n",
    "plt.figure(figsize=(7,6))\n",
    "plt.title(\"Feature importance\")\n",
    "plt.barh(range(10), df_imp.loc[9:0:-1,'Importance'].values,\n",
    "       color=\"r\")\n",
    "if label_type == '_Acro':\n",
    "    plt.yticks(range(10),df_imp.loc[9:0:-1,'Feature'] )\n",
    "    plt.gcf().subplots_adjust(left=0.25)\n",
    "else:\n",
    "    plt.yticks(range(10),df_imp.loc[9:0:-1,'True Feature'] )\n",
    "    plt.gcf().subplots_adjust(left=0.3)\n",
    "plt.ylim([-1, 10])\n",
    "\n",
    "plt.text(8,0,'Extended')\n",
    "plt.savefig('../plots/FeatureImportance_ExtendedData{}.png'.format(label_type))"
   ]
  },
  {
   "cell_type": "markdown",
   "metadata": {},
   "source": [
    "It is noticeable that Features that resulted from the Feature Engineering are in the top 20 Important Features. The question is now if they actually add significant value to the model prediction."
   ]
  },
  {
   "cell_type": "code",
   "execution_count": 32,
   "metadata": {},
   "outputs": [
    {
     "name": "stdout",
     "output_type": "stream",
     "text": [
      "Before:  (30745, 8154)  After:  (30745, 8150)\n",
      "Before:  (7687, 8154)  After:  (7687, 8150)\n"
     ]
    }
   ],
   "source": [
    "no_016c = np.where([True if 'xx_016_' not in var else False for var in cols])[0]\n",
    "Xtrain_no016c = Xtrain[:,no_016c]\n",
    "Xtest_no016c = Xtest[:,no_016c]\n",
    "print('Before: ', Xtrain.shape, ' After: ',Xtrain_no016c.shape)\n",
    "print('Before: ', Xtest.shape, ' After: ',Xtest_no016c.shape)\n"
   ]
  },
  {
   "cell_type": "code",
   "execution_count": 33,
   "metadata": {},
   "outputs": [
    {
     "name": "stdout",
     "output_type": "stream",
     "text": [
      "Time to fit:  19.852017641067505\n",
      "Time to predict:  2.0626211166381836\n",
      "The accuracy is 0.985, meaning that 98.5% of the data was predicted right.\n",
      "The recall is 0.989, meaning that 98.9% of errors were predicted right.\n",
      "The precision is 0.764, meaning that only 76.4% of the predicted errors were actual errors.\n",
      "The f1 score is 0.862.\n"
     ]
    }
   ],
   "source": [
    "from sklearn.svm import SVC\n",
    "method = 'SVC_rbf_No016Cluster'\n",
    "c = 28.45445387731721\n",
    "svc_no016c = SVC(random_state=42,class_weight='balanced',C=c)\n",
    "t_start = time.time()\n",
    "svc_no016c.fit(Xtrain_no016c,ytrain)\n",
    "print('Time to fit: ',time.time()-t_start)\n",
    "# Predict\n",
    "t_start = time.time()\n",
    "ypredict = svc_no016c.predict(Xtest_no016c)\n",
    "print('Time to predict: ',time.time()-t_start)\n",
    "result_dic.update({method:score_func(ypredict,ytest,prt_info=True)})\n",
    "update_results(result_dic[method],method,results_file)"
   ]
  },
  {
   "cell_type": "code",
   "execution_count": 41,
   "metadata": {},
   "outputs": [
    {
     "name": "stdout",
     "output_type": "stream",
     "text": [
      "Before:  (30745, 8154)  After:  (30745, 8141)\n",
      "Before:  (7687, 8154)  After:  (7687, 8141)\n"
     ]
    }
   ],
   "source": [
    "no_016c = np.where([True if 'xx_016_' not in var else False for var in cols])[0]\n",
    "cols_noc = [var for var in cols if 'xx_016' not in var]\n",
    "date_str = ['Monday','Tuesday','Wednesday','Thursday','Friday','Saturday','Sunday','morning','afternoon','evening']\n",
    "no_date = np.where([True if var not in date_str else False for var in cols_noc])[0]\n",
    "\n",
    "Xtrain_noDate = Xtrain_no016c[:,no_date]\n",
    "Xtest_noDate = Xtest_no016c[:,no_date]\n",
    "print('Before: ', Xtrain.shape, ' After: ',Xtrain_noDate.shape)\n",
    "print('Before: ', Xtest.shape, ' After: ',Xtest_noDate.shape)"
   ]
  },
  {
   "cell_type": "code",
   "execution_count": 42,
   "metadata": {},
   "outputs": [
    {
     "name": "stdout",
     "output_type": "stream",
     "text": [
      "Time to fit:  14.49213171005249\n",
      "Time to predict:  1.575944185256958\n",
      "The accuracy is 0.984, meaning that 98.4% of the data was predicted right.\n",
      "The recall is 0.987, meaning that 98.7% of errors were predicted right.\n",
      "The precision is 0.762, meaning that only 76.2% of the predicted errors were actual errors.\n",
      "The f1 score is 0.860.\n"
     ]
    }
   ],
   "source": [
    "from sklearn.svm import SVC\n",
    "method = 'SVC_rbf_NoDate'\n",
    "c = 28.45445387731721\n",
    "svc_noDate = SVC(random_state=42,class_weight='balanced',C=c)\n",
    "t_start = time.time()\n",
    "svc_noDate.fit(Xtrain_noDate,ytrain)\n",
    "print('Time to fit: ',time.time()-t_start)\n",
    "# Predict\n",
    "t_start = time.time()\n",
    "ypredict = svc_noDate.predict(Xtest_noDate)\n",
    "print('Time to predict: ',time.time()-t_start)\n",
    "result_dic.update({method:score_func(ypredict,ytest,prt_info=True)})\n",
    "update_results(result_dic[method],method,results_file)"
   ]
  },
  {
   "cell_type": "code",
   "execution_count": 38,
   "metadata": {},
   "outputs": [
    {
     "name": "stdout",
     "output_type": "stream",
     "text": [
      "Before:  (30745, 8154)  After:  (30745, 8146)\n",
      "Before:  (7687, 8154)  After:  (7687, 8146)\n"
     ]
    }
   ],
   "source": [
    "date_str = ['Monday','Tuesday','Wednesday','Thursday','Friday','Saturday','Sunday','morning','afternoon','evening']\n",
    "no_date2 = np.where([True if var not in date_str else False for var in cols])[0]\n",
    "\n",
    "Xtrain_noDate2 = Xtrain[:,no_date2]\n",
    "Xtest_noDate2 = Xtest[:,no_date2]\n",
    "print('Before: ', Xtrain.shape, ' After: ',Xtrain_noDate2.shape)\n",
    "print('Before: ', Xtest.shape, ' After: ',Xtest_noDate2.shape)"
   ]
  },
  {
   "cell_type": "code",
   "execution_count": 39,
   "metadata": {},
   "outputs": [
    {
     "name": "stdout",
     "output_type": "stream",
     "text": [
      "Time to fit:  16.151893615722656\n",
      "Time to predict:  1.86836838722229\n",
      "The accuracy is 0.984, meaning that 98.4% of the data was predicted right.\n",
      "The recall is 0.981, meaning that 98.1% of errors were predicted right.\n",
      "The precision is 0.761, meaning that only 76.1% of the predicted errors were actual errors.\n",
      "The f1 score is 0.857.\n"
     ]
    }
   ],
   "source": [
    "from sklearn.svm import SVC\n",
    "method = 'SVC_rbf_NoDate2'\n",
    "c = 28.45445387731721\n",
    "svc_noDate2 = SVC(random_state=42,class_weight='balanced',C=c)\n",
    "t_start = time.time()\n",
    "svc_noDate2.fit(Xtrain_noDate2,ytrain)\n",
    "print('Time to fit: ',time.time()-t_start)\n",
    "# Predict\n",
    "t_start = time.time()\n",
    "ypredict = svc_noDate2.predict(Xtest_noDate2)\n",
    "print('Time to predict: ',time.time()-t_start)\n",
    "result_dic.update({method:score_func(ypredict,ytest,prt_info=True)})\n",
    "update_results(result_dic[method],method,results_file)"
   ]
  },
  {
   "cell_type": "code",
   "execution_count": 36,
   "metadata": {},
   "outputs": [
    {
     "name": "stdout",
     "output_type": "stream",
     "text": [
      "xx_016\n",
      "Before:  (30745, 8154)  After:  (30745, 8149)\n",
      "Before:  (7687, 8154)  After:  (7687, 8149)\n",
      "Time to fit:  21.618116855621338\n",
      "Time to predict:  2.7928478717803955\n",
      "The accuracy is 0.985, meaning that 98.5% of the data was predicted right.\n",
      "The recall is 0.989, meaning that 98.9% of errors were predicted right.\n",
      "The precision is 0.764, meaning that only 76.4% of the predicted errors were actual errors.\n",
      "The f1 score is 0.862.\n",
      "id_008\n",
      "Before:  (30745, 8154)  After:  (30745, 7517)\n",
      "Before:  (7687, 8154)  After:  (7687, 7517)\n",
      "Time to fit:  29.580561637878418\n",
      "Time to predict:  3.3640384674072266\n",
      "The accuracy is 0.980, meaning that 98.0% of the data was predicted right.\n",
      "The recall is 0.976, meaning that 97.6% of errors were predicted right.\n",
      "The precision is 0.715, meaning that only 71.5% of the predicted errors were actual errors.\n",
      "The f1 score is 0.825.\n",
      "id_004\n",
      "Before:  (30745, 8154)  After:  (30745, 7309)\n",
      "Before:  (7687, 8154)  After:  (7687, 7309)\n",
      "Time to fit:  26.92992091178894\n",
      "Time to predict:  2.7391197681427\n",
      "The accuracy is 0.983, meaning that 98.3% of the data was predicted right.\n",
      "The recall is 0.976, meaning that 97.6% of errors were predicted right.\n",
      "The precision is 0.748, meaning that only 74.8% of the predicted errors were actual errors.\n",
      "The f1 score is 0.847.\n",
      "id_006\n",
      "Before:  (30745, 8154)  After:  (30745, 7472)\n",
      "Before:  (7687, 8154)  After:  (7687, 7472)\n",
      "Time to fit:  19.00430679321289\n",
      "Time to predict:  2.319226026535034\n",
      "The accuracy is 0.984, meaning that 98.4% of the data was predicted right.\n",
      "The recall is 0.981, meaning that 98.1% of errors were predicted right.\n",
      "The precision is 0.763, meaning that only 76.3% of the predicted errors were actual errors.\n",
      "The f1 score is 0.858.\n"
     ]
    }
   ],
   "source": [
    "for feats in ['xx_016','id_008','id_004','id_006']:\n",
    "    print(feats)\n",
    "    no_var = np.where([True if feats not in var else False for var in cols])[0]\n",
    "    Xtrain_novar = Xtrain[:,no_var]\n",
    "    Xtest_novar = Xtest[:,no_var]\n",
    "    print('Before: ', Xtrain.shape, ' After: ',Xtrain_novar.shape)\n",
    "    print('Before: ', Xtest.shape, ' After: ',Xtest_novar.shape)\n",
    "    method = 'SVC_rbf_No'+feats\n",
    "    c = 28.45445387731721\n",
    "    svc_novar = SVC(random_state=42,class_weight='balanced',C=c)\n",
    "    t_start = time.time()\n",
    "    svc_novar.fit(Xtrain_novar,ytrain)\n",
    "    print('Time to fit: ',time.time()-t_start)\n",
    "    # Predict\n",
    "    t_start = time.time()\n",
    "    ypredict = svc_novar.predict(Xtest_novar)\n",
    "    print('Time to predict: ',time.time()-t_start)\n",
    "    result_dic.update({method:score_func(ypredict,ytest,prt_info=True)})\n",
    "    update_results(result_dic[method],method,results_file)"
   ]
  },
  {
   "cell_type": "code",
   "execution_count": 40,
   "metadata": {},
   "outputs": [
    {
     "data": {
      "image/png": "[encoded data removed]",
      "text/plain": [
       "<Figure size 1080x360 with 2 Axes>"
      ]
     },
     "metadata": {
      "needs_background": "light"
     },
     "output_type": "display_data"
    }
   ],
   "source": [
    "df_res = pd.DataFrame(result_dic)\n",
    "plt.figure(figsize=(15,5))\n",
    "#sns.heatmap(df_res[['GaussianNB','ComplementNB','LogisticRegression','RandomSearch_LogReg','SVC','RandomSearch_SVC',]]*100,annot=True,cmap='OrRd',fmt='.1f')\n",
    "sns.heatmap(df_res.loc[['recall','precision','f1-score'],['RandomSearch_SVC_rbf','SVC_rbf_SMOTE','SVC_rbf_NoDate', 'SVC_rbf_NoDate2', 'SVC_rbf_Noxx_016', 'SVC_rbf_Noid_008', 'SVC_rbf_Noid_004', 'SVC_rbf_Noid_006']]*100,vmin=50,vmax=100,annot=True,cmap='OrRd',fmt='.1f')\n",
    "plt.yticks(rotation=0)\n",
    "plt.xticks(rotation=85)\n",
    "plt.show()\n"
   ]
  },
  {
   "cell_type": "markdown",
   "metadata": {},
   "source": [
    "### Compare with other model runs"
   ]
  },
  {
   "cell_type": "code",
   "execution_count": 53,
   "metadata": {},
   "outputs": [
    {
     "name": "stdout",
     "output_type": "stream",
     "text": [
      "dict_keys(['ComplementNB', 'LogisticRegression', 'GridSearch_LogReg', 'RandomSearch_LogReg', 'SVC', 'RandomForest', 'LogisticRegression_SMOTE'])\n",
      "dict_keys(['LogisticRegression_Base', 'RandomSearch_LogReg_Base', 'RandomForest_base', 'LogisticRegression_SMOTE_base'])\n"
     ]
    }
   ],
   "source": [
    "results_file2 = '../data/results_base2.db'\n",
    "results2 = pd.read_sql('SELECT * FROM results','sqlite:///'+results_file2,index_col='score')\n",
    "results2.drop('index',axis=1,inplace=True)\n",
    "result_dic2 = results2.to_dict()\n",
    "print(result_dic2.keys())\n",
    "\n",
    "results_file1 = '../data/results_base_base.db'\n",
    "results1 = pd.read_sql('SELECT * FROM results','sqlite:///'+results_file1,index_col='score')\n",
    "results1.drop('index',axis=1,inplace=True)\n",
    "result_dic1 = results1.to_dict()\n",
    "print(result_dic1.keys())"
   ]
  },
  {
   "cell_type": "code",
   "execution_count": 54,
   "metadata": {},
   "outputs": [],
   "source": [
    "combi_dic = {'Base Data \\n Logistic Regression':result_dic1['RandomSearch_LogReg_Base']}\n",
    "combi_dic.update({'BasePlus Data (SMOTE) \\n Logistic Regression':result_dic2['LogisticRegression_SMOTE']})\n",
    "combi_dic.update({'Extended Data \\n SVC':result_dic['RandomSearch_SVC_rbf']})\n",
    "\n"
   ]
  },
  {
   "cell_type": "code",
   "execution_count": 57,
   "metadata": {},
   "outputs": [
    {
     "data": {
      "image/png": "[encoded data removed]",
      "text/plain": [
       "<Figure size 576x360 with 2 Axes>"
      ]
     },
     "metadata": {
      "needs_background": "light"
     },
     "output_type": "display_data"
    }
   ],
   "source": [
    "df_res = pd.DataFrame(combi_dic)\n",
    "plt.figure(figsize=(8,5))\n",
    "#sns.heatmap(df_res[['GaussianNB','ComplementNB','LogisticRegression','RandomSearch_LogReg','SVC','RandomSearch_SVC',]]*100,annot=True,cmap='OrRd',fmt='.1f')\n",
    "sns.heatmap(df_res.loc[['recall','precision','f1-score'],:].transpose()*100,annot=True,cmap='OrRd',fmt='.1f',vmin=50,vmax=100,)\n",
    "plt.yticks(rotation=0)\n",
    "plt.xticks(rotation=0)\n",
    "plt.gcf().subplots_adjust(left=0.325)\n",
    "plt.savefig('../plots/Heatmap_3DataSets.png')\n"
   ]
  },
  {
   "cell_type": "code",
   "execution_count": 98,
   "metadata": {},
   "outputs": [
    {
     "data": {
      "text/html": [
       "<div>\n",
       "<style scoped>\n",
       "    .dataframe tbody tr th:only-of-type {\n",
       "        vertical-align: middle;\n",
       "    }\n",
       "\n",
       "    .dataframe tbody tr th {\n",
       "        vertical-align: top;\n",
       "    }\n",
       "\n",
       "    .dataframe thead th {\n",
       "        text-align: right;\n",
       "    }\n",
       "</style>\n",
       "<table border=\"1\" class=\"dataframe\">\n",
       "  <thead>\n",
       "    <tr style=\"text-align: right;\">\n",
       "      <th></th>\n",
       "      <th>accuracy</th>\n",
       "      <th>f1-score</th>\n",
       "      <th>precision</th>\n",
       "      <th>recall</th>\n",
       "    </tr>\n",
       "  </thead>\n",
       "  <tbody>\n",
       "    <tr>\n",
       "      <th>Base Data</th>\n",
       "      <td>0.981137</td>\n",
       "      <td>0.837262</td>\n",
       "      <td>0.725681</td>\n",
       "      <td>0.989390</td>\n",
       "    </tr>\n",
       "    <tr>\n",
       "      <th>BasePlus Data</th>\n",
       "      <td>0.981527</td>\n",
       "      <td>0.839729</td>\n",
       "      <td>0.730845</td>\n",
       "      <td>0.986737</td>\n",
       "    </tr>\n",
       "    <tr>\n",
       "      <th>Extended Data</th>\n",
       "      <td>0.985915</td>\n",
       "      <td>0.870892</td>\n",
       "      <td>0.781053</td>\n",
       "      <td>0.984085</td>\n",
       "    </tr>\n",
       "  </tbody>\n",
       "</table>\n",
       "</div>"
      ],
      "text/plain": [
       "               accuracy  f1-score  precision    recall\n",
       "Base Data      0.981137  0.837262   0.725681  0.989390\n",
       "BasePlus Data  0.981527  0.839729   0.730845  0.986737\n",
       "Extended Data  0.985915  0.870892   0.781053  0.984085"
      ]
     },
     "execution_count": 98,
     "metadata": {},
     "output_type": "execute_result"
    }
   ],
   "source": [
    "df_res.transpose()"
   ]
  },
  {
   "cell_type": "code",
   "execution_count": null,
   "metadata": {},
   "outputs": [],
   "source": []
  }
 ],
 "metadata": {
  "kernelspec": {
   "display_name": "Python 3",
   "language": "python",
   "name": "python3"
  },
  "language_info": {
   "codemirror_mode": {
    "name": "ipython",
    "version": 3
   },
   "file_extension": ".py",
   "mimetype": "text/x-python",
   "name": "python",
   "nbconvert_exporter": "python",
   "pygments_lexer": "ipython3",
   "version": "3.6.9"
  }
 },
 "nbformat": 4,
 "nbformat_minor": 4
}
