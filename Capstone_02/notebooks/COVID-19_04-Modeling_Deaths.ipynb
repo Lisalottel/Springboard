{
 "cells": [
  {
   "cell_type": "markdown",
   "metadata": {},
   "source": [
    "# Modeling the Covid-19 Death rate relative to population size\n",
    "In this step we are finding the right or best model to correlate death rates with the number of cases and the demography of a country. This will help us understand whether we can tell how harmful COVID 19 is for a given country based on its demography. Our model could be tested with more recent data of countries that did not have had confirmed cases of COVID-19 back in May."
   ]
  },
  {
   "cell_type": "code",
   "execution_count": 1,
   "metadata": {},
   "outputs": [
    {
     "name": "stderr",
     "output_type": "stream",
     "text": [
      "/Users/lisahw/anaconda3/lib/python3.7/importlib/_bootstrap.py:219: RuntimeWarning: numpy.ufunc size changed, may indicate binary incompatibility. Expected 192 from C header, got 216 from PyObject\n",
      "  return f(*args, **kwds)\n",
      "/Users/lisahw/anaconda3/lib/python3.7/importlib/_bootstrap.py:219: RuntimeWarning: numpy.ufunc size changed, may indicate binary incompatibility. Expected 192 from C header, got 216 from PyObject\n",
      "  return f(*args, **kwds)\n"
     ]
    },
    {
     "data": {
      "text/plain": [
       "'/Users/lisahw/Documents/Courses and Conferences/DataScience/MyProject/Capstone_02/Springboard/notebooks'"
      ]
     },
     "execution_count": 1,
     "metadata": {},
     "output_type": "execute_result"
    }
   ],
   "source": [
    "#load python packages\n",
    "import os\n",
    "import pandas as pd\n",
    "import datetime\n",
    "import seaborn as sns\n",
    "import matplotlib.pyplot as plt\n",
    "import numpy as np\n",
    "from sklearn.metrics import mean_squared_error, r2_score, explained_variance_score,mean_absolute_error\n",
    "from sklearn import linear_model\n",
    "from sklearn.model_selection import GridSearchCV\n",
    "%matplotlib inline\n",
    "os.getcwd()"
   ]
  },
  {
   "cell_type": "markdown",
   "metadata": {},
   "source": [
    "### Read in Train and Test data sets"
   ]
  },
  {
   "cell_type": "code",
   "execution_count": 183,
   "metadata": {},
   "outputs": [
    {
     "data": {
      "text/html": [
       "<div>\n",
       "<style scoped>\n",
       "    .dataframe tbody tr th:only-of-type {\n",
       "        vertical-align: middle;\n",
       "    }\n",
       "\n",
       "    .dataframe tbody tr th {\n",
       "        vertical-align: top;\n",
       "    }\n",
       "\n",
       "    .dataframe thead th {\n",
       "        text-align: right;\n",
       "    }\n",
       "</style>\n",
       "<table border=\"1\" class=\"dataframe\">\n",
       "  <thead>\n",
       "    <tr style=\"text-align: right;\">\n",
       "      <th></th>\n",
       "      <th>Confirmed</th>\n",
       "      <th>Cardio Death Rate</th>\n",
       "      <th>Diabetes Percentage</th>\n",
       "      <th>Obesity</th>\n",
       "      <th>Undernourished</th>\n",
       "      <th>PopMale</th>\n",
       "      <th>Total Population</th>\n",
       "      <th>covid_fatal</th>\n",
       "      <th>Cluster_1</th>\n",
       "      <th>Cluster_2</th>\n",
       "    </tr>\n",
       "    <tr>\n",
       "      <th>index</th>\n",
       "      <th></th>\n",
       "      <th></th>\n",
       "      <th></th>\n",
       "      <th></th>\n",
       "      <th></th>\n",
       "      <th></th>\n",
       "      <th></th>\n",
       "      <th></th>\n",
       "      <th></th>\n",
       "      <th></th>\n",
       "    </tr>\n",
       "  </thead>\n",
       "  <tbody>\n",
       "    <tr>\n",
       "      <th>145</th>\n",
       "      <td>-0.612502</td>\n",
       "      <td>-0.188623</td>\n",
       "      <td>-0.897430</td>\n",
       "      <td>-1.282407</td>\n",
       "      <td>2.990430</td>\n",
       "      <td>-1.073046</td>\n",
       "      <td>-0.191597</td>\n",
       "      <td>-0.344486</td>\n",
       "      <td>0</td>\n",
       "      <td>0</td>\n",
       "    </tr>\n",
       "    <tr>\n",
       "      <th>42</th>\n",
       "      <td>0.795560</td>\n",
       "      <td>-0.977732</td>\n",
       "      <td>-0.467855</td>\n",
       "      <td>0.081550</td>\n",
       "      <td>-0.228392</td>\n",
       "      <td>-0.211033</td>\n",
       "      <td>-0.194520</td>\n",
       "      <td>0.357085</td>\n",
       "      <td>0</td>\n",
       "      <td>1</td>\n",
       "    </tr>\n",
       "    <tr>\n",
       "      <th>16</th>\n",
       "      <td>-0.552803</td>\n",
       "      <td>0.344180</td>\n",
       "      <td>0.287237</td>\n",
       "      <td>-1.612741</td>\n",
       "      <td>0.335731</td>\n",
       "      <td>-0.448477</td>\n",
       "      <td>0.679257</td>\n",
       "      <td>-0.618901</td>\n",
       "      <td>0</td>\n",
       "      <td>0</td>\n",
       "    </tr>\n",
       "    <tr>\n",
       "      <th>10</th>\n",
       "      <td>-0.514918</td>\n",
       "      <td>0.179408</td>\n",
       "      <td>-0.153011</td>\n",
       "      <td>0.859433</td>\n",
       "      <td>-0.560230</td>\n",
       "      <td>-0.321158</td>\n",
       "      <td>-0.040489</td>\n",
       "      <td>1.025781</td>\n",
       "      <td>1</td>\n",
       "      <td>0</td>\n",
       "    </tr>\n",
       "    <tr>\n",
       "      <th>115</th>\n",
       "      <td>-0.494024</td>\n",
       "      <td>-0.036122</td>\n",
       "      <td>1.151723</td>\n",
       "      <td>0.561067</td>\n",
       "      <td>-0.410903</td>\n",
       "      <td>0.294547</td>\n",
       "      <td>-0.298068</td>\n",
       "      <td>-0.967417</td>\n",
       "      <td>1</td>\n",
       "      <td>0</td>\n",
       "    </tr>\n",
       "  </tbody>\n",
       "</table>\n",
       "</div>"
      ],
      "text/plain": [
       "       Confirmed  Cardio Death Rate  Diabetes Percentage   Obesity  \\\n",
       "index                                                                \n",
       "145    -0.612502          -0.188623            -0.897430 -1.282407   \n",
       "42      0.795560          -0.977732            -0.467855  0.081550   \n",
       "16     -0.552803           0.344180             0.287237 -1.612741   \n",
       "10     -0.514918           0.179408            -0.153011  0.859433   \n",
       "115    -0.494024          -0.036122             1.151723  0.561067   \n",
       "\n",
       "       Undernourished   PopMale  Total Population  covid_fatal  Cluster_1  \\\n",
       "index                                                                       \n",
       "145          2.990430 -1.073046         -0.191597    -0.344486          0   \n",
       "42          -0.228392 -0.211033         -0.194520     0.357085          0   \n",
       "16           0.335731 -0.448477          0.679257    -0.618901          0   \n",
       "10          -0.560230 -0.321158         -0.040489     1.025781          1   \n",
       "115         -0.410903  0.294547         -0.298068    -0.967417          1   \n",
       "\n",
       "       Cluster_2  \n",
       "index             \n",
       "145            0  \n",
       "42             1  \n",
       "16             0  \n",
       "10             0  \n",
       "115            0  "
      ]
     },
     "execution_count": 183,
     "metadata": {},
     "output_type": "execute_result"
    }
   ],
   "source": [
    "data_file = 'sqlite:///../data/interim/COVID_Deaths_train_test.db'\n",
    "X_train = pd.read_sql('SELECT * FROM XTRAIN',data_file,index_col='index')\n",
    "X_test = pd.read_sql('SELECT * FROM XTEST',data_file,index_col='index')\n",
    "y_train = np.ravel(pd.read_sql('SELECT * FROM yTRAIN',data_file,index_col='index'))\n",
    "y_test = np.ravel(pd.read_sql('SELECT * FROM yTEST',data_file,index_col='index'))\n",
    "X_train.head()"
   ]
  },
  {
   "cell_type": "markdown",
   "metadata": {},
   "source": [
    "Data has been standardized and clusters identified. There are 3 clusters, but one has been dropped to avoid covariance."
   ]
  },
  {
   "cell_type": "markdown",
   "metadata": {},
   "source": [
    "## Linear Regression Model"
   ]
  },
  {
   "cell_type": "code",
   "execution_count": 184,
   "metadata": {
    "scrolled": true
   },
   "outputs": [
    {
     "name": "stdout",
     "output_type": "stream",
     "text": [
      "Explained Variance:  0.6709053022383749\n",
      "Mean square error:  0.9024420689143245\n",
      "Mean absolute error:  0.4504206706889954\n",
      "R2 score/Coeff. of determination:  0.6474097594592294\n"
     ]
    }
   ],
   "source": [
    "from sklearn.linear_model import LinearRegression\n",
    "\n",
    "linreg = LinearRegression()\n",
    "linreg.fit(X_train,y_train)\n",
    "y_pred = linreg.predict(X_test)\n",
    "print('Explained Variance: ',explained_variance_score(y_test,y_pred))\n",
    "print('Mean square error: ',mean_squared_error(y_test,y_pred))\n",
    "print('Mean absolute error: ',mean_absolute_error(y_test,y_pred))\n",
    "print('R2 score/Coeff. of determination: ',linreg.score(X_test,y_test))"
   ]
  },
  {
   "cell_type": "markdown",
   "metadata": {},
   "source": [
    "The linear model does not perform very well on our data set. Potentially the underlying data is better described by a polynomial function with a degree higher than 1."
   ]
  },
  {
   "cell_type": "code",
   "execution_count": 153,
   "metadata": {},
   "outputs": [
    {
     "name": "stdout",
     "output_type": "stream",
     "text": [
      "Explained Variance:  0.7884672004546828\n",
      "Mean square error:  0.6030959339957563\n",
      "Mean absolute error:  0.3936775373579578\n",
      "R2 score/Coeff. of determination:  0.7643663258157434\n"
     ]
    }
   ],
   "source": [
    "from sklearn.pipeline import Pipeline\n",
    "from sklearn.preprocessing import PolynomialFeatures\n",
    "polyfeat = PolynomialFeatures(degree=2,include_bias=False)\n",
    "linreg = LinearRegression()\n",
    "pipeline = Pipeline([(\"polynomial_features\", polyfeat),(\"linear_regression\", linreg)])\n",
    "pipeline.fit(X_train,y_train)\n",
    "y_pred = pipeline.predict(X_test)\n",
    "print('Explained Variance: ',explained_variance_score(y_test,y_pred))\n",
    "print('Mean square error: ',mean_squared_error(y_test,y_pred))\n",
    "print('Mean absolute error: ',mean_absolute_error(y_test,y_pred))\n",
    "print('R2 score/Coeff. of determination: ',pipeline.score(X_test,y_test))"
   ]
  },
  {
   "cell_type": "markdown",
   "metadata": {},
   "source": [
    "The fit to the linear model is highly improved thanks to adding the polynomial features."
   ]
  },
  {
   "cell_type": "markdown",
   "metadata": {},
   "source": [
    "## Decision Tree Regressor"
   ]
  },
  {
   "cell_type": "markdown",
   "metadata": {},
   "source": [
    "Decision trees are usually used for classification problems, but are of value for a regression problem too. "
   ]
  },
  {
   "cell_type": "code",
   "execution_count": 158,
   "metadata": {},
   "outputs": [
    {
     "name": "stdout",
     "output_type": "stream",
     "text": [
      "Mean square error:  1.0038786953973788\n",
      "R2 score/Coeff. of determination:  0.6077777811159194\n"
     ]
    }
   ],
   "source": [
    "from sklearn.tree import DecisionTreeRegressor\n",
    "\n",
    "tree_reg = DecisionTreeRegressor(max_depth=2, random_state=42)\n",
    "tree_reg.fit(X_train, y_train)\n",
    "y_pred = tree_reg.predict(X_test)\n",
    "\n",
    "print('Mean square error: ',mean_squared_error(y_test,y_pred))\n",
    "print('R2 score/Coeff. of determination: ',r2_score(y_test,y_pred))"
   ]
  },
  {
   "cell_type": "code",
   "execution_count": 134,
   "metadata": {},
   "outputs": [
    {
     "name": "stdout",
     "output_type": "stream",
     "text": [
      "Best score:  0.5176525447980902\n",
      "Best set of parameters:  {'ccp_alpha': 0.0, 'max_depth': 3, 'max_features': 6, 'min_samples_leaf': 3, 'min_samples_split': 2}\n",
      "Mean square error:  1.0010994002666564\n",
      "R2 score/Coeff. of determination:  0.608863670584541\n"
     ]
    }
   ],
   "source": [
    "param_grid = {\"ccp_alpha\": [0.0,0.5],\n",
    " \"max_depth\": [2,3, None],\n",
    " \"max_features\": [3, 6, 9],\n",
    " \"min_samples_split\": [2, 5],\n",
    " \"min_samples_leaf\": [1, 3]}\n",
    "reg3 = DecisionTreeRegressor(random_state=42)\n",
    "grid = GridSearchCV(estimator=reg3, param_grid=param_grid, n_jobs=-1,cv=2)\n",
    "grid.fit(X_train, y_train)\n",
    "print('Best score: ',grid.best_score_)\n",
    "print('Best set of parameters: ' ,grid.best_params_)\n",
    "y_pred = grid.predict(X_test)\n",
    "print('Mean square error: ',mean_squared_error(y_test,y_pred))\n",
    "print('R2 score/Coeff. of determination: ',r2_score(y_test,y_pred))"
   ]
  },
  {
   "cell_type": "markdown",
   "metadata": {},
   "source": [
    "The crossvalidation has slightly improved the model performance. The polynomial model still outperforms the Decision Tree Regressor."
   ]
  },
  {
   "cell_type": "code",
   "execution_count": 140,
   "metadata": {},
   "outputs": [],
   "source": [
    "tree_reg = DecisionTreeRegressor(max_depth=3, random_state=42, max_features=6,min_samples_leaf=3)\n",
    "tree_reg.fit(X_train, y_train)\n",
    "y_pred = tree_reg.predict(X_test)"
   ]
  },
  {
   "cell_type": "markdown",
   "metadata": {},
   "source": [
    "## Random Forest Regressor"
   ]
  },
  {
   "cell_type": "code",
   "execution_count": 185,
   "metadata": {},
   "outputs": [
    {
     "name": "stdout",
     "output_type": "stream",
     "text": [
      "Mean square error:  0.5628122812402983\n",
      "R2 score/Coeff. of determination:  0.780105422323063\n"
     ]
    }
   ],
   "source": [
    "from sklearn.ensemble import RandomForestRegressor\n",
    "regressor = RandomForestRegressor(random_state=0, n_estimators=250)\n",
    "# regressor = RandomForestRegressor(bootstrap= False,max_depth= 3, max_features= 6, min_samples_leaf= 3, min_samples_split=2,n_estimators= 250)\n",
    "regressor.fit(X_train.values, y_train)\n",
    "y_pred = regressor.predict(X_test.values)\n",
    "print('Mean square error: ',mean_squared_error(y_test,y_pred))\n",
    "print('R2 score/Coeff. of determination: ',r2_score(y_test,y_pred))"
   ]
  },
  {
   "cell_type": "code",
   "execution_count": 186,
   "metadata": {
    "scrolled": true
   },
   "outputs": [
    {
     "name": "stdout",
     "output_type": "stream",
     "text": [
      "Best score:  0.6930610713723051\n",
      "Best set of parameters:  {'bootstrap': True, 'max_depth': None, 'max_features': 3, 'min_samples_leaf': 1, 'min_samples_split': 2, 'n_estimators': 150}\n",
      "Mean square error:  0.7791700934062301\n",
      "R2 score/Coeff. of determination:  0.6955729568472064\n"
     ]
    }
   ],
   "source": [
    "param_grid = {\"n_estimators\": [150,250],\n",
    " \"max_depth\": [3, None],\n",
    " \"max_features\": [3, 6, 9],\n",
    " \"min_samples_split\": [2, 5],\n",
    " \"min_samples_leaf\": [1, 3],\n",
    " \"bootstrap\": [True, False]}\n",
    "reg2 = RandomForestRegressor(random_state=0)\n",
    "grid = GridSearchCV(estimator=reg2, param_grid=param_grid, n_jobs=-1,cv=2)\n",
    "grid.fit(X_train.values, y_train)\n",
    "print('Best score: ',grid.best_score_)\n",
    "print('Best set of parameters: ' ,grid.best_params_)\n",
    "y_pred = grid.predict(X_test.values)\n",
    "print('Mean square error: ',mean_squared_error(y_test,y_pred))\n",
    "print('R2 score/Coeff. of determination: ',r2_score(y_test,y_pred))"
   ]
  },
  {
   "cell_type": "markdown",
   "metadata": {},
   "source": [
    "Instead of just one decision tree, a Random Forest regressor is now used to model the data set. R2 score shows that the Random Forest regressor outperforms the single Decision Tree, but it does not compete with the polynomial Model.\n",
    "\n",
    "A benefit of the Random Forest is that it provides the relative relevance of each feature. "
   ]
  },
  {
   "cell_type": "code",
   "execution_count": 187,
   "metadata": {},
   "outputs": [
    {
     "name": "stdout",
     "output_type": "stream",
     "text": [
      "Feature Importance:\n",
      "Confirmed : 71.0%\n",
      "Cardio Death Rate : 1.7%\n",
      "Diabetes Percentage : 4.0%\n",
      "Obesity : 2.1%\n",
      "Undernourished : 0.3%\n",
      "PopMale : 4.2%\n",
      "Total Population : 1.1%\n",
      "covid_fatal : 15.5%\n",
      "Cluster_1 : 0.1%\n",
      "Cluster_2 : 0.1%\n"
     ]
    }
   ],
   "source": [
    "regressor = RandomForestRegressor(random_state=0, n_estimators=250)\n",
    "regressor.fit(X_train.values, y_train)\n",
    "print('Feature Importance:')\n",
    "for col,imp in zip(X_train.columns,regressor.feature_importances_):\n",
    "    print('{} : {:.1f}%'.format(col,100*imp))"
   ]
  },
  {
   "cell_type": "markdown",
   "metadata": {},
   "source": [
    "We see that the most important feature is the number of comfirmed cases. This was to be expected, since deaths are correlated to incidents. Interestingly, the Diabetes Percentage appears to be more relevant than the fraction of male population above 70. But with our mission to predict which other countries might be affected but do not have confirmed cases yet, this result does not help us."
   ]
  },
  {
   "cell_type": "markdown",
   "metadata": {},
   "source": [
    "## Gradient Boosting Regressor"
   ]
  },
  {
   "cell_type": "code",
   "execution_count": 188,
   "metadata": {},
   "outputs": [
    {
     "name": "stdout",
     "output_type": "stream",
     "text": [
      "Explained Variance:  0.856775970292404\n",
      "Mean square error:  0.39550673735017344\n",
      "Mean absolute error:  0.22919703239615866\n",
      "R2 score/Coeff. of determination:  0.8454728337016033\n"
     ]
    }
   ],
   "source": [
    "from sklearn.ensemble import GradientBoostingRegressor\n",
    "gbr = GradientBoostingRegressor(random_state=42)\n",
    "# Fit the model on the trainng data.\n",
    "gbr.fit(X_train, y_train)\n",
    "# Print the accuracy from the testing data.\n",
    "y_pred = gbr.predict(X_test)\n",
    "print('Explained Variance: ',explained_variance_score(y_test,y_pred))\n",
    "print('Mean square error: ',mean_squared_error(y_test,y_pred))\n",
    "print('Mean absolute error: ',mean_absolute_error(y_test,y_pred))\n",
    "print('R2 score/Coeff. of determination: ',r2_score(y_test,y_pred))"
   ]
  },
  {
   "cell_type": "code",
   "execution_count": 174,
   "metadata": {},
   "outputs": [
    {
     "data": {
      "text/plain": [
       "<bound method BaseEstimator.get_params of GradientBoostingRegressor(alpha=0.9, ccp_alpha=0.0, criterion='friedman_mse',\n",
       "                          init=None, learning_rate=0.1, loss='ls', max_depth=3,\n",
       "                          max_features=None, max_leaf_nodes=None,\n",
       "                          min_impurity_decrease=0.0, min_impurity_split=None,\n",
       "                          min_samples_leaf=1, min_samples_split=2,\n",
       "                          min_weight_fraction_leaf=0.0, n_estimators=100,\n",
       "                          n_iter_no_change=None, presort='deprecated',\n",
       "                          random_state=42, subsample=1.0, tol=0.0001,\n",
       "                          validation_fraction=0.1, verbose=0, warm_start=False)>"
      ]
     },
     "execution_count": 174,
     "metadata": {},
     "output_type": "execute_result"
    }
   ],
   "source": [
    "gbr.get_params"
   ]
  },
  {
   "cell_type": "code",
   "execution_count": 190,
   "metadata": {
    "scrolled": true
   },
   "outputs": [
    {
     "name": "stdout",
     "output_type": "stream",
     "text": [
      "Best score:  0.7603010304765294\n",
      "Best set of parameters:  {'max_depth': 3, 'max_features': 9, 'min_samples_leaf': 3, 'min_samples_split': 2, 'n_estimators': 250, 'subsample': 0.5}\n",
      "Mean square error:  0.5108937747810689\n",
      "R2 score/Coeff. of determination:  0.8003903351297101\n"
     ]
    }
   ],
   "source": [
    "param_grid = {\"n_estimators\": [100,150,250],\n",
    "              \"subsample\": [0.5,0.75,1],\n",
    " \"max_depth\": [3, None],\n",
    " \"max_features\": [3, 6, 9],\n",
    " \"min_samples_split\": [2, 5],\n",
    " \"min_samples_leaf\": [1, 3]}\n",
    "gbr = GradientBoostingRegressor(random_state=42)\n",
    "grid = GridSearchCV(estimator=gbr, param_grid=param_grid, n_jobs=-1,cv=2)\n",
    "grid.fit(X_train, y_train)\n",
    "print('Best score: ',grid.best_score_)\n",
    "print('Best set of parameters: ' ,grid.best_params_)\n",
    "y_pred = grid.predict(X_test)\n",
    "print('Mean square error: ',mean_squared_error(y_test,y_pred))\n",
    "print('R2 score/Coeff. of determination: ',r2_score(y_test,y_pred))"
   ]
  },
  {
   "cell_type": "code",
   "execution_count": 189,
   "metadata": {},
   "outputs": [
    {
     "name": "stdout",
     "output_type": "stream",
     "text": [
      "Confirmed : 25.5%\n",
      "Cardio Death Rate : 3.4%\n",
      "Diabetes Percentage : 7.4%\n",
      "Obesity : 3.2%\n",
      "Undernourished : 4.7%\n",
      "PopMale : 21.0%\n",
      "Total Population : 4.0%\n",
      "covid_fatal : 25.1%\n",
      "Cluster_1 : 0.0%\n",
      "Cluster_2 : 5.6%\n"
     ]
    }
   ],
   "source": [
    "gbr = GradientBoostingRegressor(random_state=42,max_depth=3,max_features=3,n_estimators=150)\n",
    "gbr.fit(X_train,y_train)\n",
    "for col,imp in zip(X_train.columns,gbr.feature_importances_):\n",
    "    print('{} : {:.1f}%'.format(col,100*imp))"
   ]
  },
  {
   "cell_type": "markdown",
   "metadata": {},
   "source": [
    "The Gradient Boosting model outperforms the Random Forest, but does not perform better than the polynominal model. Interestingly, the Gradient Boosting gives less importance to the number of confirmed cases and increases the importance of the percentage of males above 70. The diabetes percentage is on rank three this time."
   ]
  },
  {
   "cell_type": "code",
   "execution_count": 179,
   "metadata": {},
   "outputs": [
    {
     "data": {
      "text/plain": [
       "(110,)"
      ]
     },
     "execution_count": 179,
     "metadata": {},
     "output_type": "execute_result"
    }
   ],
   "source": [
    "y_train.values.reshape((y_train.shape[0])).shape"
   ]
  },
  {
   "cell_type": "code",
   "execution_count": 182,
   "metadata": {},
   "outputs": [
    {
     "data": {
      "text/plain": [
       "(110,)"
      ]
     },
     "execution_count": 182,
     "metadata": {},
     "output_type": "execute_result"
    }
   ],
   "source": [
    "np.ravel(y_train).shape"
   ]
  },
  {
   "cell_type": "code",
   "execution_count": null,
   "metadata": {},
   "outputs": [],
   "source": []
  }
 ],
 "metadata": {
  "kernelspec": {
   "display_name": "Python 3",
   "language": "python",
   "name": "python3"
  },
  "language_info": {
   "codemirror_mode": {
    "name": "ipython",
    "version": 3
   },
   "file_extension": ".py",
   "mimetype": "text/x-python",
   "name": "python",
   "nbconvert_exporter": "python",
   "pygments_lexer": "ipython3",
   "version": "3.7.6"
  }
 },
 "nbformat": 4,
 "nbformat_minor": 4
}
