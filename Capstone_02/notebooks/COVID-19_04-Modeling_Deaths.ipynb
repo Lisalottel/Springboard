{
 "cells": [
  {
   "cell_type": "markdown",
   "metadata": {},
   "source": [
    "# Modeling the Covid-19 Death rate relative to population size\n",
    "In this step we are finding the right or best model to correlate death rates with the number of cases and the demography of a country. This will help us understand whether we can tell how harmful COVID 19 is for a given country based on its demography. Our model could be tested with more recent data of countries that did not have had confirmed cases of COVID-19 back in May."
   ]
  },
  {
   "cell_type": "code",
   "execution_count": 1,
   "metadata": {},
   "outputs": [
    {
     "data": {
      "text/plain": [
       "'/Users/lisahw/Documents/Courses and Conferences/DataScience/MyProject/Capstone_02/Springboard/notebooks'"
      ]
     },
     "execution_count": 1,
     "metadata": {},
     "output_type": "execute_result"
    }
   ],
   "source": [
    "#load python packages\n",
    "import os\n",
    "import pandas as pd\n",
    "import datetime\n",
    "import seaborn as sns\n",
    "import matplotlib.pyplot as plt\n",
    "import numpy as np\n",
    "from sklearn.metrics import mean_squared_error, r2_score, explained_variance_score,mean_absolute_error\n",
    "from sklearn import linear_model\n",
    "from sklearn.model_selection import GridSearchCV\n",
    "import time\n",
    "%matplotlib inline\n",
    "os.getcwd()"
   ]
  },
  {
   "cell_type": "markdown",
   "metadata": {},
   "source": [
    "### Read in Train and Test data sets"
   ]
  },
  {
   "cell_type": "code",
   "execution_count": 3,
   "metadata": {},
   "outputs": [
    {
     "data": {
      "text/html": [
       "<div>\n",
       "<style scoped>\n",
       "    .dataframe tbody tr th:only-of-type {\n",
       "        vertical-align: middle;\n",
       "    }\n",
       "\n",
       "    .dataframe tbody tr th {\n",
       "        vertical-align: top;\n",
       "    }\n",
       "\n",
       "    .dataframe thead th {\n",
       "        text-align: right;\n",
       "    }\n",
       "</style>\n",
       "<table border=\"1\" class=\"dataframe\">\n",
       "  <thead>\n",
       "    <tr style=\"text-align: right;\">\n",
       "      <th></th>\n",
       "      <th>Confirmed</th>\n",
       "      <th>Cardio Death Rate</th>\n",
       "      <th>Diabetes Percentage</th>\n",
       "      <th>Obesity</th>\n",
       "      <th>Undernourished</th>\n",
       "      <th>PopMale</th>\n",
       "      <th>Total Population</th>\n",
       "      <th>Cluster_1</th>\n",
       "      <th>Cluster_2</th>\n",
       "    </tr>\n",
       "    <tr>\n",
       "      <th>index</th>\n",
       "      <th></th>\n",
       "      <th></th>\n",
       "      <th></th>\n",
       "      <th></th>\n",
       "      <th></th>\n",
       "      <th></th>\n",
       "      <th></th>\n",
       "      <th></th>\n",
       "      <th></th>\n",
       "    </tr>\n",
       "  </thead>\n",
       "  <tbody>\n",
       "    <tr>\n",
       "      <th>145</th>\n",
       "      <td>-0.612502</td>\n",
       "      <td>-0.188623</td>\n",
       "      <td>-0.897430</td>\n",
       "      <td>-1.282407</td>\n",
       "      <td>2.990430</td>\n",
       "      <td>-1.073046</td>\n",
       "      <td>-0.191597</td>\n",
       "      <td>0</td>\n",
       "      <td>0</td>\n",
       "    </tr>\n",
       "    <tr>\n",
       "      <th>42</th>\n",
       "      <td>0.795560</td>\n",
       "      <td>-0.977732</td>\n",
       "      <td>-0.467855</td>\n",
       "      <td>0.081550</td>\n",
       "      <td>-0.228392</td>\n",
       "      <td>-0.211033</td>\n",
       "      <td>-0.194520</td>\n",
       "      <td>0</td>\n",
       "      <td>1</td>\n",
       "    </tr>\n",
       "    <tr>\n",
       "      <th>16</th>\n",
       "      <td>-0.552803</td>\n",
       "      <td>0.344180</td>\n",
       "      <td>0.287237</td>\n",
       "      <td>-1.612741</td>\n",
       "      <td>0.335731</td>\n",
       "      <td>-0.448477</td>\n",
       "      <td>0.679257</td>\n",
       "      <td>0</td>\n",
       "      <td>0</td>\n",
       "    </tr>\n",
       "    <tr>\n",
       "      <th>10</th>\n",
       "      <td>-0.514918</td>\n",
       "      <td>0.179408</td>\n",
       "      <td>-0.153011</td>\n",
       "      <td>0.859433</td>\n",
       "      <td>-0.560230</td>\n",
       "      <td>-0.321158</td>\n",
       "      <td>-0.040489</td>\n",
       "      <td>1</td>\n",
       "      <td>0</td>\n",
       "    </tr>\n",
       "    <tr>\n",
       "      <th>115</th>\n",
       "      <td>-0.494024</td>\n",
       "      <td>-0.036122</td>\n",
       "      <td>1.151723</td>\n",
       "      <td>0.561067</td>\n",
       "      <td>-0.410903</td>\n",
       "      <td>0.294547</td>\n",
       "      <td>-0.298068</td>\n",
       "      <td>1</td>\n",
       "      <td>0</td>\n",
       "    </tr>\n",
       "  </tbody>\n",
       "</table>\n",
       "</div>"
      ],
      "text/plain": [
       "       Confirmed  Cardio Death Rate  Diabetes Percentage   Obesity  \\\n",
       "index                                                                \n",
       "145    -0.612502          -0.188623            -0.897430 -1.282407   \n",
       "42      0.795560          -0.977732            -0.467855  0.081550   \n",
       "16     -0.552803           0.344180             0.287237 -1.612741   \n",
       "10     -0.514918           0.179408            -0.153011  0.859433   \n",
       "115    -0.494024          -0.036122             1.151723  0.561067   \n",
       "\n",
       "       Undernourished   PopMale  Total Population  Cluster_1  Cluster_2  \n",
       "index                                                                    \n",
       "145          2.990430 -1.073046         -0.191597          0          0  \n",
       "42          -0.228392 -0.211033         -0.194520          0          1  \n",
       "16           0.335731 -0.448477          0.679257          0          0  \n",
       "10          -0.560230 -0.321158         -0.040489          1          0  \n",
       "115         -0.410903  0.294547         -0.298068          1          0  "
      ]
     },
     "execution_count": 3,
     "metadata": {},
     "output_type": "execute_result"
    }
   ],
   "source": [
    "data_file = 'sqlite:///../data/interim/COVID_Deaths_train_test.db'\n",
    "X_train = pd.read_sql('SELECT * FROM XTRAIN',data_file,index_col='index')\n",
    "X_test = pd.read_sql('SELECT * FROM XTEST',data_file,index_col='index')\n",
    "y_train = np.ravel(pd.read_sql('SELECT * FROM yTRAIN',data_file,index_col='index'))\n",
    "y_test = np.ravel(pd.read_sql('SELECT * FROM yTEST',data_file,index_col='index'))\n",
    "X_train.drop('covid_fatal',axis=1,inplace=True)\n",
    "X_test.drop('covid_fatal',axis=1,inplace=True)\n",
    "X_train.head()"
   ]
  },
  {
   "cell_type": "markdown",
   "metadata": {},
   "source": [
    "Data has been standardized and clusters identified. There are 3 clusters, but one has been dropped to avoid covariance."
   ]
  },
  {
   "cell_type": "markdown",
   "metadata": {},
   "source": [
    "## Linear Regression Model"
   ]
  },
  {
   "cell_type": "code",
   "execution_count": 4,
   "metadata": {
    "scrolled": true
   },
   "outputs": [
    {
     "name": "stdout",
     "output_type": "stream",
     "text": [
      "Explained Variance:  0.5793536108113879\n",
      "Mean square error:  1.1504095158604497\n",
      "Mean absolute error:  0.485039155113458\n",
      "R2 score/Coeff. of determination:  0.5505271951632207\n"
     ]
    }
   ],
   "source": [
    "from sklearn.linear_model import LinearRegression\n",
    "\n",
    "linreg = LinearRegression()\n",
    "linreg.fit(X_train,y_train)\n",
    "y_pred = linreg.predict(X_test)\n",
    "print('Explained Variance: ',explained_variance_score(y_test,y_pred))\n",
    "print('Mean square error: ',mean_squared_error(y_test,y_pred))\n",
    "print('Mean absolute error: ',mean_absolute_error(y_test,y_pred))\n",
    "print('R2 score/Coeff. of determination: ',linreg.score(X_test,y_test))"
   ]
  },
  {
   "cell_type": "markdown",
   "metadata": {},
   "source": [
    "The linear model does not perform very well on our data set. Potentially the underlying data is better described by a polynomial function with a degree higher than 1."
   ]
  },
  {
   "cell_type": "code",
   "execution_count": 20,
   "metadata": {},
   "outputs": [
    {
     "name": "stdout",
     "output_type": "stream",
     "text": [
      "Time to fit: -0.11265420913696289\n",
      "Time to predict: -0.0038442611694335938\n",
      "Explained Variance:  0.7884672004546821\n",
      "Mean square error:  0.603095933995758\n",
      "Mean absolute error:  0.39367753735795774\n",
      "R2 score/Coeff. of determination:  0.7643663258157428\n"
     ]
    }
   ],
   "source": [
    "from sklearn.pipeline import Pipeline\n",
    "from sklearn.preprocessing import PolynomialFeatures\n",
    "import time\n",
    "polyfeat = PolynomialFeatures(degree=2,include_bias=False)\n",
    "linreg = LinearRegression()\n",
    "pipeline = Pipeline([(\"polynomial_features\", polyfeat),(\"linear_regression\", linreg)])\n",
    "t_start = time.time()\n",
    "pipeline.fit(X_train,y_train)\n",
    "print('Time to fit:',t_start-time.time())\n",
    "t_start = time.time()\n",
    "y_pred = pipeline.predict(X_test)\n",
    "print('Time to predict:',t_start-time.time())\n",
    "print('Explained Variance: ',explained_variance_score(y_test,y_pred))\n",
    "print('Mean square error: ',mean_squared_error(y_test,y_pred))\n",
    "print('Mean absolute error: ',mean_absolute_error(y_test,y_pred))\n",
    "print('R2 score/Coeff. of determination: ',pipeline.score(X_test,y_test))"
   ]
  },
  {
   "cell_type": "markdown",
   "metadata": {},
   "source": [
    "The fit to the linear model is highly improved thanks to adding the polynomial features."
   ]
  },
  {
   "cell_type": "markdown",
   "metadata": {},
   "source": [
    "## Decision Tree Regressor"
   ]
  },
  {
   "cell_type": "markdown",
   "metadata": {},
   "source": [
    "Decision trees are usually used for classification problems, but are of value for a regression problem too. "
   ]
  },
  {
   "cell_type": "code",
   "execution_count": 9,
   "metadata": {},
   "outputs": [
    {
     "name": "stdout",
     "output_type": "stream",
     "text": [
      "Mean square error:  1.0038786953973788\n",
      "R2 score/Coeff. of determination:  0.6077777811159193\n"
     ]
    }
   ],
   "source": [
    "from sklearn.tree import DecisionTreeRegressor\n",
    "\n",
    "tree_reg = DecisionTreeRegressor(max_depth=2, random_state=42)\n",
    "tree_reg.fit(X_train, y_train)\n",
    "y_pred = tree_reg.predict(X_test)\n",
    "\n",
    "print('Mean square error: ',mean_squared_error(y_test,y_pred))\n",
    "print('R2 score/Coeff. of determination: ',r2_score(y_test,y_pred))"
   ]
  },
  {
   "cell_type": "code",
   "execution_count": 7,
   "metadata": {},
   "outputs": [
    {
     "name": "stdout",
     "output_type": "stream",
     "text": [
      "Best score:  0.5176525447980902\n",
      "Best set of parameters:  {'ccp_alpha': 0.0, 'max_depth': 3, 'max_features': 6, 'min_samples_leaf': 3, 'min_samples_split': 2}\n",
      "Mean square error:  1.0010994002666562\n",
      "R2 score/Coeff. of determination:  0.608863670584541\n"
     ]
    }
   ],
   "source": [
    "param_grid = {\"ccp_alpha\": [0.0,0.5],\n",
    " \"max_depth\": [2,3, None],\n",
    " \"max_features\": [3, 6, 9],\n",
    " \"min_samples_split\": [2, 5],\n",
    " \"min_samples_leaf\": [1, 3]}\n",
    "reg3 = DecisionTreeRegressor(random_state=42)\n",
    "grid = GridSearchCV(estimator=reg3, param_grid=param_grid, n_jobs=-1,cv=2)\n",
    "grid.fit(X_train, y_train)\n",
    "print('Best score: ',grid.best_score_)\n",
    "print('Best set of parameters: ' ,grid.best_params_)\n",
    "y_pred = grid.predict(X_test)\n",
    "print('Mean square error: ',mean_squared_error(y_test,y_pred))\n",
    "print('R2 score/Coeff. of determination: ',r2_score(y_test,y_pred))"
   ]
  },
  {
   "cell_type": "markdown",
   "metadata": {},
   "source": [
    "The crossvalidation has slightly improved the model performance. The polynomial model still outperforms the Decision Tree Regressor."
   ]
  },
  {
   "cell_type": "code",
   "execution_count": 21,
   "metadata": {},
   "outputs": [
    {
     "name": "stdout",
     "output_type": "stream",
     "text": [
      "Time to fit: -0.0346219539642334\n",
      "Time to predict: -0.009482145309448242\n",
      "Mean square error:  1.0010994002666562\n",
      "R2 score/Coeff. of determination:  0.608863670584541\n"
     ]
    }
   ],
   "source": [
    "tree_reg = DecisionTreeRegressor(max_depth=3, random_state=42, max_features=6,min_samples_leaf=3)\n",
    "t_start = time.time()\n",
    "tree_reg.fit(X_train, y_train)\n",
    "print('Time to fit:',t_start-time.time())\n",
    "t_start = time.time()\n",
    "y_pred = tree_reg.predict(X_test)\n",
    "print('Time to predict:',t_start-time.time())\n",
    "print('Mean square error: ',mean_squared_error(y_test,y_pred))\n",
    "print('R2 score/Coeff. of determination: ',r2_score(y_test,y_pred))"
   ]
  },
  {
   "cell_type": "markdown",
   "metadata": {},
   "source": [
    "## Random Forest Regressor"
   ]
  },
  {
   "cell_type": "code",
   "execution_count": 22,
   "metadata": {},
   "outputs": [
    {
     "name": "stdout",
     "output_type": "stream",
     "text": [
      "Time to fit: -0.5202898979187012\n",
      "Time to predict: -0.026401996612548828\n",
      "Mean square error:  0.7233439032509514\n",
      "R2 score/Coeff. of determination:  0.7173846281924983\n"
     ]
    }
   ],
   "source": [
    "from sklearn.ensemble import RandomForestRegressor\n",
    "regressor = RandomForestRegressor(random_state=0, n_estimators=250)\n",
    "# regressor = RandomForestRegressor(bootstrap= False,max_depth= 3, max_features= 6, min_samples_leaf= 3, min_samples_split=2,n_estimators= 250)\n",
    "t_start = time.time()\n",
    "regressor.fit(X_train.values, y_train)\n",
    "print('Time to fit:',t_start-time.time())\n",
    "t_start = time.time()\n",
    "y_pred = regressor.predict(X_test.values)\n",
    "print('Time to predict:',t_start-time.time())\n",
    "print('Mean square error: ',mean_squared_error(y_test,y_pred))\n",
    "print('R2 score/Coeff. of determination: ',r2_score(y_test,y_pred))"
   ]
  },
  {
   "cell_type": "code",
   "execution_count": 13,
   "metadata": {
    "scrolled": true
   },
   "outputs": [
    {
     "name": "stdout",
     "output_type": "stream",
     "text": [
      "Best score:  0.5972685295650273\n",
      "Best set of parameters:  {'bootstrap': False, 'max_depth': None, 'max_features': 3, 'min_samples_leaf': 1, 'min_samples_split': 2, 'n_estimators': 250}\n",
      "Mean square error:  0.8554412044953067\n",
      "R2 score/Coeff. of determination:  0.6657733161483169\n"
     ]
    }
   ],
   "source": [
    "param_grid = {\"n_estimators\": [150,250],\n",
    " \"max_depth\": [3, None],\n",
    " \"max_features\": [3, 6, 9],\n",
    " \"min_samples_split\": [2, 5],\n",
    " \"min_samples_leaf\": [1, 3],\\\n",
    " \"bootstrap\": [True, False]}\n",
    "reg2 = RandomForestRegressor(random_state=0)\n",
    "grid = GridSearchCV(estimator=reg2, param_grid=param_grid, n_jobs=-1,cv=2)\n",
    "grid.fit(X_train.values, y_train)\n",
    "print('Best score: ',grid.best_score_)\n",
    "print('Best set of parameters: ' ,grid.best_params_)\n",
    "y_pred = grid.predict(X_test.values)\n",
    "print('Mean square error: ',mean_squared_error(y_test,y_pred))\n",
    "print('R2 score/Coeff. of determination: ',r2_score(y_test,y_pred))"
   ]
  },
  {
   "cell_type": "markdown",
   "metadata": {},
   "source": [
    "Instead of just one decision tree, a Random Forest regressor is now used to model the data set. R2 score shows that the Random Forest regressor outperforms the single Decision Tree, but it does not compete with the polynomial Model.\n",
    "\n",
    "A benefit of the Random Forest is that it provides the relative relevance of each feature. "
   ]
  },
  {
   "cell_type": "code",
   "execution_count": 15,
   "metadata": {},
   "outputs": [],
   "source": [
    "def argsort(seq):\n",
    "    # http://stackoverflow.com/questions/3071415/efficient-method-to-calculate-the-rank-vector-of-a-list-in-python\n",
    "    return sorted(range(len(seq)), key=seq.__getitem__)\n"
   ]
  },
  {
   "cell_type": "code",
   "execution_count": 16,
   "metadata": {},
   "outputs": [
    {
     "name": "stdout",
     "output_type": "stream",
     "text": [
      "Feature Importance:\n",
      "Cluster_1 : 0.1%\n",
      "Cluster_2 : 0.1%\n",
      "Undernourished : 0.4%\n",
      "Cardio Death Rate : 2.4%\n",
      "Obesity : 3.1%\n",
      "Total Population : 3.2%\n",
      "PopMale : 7.1%\n",
      "Diabetes Percentage : 9.1%\n",
      "Confirmed : 74.5%\n"
     ]
    }
   ],
   "source": [
    "regressor = RandomForestRegressor(random_state=0, n_estimators=250)\n",
    "\n",
    "regressor.fit(X_train.values, y_train)\n",
    "ind = argsort(regressor.feature_importances_)\n",
    "print('Feature Importance:')\n",
    "for i in ind:\n",
    "    print('{} : {:.1f}%'.format(X_train.columns[i],100*regressor.feature_importances_[i]))"
   ]
  },
  {
   "cell_type": "markdown",
   "metadata": {},
   "source": [
    "We see that the most important feature is the number of comfirmed cases. This was to be expected, since deaths are correlated to incidents. Interestingly, the Diabetes Percentage appears to be more relevant than the fraction of male population above 70. But with our mission to predict which other countries might be affected but do not have confirmed cases yet, this result does not help us."
   ]
  },
  {
   "cell_type": "markdown",
   "metadata": {},
   "source": [
    "## Gradient Boosting Regressor"
   ]
  },
  {
   "cell_type": "code",
   "execution_count": 17,
   "metadata": {},
   "outputs": [
    {
     "name": "stdout",
     "output_type": "stream",
     "text": [
      "Explained Variance:  0.6220304803184152\n",
      "Mean square error:  1.001501102475978\n",
      "Mean absolute error:  0.41932417878565015\n",
      "R2 score/Coeff. of determination:  0.6087067228052991\n"
     ]
    }
   ],
   "source": [
    "from sklearn.ensemble import GradientBoostingRegressor\n",
    "gbr = GradientBoostingRegressor(random_state=42)\n",
    "# Fit the model on the trainng data.\n",
    "gbr.fit(X_train, y_train)\n",
    "# Print the accuracy from the testing data.\n",
    "y_pred = gbr.predict(X_test)\n",
    "print('Explained Variance: ',explained_variance_score(y_test,y_pred))\n",
    "print('Mean square error: ',mean_squared_error(y_test,y_pred))\n",
    "print('Mean absolute error: ',mean_absolute_error(y_test,y_pred))\n",
    "print('R2 score/Coeff. of determination: ',r2_score(y_test,y_pred))"
   ]
  },
  {
   "cell_type": "code",
   "execution_count": 18,
   "metadata": {
    "scrolled": true
   },
   "outputs": [
    {
     "name": "stdout",
     "output_type": "stream",
     "text": [
      "Best score:  0.6475079527457719\n",
      "Best set of parameters:  {'max_depth': 3, 'max_features': 3, 'min_samples_leaf': 1, 'min_samples_split': 2, 'n_estimators': 250, 'subsample': 1}\n",
      "Mean square error:  0.7778044608213309\n",
      "R2 score/Coeff. of determination:  0.6961065187656785\n"
     ]
    }
   ],
   "source": [
    "param_grid = {\"n_estimators\": [100,150,250],\n",
    "              \"subsample\": [0.5,0.75,1],\n",
    " \"max_depth\": [3, None],\n",
    " \"max_features\": [3, 6, 9],\n",
    " \"min_samples_split\": [2, 5],\n",
    " \"min_samples_leaf\": [1, 3]}\n",
    "gbr = GradientBoostingRegressor(random_state=42)\n",
    "grid = GridSearchCV(estimator=gbr, param_grid=param_grid, n_jobs=-1,cv=2)\n",
    "grid.fit(X_train, y_train)\n",
    "print('Best score: ',grid.best_score_)\n",
    "print('Best set of parameters: ' ,grid.best_params_)\n",
    "y_pred = grid.predict(X_test)\n",
    "print('Mean square error: ',mean_squared_error(y_test,y_pred))\n",
    "print('R2 score/Coeff. of determination: ',r2_score(y_test,y_pred))"
   ]
  },
  {
   "cell_type": "code",
   "execution_count": 23,
   "metadata": {},
   "outputs": [
    {
     "name": "stdout",
     "output_type": "stream",
     "text": [
      "Time to fit: -0.11371898651123047\n",
      "Time to predict: -0.005056142807006836\n",
      "Feature Importance:\n",
      "Cluster_2 : 1.1%\n",
      "Undernourished : 1.8%\n",
      "Cluster_1 : 2.0%\n",
      "Obesity : 5.4%\n",
      "Cardio Death Rate : 6.2%\n",
      "Total Population : 8.5%\n",
      "Diabetes Percentage : 13.4%\n",
      "PopMale : 20.5%\n",
      "Confirmed : 41.2%\n"
     ]
    }
   ],
   "source": [
    "gbr = GradientBoostingRegressor(random_state=42,max_depth=3,max_features=3,n_estimators=150)\n",
    "t_start = time.time()\n",
    "gbr.fit(X_train,y_train)\n",
    "print('Time to fit:',t_start-time.time())\n",
    "t_start = time.time()\n",
    "ind = argsort(gbr.feature_importances_)\n",
    "print('Time to predict:',t_start-time.time())\n",
    "print('Feature Importance:')\n",
    "for i in ind:\n",
    "    print('{} : {:.1f}%'.format(X_train.columns[i],100*gbr.feature_importances_[i]))"
   ]
  },
  {
   "cell_type": "markdown",
   "metadata": {},
   "source": [
    "The Random Forest model outperforms the Gradient Boosting and all other models. Interestingly, the Gradient Boosting gives less importance to the number of confirmed cases and increases the importance of the percentage of males older than 75. The diabetes percentage is on rank three this time."
   ]
  },
  {
   "cell_type": "code",
   "execution_count": null,
   "metadata": {},
   "outputs": [],
   "source": []
  }
 ],
 "metadata": {
  "kernelspec": {
   "display_name": "Python 3",
   "language": "python",
   "name": "python3"
  },
  "language_info": {
   "codemirror_mode": {
    "name": "ipython",
    "version": 3
   },
   "file_extension": ".py",
   "mimetype": "text/x-python",
   "name": "python",
   "nbconvert_exporter": "python",
   "pygments_lexer": "ipython3",
   "version": "3.7.6"
  }
 },
 "nbformat": 4,
 "nbformat_minor": 4
}
