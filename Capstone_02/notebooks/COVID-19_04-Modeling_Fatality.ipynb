{
 "cells": [
  {
   "cell_type": "markdown",
   "metadata": {},
   "source": [
    "# Modeling COVID-19 fatality relative to the confirmed cases\n",
    "\n",
    "### This notebook is very similar to the one modeling the death rate. The difference lies in the data set: the COVID fatality (deaths/confirmed) is predicted based on the demography. So no COVID data used to predict.\n",
    "\n",
    "### As you will see below, the models do not perform very well. Therefore I focussed my analysis on the other modeling notebook and data set.\n",
    "\n",
    "In this step we are finding the right or best model to correlate relative fatality to the demography of a country, and the goal would be predicting countries of risk that did not have COVID-19 back in May. This could then be evaluated with more recent COVID-19 data."
   ]
  },
  {
   "cell_type": "code",
   "execution_count": 1,
   "metadata": {},
   "outputs": [
    {
     "data": {
      "text/plain": [
       "'/Users/lisahw/Documents/Courses and Conferences/DataScience/MyProject/Capstone_02/Springboard/notebooks'"
      ]
     },
     "execution_count": 1,
     "metadata": {},
     "output_type": "execute_result"
    }
   ],
   "source": [
    "#load python packages\n",
    "import os\n",
    "import pandas as pd\n",
    "import datetime\n",
    "import seaborn as sns\n",
    "import matplotlib.pyplot as plt\n",
    "import numpy as np\n",
    "from sklearn.metrics import mean_squared_error, r2_score, explained_variance_score,mean_absolute_error\n",
    "from sklearn import linear_model\n",
    "from sklearn.model_selection import GridSearchCV\n",
    "%matplotlib inline\n",
    "os.getcwd()"
   ]
  },
  {
   "cell_type": "markdown",
   "metadata": {},
   "source": [
    "### Read in Train and Test data sets"
   ]
  },
  {
   "cell_type": "code",
   "execution_count": 27,
   "metadata": {},
   "outputs": [
    {
     "data": {
      "text/html": [
       "<div>\n",
       "<style scoped>\n",
       "    .dataframe tbody tr th:only-of-type {\n",
       "        vertical-align: middle;\n",
       "    }\n",
       "\n",
       "    .dataframe tbody tr th {\n",
       "        vertical-align: top;\n",
       "    }\n",
       "\n",
       "    .dataframe thead th {\n",
       "        text-align: right;\n",
       "    }\n",
       "</style>\n",
       "<table border=\"1\" class=\"dataframe\">\n",
       "  <thead>\n",
       "    <tr style=\"text-align: right;\">\n",
       "      <th></th>\n",
       "      <th>Cardio Death Rate</th>\n",
       "      <th>Diabetes Percentage</th>\n",
       "      <th>Obesity</th>\n",
       "      <th>Undernourished</th>\n",
       "      <th>PopMale</th>\n",
       "      <th>Total Population</th>\n",
       "      <th>Cluster_1</th>\n",
       "      <th>Cluster_2</th>\n",
       "    </tr>\n",
       "    <tr>\n",
       "      <th>index</th>\n",
       "      <th></th>\n",
       "      <th></th>\n",
       "      <th></th>\n",
       "      <th></th>\n",
       "      <th></th>\n",
       "      <th></th>\n",
       "      <th></th>\n",
       "      <th></th>\n",
       "    </tr>\n",
       "  </thead>\n",
       "  <tbody>\n",
       "    <tr>\n",
       "      <th>145</th>\n",
       "      <td>-0.188623</td>\n",
       "      <td>-0.897430</td>\n",
       "      <td>-1.282407</td>\n",
       "      <td>2.990430</td>\n",
       "      <td>-1.073046</td>\n",
       "      <td>-0.191597</td>\n",
       "      <td>0</td>\n",
       "      <td>0</td>\n",
       "    </tr>\n",
       "    <tr>\n",
       "      <th>42</th>\n",
       "      <td>-0.977732</td>\n",
       "      <td>-0.467855</td>\n",
       "      <td>0.081550</td>\n",
       "      <td>-0.228392</td>\n",
       "      <td>-0.211033</td>\n",
       "      <td>-0.194520</td>\n",
       "      <td>0</td>\n",
       "      <td>1</td>\n",
       "    </tr>\n",
       "    <tr>\n",
       "      <th>16</th>\n",
       "      <td>0.344180</td>\n",
       "      <td>0.287237</td>\n",
       "      <td>-1.612741</td>\n",
       "      <td>0.335731</td>\n",
       "      <td>-0.448477</td>\n",
       "      <td>0.679257</td>\n",
       "      <td>0</td>\n",
       "      <td>0</td>\n",
       "    </tr>\n",
       "    <tr>\n",
       "      <th>10</th>\n",
       "      <td>0.179408</td>\n",
       "      <td>-0.153011</td>\n",
       "      <td>0.859433</td>\n",
       "      <td>-0.560230</td>\n",
       "      <td>-0.321158</td>\n",
       "      <td>-0.040489</td>\n",
       "      <td>1</td>\n",
       "      <td>0</td>\n",
       "    </tr>\n",
       "    <tr>\n",
       "      <th>115</th>\n",
       "      <td>-0.036122</td>\n",
       "      <td>1.151723</td>\n",
       "      <td>0.561067</td>\n",
       "      <td>-0.410903</td>\n",
       "      <td>0.294547</td>\n",
       "      <td>-0.298068</td>\n",
       "      <td>1</td>\n",
       "      <td>0</td>\n",
       "    </tr>\n",
       "  </tbody>\n",
       "</table>\n",
       "</div>"
      ],
      "text/plain": [
       "       Cardio Death Rate  Diabetes Percentage   Obesity  Undernourished  \\\n",
       "index                                                                     \n",
       "145            -0.188623            -0.897430 -1.282407        2.990430   \n",
       "42             -0.977732            -0.467855  0.081550       -0.228392   \n",
       "16              0.344180             0.287237 -1.612741        0.335731   \n",
       "10              0.179408            -0.153011  0.859433       -0.560230   \n",
       "115            -0.036122             1.151723  0.561067       -0.410903   \n",
       "\n",
       "        PopMale  Total Population  Cluster_1  Cluster_2  \n",
       "index                                                    \n",
       "145   -1.073046         -0.191597          0          0  \n",
       "42    -0.211033         -0.194520          0          1  \n",
       "16    -0.448477          0.679257          0          0  \n",
       "10    -0.321158         -0.040489          1          0  \n",
       "115    0.294547         -0.298068          1          0  "
      ]
     },
     "execution_count": 27,
     "metadata": {},
     "output_type": "execute_result"
    }
   ],
   "source": [
    "data_file = 'sqlite:///../data/interim/COVID_fatal_train_test.db'\n",
    "X_train = pd.read_sql('SELECT * FROM XTRAIN',data_file,index_col='index')\n",
    "X_test = pd.read_sql('SELECT * FROM XTEST',data_file,index_col='index')\n",
    "y_train = np.ravel(pd.read_sql('SELECT * FROM yTRAIN',data_file,index_col='index'))\n",
    "y_test = np.ravel(pd.read_sql('SELECT * FROM yTEST',data_file,index_col='index'))\n",
    "X_train.head()"
   ]
  },
  {
   "cell_type": "code",
   "execution_count": 5,
   "metadata": {},
   "outputs": [
    {
     "data": {
      "text/plain": [
       "Index(['Cardio Death Rate', 'Diabetes Percentage', 'Obesity', 'Undernourished',\n",
       "       'PopMale', 'Total Population', 'Cluster_1', 'Cluster_2'],\n",
       "      dtype='object')"
      ]
     },
     "execution_count": 5,
     "metadata": {},
     "output_type": "execute_result"
    }
   ],
   "source": [
    "X_test.columns"
   ]
  },
  {
   "cell_type": "code",
   "execution_count": 6,
   "metadata": {},
   "outputs": [
    {
     "data": {
      "text/html": [
       "<div>\n",
       "<style scoped>\n",
       "    .dataframe tbody tr th:only-of-type {\n",
       "        vertical-align: middle;\n",
       "    }\n",
       "\n",
       "    .dataframe tbody tr th {\n",
       "        vertical-align: top;\n",
       "    }\n",
       "\n",
       "    .dataframe thead th {\n",
       "        text-align: right;\n",
       "    }\n",
       "</style>\n",
       "<table border=\"1\" class=\"dataframe\">\n",
       "  <thead>\n",
       "    <tr style=\"text-align: right;\">\n",
       "      <th></th>\n",
       "      <th>count</th>\n",
       "      <th>mean</th>\n",
       "      <th>std</th>\n",
       "      <th>min</th>\n",
       "      <th>25%</th>\n",
       "      <th>50%</th>\n",
       "      <th>75%</th>\n",
       "      <th>max</th>\n",
       "    </tr>\n",
       "  </thead>\n",
       "  <tbody>\n",
       "    <tr>\n",
       "      <th>Cardio Death Rate</th>\n",
       "      <td>110.0</td>\n",
       "      <td>-0.032341</td>\n",
       "      <td>1.013118</td>\n",
       "      <td>-1.490183</td>\n",
       "      <td>-0.836498</td>\n",
       "      <td>-0.182965</td>\n",
       "      <td>0.541127</td>\n",
       "      <td>3.921871</td>\n",
       "    </tr>\n",
       "    <tr>\n",
       "      <th>Diabetes Percentage</th>\n",
       "      <td>110.0</td>\n",
       "      <td>0.058671</td>\n",
       "      <td>1.072147</td>\n",
       "      <td>-1.684540</td>\n",
       "      <td>-0.656628</td>\n",
       "      <td>-0.056957</td>\n",
       "      <td>0.513364</td>\n",
       "      <td>3.926619</td>\n",
       "    </tr>\n",
       "    <tr>\n",
       "      <th>Obesity</th>\n",
       "      <td>110.0</td>\n",
       "      <td>0.014224</td>\n",
       "      <td>1.029620</td>\n",
       "      <td>-1.666021</td>\n",
       "      <td>-1.090601</td>\n",
       "      <td>0.353276</td>\n",
       "      <td>0.763529</td>\n",
       "      <td>1.999616</td>\n",
       "    </tr>\n",
       "    <tr>\n",
       "      <th>Undernourished</th>\n",
       "      <td>110.0</td>\n",
       "      <td>0.007363</td>\n",
       "      <td>1.000471</td>\n",
       "      <td>-0.800812</td>\n",
       "      <td>-0.800812</td>\n",
       "      <td>-0.352831</td>\n",
       "      <td>0.331583</td>\n",
       "      <td>3.372043</td>\n",
       "    </tr>\n",
       "    <tr>\n",
       "      <th>PopMale</th>\n",
       "      <td>110.0</td>\n",
       "      <td>-0.038553</td>\n",
       "      <td>0.997058</td>\n",
       "      <td>-1.090112</td>\n",
       "      <td>-0.858592</td>\n",
       "      <td>-0.381903</td>\n",
       "      <td>0.653262</td>\n",
       "      <td>3.156894</td>\n",
       "    </tr>\n",
       "    <tr>\n",
       "      <th>Total Population</th>\n",
       "      <td>110.0</td>\n",
       "      <td>0.041129</td>\n",
       "      <td>1.142138</td>\n",
       "      <td>-0.298068</td>\n",
       "      <td>-0.271199</td>\n",
       "      <td>-0.230962</td>\n",
       "      <td>-0.075740</td>\n",
       "      <td>8.301432</td>\n",
       "    </tr>\n",
       "    <tr>\n",
       "      <th>Cluster_1</th>\n",
       "      <td>110.0</td>\n",
       "      <td>0.409091</td>\n",
       "      <td>0.493916</td>\n",
       "      <td>0.000000</td>\n",
       "      <td>0.000000</td>\n",
       "      <td>0.000000</td>\n",
       "      <td>1.000000</td>\n",
       "      <td>1.000000</td>\n",
       "    </tr>\n",
       "    <tr>\n",
       "      <th>Cluster_2</th>\n",
       "      <td>110.0</td>\n",
       "      <td>0.245455</td>\n",
       "      <td>0.432326</td>\n",
       "      <td>0.000000</td>\n",
       "      <td>0.000000</td>\n",
       "      <td>0.000000</td>\n",
       "      <td>0.000000</td>\n",
       "      <td>1.000000</td>\n",
       "    </tr>\n",
       "  </tbody>\n",
       "</table>\n",
       "</div>"
      ],
      "text/plain": [
       "                     count      mean       std       min       25%       50%  \\\n",
       "Cardio Death Rate    110.0 -0.032341  1.013118 -1.490183 -0.836498 -0.182965   \n",
       "Diabetes Percentage  110.0  0.058671  1.072147 -1.684540 -0.656628 -0.056957   \n",
       "Obesity              110.0  0.014224  1.029620 -1.666021 -1.090601  0.353276   \n",
       "Undernourished       110.0  0.007363  1.000471 -0.800812 -0.800812 -0.352831   \n",
       "PopMale              110.0 -0.038553  0.997058 -1.090112 -0.858592 -0.381903   \n",
       "Total Population     110.0  0.041129  1.142138 -0.298068 -0.271199 -0.230962   \n",
       "Cluster_1            110.0  0.409091  0.493916  0.000000  0.000000  0.000000   \n",
       "Cluster_2            110.0  0.245455  0.432326  0.000000  0.000000  0.000000   \n",
       "\n",
       "                          75%       max  \n",
       "Cardio Death Rate    0.541127  3.921871  \n",
       "Diabetes Percentage  0.513364  3.926619  \n",
       "Obesity              0.763529  1.999616  \n",
       "Undernourished       0.331583  3.372043  \n",
       "PopMale              0.653262  3.156894  \n",
       "Total Population    -0.075740  8.301432  \n",
       "Cluster_1            1.000000  1.000000  \n",
       "Cluster_2            0.000000  1.000000  "
      ]
     },
     "execution_count": 6,
     "metadata": {},
     "output_type": "execute_result"
    }
   ],
   "source": [
    "X_train.describe().transpose()"
   ]
  },
  {
   "cell_type": "markdown",
   "metadata": {},
   "source": [
    "Data has been standardized and clusters identified. There are 3 clusters, but one has been dropped to avoid covariance."
   ]
  },
  {
   "cell_type": "markdown",
   "metadata": {},
   "source": [
    "## Linear Regression Model"
   ]
  },
  {
   "cell_type": "code",
   "execution_count": 7,
   "metadata": {
    "scrolled": true
   },
   "outputs": [
    {
     "name": "stdout",
     "output_type": "stream",
     "text": [
      "R2 score/Coeff. of determination:  0.05497018859179903\n",
      "Explained Variance:  0.07633640225217875\n",
      "Mean square error:  0.7779026424003744\n",
      "Mean absolute error:  0.6765600807271355\n"
     ]
    }
   ],
   "source": [
    "from sklearn.linear_model import LinearRegression\n",
    "\n",
    "linreg = LinearRegression()\n",
    "linreg.fit(X_train,y_train)\n",
    "print('R2 score/Coeff. of determination: ',linreg.score(X_test,y_test))\n",
    "y_pred = linreg.predict(X_test)\n",
    "print('Explained Variance: ',explained_variance_score(y_test,y_pred))\n",
    "print('Mean square error: ',mean_squared_error(y_test,y_pred))\n",
    "print('Mean absolute error: ',mean_absolute_error(y_test,y_pred))"
   ]
  },
  {
   "cell_type": "code",
   "execution_count": 26,
   "metadata": {},
   "outputs": [
    {
     "name": "stdout",
     "output_type": "stream",
     "text": [
      "Explained Variance:  -1.3791823180863063\n",
      "Mean square error:  1.987074045023469\n",
      "Mean absolute error:  0.9915424262703362\n",
      "R2 score/Coeff. of determination:  -1.413983585694214\n"
     ]
    }
   ],
   "source": [
    "from sklearn.pipeline import Pipeline\n",
    "from sklearn.preprocessing import PolynomialFeatures\n",
    "polyfeat = PolynomialFeatures(degree=2,include_bias=False)\n",
    "linreg = LinearRegression()\n",
    "pipeline = Pipeline([(\"polynomial_features\", polyfeat),(\"linear_regression\", linreg)])\n",
    "pipeline.fit(X_train,y_train)\n",
    "y_pred = pipeline.predict(X_test)\n",
    "print('Explained Variance: ',explained_variance_score(y_test,y_pred))\n",
    "print('Mean square error: ',mean_squared_error(y_test,y_pred))\n",
    "print('Mean absolute error: ',mean_absolute_error(y_test,y_pred))\n",
    "print('R2 score/Coeff. of determination: ',pipeline.score(X_test,y_test))"
   ]
  },
  {
   "cell_type": "markdown",
   "metadata": {},
   "source": [
    "## Decision Tree Regressor"
   ]
  },
  {
   "cell_type": "code",
   "execution_count": 8,
   "metadata": {},
   "outputs": [
    {
     "name": "stdout",
     "output_type": "stream",
     "text": [
      "Mean square error:  0.7492417718432132\n",
      "R2 score/Coeff. of determination:  0.08978865509533429\n"
     ]
    }
   ],
   "source": [
    "from sklearn.tree import DecisionTreeRegressor\n",
    "\n",
    "tree_reg = DecisionTreeRegressor(max_depth=2, random_state=42)\n",
    "tree_reg.fit(X_train, y_train)\n",
    "y_pred = tree_reg.predict(X_test)\n",
    "print('Mean square error: ',mean_squared_error(y_test,y_pred))\n",
    "print('R2 score/Coeff. of determination: ',r2_score(y_test,y_pred))"
   ]
  },
  {
   "cell_type": "code",
   "execution_count": 9,
   "metadata": {},
   "outputs": [
    {
     "name": "stdout",
     "output_type": "stream",
     "text": [
      "Best score:  -0.4046568299912895\n",
      "Best set of parameters:  {'ccp_alpha': 0.0, 'max_depth': 2, 'max_features': 6, 'min_samples_leaf': 1, 'min_samples_split': 5}\n",
      "Mean square error:  0.7261074247104945\n",
      "R2 score/Coeff. of determination:  0.11789326165692582\n"
     ]
    }
   ],
   "source": [
    "param_grid = {\"ccp_alpha\": [0.0,0.5],\n",
    " \"max_depth\": [2,3, None],\n",
    " \"max_features\": [3, 6, 9],\n",
    " \"min_samples_split\": [2, 5],\n",
    " \"min_samples_leaf\": [1, 3]}\n",
    "reg3 = DecisionTreeRegressor(random_state=42)\n",
    "grid = GridSearchCV(estimator=reg3, param_grid=param_grid, n_jobs=-1,cv=2)\n",
    "grid.fit(X_train, y_train)\n",
    "print('Best score: ',grid.best_score_)\n",
    "print('Best set of parameters: ' ,grid.best_params_)\n",
    "y_pred = grid.predict(X_test)\n",
    "print('Mean square error: ',mean_squared_error(y_test,y_pred))\n",
    "print('R2 score/Coeff. of determination: ',r2_score(y_test,y_pred))"
   ]
  },
  {
   "cell_type": "code",
   "execution_count": 140,
   "metadata": {},
   "outputs": [],
   "source": [
    "tree_reg = DecisionTreeRegressor(max_depth=3, random_state=42, max_features=6,min_samples_leaf=3)\n",
    "tree_reg.fit(X_train, y_train)\n",
    "y_pred = tree_reg.predict(X_test)"
   ]
  },
  {
   "cell_type": "markdown",
   "metadata": {},
   "source": [
    "## Random Forest Regressor"
   ]
  },
  {
   "cell_type": "code",
   "execution_count": 28,
   "metadata": {},
   "outputs": [
    {
     "name": "stdout",
     "output_type": "stream",
     "text": [
      "Mean square error:  0.5953416780648717\n",
      "R2 score/Coeff. of determination:  0.27675315254229715\n"
     ]
    }
   ],
   "source": [
    "from sklearn.ensemble import RandomForestRegressor\n",
    "regressor = RandomForestRegressor(random_state=0, n_estimators=250)\n",
    "# regressor = RandomForestRegressor(bootstrap= False,max_depth= 3, max_features= 6, min_samples_leaf= 3, min_samples_split=2,n_estimators= 250)\n",
    "regressor.fit(X_train, y_train)\n",
    "y_pred = regressor.predict(X_test)\n",
    "print('Mean square error: ',mean_squared_error(y_test,y_pred))\n",
    "print('R2 score/Coeff. of determination: ',r2_score(y_test,y_pred))"
   ]
  },
  {
   "cell_type": "code",
   "execution_count": 15,
   "metadata": {},
   "outputs": [
    {
     "name": "stdout",
     "output_type": "stream",
     "text": [
      "Index(['Cardio Death Rate', 'Diabetes Percentage', 'Obesity', 'Undernourished',\n",
      "       'PopMale', 'Total Population', 'Cluster_1', 'Cluster_2'],\n",
      "      dtype='object')\n",
      "[0.17035396 0.19538908 0.12078505 0.21458881 0.17989542 0.11238417\n",
      " 0.0052508  0.00135271]\n"
     ]
    }
   ],
   "source": [
    "print(X_train.columns)\n",
    "print(regressor.feature_importances_)"
   ]
  },
  {
   "cell_type": "code",
   "execution_count": 29,
   "metadata": {
    "scrolled": true
   },
   "outputs": [
    {
     "name": "stdout",
     "output_type": "stream",
     "text": [
      "Best score:  -0.36751542472491716\n",
      "Best set of parameters:  {'bootstrap': True, 'max_depth': None, 'max_features': 3, 'min_samples_leaf': 1, 'min_samples_split': 2, 'n_estimators': 150}\n",
      "Mean square error:  0.5510218830436412\n",
      "R2 score/Coeff. of determination:  0.3305947584807003\n"
     ]
    }
   ],
   "source": [
    "param_grid = {\"n_estimators\": [150,250],\n",
    " \"max_depth\": [3, None],\n",
    " \"max_features\": [3, 6, 9],\n",
    " \"min_samples_split\": [2, 5],\n",
    " \"min_samples_leaf\": [1, 3],\n",
    " \"bootstrap\": [True, False]}\n",
    "reg2 = RandomForestRegressor(random_state=0)\n",
    "grid = GridSearchCV(estimator=reg2, param_grid=param_grid, n_jobs=-1,cv=2)\n",
    "grid.fit(X_train, y_train)\n",
    "print('Best score: ',grid.best_score_)\n",
    "print('Best set of parameters: ' ,grid.best_params_)\n",
    "y_pred = grid.predict(X_test)\n",
    "print('Mean square error: ',mean_squared_error(y_test,y_pred))\n",
    "print('R2 score/Coeff. of determination: ',r2_score(y_test,y_pred))"
   ]
  },
  {
   "cell_type": "markdown",
   "metadata": {},
   "source": [
    "## Gradient Boosting Regressor"
   ]
  },
  {
   "cell_type": "code",
   "execution_count": 30,
   "metadata": {},
   "outputs": [
    {
     "name": "stdout",
     "output_type": "stream",
     "text": [
      "Explained Variance:  0.20910202617265017\n",
      "Mean square error:  0.651076685124857\n",
      "Mean absolute error:  0.6858489237094716\n",
      "R2 score/Coeff. of determination:  0.20904385276642168\n"
     ]
    }
   ],
   "source": [
    "from sklearn.ensemble import GradientBoostingRegressor\n",
    "gbr = GradientBoostingRegressor(random_state=42)\n",
    "# Fit the model on the trainng data.\n",
    "gbr.fit(X_train, y_train)\n",
    "# Print the accuracy from the testing data.\n",
    "y_pred = gbr.predict(X_test)\n",
    "print('Explained Variance: ',explained_variance_score(y_test,y_pred))\n",
    "print('Mean square error: ',mean_squared_error(y_test,y_pred))\n",
    "print('Mean absolute error: ',mean_absolute_error(y_test,y_pred))\n",
    "print('R2 score/Coeff. of determination: ',r2_score(y_test,y_pred))"
   ]
  },
  {
   "cell_type": "code",
   "execution_count": 31,
   "metadata": {
    "scrolled": true
   },
   "outputs": [
    {
     "name": "stdout",
     "output_type": "stream",
     "text": [
      "Best score:  -0.3569188371563269\n",
      "Best set of parameters:  {'max_depth': 3, 'max_features': 6, 'min_samples_leaf': 1, 'min_samples_split': 5, 'n_estimators': 100, 'subsample': 0.5}\n",
      "Mean square error:  0.6160685018032027\n",
      "R2 score/Coeff. of determination:  0.2515733096405107\n"
     ]
    }
   ],
   "source": [
    "param_grid = {\"n_estimators\": [100,150,250],\n",
    "              \"subsample\": [0.5,0.75,1],\n",
    " \"max_depth\": [3, None],\n",
    " \"max_features\": [3, 6, 9],\n",
    " \"min_samples_split\": [2, 5],\n",
    " \"min_samples_leaf\": [1, 3]}\n",
    "gbr = GradientBoostingRegressor(random_state=42)\n",
    "grid = GridSearchCV(estimator=gbr, param_grid=param_grid, n_jobs=-1,cv=2)\n",
    "grid.fit(X_train, y_train)\n",
    "print('Best score: ',grid.best_score_)\n",
    "print('Best set of parameters: ' ,grid.best_params_)\n",
    "y_pred = grid.predict(X_test)\n",
    "print('Mean square error: ',mean_squared_error(y_test,y_pred))\n",
    "print('R2 score/Coeff. of determination: ',r2_score(y_test,y_pred))"
   ]
  },
  {
   "cell_type": "code",
   "execution_count": 32,
   "metadata": {},
   "outputs": [
    {
     "name": "stdout",
     "output_type": "stream",
     "text": [
      "Cardio Death Rate : 18.7%\n",
      "Diabetes Percentage : 13.7%\n",
      "Obesity : 12.9%\n",
      "Undernourished : 21.8%\n",
      "PopMale : 16.2%\n",
      "Total Population : 13.0%\n",
      "Cluster_1 : 3.6%\n",
      "Cluster_2 : 0.2%\n",
      "Explained Variance:  0.253856249745411\n",
      "Mean square error:  0.6160685018032027\n",
      "Mean absolute error:  0.6681127624799257\n",
      "R2 score/Coeff. of determination:  0.2515733096405107\n"
     ]
    }
   ],
   "source": [
    "gbr = GradientBoostingRegressor(random_state=42,max_depth=3,max_features=6,n_estimators=100,subsample=0.5,min_samples_split=5)\n",
    "gbr.fit(X_train,y_train)\n",
    "for col,imp in zip(X_train.columns,gbr.feature_importances_):\n",
    "    print('{} : {:.1f}%'.format(col,100*imp))\n",
    "print('Explained Variance: ',explained_variance_score(y_test,y_pred))\n",
    "print('Mean square error: ',mean_squared_error(y_test,y_pred))\n",
    "print('Mean absolute error: ',mean_absolute_error(y_test,y_pred))\n",
    "print('R2 score/Coeff. of determination: ',r2_score(y_test,y_pred))"
   ]
  },
  {
   "cell_type": "code",
   "execution_count": null,
   "metadata": {},
   "outputs": [],
   "source": []
  }
 ],
 "metadata": {
  "kernelspec": {
   "display_name": "Python 3",
   "language": "python",
   "name": "python3"
  },
  "language_info": {
   "codemirror_mode": {
    "name": "ipython",
    "version": 3
   },
   "file_extension": ".py",
   "mimetype": "text/x-python",
   "name": "python",
   "nbconvert_exporter": "python",
   "pygments_lexer": "ipython3",
   "version": "3.7.6"
  }
 },
 "nbformat": 4,
 "nbformat_minor": 4
}
