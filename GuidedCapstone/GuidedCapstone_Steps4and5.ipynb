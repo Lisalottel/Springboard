{
 "cells": [
  {
   "cell_type": "markdown",
   "metadata": {
    "colab_type": "text",
    "id": "cf5CmXQCZyF1"
   },
   "source": [
    "# Guided Capstone Step 4 - Pre-processing and Training Data Development"
   ]
  },
  {
   "cell_type": "markdown",
   "metadata": {
    "colab_type": "text",
    "id": "JbZXsVevfr9M"
   },
   "source": [
    "### **The Data Science Method**  \n",
    "\n",
    "\n",
    "1.   Problem Identification \n",
    "\n",
    "2.   Data Wrangling \n",
    "  \n",
    "3.   Exploratory Data Analysis \n",
    " \n",
    "4.   **Pre-processing and Training Data Development**\n",
    "\n",
    "5.  Modeling\n",
    "  * Fit Models with Training Data Set\n",
    "  * Review Model Outcomes — Iterate over additional models as needed.\n",
    "  * Identify the Final Model\n",
    "\n",
    "6.   Documentation\n",
    "  * Review the Results\n",
    "  * Present and share your findings - storytelling\n",
    "  * Finalize Code \n",
    "  * Finalize Documentation"
   ]
  },
  {
   "cell_type": "markdown",
   "metadata": {
    "colab_type": "text",
    "id": "GyZga0DpAnq7"
   },
   "source": [
    "In this step of the guided capstone, you'll revisit some of the steps you completed to solve questions in step 4. Revisiting these steps will help you get additional practice completing this kind of work."
   ]
  },
  {
   "cell_type": "markdown",
   "metadata": {
    "colab_type": "text",
    "id": "K8xfkAqqZyF2"
   },
   "source": [
    "**<font color='teal'> Start by loading the necessary packages, as you've done in the previous steps. Print out your current working directory to confirm that you are in the correct project directory. </font>**"
   ]
  },
  {
   "cell_type": "code",
   "execution_count": 2,
   "metadata": {
    "colab": {},
    "colab_type": "code",
    "id": "ry6WPL5eZyF3"
   },
   "outputs": [
    {
     "data": {
      "text/plain": [
       "'/Users/lisahw/Documents/Courses and Conferences/DataScience/MyProject/Unit 6'"
      ]
     },
     "execution_count": 2,
     "metadata": {},
     "output_type": "execute_result"
    }
   ],
   "source": [
    "#load python packages\n",
    "import os\n",
    "import pandas as pd\n",
    "import datetime\n",
    "import seaborn as sns\n",
    "import matplotlib.pyplot as plt\n",
    "import numpy as np\n",
    "%matplotlib inline\n",
    "os.getcwd()"
   ]
  },
  {
   "cell_type": "markdown",
   "metadata": {
    "colab_type": "text",
    "id": "630T-ogRZyF8"
   },
   "source": [
    "**<font color='teal'>  Load the csv file you created in step 3. Remember, it should be saved inside your data subfolder. Print the first five rows.</font>**"
   ]
  },
  {
   "cell_type": "code",
   "execution_count": 45,
   "metadata": {
    "colab": {},
    "colab_type": "code",
    "id": "dMNbk0u3ZyF9"
   },
   "outputs": [
    {
     "data": {
      "text/html": [
       "<div>\n",
       "<style scoped>\n",
       "    .dataframe tbody tr th:only-of-type {\n",
       "        vertical-align: middle;\n",
       "    }\n",
       "\n",
       "    .dataframe tbody tr th {\n",
       "        vertical-align: top;\n",
       "    }\n",
       "\n",
       "    .dataframe thead th {\n",
       "        text-align: right;\n",
       "    }\n",
       "</style>\n",
       "<table border=\"1\" class=\"dataframe\">\n",
       "  <thead>\n",
       "    <tr style=\"text-align: right;\">\n",
       "      <th></th>\n",
       "      <th>Name</th>\n",
       "      <th>state</th>\n",
       "      <th>summit_elev</th>\n",
       "      <th>vertical_drop</th>\n",
       "      <th>trams</th>\n",
       "      <th>fastSixes</th>\n",
       "      <th>fastQuads</th>\n",
       "      <th>quad</th>\n",
       "      <th>triple</th>\n",
       "      <th>double</th>\n",
       "      <th>...</th>\n",
       "      <th>LongestRun_mi</th>\n",
       "      <th>SkiableTerrain_ac</th>\n",
       "      <th>Snow Making_ac</th>\n",
       "      <th>daysOpenLastYear</th>\n",
       "      <th>yearsOpen</th>\n",
       "      <th>averageSnowfall</th>\n",
       "      <th>AdultWeekday</th>\n",
       "      <th>AdultWeekend</th>\n",
       "      <th>projectedDaysOpen</th>\n",
       "      <th>NightSkiing_ac</th>\n",
       "    </tr>\n",
       "  </thead>\n",
       "  <tbody>\n",
       "    <tr>\n",
       "      <th>0</th>\n",
       "      <td>Alyeska Resort</td>\n",
       "      <td>Alaska</td>\n",
       "      <td>3939.0</td>\n",
       "      <td>2500.0</td>\n",
       "      <td>1</td>\n",
       "      <td>0</td>\n",
       "      <td>2</td>\n",
       "      <td>2</td>\n",
       "      <td>0</td>\n",
       "      <td>0</td>\n",
       "      <td>...</td>\n",
       "      <td>1.0</td>\n",
       "      <td>1610.0</td>\n",
       "      <td>113.0</td>\n",
       "      <td>150.000000</td>\n",
       "      <td>60.0</td>\n",
       "      <td>183.203145</td>\n",
       "      <td>65.0</td>\n",
       "      <td>85.0</td>\n",
       "      <td>150.0</td>\n",
       "      <td>56.890909</td>\n",
       "    </tr>\n",
       "    <tr>\n",
       "      <th>1</th>\n",
       "      <td>Eaglecrest Ski Area</td>\n",
       "      <td>Alaska</td>\n",
       "      <td>2600.0</td>\n",
       "      <td>1540.0</td>\n",
       "      <td>0</td>\n",
       "      <td>0</td>\n",
       "      <td>0</td>\n",
       "      <td>0</td>\n",
       "      <td>0</td>\n",
       "      <td>4</td>\n",
       "      <td>...</td>\n",
       "      <td>2.0</td>\n",
       "      <td>640.0</td>\n",
       "      <td>60.0</td>\n",
       "      <td>115.103943</td>\n",
       "      <td>44.0</td>\n",
       "      <td>350.000000</td>\n",
       "      <td>47.0</td>\n",
       "      <td>53.0</td>\n",
       "      <td>90.0</td>\n",
       "      <td>0.000000</td>\n",
       "    </tr>\n",
       "    <tr>\n",
       "      <th>2</th>\n",
       "      <td>Hilltop Ski Area</td>\n",
       "      <td>Alaska</td>\n",
       "      <td>2090.0</td>\n",
       "      <td>294.0</td>\n",
       "      <td>0</td>\n",
       "      <td>0</td>\n",
       "      <td>0</td>\n",
       "      <td>0</td>\n",
       "      <td>1</td>\n",
       "      <td>0</td>\n",
       "      <td>...</td>\n",
       "      <td>1.0</td>\n",
       "      <td>30.0</td>\n",
       "      <td>30.0</td>\n",
       "      <td>150.000000</td>\n",
       "      <td>36.0</td>\n",
       "      <td>69.000000</td>\n",
       "      <td>30.0</td>\n",
       "      <td>34.0</td>\n",
       "      <td>152.0</td>\n",
       "      <td>30.000000</td>\n",
       "    </tr>\n",
       "    <tr>\n",
       "      <th>3</th>\n",
       "      <td>Arizona Snowbowl</td>\n",
       "      <td>Arizona</td>\n",
       "      <td>11500.0</td>\n",
       "      <td>2300.0</td>\n",
       "      <td>0</td>\n",
       "      <td>1</td>\n",
       "      <td>0</td>\n",
       "      <td>2</td>\n",
       "      <td>2</td>\n",
       "      <td>1</td>\n",
       "      <td>...</td>\n",
       "      <td>2.0</td>\n",
       "      <td>777.0</td>\n",
       "      <td>104.0</td>\n",
       "      <td>122.000000</td>\n",
       "      <td>81.0</td>\n",
       "      <td>260.000000</td>\n",
       "      <td>89.0</td>\n",
       "      <td>89.0</td>\n",
       "      <td>122.0</td>\n",
       "      <td>0.000000</td>\n",
       "    </tr>\n",
       "    <tr>\n",
       "      <th>4</th>\n",
       "      <td>Sunrise Park Resort</td>\n",
       "      <td>Arizona</td>\n",
       "      <td>11100.0</td>\n",
       "      <td>1800.0</td>\n",
       "      <td>0</td>\n",
       "      <td>0</td>\n",
       "      <td>1</td>\n",
       "      <td>2</td>\n",
       "      <td>3</td>\n",
       "      <td>1</td>\n",
       "      <td>...</td>\n",
       "      <td>1.2</td>\n",
       "      <td>800.0</td>\n",
       "      <td>80.0</td>\n",
       "      <td>115.000000</td>\n",
       "      <td>49.0</td>\n",
       "      <td>250.000000</td>\n",
       "      <td>74.0</td>\n",
       "      <td>78.0</td>\n",
       "      <td>104.0</td>\n",
       "      <td>80.000000</td>\n",
       "    </tr>\n",
       "  </tbody>\n",
       "</table>\n",
       "<p>5 rows × 24 columns</p>\n",
       "</div>"
      ],
      "text/plain": [
       "                  Name    state  summit_elev  vertical_drop  trams  fastSixes  \\\n",
       "0       Alyeska Resort   Alaska       3939.0         2500.0      1          0   \n",
       "1  Eaglecrest Ski Area   Alaska       2600.0         1540.0      0          0   \n",
       "2     Hilltop Ski Area   Alaska       2090.0          294.0      0          0   \n",
       "3     Arizona Snowbowl  Arizona      11500.0         2300.0      0          1   \n",
       "4  Sunrise Park Resort  Arizona      11100.0         1800.0      0          0   \n",
       "\n",
       "   fastQuads  quad  triple  double  ...  LongestRun_mi  SkiableTerrain_ac  \\\n",
       "0          2     2       0       0  ...            1.0             1610.0   \n",
       "1          0     0       0       4  ...            2.0              640.0   \n",
       "2          0     0       1       0  ...            1.0               30.0   \n",
       "3          0     2       2       1  ...            2.0              777.0   \n",
       "4          1     2       3       1  ...            1.2              800.0   \n",
       "\n",
       "   Snow Making_ac  daysOpenLastYear  yearsOpen  averageSnowfall  AdultWeekday  \\\n",
       "0           113.0        150.000000       60.0       183.203145          65.0   \n",
       "1            60.0        115.103943       44.0       350.000000          47.0   \n",
       "2            30.0        150.000000       36.0        69.000000          30.0   \n",
       "3           104.0        122.000000       81.0       260.000000          89.0   \n",
       "4            80.0        115.000000       49.0       250.000000          74.0   \n",
       "\n",
       "   AdultWeekend  projectedDaysOpen  NightSkiing_ac  \n",
       "0          85.0              150.0       56.890909  \n",
       "1          53.0               90.0        0.000000  \n",
       "2          34.0              152.0       30.000000  \n",
       "3          89.0              122.0        0.000000  \n",
       "4          78.0              104.0       80.000000  \n",
       "\n",
       "[5 rows x 24 columns]"
      ]
     },
     "execution_count": 45,
     "metadata": {},
     "output_type": "execute_result"
    }
   ],
   "source": [
    "df = pd.read_csv('data/step3_output_temp.csv',index_col=0)\n",
    "df.head()"
   ]
  },
  {
   "cell_type": "markdown",
   "metadata": {
    "colab_type": "text",
    "id": "zkBHf9smZyGB"
   },
   "source": [
    "## Create dummy features for categorical variables"
   ]
  },
  {
   "cell_type": "markdown",
   "metadata": {
    "colab_type": "text",
    "id": "vWKHm0NhAnrJ"
   },
   "source": [
    "**<font color='teal'> Create dummy variables for `State`. Add the dummies back to the dataframe and remove the original column for `State`. </font>**"
   ]
  },
  {
   "cell_type": "code",
   "execution_count": 46,
   "metadata": {
    "colab": {},
    "colab_type": "code",
    "id": "lZqWk8ltZyGZ"
   },
   "outputs": [
    {
     "data": {
      "text/html": [
       "<div>\n",
       "<style scoped>\n",
       "    .dataframe tbody tr th:only-of-type {\n",
       "        vertical-align: middle;\n",
       "    }\n",
       "\n",
       "    .dataframe tbody tr th {\n",
       "        vertical-align: top;\n",
       "    }\n",
       "\n",
       "    .dataframe thead th {\n",
       "        text-align: right;\n",
       "    }\n",
       "</style>\n",
       "<table border=\"1\" class=\"dataframe\">\n",
       "  <thead>\n",
       "    <tr style=\"text-align: right;\">\n",
       "      <th></th>\n",
       "      <th>Name</th>\n",
       "      <th>summit_elev</th>\n",
       "      <th>vertical_drop</th>\n",
       "      <th>trams</th>\n",
       "      <th>fastSixes</th>\n",
       "      <th>fastQuads</th>\n",
       "      <th>quad</th>\n",
       "      <th>triple</th>\n",
       "      <th>double</th>\n",
       "      <th>surface</th>\n",
       "      <th>...</th>\n",
       "      <th>Rhode Island</th>\n",
       "      <th>South Dakota</th>\n",
       "      <th>Tennessee</th>\n",
       "      <th>Utah</th>\n",
       "      <th>Vermont</th>\n",
       "      <th>Virginia</th>\n",
       "      <th>Washington</th>\n",
       "      <th>West Virginia</th>\n",
       "      <th>Wisconsin</th>\n",
       "      <th>Wyoming</th>\n",
       "    </tr>\n",
       "  </thead>\n",
       "  <tbody>\n",
       "    <tr>\n",
       "      <th>0</th>\n",
       "      <td>Alyeska Resort</td>\n",
       "      <td>3939.0</td>\n",
       "      <td>2500.0</td>\n",
       "      <td>1</td>\n",
       "      <td>0</td>\n",
       "      <td>2</td>\n",
       "      <td>2</td>\n",
       "      <td>0</td>\n",
       "      <td>0</td>\n",
       "      <td>2</td>\n",
       "      <td>...</td>\n",
       "      <td>0</td>\n",
       "      <td>0</td>\n",
       "      <td>0</td>\n",
       "      <td>0</td>\n",
       "      <td>0</td>\n",
       "      <td>0</td>\n",
       "      <td>0</td>\n",
       "      <td>0</td>\n",
       "      <td>0</td>\n",
       "      <td>0</td>\n",
       "    </tr>\n",
       "    <tr>\n",
       "      <th>1</th>\n",
       "      <td>Eaglecrest Ski Area</td>\n",
       "      <td>2600.0</td>\n",
       "      <td>1540.0</td>\n",
       "      <td>0</td>\n",
       "      <td>0</td>\n",
       "      <td>0</td>\n",
       "      <td>0</td>\n",
       "      <td>0</td>\n",
       "      <td>4</td>\n",
       "      <td>0</td>\n",
       "      <td>...</td>\n",
       "      <td>0</td>\n",
       "      <td>0</td>\n",
       "      <td>0</td>\n",
       "      <td>0</td>\n",
       "      <td>0</td>\n",
       "      <td>0</td>\n",
       "      <td>0</td>\n",
       "      <td>0</td>\n",
       "      <td>0</td>\n",
       "      <td>0</td>\n",
       "    </tr>\n",
       "    <tr>\n",
       "      <th>2</th>\n",
       "      <td>Hilltop Ski Area</td>\n",
       "      <td>2090.0</td>\n",
       "      <td>294.0</td>\n",
       "      <td>0</td>\n",
       "      <td>0</td>\n",
       "      <td>0</td>\n",
       "      <td>0</td>\n",
       "      <td>1</td>\n",
       "      <td>0</td>\n",
       "      <td>2</td>\n",
       "      <td>...</td>\n",
       "      <td>0</td>\n",
       "      <td>0</td>\n",
       "      <td>0</td>\n",
       "      <td>0</td>\n",
       "      <td>0</td>\n",
       "      <td>0</td>\n",
       "      <td>0</td>\n",
       "      <td>0</td>\n",
       "      <td>0</td>\n",
       "      <td>0</td>\n",
       "    </tr>\n",
       "    <tr>\n",
       "      <th>3</th>\n",
       "      <td>Arizona Snowbowl</td>\n",
       "      <td>11500.0</td>\n",
       "      <td>2300.0</td>\n",
       "      <td>0</td>\n",
       "      <td>1</td>\n",
       "      <td>0</td>\n",
       "      <td>2</td>\n",
       "      <td>2</td>\n",
       "      <td>1</td>\n",
       "      <td>2</td>\n",
       "      <td>...</td>\n",
       "      <td>0</td>\n",
       "      <td>0</td>\n",
       "      <td>0</td>\n",
       "      <td>0</td>\n",
       "      <td>0</td>\n",
       "      <td>0</td>\n",
       "      <td>0</td>\n",
       "      <td>0</td>\n",
       "      <td>0</td>\n",
       "      <td>0</td>\n",
       "    </tr>\n",
       "    <tr>\n",
       "      <th>4</th>\n",
       "      <td>Sunrise Park Resort</td>\n",
       "      <td>11100.0</td>\n",
       "      <td>1800.0</td>\n",
       "      <td>0</td>\n",
       "      <td>0</td>\n",
       "      <td>1</td>\n",
       "      <td>2</td>\n",
       "      <td>3</td>\n",
       "      <td>1</td>\n",
       "      <td>0</td>\n",
       "      <td>...</td>\n",
       "      <td>0</td>\n",
       "      <td>0</td>\n",
       "      <td>0</td>\n",
       "      <td>0</td>\n",
       "      <td>0</td>\n",
       "      <td>0</td>\n",
       "      <td>0</td>\n",
       "      <td>0</td>\n",
       "      <td>0</td>\n",
       "      <td>0</td>\n",
       "    </tr>\n",
       "  </tbody>\n",
       "</table>\n",
       "<p>5 rows × 58 columns</p>\n",
       "</div>"
      ],
      "text/plain": [
       "                  Name  summit_elev  vertical_drop  trams  fastSixes  \\\n",
       "0       Alyeska Resort       3939.0         2500.0      1          0   \n",
       "1  Eaglecrest Ski Area       2600.0         1540.0      0          0   \n",
       "2     Hilltop Ski Area       2090.0          294.0      0          0   \n",
       "3     Arizona Snowbowl      11500.0         2300.0      0          1   \n",
       "4  Sunrise Park Resort      11100.0         1800.0      0          0   \n",
       "\n",
       "   fastQuads  quad  triple  double  surface  ...  Rhode Island  South Dakota  \\\n",
       "0          2     2       0       0        2  ...             0             0   \n",
       "1          0     0       0       4        0  ...             0             0   \n",
       "2          0     0       1       0        2  ...             0             0   \n",
       "3          0     2       2       1        2  ...             0             0   \n",
       "4          1     2       3       1        0  ...             0             0   \n",
       "\n",
       "   Tennessee  Utah  Vermont  Virginia  Washington  West Virginia  Wisconsin  \\\n",
       "0          0     0        0         0           0              0          0   \n",
       "1          0     0        0         0           0              0          0   \n",
       "2          0     0        0         0           0              0          0   \n",
       "3          0     0        0         0           0              0          0   \n",
       "4          0     0        0         0           0              0          0   \n",
       "\n",
       "   Wyoming  \n",
       "0        0  \n",
       "1        0  \n",
       "2        0  \n",
       "3        0  \n",
       "4        0  \n",
       "\n",
       "[5 rows x 58 columns]"
      ]
     },
     "execution_count": 46,
     "metadata": {},
     "output_type": "execute_result"
    }
   ],
   "source": [
    "# dfo= df.select_dtypes(include=['object']) # select object type columns\n",
    "dft = pd.concat([df.drop('state', axis=1), pd.get_dummies(df['state'])], axis=1)\n",
    "dft.head()"
   ]
  },
  {
   "cell_type": "markdown",
   "metadata": {
    "colab_type": "text",
    "id": "HnDVhE1-ZyGF"
   },
   "source": [
    "## Standardize the magnitude of numeric features\n",
    "\n",
    "**<font color='teal'> Using sklearn preprocessing, standardize the scale of the features of the dataframe except the name of the resort, which you don't need in the dataframe for modeling so it can be droppped here as well. You should  hold out your response variable(s) so that you can have their true values available for model performance review. Let's set `AdultWeekend` to the y variable as your response for scaling and modeling. Later, you will go back and consider the `AdultWeekday`, `dayOpenLastYear`, and `projectedDaysOpen`. For now leave, them in the development dataframe. </font>**"
   ]
  },
  {
   "cell_type": "code",
   "execution_count": 14,
   "metadata": {},
   "outputs": [
    {
     "data": {
      "text/plain": [
       "(array([19]),)"
      ]
     },
     "execution_count": 14,
     "metadata": {},
     "output_type": "execute_result"
    }
   ],
   "source": [
    "np.where(dft.columns=='AdultWeekend')"
   ]
  },
  {
   "cell_type": "code",
   "execution_count": 47,
   "metadata": {},
   "outputs": [
    {
     "name": "stdout",
     "output_type": "stream",
     "text": [
      "[4.59181818e+03 1.17767488e+03 1.72727273e-01 1.84848485e-01\n",
      " 1.01818182e+00 9.33333333e-01 1.50000000e+00 1.83333333e+00\n",
      " 2.62121212e+00 7.20404040e+00 4.03695111e+01 2.32059303e+00\n",
      " 1.31817716e+00 3.89283792e+02 1.29131797e+02 1.13928109e+02\n",
      " 5.98257097e+01 1.80277104e+02 5.45737879e+01 6.11708565e+01\n",
      " 1.19924146e+02 4.27805510e+01 9.09090909e-03 6.06060606e-03\n",
      " 6.36363636e-02 6.66666667e-02 1.51515152e-02 3.63636364e-02\n",
      " 1.21212121e-02 6.06060606e-03 9.09090909e-03 2.72727273e-02\n",
      " 3.03030303e-03 3.33333333e-02 8.78787879e-02 4.24242424e-02\n",
      " 6.06060606e-03 3.63636364e-02 1.21212121e-02 4.84848485e-02\n",
      " 6.06060606e-03 2.72727273e-02 1.00000000e-01 1.81818182e-02\n",
      " 1.51515152e-02 3.03030303e-02 5.75757576e-02 3.03030303e-03\n",
      " 6.06060606e-03 3.03030303e-03 3.93939394e-02 4.54545455e-02\n",
      " 1.21212121e-02 3.03030303e-02 1.21212121e-02 4.84848485e-02\n",
      " 2.42424242e-02]\n"
     ]
    }
   ],
   "source": [
    "from sklearn.preprocessing import StandardScaler\n",
    "\n",
    "dft.drop('Name',axis=1,inplace=True)\n",
    "scaler = StandardScaler()\n",
    "scaler.fit(dft.values)\n",
    "print(scaler.mean_)\n",
    "dfn = scaler.transform(dft.values)\n",
    "# dfn = scaler.fit_transform(dft.values)\n",
    "# dfn = dft.AdultWeekend\n",
    "y_aw = dfn[:,19]"
   ]
  },
  {
   "cell_type": "code",
   "execution_count": 21,
   "metadata": {},
   "outputs": [
    {
     "data": {
      "text/plain": [
       "0     85.00000\n",
       "1     53.00000\n",
       "2     34.00000\n",
       "3     89.00000\n",
       "4     78.00000\n",
       "5     47.00000\n",
       "6     64.16681\n",
       "7     64.16681\n",
       "8     64.16681\n",
       "9     78.00000\n",
       "10    75.00000\n",
       "11    64.16681\n",
       "12    64.16681\n",
       "13    64.16681\n",
       "14    64.16681\n",
       "15    59.00000\n",
       "16    84.00000\n",
       "17    69.00000\n",
       "18    64.16681\n",
       "19    64.16681\n",
       "Name: AdultWeekend, dtype: float64"
      ]
     },
     "execution_count": 21,
     "metadata": {},
     "output_type": "execute_result"
    }
   ],
   "source": [
    "dft['AdultWeekend'].head(20)"
   ]
  },
  {
   "cell_type": "markdown",
   "metadata": {
    "colab_type": "text",
    "id": "GAT8h4_mZyGK"
   },
   "source": [
    "## Split into training and testing datasets"
   ]
  },
  {
   "cell_type": "markdown",
   "metadata": {
    "colab_type": "text",
    "id": "6rdS8EGeAnrW"
   },
   "source": [
    "**<font color='teal'> Using sklearn model selectionm import train_test_split, and create a 75/25 split with the y = `AdultWeekend`. You will start by using the adult weekend ticket price as your response variable for modeling.</font>**"
   ]
  },
  {
   "cell_type": "code",
   "execution_count": 48,
   "metadata": {
    "colab": {},
    "colab_type": "code",
    "id": "BSkPut0gguds"
   },
   "outputs": [],
   "source": [
    "from sklearn.model_selection import train_test_split \n",
    "dfn_train, dfn_test = train_test_split(dfn,test_size=0.25)"
   ]
  },
  {
   "cell_type": "code",
   "execution_count": 49,
   "metadata": {},
   "outputs": [
    {
     "name": "stdout",
     "output_type": "stream",
     "text": [
      "(247, 57) (83, 57)\n"
     ]
    }
   ],
   "source": [
    "print(dfn_train.shape,dfn_test.shape)"
   ]
  },
  {
   "cell_type": "code",
   "execution_count": 50,
   "metadata": {},
   "outputs": [
    {
     "data": {
      "text/html": [
       "<div>\n",
       "<style scoped>\n",
       "    .dataframe tbody tr th:only-of-type {\n",
       "        vertical-align: middle;\n",
       "    }\n",
       "\n",
       "    .dataframe tbody tr th {\n",
       "        vertical-align: top;\n",
       "    }\n",
       "\n",
       "    .dataframe thead th {\n",
       "        text-align: right;\n",
       "    }\n",
       "</style>\n",
       "<table border=\"1\" class=\"dataframe\">\n",
       "  <thead>\n",
       "    <tr style=\"text-align: right;\">\n",
       "      <th></th>\n",
       "      <th>summit_elev</th>\n",
       "      <th>vertical_drop</th>\n",
       "      <th>trams</th>\n",
       "      <th>fastSixes</th>\n",
       "      <th>fastQuads</th>\n",
       "      <th>quad</th>\n",
       "      <th>triple</th>\n",
       "      <th>double</th>\n",
       "      <th>surface</th>\n",
       "      <th>total_chairs</th>\n",
       "      <th>...</th>\n",
       "      <th>Rhode Island</th>\n",
       "      <th>South Dakota</th>\n",
       "      <th>Tennessee</th>\n",
       "      <th>Utah</th>\n",
       "      <th>Vermont</th>\n",
       "      <th>Virginia</th>\n",
       "      <th>Washington</th>\n",
       "      <th>West Virginia</th>\n",
       "      <th>Wisconsin</th>\n",
       "      <th>Wyoming</th>\n",
       "    </tr>\n",
       "  </thead>\n",
       "  <tbody>\n",
       "    <tr>\n",
       "      <th>0</th>\n",
       "      <td>-0.175024</td>\n",
       "      <td>1.500551</td>\n",
       "      <td>1.479658</td>\n",
       "      <td>-0.284078</td>\n",
       "      <td>0.447306</td>\n",
       "      <td>0.814091</td>\n",
       "      <td>-0.927831</td>\n",
       "      <td>-1.011619</td>\n",
       "      <td>-0.302071</td>\n",
       "      <td>-0.061876</td>\n",
       "      <td>...</td>\n",
       "      <td>-0.055132</td>\n",
       "      <td>-0.078087</td>\n",
       "      <td>-0.055132</td>\n",
       "      <td>-0.202508</td>\n",
       "      <td>-0.218218</td>\n",
       "      <td>-0.11077</td>\n",
       "      <td>-0.176777</td>\n",
       "      <td>-0.11077</td>\n",
       "      <td>-0.225733</td>\n",
       "      <td>-0.157622</td>\n",
       "    </tr>\n",
       "    <tr>\n",
       "      <th>1</th>\n",
       "      <td>-0.534018</td>\n",
       "      <td>0.411160</td>\n",
       "      <td>-0.308940</td>\n",
       "      <td>-0.284078</td>\n",
       "      <td>-0.463873</td>\n",
       "      <td>-0.712330</td>\n",
       "      <td>-0.927831</td>\n",
       "      <td>1.195550</td>\n",
       "      <td>-1.274590</td>\n",
       "      <td>-0.971645</td>\n",
       "      <td>...</td>\n",
       "      <td>-0.055132</td>\n",
       "      <td>-0.078087</td>\n",
       "      <td>-0.055132</td>\n",
       "      <td>-0.202508</td>\n",
       "      <td>-0.218218</td>\n",
       "      <td>-0.11077</td>\n",
       "      <td>-0.176777</td>\n",
       "      <td>-0.11077</td>\n",
       "      <td>-0.225733</td>\n",
       "      <td>-0.157622</td>\n",
       "    </tr>\n",
       "    <tr>\n",
       "      <th>2</th>\n",
       "      <td>-0.670752</td>\n",
       "      <td>-1.002778</td>\n",
       "      <td>-0.308940</td>\n",
       "      <td>-0.284078</td>\n",
       "      <td>-0.463873</td>\n",
       "      <td>-0.712330</td>\n",
       "      <td>-0.309277</td>\n",
       "      <td>-1.011619</td>\n",
       "      <td>-0.302071</td>\n",
       "      <td>-1.274901</td>\n",
       "      <td>...</td>\n",
       "      <td>-0.055132</td>\n",
       "      <td>-0.078087</td>\n",
       "      <td>-0.055132</td>\n",
       "      <td>-0.202508</td>\n",
       "      <td>-0.218218</td>\n",
       "      <td>-0.11077</td>\n",
       "      <td>-0.176777</td>\n",
       "      <td>-0.11077</td>\n",
       "      <td>-0.225733</td>\n",
       "      <td>-0.157622</td>\n",
       "    </tr>\n",
       "    <tr>\n",
       "      <th>3</th>\n",
       "      <td>1.852123</td>\n",
       "      <td>1.273594</td>\n",
       "      <td>-0.308940</td>\n",
       "      <td>1.252736</td>\n",
       "      <td>-0.463873</td>\n",
       "      <td>0.814091</td>\n",
       "      <td>0.309277</td>\n",
       "      <td>-0.459827</td>\n",
       "      <td>-0.302071</td>\n",
       "      <td>0.241380</td>\n",
       "      <td>...</td>\n",
       "      <td>-0.055132</td>\n",
       "      <td>-0.078087</td>\n",
       "      <td>-0.055132</td>\n",
       "      <td>-0.202508</td>\n",
       "      <td>-0.218218</td>\n",
       "      <td>-0.11077</td>\n",
       "      <td>-0.176777</td>\n",
       "      <td>-0.11077</td>\n",
       "      <td>-0.225733</td>\n",
       "      <td>-0.157622</td>\n",
       "    </tr>\n",
       "    <tr>\n",
       "      <th>4</th>\n",
       "      <td>1.744881</td>\n",
       "      <td>0.706203</td>\n",
       "      <td>-0.308940</td>\n",
       "      <td>-0.284078</td>\n",
       "      <td>-0.008283</td>\n",
       "      <td>0.814091</td>\n",
       "      <td>0.927831</td>\n",
       "      <td>-0.459827</td>\n",
       "      <td>-1.274590</td>\n",
       "      <td>-0.061876</td>\n",
       "      <td>...</td>\n",
       "      <td>-0.055132</td>\n",
       "      <td>-0.078087</td>\n",
       "      <td>-0.055132</td>\n",
       "      <td>-0.202508</td>\n",
       "      <td>-0.218218</td>\n",
       "      <td>-0.11077</td>\n",
       "      <td>-0.176777</td>\n",
       "      <td>-0.11077</td>\n",
       "      <td>-0.225733</td>\n",
       "      <td>-0.157622</td>\n",
       "    </tr>\n",
       "  </tbody>\n",
       "</table>\n",
       "<p>5 rows × 57 columns</p>\n",
       "</div>"
      ],
      "text/plain": [
       "   summit_elev  vertical_drop     trams  fastSixes  fastQuads      quad  \\\n",
       "0    -0.175024       1.500551  1.479658  -0.284078   0.447306  0.814091   \n",
       "1    -0.534018       0.411160 -0.308940  -0.284078  -0.463873 -0.712330   \n",
       "2    -0.670752      -1.002778 -0.308940  -0.284078  -0.463873 -0.712330   \n",
       "3     1.852123       1.273594 -0.308940   1.252736  -0.463873  0.814091   \n",
       "4     1.744881       0.706203 -0.308940  -0.284078  -0.008283  0.814091   \n",
       "\n",
       "     triple    double   surface  total_chairs  ...  Rhode Island  \\\n",
       "0 -0.927831 -1.011619 -0.302071     -0.061876  ...     -0.055132   \n",
       "1 -0.927831  1.195550 -1.274590     -0.971645  ...     -0.055132   \n",
       "2 -0.309277 -1.011619 -0.302071     -1.274901  ...     -0.055132   \n",
       "3  0.309277 -0.459827 -0.302071      0.241380  ...     -0.055132   \n",
       "4  0.927831 -0.459827 -1.274590     -0.061876  ...     -0.055132   \n",
       "\n",
       "   South Dakota  Tennessee      Utah   Vermont  Virginia  Washington  \\\n",
       "0     -0.078087  -0.055132 -0.202508 -0.218218  -0.11077   -0.176777   \n",
       "1     -0.078087  -0.055132 -0.202508 -0.218218  -0.11077   -0.176777   \n",
       "2     -0.078087  -0.055132 -0.202508 -0.218218  -0.11077   -0.176777   \n",
       "3     -0.078087  -0.055132 -0.202508 -0.218218  -0.11077   -0.176777   \n",
       "4     -0.078087  -0.055132 -0.202508 -0.218218  -0.11077   -0.176777   \n",
       "\n",
       "   West Virginia  Wisconsin   Wyoming  \n",
       "0       -0.11077  -0.225733 -0.157622  \n",
       "1       -0.11077  -0.225733 -0.157622  \n",
       "2       -0.11077  -0.225733 -0.157622  \n",
       "3       -0.11077  -0.225733 -0.157622  \n",
       "4       -0.11077  -0.225733 -0.157622  \n",
       "\n",
       "[5 rows x 57 columns]"
      ]
     },
     "execution_count": 50,
     "metadata": {},
     "output_type": "execute_result"
    }
   ],
   "source": [
    "dfn = pd.DataFrame(dfn,columns=dft.columns)\n",
    "dfn.head()"
   ]
  },
  {
   "cell_type": "markdown",
   "metadata": {
    "colab_type": "text",
    "id": "UayqbwkWAnra"
   },
   "source": [
    "Here, you'll start the actual modeling work. First let's fit a multiple linear regression model to predict the `AdultWeekend` price."
   ]
  },
  {
   "cell_type": "markdown",
   "metadata": {},
   "source": [
    "# Guided Capstone Step 5 - Modeling"
   ]
  },
  {
   "cell_type": "markdown",
   "metadata": {},
   "source": [
    "You've cleaned and prepared the datasets, so now it's time to get into the most exciting part of this process: modeling! In this exercise, you will build three different models and compare each model's performance. In the end, you will choose the best model for proving insights to Big Mountain management.  \n",
    "\n",
    "1.   Problem Identification \n",
    "\n",
    "2.   Data Wrangling \n",
    "  \n",
    "3.   Exploratory Data Analysis \n",
    " \n",
    "4.   Pre-processing and Training Data Development\n",
    "\n",
    "5.   **Modeling**\n",
    "  * Fit Models with Training Data Set\n",
    "  * Review Model Outcomes — Iterate over additional models as needed.\n",
    "  * Identify the Final Model\n",
    "\n",
    "6.   Documentation\n",
    "  * Review the Results\n",
    "  * Present and share your findings - storytelling\n",
    "  * Finalize Code \n",
    "  * Finalize Documentation"
   ]
  },
  {
   "cell_type": "markdown",
   "metadata": {
    "colab_type": "text",
    "id": "D_wfsP_-Anra"
   },
   "source": [
    "## Fit Models with Training Data Set"
   ]
  },
  {
   "cell_type": "markdown",
   "metadata": {
    "colab_type": "text",
    "id": "CoI8S5SwAnrc"
   },
   "source": [
    "**<font color='teal'> Using sklearn, fit the model on your training dataset.</font>**"
   ]
  },
  {
   "cell_type": "markdown",
   "metadata": {
    "colab_type": "text",
    "id": "P_GFr8sRAnrd"
   },
   "source": [
    "#### Model 1"
   ]
  },
  {
   "cell_type": "code",
   "execution_count": 141,
   "metadata": {},
   "outputs": [],
   "source": [
    "X_train = np.delete(dfn_train,19,1)\n",
    "y_train = dfn_train[:,19]\n",
    "X_test = np.delete(dfn_test,19,1)\n",
    "y_test = dfn_test[:,19]"
   ]
  },
  {
   "cell_type": "code",
   "execution_count": 142,
   "metadata": {
    "colab": {},
    "colab_type": "code",
    "id": "fW6K7uOPAnre"
   },
   "outputs": [],
   "source": [
    "# all first model set\n",
    "from sklearn import linear_model\n",
    "from sklearn.metrics import explained_variance_score,mean_absolute_error\n",
    "lm = linear_model.LinearRegression()\n",
    "model = lm.fit(X_train,y_train)"
   ]
  },
  {
   "cell_type": "markdown",
   "metadata": {
    "colab_type": "text",
    "id": "1fHqz9-WAnrg"
   },
   "source": [
    "**<font color='teal'> Predict on the testing dataset and score the model performance with the y_test set and the y-pred values. The explained variance is a measure of the variation explained by the model. This is also known as the R-squared value. </font>**"
   ]
  },
  {
   "cell_type": "code",
   "execution_count": 143,
   "metadata": {
    "colab": {},
    "colab_type": "code",
    "id": "nIo01lFEAnrh"
   },
   "outputs": [
    {
     "data": {
      "text/plain": [
       "array([ 1.20970256e-01,  8.00471008e-02, -2.45340861e-02,  1.30060002e-02,\n",
       "       -1.08189545e-02,  7.32374820e-02,  5.88694691e-02,  3.43045102e-02,\n",
       "       -5.96019042e-02,  7.73666980e-02,  2.27864435e-02, -3.38872639e-04,\n",
       "        1.22922818e-03, -1.09644539e-02, -1.19488910e-03,  1.30671690e-02,\n",
       "       -3.94676695e-03,  5.06446991e-02,  7.19035241e-01, -8.40994405e-04,\n",
       "        8.66343972e-02, -1.86442765e+10, -1.52462470e+10, -4.79512485e+10,\n",
       "       -4.90001863e+10, -2.39959371e+10, -3.67718276e+10, -2.14956127e+10,\n",
       "       -1.52462470e+10, -1.86442765e+10, -3.19951981e+10, -1.07971462e+10,\n",
       "       -3.52616570e+10, -5.56151713e+10, -3.95930166e+10, -1.52462470e+10,\n",
       "       -3.67718276e+10, -2.14956127e+10, -4.21925572e+10, -1.52462470e+10,\n",
       "       -3.19951981e+10, -5.89313279e+10, -2.62457606e+10, -2.39959371e+10,\n",
       "       -3.36733265e+10, -4.57581047e+10, -1.07971462e+10, -1.52462470e+10,\n",
       "       -1.07971462e+10, -3.82131061e+10, -4.09177683e+10, -2.14956127e+10,\n",
       "       -3.36733265e+10, -2.14956127e+10, -4.21925572e+10, -3.02123121e+10])"
      ]
     },
     "execution_count": 143,
     "metadata": {},
     "output_type": "execute_result"
    }
   ],
   "source": [
    "model.coef_"
   ]
  },
  {
   "cell_type": "code",
   "execution_count": 144,
   "metadata": {},
   "outputs": [
    {
     "name": "stdout",
     "output_type": "stream",
     "text": [
      "Explained Variance:  0.8290994834812799\n",
      "Mean square error:  0.1730337674598858\n",
      "R2 score/Coeff. of determination:  0.826889393588716\n"
     ]
    }
   ],
   "source": [
    "from sklearn.metrics import mean_squared_error, r2_score\n",
    "y_pred = model.predict(X_test)\n",
    "print('Explained Variance: ',explained_variance_score(y_test,y_pred))\n",
    "print('Mean square error: ',mean_squared_error(y_test,y_pred))\n",
    "print('R2 score/Coeff. of determination: ',r2_score(y_test,y_pred))"
   ]
  },
  {
   "cell_type": "markdown",
   "metadata": {
    "colab_type": "text",
    "id": "N4YS0WE2Anrk"
   },
   "source": [
    "## Review Model Outcomes — Iterate over additional models as needed."
   ]
  },
  {
   "cell_type": "code",
   "execution_count": 62,
   "metadata": {
    "colab": {},
    "colab_type": "code",
    "id": "HSh9sGIYAnrk"
   },
   "outputs": [
    {
     "data": {
      "text/plain": [
       "0.8042202660337793"
      ]
     },
     "execution_count": 62,
     "metadata": {},
     "output_type": "execute_result"
    }
   ],
   "source": [
    "from sklearn.ensemble import RandomForestRegressor\n",
    "regressor = RandomForestRegressor(random_state=0, n_estimators=200)\n",
    "regressor.fit(X_train, y_train)\n",
    "regressor.score(X_test, y_test)"
   ]
  },
  {
   "cell_type": "code",
   "execution_count": 63,
   "metadata": {
    "colab": {},
    "colab_type": "code",
    "id": "ihzeo8tqAnro"
   },
   "outputs": [
    {
     "name": "stdout",
     "output_type": "stream",
     "text": [
      "Mean square error:  0.1956928328237961\n",
      "R2 score/Coeff. of determination:  0.8042202660337792\n"
     ]
    }
   ],
   "source": [
    "y_pred = regressor.predict(X_test)\n",
    "print('Mean square error: ',mean_squared_error(y_test,y_pred))\n",
    "print('R2 score/Coeff. of determination: ',r2_score(y_test,y_pred))"
   ]
  },
  {
   "cell_type": "code",
   "execution_count": 64,
   "metadata": {},
   "outputs": [
    {
     "name": "stdout",
     "output_type": "stream",
     "text": [
      "0.7153975628225474\n",
      "{'bootstrap': False, 'max_depth': None, 'max_features': 10, 'min_samples_leaf': 1, 'min_samples_split': 2, 'n_estimators': 500}\n"
     ]
    }
   ],
   "source": [
    "from sklearn.model_selection import GridSearchCV\n",
    "param_grid = {\"n_estimators\": [200, 500],\n",
    " \"max_depth\": [3, None],\n",
    " \"max_features\": [1, 3, 5, 10],\n",
    " \"min_samples_split\": [2, 5, 10],\n",
    " \"min_samples_leaf\": [1, 3, 10],\n",
    " \"bootstrap\": [True, False]}\n",
    "reg2 = RandomForestRegressor(random_state=0)\n",
    "grid = GridSearchCV(estimator=reg2, param_grid=param_grid, n_jobs=-1)\n",
    "grid.fit(X_train, y_train)\n",
    "print(grid.best_score_)\n",
    "print(grid.best_params_)"
   ]
  },
  {
   "cell_type": "markdown",
   "metadata": {},
   "source": [
    "### WHY IS THE BEST SCORE WORSE THAN WHAT WE HAD PREVIOUSLY?"
   ]
  },
  {
   "cell_type": "markdown",
   "metadata": {
    "colab_type": "text",
    "id": "NWJcOuSdAnrr"
   },
   "source": [
    "**<font color='teal'> Print the intercept value from the linear model. </font>**"
   ]
  },
  {
   "cell_type": "code",
   "execution_count": 89,
   "metadata": {
    "colab": {},
    "colab_type": "code",
    "id": "3WzWejn6Anrt"
   },
   "outputs": [
    {
     "name": "stdout",
     "output_type": "stream",
     "text": [
      "0.011796950709900486\n"
     ]
    }
   ],
   "source": [
    "print(model.intercept_)\n",
    "coeff = pd.DataFrame(model.coef_,index=dfn.columns.drop('AdultWeekend'))\n",
    "coeff.colums = ['Coef']"
   ]
  },
  {
   "cell_type": "markdown",
   "metadata": {
    "colab_type": "text",
    "id": "edajrenAAnrv"
   },
   "source": [
    "**<font color='teal'> The intercept is the mean `AdultWeekend` price for all the resorts given the other characteristics. The addition or subtraction of each of the coefficient values in the regression are numeric adjustments applied to the intercept to provide a particular observation's value for the `AdultWeekend` resulting value. Also, because you took the time to scale your x values in the training data, you can compare each of the coefficients for the features to determine the feature's importance. Print the coefficient values from the linear model and sort in descending order to identify the top ten most important features.</font>** \n",
    "\n",
    "Hint: make sure to review the absolute value of the coefficients, because the adjustment may be positive or negative, but what you are looking for is the magnitude of impact on your response variable."
   ]
  },
  {
   "cell_type": "code",
   "execution_count": 101,
   "metadata": {},
   "outputs": [
    {
     "data": {
      "text/html": [
       "<div>\n",
       "<style scoped>\n",
       "    .dataframe tbody tr th:only-of-type {\n",
       "        vertical-align: middle;\n",
       "    }\n",
       "\n",
       "    .dataframe tbody tr th {\n",
       "        vertical-align: top;\n",
       "    }\n",
       "\n",
       "    .dataframe thead th {\n",
       "        text-align: right;\n",
       "    }\n",
       "</style>\n",
       "<table border=\"1\" class=\"dataframe\">\n",
       "  <thead>\n",
       "    <tr style=\"text-align: right;\">\n",
       "      <th></th>\n",
       "      <th>Coef</th>\n",
       "    </tr>\n",
       "  </thead>\n",
       "  <tbody>\n",
       "    <tr>\n",
       "      <th>New York</th>\n",
       "      <td>5.893133e+10</td>\n",
       "    </tr>\n",
       "    <tr>\n",
       "      <th>Michigan</th>\n",
       "      <td>5.561517e+10</td>\n",
       "    </tr>\n",
       "    <tr>\n",
       "      <th>Colorado</th>\n",
       "      <td>4.900019e+10</td>\n",
       "    </tr>\n",
       "    <tr>\n",
       "      <th>California</th>\n",
       "      <td>4.795125e+10</td>\n",
       "    </tr>\n",
       "    <tr>\n",
       "      <th>Pennsylvania</th>\n",
       "      <td>4.575810e+10</td>\n",
       "    </tr>\n",
       "    <tr>\n",
       "      <th>Wisconsin</th>\n",
       "      <td>4.219256e+10</td>\n",
       "    </tr>\n",
       "    <tr>\n",
       "      <th>New Hampshire</th>\n",
       "      <td>4.219256e+10</td>\n",
       "    </tr>\n",
       "    <tr>\n",
       "      <th>Vermont</th>\n",
       "      <td>4.091777e+10</td>\n",
       "    </tr>\n",
       "    <tr>\n",
       "      <th>Minnesota</th>\n",
       "      <td>3.959302e+10</td>\n",
       "    </tr>\n",
       "    <tr>\n",
       "      <th>Utah</th>\n",
       "      <td>3.821311e+10</td>\n",
       "    </tr>\n",
       "  </tbody>\n",
       "</table>\n",
       "</div>"
      ],
      "text/plain": [
       "                       Coef\n",
       "New York       5.893133e+10\n",
       "Michigan       5.561517e+10\n",
       "Colorado       4.900019e+10\n",
       "California     4.795125e+10\n",
       "Pennsylvania   4.575810e+10\n",
       "Wisconsin      4.219256e+10\n",
       "New Hampshire  4.219256e+10\n",
       "Vermont        4.091777e+10\n",
       "Minnesota      3.959302e+10\n",
       "Utah           3.821311e+10"
      ]
     },
     "execution_count": 101,
     "metadata": {},
     "output_type": "execute_result"
    }
   ],
   "source": [
    "coeff.apply(abs).sort_values(by='Coef',axis=0,ascending=False).head(10)"
   ]
  },
  {
   "cell_type": "markdown",
   "metadata": {
    "colab_type": "text",
    "id": "BpdALMoAAnry"
   },
   "source": [
    "**<font color='teal'>You should see that the top ten important features are different states. However, the state is not something the managers at the Big Mountain Resort can do anything about. Given that you care more about actionable traits associated with ticket pricing, rebuild the model without the state features and compare the results. </font>**"
   ]
  },
  {
   "cell_type": "markdown",
   "metadata": {
    "colab_type": "text",
    "id": "-mHYA1BzAnrz"
   },
   "source": [
    "#### Model 2"
   ]
  },
  {
   "cell_type": "code",
   "execution_count": 104,
   "metadata": {},
   "outputs": [
    {
     "name": "stdout",
     "output_type": "stream",
     "text": [
      "(array([22]),)\n",
      "57\n"
     ]
    }
   ],
   "source": [
    "print(np.where(dfn.columns=='Alaska'))\n",
    "print(len(dfn.columns))"
   ]
  },
  {
   "cell_type": "code",
   "execution_count": 145,
   "metadata": {
    "colab": {},
    "colab_type": "code",
    "id": "Pz1YXAdiAnr0"
   },
   "outputs": [],
   "source": [
    "temp = np.delete(dfn_train,range(22,57),1)\n",
    "X_train = np.delete(temp,19,1)\n",
    "y_train = temp[:,19]\n",
    "temp = np.delete(dfn_test,range(22,57),1)\n",
    "X_test = np.delete(temp,19,1)\n",
    "y_test = temp[:,19]"
   ]
  },
  {
   "cell_type": "code",
   "execution_count": 146,
   "metadata": {
    "colab": {},
    "colab_type": "code",
    "id": "nM1EGf16Anr2"
   },
   "outputs": [
    {
     "name": "stdout",
     "output_type": "stream",
     "text": [
      "Explained Variance:  0.7911331829721059\n",
      "Mean square error:  0.20902619635560116\n",
      "R2 score/Coeff. of determination:  0.7908809815670754\n",
      "0.0039933878880368335\n"
     ]
    }
   ],
   "source": [
    "lm = linear_model.LinearRegression()\n",
    "model = lm.fit(X_train,y_train)\n",
    "# Predict AdultWeekend with test data\n",
    "y_pred = model.predict(X_test)\n",
    "print('Explained Variance: ',explained_variance_score(y_test,y_pred))\n",
    "print('Mean square error: ',mean_squared_error(y_test,y_pred))\n",
    "print('R2 score/Coeff. of determination: ',r2_score(y_test,y_pred))\n",
    "# Analyze Intercept\n",
    "print(model.intercept_)\n",
    "coeff = pd.DataFrame(model.coef_,index=dfn.columns[:22].drop('AdultWeekend'))"
   ]
  },
  {
   "cell_type": "code",
   "execution_count": 121,
   "metadata": {},
   "outputs": [
    {
     "data": {
      "text/html": [
       "<div>\n",
       "<style scoped>\n",
       "    .dataframe tbody tr th:only-of-type {\n",
       "        vertical-align: middle;\n",
       "    }\n",
       "\n",
       "    .dataframe tbody tr th {\n",
       "        vertical-align: top;\n",
       "    }\n",
       "\n",
       "    .dataframe thead th {\n",
       "        text-align: right;\n",
       "    }\n",
       "</style>\n",
       "<table border=\"1\" class=\"dataframe\">\n",
       "  <thead>\n",
       "    <tr style=\"text-align: right;\">\n",
       "      <th></th>\n",
       "      <th>Coef</th>\n",
       "    </tr>\n",
       "  </thead>\n",
       "  <tbody>\n",
       "    <tr>\n",
       "      <th>AdultWeekday</th>\n",
       "      <td>0.738998</td>\n",
       "    </tr>\n",
       "    <tr>\n",
       "      <th>vertical_drop</th>\n",
       "      <td>0.201036</td>\n",
       "    </tr>\n",
       "    <tr>\n",
       "      <th>total_chairs</th>\n",
       "      <td>0.093527</td>\n",
       "    </tr>\n",
       "    <tr>\n",
       "      <th>summit_elev</th>\n",
       "      <td>0.090695</td>\n",
       "    </tr>\n",
       "    <tr>\n",
       "      <th>quad</th>\n",
       "      <td>0.086219</td>\n",
       "    </tr>\n",
       "    <tr>\n",
       "      <th>averageSnowfall</th>\n",
       "      <td>0.081388</td>\n",
       "    </tr>\n",
       "    <tr>\n",
       "      <th>NightSkiing_ac</th>\n",
       "      <td>0.077864</td>\n",
       "    </tr>\n",
       "    <tr>\n",
       "      <th>surface</th>\n",
       "      <td>0.076613</td>\n",
       "    </tr>\n",
       "    <tr>\n",
       "      <th>daysOpenLastYear</th>\n",
       "      <td>0.049108</td>\n",
       "    </tr>\n",
       "    <tr>\n",
       "      <th>TerrainParks</th>\n",
       "      <td>0.048219</td>\n",
       "    </tr>\n",
       "  </tbody>\n",
       "</table>\n",
       "</div>"
      ],
      "text/plain": [
       "                      Coef\n",
       "AdultWeekday      0.738998\n",
       "vertical_drop     0.201036\n",
       "total_chairs      0.093527\n",
       "summit_elev       0.090695\n",
       "quad              0.086219\n",
       "averageSnowfall   0.081388\n",
       "NightSkiing_ac    0.077864\n",
       "surface           0.076613\n",
       "daysOpenLastYear  0.049108\n",
       "TerrainParks      0.048219"
      ]
     },
     "execution_count": 121,
     "metadata": {},
     "output_type": "execute_result"
    }
   ],
   "source": [
    "coeff.columns = ['Coef']\n",
    "coeff.apply(abs).sort_values(by='Coef',axis=0,ascending=False).head(10)"
   ]
  },
  {
   "cell_type": "markdown",
   "metadata": {
    "colab_type": "text",
    "id": "JWjQLr3LAnr6"
   },
   "source": [
    "**<font color='teal'> When reviewing your new model coefficients, note that `summit_elev` is now in the number two spot. From a managerial perspective, this is also difficult to change and highly correlated with `base_elev` and `vertical_drop`.  This time rebuild the model without the state features and without the `summit_elev` and without `base_elev`and compare the results. </font>**"
   ]
  },
  {
   "cell_type": "markdown",
   "metadata": {
    "colab_type": "text",
    "id": "RXqvcn93Anr7"
   },
   "source": [
    "#### Model 3"
   ]
  },
  {
   "cell_type": "code",
   "execution_count": 147,
   "metadata": {},
   "outputs": [],
   "source": [
    "df_train = pd.DataFrame(dfn_train,columns=dfn.columns)\n",
    "df_test = pd.DataFrame(dfn_test,columns=dfn.columns)"
   ]
  },
  {
   "cell_type": "code",
   "execution_count": 148,
   "metadata": {},
   "outputs": [],
   "source": [
    "df_train.drop(['summit_elev','vertical_drop','Alaska',\n",
    "       'Arizona', 'California', 'Colorado', 'Connecticut', 'Idaho', 'Illinois',\n",
    "       'Indiana', 'Iowa', 'Maine', 'Maryland', 'Massachusetts', 'Michigan',\n",
    "       'Minnesota', 'Missouri', 'Montana', 'Nevada', 'New Hampshire',\n",
    "       'New Jersey', 'New Mexico', 'New York', 'North Carolina', 'Ohio',\n",
    "       'Oregon', 'Pennsylvania', 'Rhode Island', 'South Dakota', 'Tennessee',\n",
    "       'Utah', 'Vermont', 'Virginia', 'Washington', 'West Virginia',\n",
    "       'Wisconsin','Wyoming'],axis=1,inplace=True)\n",
    "df_test.drop(['summit_elev','vertical_drop','Alaska',\n",
    "       'Arizona', 'California', 'Colorado', 'Connecticut', 'Idaho', 'Illinois',\n",
    "       'Indiana', 'Iowa', 'Maine', 'Maryland', 'Massachusetts', 'Michigan',\n",
    "       'Minnesota', 'Missouri', 'Montana', 'Nevada', 'New Hampshire',\n",
    "       'New Jersey', 'New Mexico', 'New York', 'North Carolina', 'Ohio',\n",
    "       'Oregon', 'Pennsylvania', 'Rhode Island', 'South Dakota', 'Tennessee',\n",
    "       'Utah', 'Vermont', 'Virginia', 'Washington', 'West Virginia',\n",
    "       'Wisconsin','Wyoming'],axis=1,inplace=True)"
   ]
  },
  {
   "cell_type": "code",
   "execution_count": 132,
   "metadata": {
    "colab": {},
    "colab_type": "code",
    "id": "pq0pW7G9Anr_"
   },
   "outputs": [
    {
     "data": {
      "text/plain": [
       "Index(['trams', 'fastSixes', 'fastQuads', 'quad', 'triple', 'double',\n",
       "       'surface', 'total_chairs', 'Runs', 'TerrainParks', 'LongestRun_mi',\n",
       "       'SkiableTerrain_ac', 'Snow Making_ac', 'daysOpenLastYear', 'yearsOpen',\n",
       "       'averageSnowfall', 'AdultWeekday', 'AdultWeekend', 'projectedDaysOpen',\n",
       "       'NightSkiing_ac'],\n",
       "      dtype='object')"
      ]
     },
     "execution_count": 132,
     "metadata": {},
     "output_type": "execute_result"
    }
   ],
   "source": [
    "df_train.columns"
   ]
  },
  {
   "cell_type": "code",
   "execution_count": 149,
   "metadata": {
    "colab": {},
    "colab_type": "code",
    "id": "reXlf0HAAnsG"
   },
   "outputs": [],
   "source": [
    "X_train = df_train.drop('AdultWeekend',axis=1).values\n",
    "y_train = df_train.AdultWeekend.values\n",
    "X_test = df_test.drop('AdultWeekend',axis=1).values\n",
    "y_test = df_test.AdultWeekend.values"
   ]
  },
  {
   "cell_type": "code",
   "execution_count": 150,
   "metadata": {
    "colab": {},
    "colab_type": "code",
    "id": "nM1EGf16Anr2"
   },
   "outputs": [
    {
     "name": "stdout",
     "output_type": "stream",
     "text": [
      "Explained Variance:  0.7997730650447745\n",
      "Mean square error:  0.20054859999533034\n",
      "R2 score/Coeff. of determination:  0.7993623425660308\n",
      "0.005096147408552065\n"
     ]
    }
   ],
   "source": [
    "lm = linear_model.LinearRegression()\n",
    "model = lm.fit(X_train,y_train)\n",
    "# Predict AdultWeekend with test data\n",
    "y_pred = model.predict(X_test)\n",
    "print('Explained Variance: ',explained_variance_score(y_test,y_pred))\n",
    "print('Mean square error: ',mean_squared_error(y_test,y_pred))\n",
    "print('R2 score/Coeff. of determination: ',r2_score(y_test,y_pred))\n",
    "# Analyze Intercept\n",
    "print(model.intercept_)\n",
    "coeff = pd.DataFrame(model.coef_,index=df_train.columns.drop('AdultWeekend'))"
   ]
  },
  {
   "cell_type": "code",
   "execution_count": 140,
   "metadata": {},
   "outputs": [
    {
     "data": {
      "text/html": [
       "<div>\n",
       "<style scoped>\n",
       "    .dataframe tbody tr th:only-of-type {\n",
       "        vertical-align: middle;\n",
       "    }\n",
       "\n",
       "    .dataframe tbody tr th {\n",
       "        vertical-align: top;\n",
       "    }\n",
       "\n",
       "    .dataframe thead th {\n",
       "        text-align: right;\n",
       "    }\n",
       "</style>\n",
       "<table border=\"1\" class=\"dataframe\">\n",
       "  <thead>\n",
       "    <tr style=\"text-align: right;\">\n",
       "      <th></th>\n",
       "      <th>Coef</th>\n",
       "    </tr>\n",
       "  </thead>\n",
       "  <tbody>\n",
       "    <tr>\n",
       "      <th>AdultWeekday</th>\n",
       "      <td>0.766066</td>\n",
       "    </tr>\n",
       "    <tr>\n",
       "      <th>averageSnowfall</th>\n",
       "      <td>0.099046</td>\n",
       "    </tr>\n",
       "    <tr>\n",
       "      <th>total_chairs</th>\n",
       "      <td>0.095148</td>\n",
       "    </tr>\n",
       "    <tr>\n",
       "      <th>quad</th>\n",
       "      <td>0.083681</td>\n",
       "    </tr>\n",
       "    <tr>\n",
       "      <th>surface</th>\n",
       "      <td>0.080780</td>\n",
       "    </tr>\n",
       "    <tr>\n",
       "      <th>NightSkiing_ac</th>\n",
       "      <td>0.071284</td>\n",
       "    </tr>\n",
       "    <tr>\n",
       "      <th>LongestRun_mi</th>\n",
       "      <td>0.066687</td>\n",
       "    </tr>\n",
       "    <tr>\n",
       "      <th>daysOpenLastYear</th>\n",
       "      <td>0.044751</td>\n",
       "    </tr>\n",
       "    <tr>\n",
       "      <th>TerrainParks</th>\n",
       "      <td>0.040134</td>\n",
       "    </tr>\n",
       "    <tr>\n",
       "      <th>fastSixes</th>\n",
       "      <td>0.038280</td>\n",
       "    </tr>\n",
       "  </tbody>\n",
       "</table>\n",
       "</div>"
      ],
      "text/plain": [
       "                      Coef\n",
       "AdultWeekday      0.766066\n",
       "averageSnowfall   0.099046\n",
       "total_chairs      0.095148\n",
       "quad              0.083681\n",
       "surface           0.080780\n",
       "NightSkiing_ac    0.071284\n",
       "LongestRun_mi     0.066687\n",
       "daysOpenLastYear  0.044751\n",
       "TerrainParks      0.040134\n",
       "fastSixes         0.038280"
      ]
     },
     "execution_count": 140,
     "metadata": {},
     "output_type": "execute_result"
    }
   ],
   "source": [
    "coeff.columns = ['Coef']\n",
    "coeff.apply(abs).sort_values(by='Coef',axis=0,ascending=False).head(10)"
   ]
  },
  {
   "cell_type": "markdown",
   "metadata": {
    "colab_type": "text",
    "id": "MJvQMns6AnsI"
   },
   "source": [
    "## Identify the Final Model"
   ]
  },
  {
   "cell_type": "markdown",
   "metadata": {
    "colab_type": "text",
    "id": "LD7-3iLcAnsK"
   },
   "source": [
    "**<font color='teal'> Review the model performances in the table below and choose the best model for proving insights to Big Mountain management about what features are driving ski resort lift ticket prices. Type your choice in the final markdown cell. You will explain your selection during the next step of the guided casptone. </font>**"
   ]
  },
  {
   "cell_type": "markdown",
   "metadata": {
    "colab_type": "text",
    "id": "La5S9fRPAnsK"
   },
   "source": [
    "| Model | Explained Variance| Mean Absolute Error|Features Dropped|\n",
    "| --- | --- | --- | --- |\n",
    "| Model 1. | 0.829 | 0.173  |-|\n",
    "| Model 2. | 0.791| 0.209 |'state'|\n",
    "| Model 3. | 0.799 | 0.200|'state','summit_elev','base_elev'|"
   ]
  },
  {
   "cell_type": "markdown",
   "metadata": {
    "colab_type": "text",
    "id": "T2c-zn7TAnsL"
   },
   "source": [
    "Model Selection:"
   ]
  },
  {
   "cell_type": "markdown",
   "metadata": {
    "colab": {},
    "colab_type": "code",
    "id": "CgC0eMBrAnsM"
   },
   "source": [
    "There appears to be a geographical/political influence on the lift ticket prices with a dependency on the given State. Still, since the management cannot move the Big Mountain Resort away from Montana, I would focus the analysis on **Model 3** which excludes static factors."
   ]
  },
  {
   "cell_type": "code",
   "execution_count": null,
   "metadata": {},
   "outputs": [],
   "source": []
  }
 ],
 "metadata": {
  "colab": {
   "collapsed_sections": [
    "RtEspslPZyGY",
    "s0DokMkAZyGc",
    "2iuitnKcZyHS",
    "iAWQxougZyHW",
    "ThMTimlBZyHZ",
    "QwZ-LkjXZyHt",
    "srtXEA3N4-Y9",
    "ChVreJupZyIA",
    "zDgSSsq1ZyID",
    "I3GYKWfi5Llg",
    "pmMvrhbI-viE",
    "ZXDPkW3UZyIX",
    "Dnc_vHQLZyId",
    "daJxuJ-dZyIg",
    "mAQ-oHiPZyIn",
    "hnGOsp3mZyIp"
   ],
   "name": "GuidedCapstoneStep5.ipynb",
   "provenance": []
  },
  "kernelspec": {
   "display_name": "Python 3",
   "language": "python",
   "name": "python3"
  },
  "language_info": {
   "codemirror_mode": {
    "name": "ipython",
    "version": 3
   },
   "file_extension": ".py",
   "mimetype": "text/x-python",
   "name": "python",
   "nbconvert_exporter": "python",
   "pygments_lexer": "ipython3",
   "version": "3.7.6"
  },
  "toc": {
   "base_numbering": "0",
   "nav_menu": {},
   "number_sections": true,
   "sideBar": true,
   "skip_h1_title": false,
   "title_cell": "Table of Contents",
   "title_sidebar": "Contents",
   "toc_cell": true,
   "toc_position": {
    "height": "calc(100% - 180px)",
    "left": "10px",
    "top": "150px",
    "width": "288px"
   },
   "toc_section_display": true,
   "toc_window_display": true
  }
 },
 "nbformat": 4,
 "nbformat_minor": 1
}
