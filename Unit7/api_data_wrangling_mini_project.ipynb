{
 "cells": [
  {
   "cell_type": "markdown",
   "metadata": {},
   "source": [
    "This exercise will require you to pull some data from the Qunadl API. Qaundl is currently the most widely used aggregator of financial market data."
   ]
  },
  {
   "cell_type": "markdown",
   "metadata": {},
   "source": [
    "As a first step, you will need to register a free account on the http://www.quandl.com website."
   ]
  },
  {
   "cell_type": "markdown",
   "metadata": {},
   "source": [
    "After you register, you will be provided with a unique API key, that you should store:"
   ]
  },
  {
   "cell_type": "code",
   "execution_count": 6,
   "metadata": {},
   "outputs": [],
   "source": [
    "# Store the API key as a string - according to PEP8, constants are always named in all upper case\n",
    "API_KEY = 'XXX'"
   ]
  },
  {
   "cell_type": "markdown",
   "metadata": {},
   "source": [
    "Qaundl has a large number of data sources, but, unfortunately, most of them require a Premium subscription. Still, there are also a good number of free datasets."
   ]
  },
  {
   "cell_type": "markdown",
   "metadata": {},
   "source": [
    "For this mini project, we will focus on equities data from the Frankfurt Stock Exhange (FSE), which is available for free. We'll try and analyze the stock prices of a company called Carl Zeiss Meditec, which manufactures tools for eye examinations, as well as medical lasers for laser eye surgery: https://www.zeiss.com/meditec/int/home.html. The company is listed under the stock ticker AFX_X."
   ]
  },
  {
   "cell_type": "markdown",
   "metadata": {},
   "source": [
    "You can find the detailed Quandl API instructions here: https://docs.quandl.com/docs/time-series"
   ]
  },
  {
   "cell_type": "markdown",
   "metadata": {},
   "source": [
    "While there is a dedicated Python package for connecting to the Quandl API, we would prefer that you use the *requests* package, which can be easily downloaded using *pip* or *conda*. You can find the documentation for the package here: http://docs.python-requests.org/en/master/ "
   ]
  },
  {
   "cell_type": "markdown",
   "metadata": {},
   "source": [
    "Finally, apart from the *requests* package, you are encouraged to not use any third party Python packages, such as *pandas*, and instead focus on what's available in the Python Standard Library (the *collections* module might come in handy: https://pymotw.com/3/collections/ ).\n",
    "Also, since you won't have access to DataFrames, you are encouraged to us Python's native data structures - preferably dictionaries, though some questions can also be answered using lists.\n",
    "You can read more on these data structures here: https://docs.python.org/3/tutorial/datastructures.html"
   ]
  },
  {
   "cell_type": "markdown",
   "metadata": {},
   "source": [
    "Keep in mind that the JSON responses you will be getting from the API map almost one-to-one to Python's dictionaries. Unfortunately, they can be very nested, so make sure you read up on indexing dictionaries in the documentation provided above."
   ]
  },
  {
   "cell_type": "code",
   "execution_count": 1,
   "metadata": {},
   "outputs": [],
   "source": [
    "# First, import the relevant modules\n",
    "import requests\n",
    "import numpy as np"
   ]
  },
  {
   "cell_type": "code",
   "execution_count": 9,
   "metadata": {},
   "outputs": [
    {
     "name": "stdout",
     "output_type": "stream",
     "text": [
      "dict_keys(['dataset_data'])\n"
     ]
    }
   ],
   "source": [
    "# Now, call the Quandl API and pull out a small sample of the data (only one day) to get a glimpse\n",
    "# into the JSON structure that will be returned\n",
    "url = 'https://www.quandl.com/api/v3/datasets/FSE/AFX_X/data.json'\n",
    "params = dict(api_key=API_KEY,start_date='2017-01-01',end_date='2017-12-31')\n",
    "r = requests.get(url,params=params)\n",
    "json_data = r.json()\n",
    "print(json_data.keys())"
   ]
  },
  {
   "cell_type": "code",
   "execution_count": 10,
   "metadata": {},
   "outputs": [
    {
     "data": {
      "text/plain": [
       "dict_keys(['limit', 'transform', 'column_index', 'column_names', 'start_date', 'end_date', 'frequency', 'data', 'collapse', 'order'])"
      ]
     },
     "execution_count": 10,
     "metadata": {},
     "output_type": "execute_result"
    }
   ],
   "source": [
    "json_data['dataset_data'].keys()"
   ]
  },
  {
   "cell_type": "code",
   "execution_count": 28,
   "metadata": {},
   "outputs": [
    {
     "name": "stdout",
     "output_type": "stream",
     "text": [
      "limit <class 'NoneType'>\n",
      "transform <class 'NoneType'>\n",
      "column_index <class 'NoneType'>\n",
      "column_names <class 'list'>\n",
      "start_date <class 'str'>\n",
      "end_date <class 'str'>\n",
      "frequency <class 'str'>\n",
      "data <class 'list'>\n",
      "collapse <class 'NoneType'>\n",
      "order <class 'NoneType'>\n"
     ]
    }
   ],
   "source": [
    "# Inspect the JSON structure of the object you created, and take note of how nested it is,\n",
    "# as well as the overall structure\n",
    "for k in json_data['dataset_data'].keys():\n",
    "    print(k,type(json_data['dataset_data'][k]))"
   ]
  },
  {
   "cell_type": "code",
   "execution_count": 31,
   "metadata": {},
   "outputs": [
    {
     "name": "stdout",
     "output_type": "stream",
     "text": [
      "['Date', 'Open', 'High', 'Low', 'Close', 'Change', 'Traded Volume', 'Turnover', 'Last Price of the Day', 'Daily Traded Units', 'Daily Turnover']\n",
      "Frequency:  daily\n"
     ]
    },
    {
     "data": {
      "text/plain": [
       "(255, 11)"
      ]
     },
     "execution_count": 31,
     "metadata": {},
     "output_type": "execute_result"
    }
   ],
   "source": [
    "print(json_data['dataset_data']['column_names'])\n",
    "print('Frequency: ', json_data['dataset_data']['frequency'])\n",
    "np.shape(json_data['dataset_data']['data'])"
   ]
  },
  {
   "cell_type": "markdown",
   "metadata": {},
   "source": [
    "These are your tasks for this mini project:\n",
    "\n",
    "1. Collect data from the Franfurt Stock Exchange, for the ticker AFX_X, for the whole year 2017 (keep in mind that the date format is YYYY-MM-DD).\n",
    "2. Convert the returned JSON object into a Python dictionary.\n",
    "3. Calculate what the highest and lowest opening prices were for the stock in this period.\n",
    "4. What was the largest change in any one day (based on High and Low price)?\n",
    "5. What was the largest change between any two days (based on Closing Price)?\n",
    "6. What was the average daily trading volume during this year?\n",
    "7. (Optional) What was the median trading volume during this year. (Note: you may need to implement your own function for calculating the median.)"
   ]
  },
  {
   "cell_type": "code",
   "execution_count": 75,
   "metadata": {},
   "outputs": [
    {
     "name": "stdout",
     "output_type": "stream",
     "text": [
      "Minimum Opening Price:  34.0\n",
      "Maximum Opening Price:  53.11\n"
     ]
    }
   ],
   "source": [
    "# Calculate the highest and lowest opening prices\n",
    "data = json_data['dataset_data']['data']\n",
    "min_open = data[0][1]\n",
    "max_open = data[0][1]\n",
    "find_max = lambda x,y: x if y is None else np.max((x,y))\n",
    "find_min = lambda x,y: x if y is None else np.min((x,y))\n",
    "for i in range(1,len(data)):\n",
    "    max_open = find_max(max_open,data[i][1])\n",
    "    min_open = find_min(min_open,data[i][1])\n",
    "print('Minimum Opening Price: ',min_open)\n",
    "print('Maximum Opening Price: ',max_open)"
   ]
  },
  {
   "cell_type": "code",
   "execution_count": 79,
   "metadata": {},
   "outputs": [
    {
     "name": "stdout",
     "output_type": "stream",
     "text": [
      "Largest change over 1 day:  2.8100000000000023\n"
     ]
    }
   ],
   "source": [
    "# Largest change in one day\n",
    "large_c = data[0][2]-data[0][3]\n",
    "find_c = lambda x,y,z: x if (y is None)|(z is None) else np.max((x,y-z))\n",
    "for i in range(1,len(data)):\n",
    "    large_c = find_c(large_c,data[i][2],data[i][3])\n",
    "print('Largest change over 1 day: ',large_c)"
   ]
  },
  {
   "cell_type": "code",
   "execution_count": 83,
   "metadata": {},
   "outputs": [
    {
     "name": "stdout",
     "output_type": "stream",
     "text": [
      "Largest change form one day to another:  -2.559999999999995\n"
     ]
    }
   ],
   "source": [
    "# Largest change between two days\n",
    "large_c = np.abs(data[0][4]-data[1][4])\n",
    "kind_c = np.sign(data[0][4]-data[1][4])\n",
    "find_c = lambda x,y,z: x if ((y is None)|(z is None))else (y-z if (np.abs(y-z)>np.abs(x)) else x)\n",
    "for i in range(1,len(data)-1):\n",
    "    large_c = find_c(large_c,data[i][4],data[i+1][4])\n",
    "print('Largest change form one day to another: ',large_c)\n",
    "    "
   ]
  },
  {
   "cell_type": "code",
   "execution_count": 84,
   "metadata": {},
   "outputs": [
    {
     "name": "stdout",
     "output_type": "stream",
     "text": [
      "Average trading volume for 2017:  89124.33725490196\n"
     ]
    }
   ],
   "source": [
    "# Average trading volume\n",
    "trad_vol = 0\n",
    "ct = 0\n",
    "for i in range(len(data)):\n",
    "    if data[i][6] is not None:\n",
    "        trad_vol += data[i][6]\n",
    "        ct += 1\n",
    "print('Average trading volume for 2017: ',trad_vol/ct)\n",
    "        "
   ]
  },
  {
   "cell_type": "code",
   "execution_count": 85,
   "metadata": {},
   "outputs": [
    {
     "name": "stdout",
     "output_type": "stream",
     "text": [
      "Median trading volume for 2017:  76286.0\n"
     ]
    }
   ],
   "source": [
    "# The Median trading volume\n",
    "trad_vol = []\n",
    "ct = 0\n",
    "for i in range(len(data)):\n",
    "    if data[i][6] is not None:\n",
    "        trad_vol.append(data[i][6])\n",
    "print('Median trading volume for 2017: ',np.median(trad_vol))"
   ]
  },
  {
   "cell_type": "code",
   "execution_count": null,
   "metadata": {},
   "outputs": [],
   "source": []
  }
 ],
 "metadata": {
  "kernelspec": {
   "display_name": "Python 3",
   "language": "python",
   "name": "python3"
  },
  "language_info": {
   "codemirror_mode": {
    "name": "ipython",
    "version": 3
   },
   "file_extension": ".py",
   "mimetype": "text/x-python",
   "name": "python",
   "nbconvert_exporter": "python",
   "pygments_lexer": "ipython3",
   "version": "3.7.6"
  }
 },
 "nbformat": 4,
 "nbformat_minor": 2
}
